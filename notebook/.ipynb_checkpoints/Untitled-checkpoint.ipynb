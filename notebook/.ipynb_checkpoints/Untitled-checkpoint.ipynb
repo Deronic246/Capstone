{
 "cells": [
  {
   "cell_type": "code",
   "execution_count": 18,
   "id": "34b0deb2",
   "metadata": {},
   "outputs": [],
   "source": [
    "#Import Libraries\n",
    "import time\n",
    "from pyspark.sql import SparkSession,DataFrame\n",
    "import pandas as pd\n",
    "from functools import reduce\n",
    "from pyspark.sql.functions import rand\n",
    "from pyspark.sql.functions import *\n",
    "import pyspark.sql.functions as f\n",
    "from datetime import datetime\n",
    "from pyspark.sql.types import StringType,FloatType,TimestampType,DateType,ArrayType,IntegerType\n",
    "import re\n",
    "import nltk\n",
    "from nltk.corpus import stopwords,wordnet\n",
    "from nltk.tokenize import word_tokenize\n",
    "from pyspark.ml.feature import RegexTokenizer, StopWordsRemover, Tokenizer,CountVectorizer,IDF\\\n",
    ",HashingTF,NGram,BucketedRandomProjectionLSH,Normalizer\n",
    "import seaborn as sns\n",
    "import matplotlib.pyplot as plt\n",
    "import math    \n",
    "from textblob import TextBlob\n",
    "import string\n",
    "from bs4 import BeautifulSoup\n",
    "from nltk.stem import PorterStemmer\n",
    "from nltk.stem.wordnet import WordNetLemmatizer\n",
    "import spacy\n",
    "from scipy.stats import pointbiserialr\n",
    "import plotly.express as px\n",
    "from pyspark.conf import SparkConf\n",
    "import wordcloud \n",
    "from  pyspark.ml import PipelineModel\n",
    "from pyspark.ml.tuning import CrossValidator, ParamGridBuilder,TrainValidationSplit\n",
    "from pyspark.ml.evaluation import RegressionEvaluator,BinaryClassificationEvaluator,MulticlassClassificationEvaluator,\\\n",
    "ClusteringEvaluator\n",
    "from pyspark.ml.clustering import KMeans,BisectingKMeans,KMeansModel\n",
    "from pyspark.ml.classification import NaiveBayes,LinearSVC,RandomForestClassifier,LogisticRegression,DecisionTreeClassifier\n",
    "from pyspark.ml.recommendation import ALS,ALSModel\n",
    "from pyspark.ml import Transformer\n",
    "from pyspark.ml.param import Param, Params\n",
    "from pyspark.ml.param.shared import HasInputCol, HasOutputCol,TypeConverters\n",
    "from pyspark.ml.util import DefaultParamsWritable, DefaultParamsReadable\n",
    "from pyspark import keyword_only\n",
    "from pyspark.ml.linalg import Vectors, VectorUDT\n",
    "from wordcloud import WordCloud, STOPWORDS, ImageColorGenerator\n",
    "from scipy.sparse import coo_matrix\n",
    "from sklearn.metrics.pairwise import cosine_similarity\n",
    "from sklearn.preprocessing import LabelEncoder\n",
    "from sklearn.feature_extraction.text import TfidfVectorizer\n",
    "from sklearn.model_selection import train_test_split\n",
    "from sklearn.neighbors import KNeighborsClassifier\n",
    "from sklearn.metrics import accuracy_score\n",
    "from pyspark.ml.feature import StringIndexer,IndexToString,MinMaxScaler\n",
    "from pyspark.ml import Pipeline\n",
    "from pyspark.ml.linalg import Vectors\n",
    "from pyspark.ml.feature import VectorAssembler,StandardScaler,PCA\n",
    "from pyspark.ml.feature import Normalizer\n",
    "from pyspark.mllib.linalg.distributed import CoordinateMatrix\n",
    "import multiprocessing\n",
    "from textblob import Word\n",
    "import numpy as np\n",
    "from collections import Counter\n",
    "import plotly.graph_objects as go"
   ]
  },
  {
   "cell_type": "code",
   "execution_count": 6,
   "id": "e2cb305b",
   "metadata": {},
   "outputs": [],
   "source": [
    "spark = SparkSession.builder.master('local[*]').config(\"spark.driver.memory\", \"15g\").appName(\"amazonapp\").getOrCreate()"
   ]
  },
  {
   "cell_type": "code",
   "execution_count": 19,
   "id": "b1c25010",
   "metadata": {
    "scrolled": true
   },
   "outputs": [],
   "source": [
    "df = spark.read.parquet(r\"C:\\Users\\dn10657\\Documents\\CAP\\nicholsonderon1995\\amazonReviewsparquet1M_cleaned\")"
   ]
  },
  {
   "cell_type": "code",
   "execution_count": 5,
   "id": "0d8bb201",
   "metadata": {},
   "outputs": [],
   "source": [
    "df.createOrReplaceTempView(\"reviews\")"
   ]
  },
  {
   "cell_type": "code",
   "execution_count": 20,
   "id": "5872f6a7",
   "metadata": {},
   "outputs": [
    {
     "data": {
      "text/html": [
       "<div>\n",
       "<style scoped>\n",
       "    .dataframe tbody tr th:only-of-type {\n",
       "        vertical-align: middle;\n",
       "    }\n",
       "\n",
       "    .dataframe tbody tr th {\n",
       "        vertical-align: top;\n",
       "    }\n",
       "\n",
       "    .dataframe thead th {\n",
       "        text-align: right;\n",
       "    }\n",
       "</style>\n",
       "<table border=\"1\" class=\"dataframe\">\n",
       "  <thead>\n",
       "    <tr style=\"text-align: right;\">\n",
       "      <th></th>\n",
       "      <th>customer_id</th>\n",
       "      <th>review_id</th>\n",
       "      <th>product_id</th>\n",
       "      <th>product_title</th>\n",
       "      <th>product_category</th>\n",
       "      <th>star_rating</th>\n",
       "      <th>helpful_votes</th>\n",
       "      <th>total_votes</th>\n",
       "      <th>vine</th>\n",
       "      <th>verified_purchase</th>\n",
       "      <th>...</th>\n",
       "      <th>month</th>\n",
       "      <th>year</th>\n",
       "      <th>sentiment_score</th>\n",
       "      <th>sentiment</th>\n",
       "      <th>abs_sentiment_score</th>\n",
       "      <th>review_text_length</th>\n",
       "      <th>review_body_clean</th>\n",
       "      <th>token</th>\n",
       "      <th>stop_removed</th>\n",
       "      <th>lemmas</th>\n",
       "    </tr>\n",
       "  </thead>\n",
       "  <tbody>\n",
       "    <tr>\n",
       "      <th>0</th>\n",
       "      <td>28953927</td>\n",
       "      <td>R3R65ZXKUS9HTP</td>\n",
       "      <td>B000F5VOVO</td>\n",
       "      <td>Dead Sea Body Butter - Milk &amp; Honey - 10oz/284g</td>\n",
       "      <td>Beauty</td>\n",
       "      <td>3</td>\n",
       "      <td>0</td>\n",
       "      <td>0</td>\n",
       "      <td>N</td>\n",
       "      <td>Y</td>\n",
       "      <td>...</td>\n",
       "      <td>October</td>\n",
       "      <td>2012</td>\n",
       "      <td>-0.135417</td>\n",
       "      <td>negative</td>\n",
       "      <td>0.135417</td>\n",
       "      <td>205</td>\n",
       "      <td>i recieved the product on time and packaged as...</td>\n",
       "      <td>[i, recieved, the, product, on, time, and, pac...</td>\n",
       "      <td>[recieved, product, time, packaged, usual, how...</td>\n",
       "      <td>[recieved, product, time, packaged, usual, how...</td>\n",
       "    </tr>\n",
       "    <tr>\n",
       "      <th>1</th>\n",
       "      <td>31320390</td>\n",
       "      <td>R1RLGPTCBEMIKO</td>\n",
       "      <td>B006A6TCN4</td>\n",
       "      <td>Prive Root Amplifier 4oz</td>\n",
       "      <td>Beauty</td>\n",
       "      <td>5</td>\n",
       "      <td>1</td>\n",
       "      <td>1</td>\n",
       "      <td>N</td>\n",
       "      <td>Y</td>\n",
       "      <td>...</td>\n",
       "      <td>March</td>\n",
       "      <td>2015</td>\n",
       "      <td>0.130041</td>\n",
       "      <td>positive</td>\n",
       "      <td>0.130041</td>\n",
       "      <td>1006</td>\n",
       "      <td>my hair is both fine and curly and i am very c...</td>\n",
       "      <td>[my, hair, is, both, fine, and, curly, and, i,...</td>\n",
       "      <td>[hair, fine, curly, careful, products, use, he...</td>\n",
       "      <td>[hair, fine, curly, careful, product, use, hel...</td>\n",
       "    </tr>\n",
       "    <tr>\n",
       "      <th>2</th>\n",
       "      <td>51658159</td>\n",
       "      <td>R1TSEVO2AO4XCT</td>\n",
       "      <td>B002OUN9IO</td>\n",
       "      <td>DR ROLLER,1.5mm,BRAND NAME,SKIN ROLLER,1.5,FDA...</td>\n",
       "      <td>Beauty</td>\n",
       "      <td>1</td>\n",
       "      <td>2</td>\n",
       "      <td>3</td>\n",
       "      <td>N</td>\n",
       "      <td>Y</td>\n",
       "      <td>...</td>\n",
       "      <td>May</td>\n",
       "      <td>2014</td>\n",
       "      <td>-0.143333</td>\n",
       "      <td>negative</td>\n",
       "      <td>0.143333</td>\n",
       "      <td>262</td>\n",
       "      <td>received it quickly butdoesnt actually roll st...</td>\n",
       "      <td>[received, it, quickly, butdoesnt, actually, r...</td>\n",
       "      <td>[received, quickly, butdoesnt, actually, roll,...</td>\n",
       "      <td>[received, quickly, butdoesnt, actually, roll,...</td>\n",
       "    </tr>\n",
       "    <tr>\n",
       "      <th>3</th>\n",
       "      <td>20588442</td>\n",
       "      <td>R1BFDCI86Z0GPZ</td>\n",
       "      <td>B006IVPEEM</td>\n",
       "      <td>Comfort Zone Hydramemory Cream, 2.13 ounces</td>\n",
       "      <td>Beauty</td>\n",
       "      <td>5</td>\n",
       "      <td>0</td>\n",
       "      <td>0</td>\n",
       "      <td>N</td>\n",
       "      <td>Y</td>\n",
       "      <td>...</td>\n",
       "      <td>December</td>\n",
       "      <td>2014</td>\n",
       "      <td>0.377778</td>\n",
       "      <td>positive</td>\n",
       "      <td>0.377778</td>\n",
       "      <td>55</td>\n",
       "      <td>awesome night cream its heavy and super moistu...</td>\n",
       "      <td>[awesome, night, cream, its, heavy, and, super...</td>\n",
       "      <td>[awesome, night, cream, heavy, super, moisturi...</td>\n",
       "      <td>[awesome, night, cream, heavy, super, moisturi...</td>\n",
       "    </tr>\n",
       "    <tr>\n",
       "      <th>4</th>\n",
       "      <td>12409513</td>\n",
       "      <td>REARRXT3FWVV7</td>\n",
       "      <td>B00J2F54TG</td>\n",
       "      <td>Empty Clear Glass Spray Bottle - Large 16 oz R...</td>\n",
       "      <td>Beauty</td>\n",
       "      <td>5</td>\n",
       "      <td>0</td>\n",
       "      <td>0</td>\n",
       "      <td>N</td>\n",
       "      <td>Y</td>\n",
       "      <td>...</td>\n",
       "      <td>March</td>\n",
       "      <td>2015</td>\n",
       "      <td>0.019643</td>\n",
       "      <td>positive</td>\n",
       "      <td>0.019643</td>\n",
       "      <td>548</td>\n",
       "      <td>the first spray bottle i received stopped work...</td>\n",
       "      <td>[the, first, spray, bottle, i, received, stopp...</td>\n",
       "      <td>[first, spray, bottle, received, stopped, work...</td>\n",
       "      <td>[first, spray, bottle, received, stopped, work...</td>\n",
       "    </tr>\n",
       "  </tbody>\n",
       "</table>\n",
       "<p>5 rows × 25 columns</p>\n",
       "</div>"
      ],
      "text/plain": [
       "  customer_id       review_id  product_id  \\\n",
       "0    28953927  R3R65ZXKUS9HTP  B000F5VOVO   \n",
       "1    31320390  R1RLGPTCBEMIKO  B006A6TCN4   \n",
       "2    51658159  R1TSEVO2AO4XCT  B002OUN9IO   \n",
       "3    20588442  R1BFDCI86Z0GPZ  B006IVPEEM   \n",
       "4    12409513   REARRXT3FWVV7  B00J2F54TG   \n",
       "\n",
       "                                       product_title product_category  \\\n",
       "0    Dead Sea Body Butter - Milk & Honey - 10oz/284g           Beauty   \n",
       "1                           Prive Root Amplifier 4oz           Beauty   \n",
       "2  DR ROLLER,1.5mm,BRAND NAME,SKIN ROLLER,1.5,FDA...           Beauty   \n",
       "3        Comfort Zone Hydramemory Cream, 2.13 ounces           Beauty   \n",
       "4  Empty Clear Glass Spray Bottle - Large 16 oz R...           Beauty   \n",
       "\n",
       "   star_rating helpful_votes total_votes vine verified_purchase  ...  \\\n",
       "0            3             0           0    N                 Y  ...   \n",
       "1            5             1           1    N                 Y  ...   \n",
       "2            1             2           3    N                 Y  ...   \n",
       "3            5             0           0    N                 Y  ...   \n",
       "4            5             0           0    N                 Y  ...   \n",
       "\n",
       "      month  year sentiment_score  sentiment abs_sentiment_score  \\\n",
       "0   October  2012       -0.135417   negative            0.135417   \n",
       "1     March  2015        0.130041   positive            0.130041   \n",
       "2       May  2014       -0.143333   negative            0.143333   \n",
       "3  December  2014        0.377778   positive            0.377778   \n",
       "4     March  2015        0.019643   positive            0.019643   \n",
       "\n",
       "  review_text_length                                  review_body_clean  \\\n",
       "0                205  i recieved the product on time and packaged as...   \n",
       "1               1006  my hair is both fine and curly and i am very c...   \n",
       "2                262  received it quickly butdoesnt actually roll st...   \n",
       "3                 55  awesome night cream its heavy and super moistu...   \n",
       "4                548  the first spray bottle i received stopped work...   \n",
       "\n",
       "                                               token  \\\n",
       "0  [i, recieved, the, product, on, time, and, pac...   \n",
       "1  [my, hair, is, both, fine, and, curly, and, i,...   \n",
       "2  [received, it, quickly, butdoesnt, actually, r...   \n",
       "3  [awesome, night, cream, its, heavy, and, super...   \n",
       "4  [the, first, spray, bottle, i, received, stopp...   \n",
       "\n",
       "                                        stop_removed  \\\n",
       "0  [recieved, product, time, packaged, usual, how...   \n",
       "1  [hair, fine, curly, careful, products, use, he...   \n",
       "2  [received, quickly, butdoesnt, actually, roll,...   \n",
       "3  [awesome, night, cream, heavy, super, moisturi...   \n",
       "4  [first, spray, bottle, received, stopped, work...   \n",
       "\n",
       "                                              lemmas  \n",
       "0  [recieved, product, time, packaged, usual, how...  \n",
       "1  [hair, fine, curly, careful, product, use, hel...  \n",
       "2  [received, quickly, butdoesnt, actually, roll,...  \n",
       "3  [awesome, night, cream, heavy, super, moisturi...  \n",
       "4  [first, spray, bottle, received, stopped, work...  \n",
       "\n",
       "[5 rows x 25 columns]"
      ]
     },
     "execution_count": 20,
     "metadata": {},
     "output_type": "execute_result"
    }
   ],
   "source": [
    "df.limit(5).toPandas()"
   ]
  },
  {
   "cell_type": "code",
   "execution_count": 5,
   "id": "ca22edc4",
   "metadata": {},
   "outputs": [],
   "source": [
    "grouped_df = df.groupBy(\"product_id\",\"product_title\").agg(\n",
    "    avg(\"abs_sentiment_score\").alias(\"avg_abs_sentiment\"),\n",
    "    avg(\"review_text_length\").alias(\"avg_review_length\"),\n",
    "    round(avg(\"star_rating\"),0).alias(\"avg_star_rating\"),\n",
    "    collect_list(\"lemmas\").alias(\"combined_tokens\")\n",
    ")\n",
    "grouped_df = grouped_df.withColumn(\"combined_tokens\", flatten(col(\"combined_tokens\")))"
   ]
  },
  {
   "cell_type": "code",
   "execution_count": 6,
   "id": "0480a0ee",
   "metadata": {},
   "outputs": [
    {
     "data": {
      "text/plain": [
       "621747"
      ]
     },
     "execution_count": 6,
     "metadata": {},
     "output_type": "execute_result"
    }
   ],
   "source": [
    "grouped_df.count()"
   ]
  },
  {
   "cell_type": "code",
   "execution_count": 7,
   "id": "eaccd9b6",
   "metadata": {},
   "outputs": [],
   "source": [
    "hashingTF = HashingTF(inputCol=\"combined_tokens\", outputCol=\"rawFeatures\", numFeatures=1000)\n",
    "idf = IDF(inputCol=\"rawFeatures\", outputCol=\"result\")"
   ]
  },
  {
   "cell_type": "code",
   "execution_count": 8,
   "id": "ea09635c",
   "metadata": {},
   "outputs": [],
   "source": [
    "# Select the relevant features for clustering\n",
    "feature_columns = [\"avg_review_length\", \"avg_abs_sentiment\", \"result\"]\n",
    "assembler = VectorAssembler(inputCols=feature_columns, outputCol=\"raw_features\")\n",
    "#reviews_data = assembler.transform(reviews_data)"
   ]
  },
  {
   "cell_type": "code",
   "execution_count": 9,
   "id": "6ddaf936",
   "metadata": {},
   "outputs": [],
   "source": [
    "# Normalize the features column\n",
    "normalizer = Normalizer(inputCol=\"raw_features\", outputCol=\"normalized_features\")"
   ]
  },
  {
   "cell_type": "code",
   "execution_count": 10,
   "id": "c31158ff",
   "metadata": {},
   "outputs": [],
   "source": [
    "pca = PCA(k=2, inputCol=\"normalized_features\", outputCol=\"features\")"
   ]
  },
  {
   "cell_type": "code",
   "execution_count": 11,
   "id": "9e0b02b2",
   "metadata": {},
   "outputs": [],
   "source": [
    "# Pipeline for feature engineering\n",
    "pipeline = Pipeline(stages=[hashingTF, idf,assembler,normalizer,pca])\n",
    "pipeline_model = pipeline.fit(grouped_df)\n",
    "df_transformed = pipeline_model.transform(grouped_df)"
   ]
  },
  {
   "cell_type": "code",
   "execution_count": 12,
   "id": "00c7db9f",
   "metadata": {},
   "outputs": [],
   "source": [
    "# Split the data into training and testing sets\n",
    "train_data, test_data = df_transformed.randomSplit([0.8, 0.2], seed=0)"
   ]
  },
  {
   "cell_type": "code",
   "execution_count": 13,
   "id": "4f423739",
   "metadata": {},
   "outputs": [],
   "source": [
    "# Create an instance of KMeans\n",
    "kmeans = KMeans()\n",
    "\n",
    "\n",
    "# Create a ParamGridBuilder to define the hyperparameter grid\n",
    "kmparam_grid = ParamGridBuilder() \\\n",
    "    .addGrid(kmeans.k, [2, 3, 4]) \\\n",
    "    .addGrid(kmeans.maxIter, [10, 20, 30]) \\\n",
    "    .build()\n",
    "\n",
    "# Define the evaluator\n",
    "kmevaluator = ClusteringEvaluator()\n",
    "\n",
    "# Create a TrainValidationSplit instance\n",
    "kmtvs = TrainValidationSplit(estimator=kmeans,\n",
    "                           estimatorParamMaps=kmparam_grid,\n",
    "                           evaluator=kmevaluator,\n",
    "                           trainRatio=0.8)"
   ]
  },
  {
   "cell_type": "code",
   "execution_count": 14,
   "id": "49051b70",
   "metadata": {},
   "outputs": [],
   "source": [
    "kmtvsModel = kmtvs.fit(train_data)"
   ]
  },
  {
   "cell_type": "code",
   "execution_count": 15,
   "id": "1239db07",
   "metadata": {},
   "outputs": [],
   "source": [
    "cbKmeansmodel=kmtvsModel.bestModel"
   ]
  },
  {
   "cell_type": "code",
   "execution_count": 16,
   "id": "1784a8f9",
   "metadata": {},
   "outputs": [],
   "source": [
    "clustered_data = cbKmeansmodel.transform(test_data)"
   ]
  },
  {
   "cell_type": "code",
   "execution_count": 17,
   "id": "127acfa8",
   "metadata": {},
   "outputs": [],
   "source": [
    "# Evaluate the clustering performance using Within-Cluster Sum of Squared Errors (WCSS)\n",
    "evaluator = ClusteringEvaluator()"
   ]
  },
  {
   "cell_type": "code",
   "execution_count": 18,
   "id": "8a6f4f3e",
   "metadata": {},
   "outputs": [
    {
     "name": "stdout",
     "output_type": "stream",
     "text": [
      "Silhouette Score: 0.9932423282885875\n"
     ]
    }
   ],
   "source": [
    "# Evaluate the clustering performance using Silhouette Score\n",
    "silhouette_score = evaluator.evaluate(clustered_data, {evaluator.metricName: \"silhouette\"})\n",
    "print(\"Silhouette Score:\", silhouette_score)"
   ]
  },
  {
   "cell_type": "code",
   "execution_count": 19,
   "id": "c81b9336",
   "metadata": {},
   "outputs": [],
   "source": [
    "cbKmeansmodel.write().overwrite().save(r\"C:\\Users\\dn10657\\Documents\\CAP\\nicholsonderon1995\\models\\kmeansmodel\")"
   ]
  },
  {
   "cell_type": "code",
   "execution_count": 20,
   "id": "15cf5dac",
   "metadata": {},
   "outputs": [],
   "source": [
    "pipeline_model.write().overwrite().save(r\"C:\\Users\\dn10657\\Documents\\CAP\\nicholsonderon1995\\pipelines\\clustering_pipeline1\")"
   ]
  },
  {
   "cell_type": "code",
   "execution_count": 22,
   "id": "6bcd5f15",
   "metadata": {},
   "outputs": [],
   "source": [
    "# Initialize BisectingKMeans estimator\n",
    "bkm = BisectingKMeans()\n",
    "\n",
    "# Define parameter grid for hyperparameter tuning\n",
    "bkmparam_grid = ParamGridBuilder() \\\n",
    "    .addGrid(bkm.k, [2, 3, 4, 5]) \\\n",
    "    .addGrid(bkm.maxIter, [10, 20, 30]) \\\n",
    "    .build()\n",
    "\n",
    "# Initialize evaluator\n",
    "bkmevaluator = ClusteringEvaluator()\n",
    "\n",
    "# Initialize TrainValidationSplit\n",
    "bkmtvs = TrainValidationSplit(estimator=bkm,\n",
    "                           estimatorParamMaps=bkmparam_grid,\n",
    "                           evaluator=bkmevaluator,\n",
    "                           trainRatio=0.8)"
   ]
  },
  {
   "cell_type": "code",
   "execution_count": 23,
   "id": "f198ffa2",
   "metadata": {},
   "outputs": [],
   "source": [
    "# Fit the TrainValidationSplit to training data\n",
    "bkmtvs_model = bkmtvs.fit(train_data)"
   ]
  },
  {
   "cell_type": "code",
   "execution_count": 24,
   "id": "5b7c37ca",
   "metadata": {},
   "outputs": [],
   "source": [
    "bkmmodel=bkmtvs_model.bestModel"
   ]
  },
  {
   "cell_type": "code",
   "execution_count": 25,
   "id": "b6f8a4d0",
   "metadata": {},
   "outputs": [],
   "source": [
    "bkmclustered_data = bkmmodel.transform(test_data)"
   ]
  },
  {
   "cell_type": "code",
   "execution_count": 26,
   "id": "9501491a",
   "metadata": {},
   "outputs": [
    {
     "name": "stdout",
     "output_type": "stream",
     "text": [
      "Silhouette Score: 0.9923917202730984\n"
     ]
    }
   ],
   "source": [
    "# Evaluate the clustering performance using Silhouette Score\n",
    "silhouette_score = bkmevaluator.evaluate(bkmclustered_data, {bkmevaluator.metricName: \"silhouette\"})\n",
    "print(\"Silhouette Score:\", silhouette_score)"
   ]
  },
  {
   "cell_type": "code",
   "execution_count": 27,
   "id": "dbeeaa26",
   "metadata": {},
   "outputs": [],
   "source": [
    "bkmmodel.write().overwrite().save(r\"C:\\Users\\dn10657\\Documents\\CAP\\nicholsonderon1995\\models\\hclustermodel\")"
   ]
  },
  {
   "cell_type": "markdown",
   "id": "e2181f54",
   "metadata": {},
   "source": [
    "#### SPAM Classifier"
   ]
  },
  {
   "cell_type": "code",
   "execution_count": 16,
   "id": "aeeb0949",
   "metadata": {},
   "outputs": [],
   "source": [
    "spam_df = spark.read.option(\"header\", \"true\")\\\n",
    ".json(r\"C:\\Users\\dn10657\\Documents\\CAP\\nicholsonderon1995\\spam_dataset_cleaned\")"
   ]
  },
  {
   "cell_type": "code",
   "execution_count": 17,
   "id": "57f5cdea",
   "metadata": {},
   "outputs": [
    {
     "data": {
      "text/plain": [
       "1009291"
      ]
     },
     "execution_count": 17,
     "metadata": {},
     "output_type": "execute_result"
    }
   ],
   "source": [
    "spam_df.count()"
   ]
  },
  {
   "cell_type": "code",
   "execution_count": 18,
   "id": "c313d66b",
   "metadata": {},
   "outputs": [
    {
     "data": {
      "text/html": [
       "<div>\n",
       "<style scoped>\n",
       "    .dataframe tbody tr th:only-of-type {\n",
       "        vertical-align: middle;\n",
       "    }\n",
       "\n",
       "    .dataframe tbody tr th {\n",
       "        vertical-align: top;\n",
       "    }\n",
       "\n",
       "    .dataframe thead th {\n",
       "        text-align: right;\n",
       "    }\n",
       "</style>\n",
       "<table border=\"1\" class=\"dataframe\">\n",
       "  <thead>\n",
       "    <tr style=\"text-align: right;\">\n",
       "      <th></th>\n",
       "      <th>abs_sentiment_score</th>\n",
       "      <th>asin</th>\n",
       "      <th>class</th>\n",
       "      <th>labels</th>\n",
       "      <th>lemmas</th>\n",
       "      <th>reviewDate</th>\n",
       "      <th>reviewText</th>\n",
       "      <th>reviewText_clean</th>\n",
       "      <th>reviewTime</th>\n",
       "      <th>review_text_length</th>\n",
       "      <th>reviewerID</th>\n",
       "      <th>season</th>\n",
       "      <th>sentiment</th>\n",
       "      <th>sentiment_score</th>\n",
       "      <th>stop_removed</th>\n",
       "      <th>token</th>\n",
       "      <th>year</th>\n",
       "    </tr>\n",
       "  </thead>\n",
       "  <tbody>\n",
       "    <tr>\n",
       "      <th>0</th>\n",
       "      <td>0.085833</td>\n",
       "      <td>B004UQ05M8</td>\n",
       "      <td>1.0</td>\n",
       "      <td>spam</td>\n",
       "      <td>[must, say, bit, skeptical, ordering, true, su...</td>\n",
       "      <td>2012-01-18</td>\n",
       "      <td>I must say I was a bit skeptical when ordering...</td>\n",
       "      <td>i must say i was a bit skeptical when ordering...</td>\n",
       "      <td>01 18, 2012</td>\n",
       "      <td>695</td>\n",
       "      <td>ALNI2ZVLR4L5G</td>\n",
       "      <td>Winter</td>\n",
       "      <td>positive</td>\n",
       "      <td>0.085833</td>\n",
       "      <td>[must, say, bit, skeptical, ordering, true, su...</td>\n",
       "      <td>[i, must, say, i, was, a, bit, skeptical, when...</td>\n",
       "      <td>2012</td>\n",
       "    </tr>\n",
       "    <tr>\n",
       "      <th>1</th>\n",
       "      <td>0.248806</td>\n",
       "      <td>B004V4IWHY</td>\n",
       "      <td>1.0</td>\n",
       "      <td>spam</td>\n",
       "      <td>[retired, slr, photographer, several, year, d5...</td>\n",
       "      <td>2011-04-25</td>\n",
       "      <td>I have been a retired SLR photographer for sev...</td>\n",
       "      <td>i have been a retired slr photographer for sev...</td>\n",
       "      <td>04 25, 2011</td>\n",
       "      <td>3912</td>\n",
       "      <td>AW6BG8ZJTPGAX</td>\n",
       "      <td>Spring</td>\n",
       "      <td>positive</td>\n",
       "      <td>0.248806</td>\n",
       "      <td>[retired, slr, photographer, several, years, d...</td>\n",
       "      <td>[i, have, been, a, retired, slr, photographer,...</td>\n",
       "      <td>2011</td>\n",
       "    </tr>\n",
       "    <tr>\n",
       "      <th>2</th>\n",
       "      <td>0.323810</td>\n",
       "      <td>B004V4O8ZE</td>\n",
       "      <td>1.0</td>\n",
       "      <td>spam</td>\n",
       "      <td>[fish, description, say, keep, cable, tanglefr...</td>\n",
       "      <td>2014-01-15</td>\n",
       "      <td>This fish do what the description says.-&gt; Keep...</td>\n",
       "      <td>this fish do what the description says keep yo...</td>\n",
       "      <td>01 15, 2014</td>\n",
       "      <td>347</td>\n",
       "      <td>A129T9AURYUNHV</td>\n",
       "      <td>Winter</td>\n",
       "      <td>positive</td>\n",
       "      <td>0.323810</td>\n",
       "      <td>[fish, description, says, keep, cables, tangle...</td>\n",
       "      <td>[this, fish, do, what, the, description, says,...</td>\n",
       "      <td>2014</td>\n",
       "    </tr>\n",
       "    <tr>\n",
       "      <th>3</th>\n",
       "      <td>0.344444</td>\n",
       "      <td>B004V93166</td>\n",
       "      <td>0.0</td>\n",
       "      <td>ham</td>\n",
       "      <td>[supposed, advertised, adequate, protection, d...</td>\n",
       "      <td>2011-10-18</td>\n",
       "      <td>It does what it is supposed to, as advertised;...</td>\n",
       "      <td>it does what it is supposed to as advertised a...</td>\n",
       "      <td>10 18, 2011</td>\n",
       "      <td>143</td>\n",
       "      <td>A2FS1GLJUZAE22</td>\n",
       "      <td>Fall</td>\n",
       "      <td>positive</td>\n",
       "      <td>0.344444</td>\n",
       "      <td>[supposed, advertised, adequate, protection, d...</td>\n",
       "      <td>[it, does, what, it, is, supposed, to, as, adv...</td>\n",
       "      <td>2011</td>\n",
       "    </tr>\n",
       "    <tr>\n",
       "      <th>4</th>\n",
       "      <td>1.000000</td>\n",
       "      <td>B004VIWB4U</td>\n",
       "      <td>1.0</td>\n",
       "      <td>spam</td>\n",
       "      <td>[lost, power, cable, moved, cheapest, price, f...</td>\n",
       "      <td>2013-04-25</td>\n",
       "      <td>Lost my power cable when I moved, and this was...</td>\n",
       "      <td>lost my power cable when i moved and this was ...</td>\n",
       "      <td>04 25, 2013</td>\n",
       "      <td>135</td>\n",
       "      <td>A253Z2TISJE5A0</td>\n",
       "      <td>Spring</td>\n",
       "      <td>positive</td>\n",
       "      <td>1.000000</td>\n",
       "      <td>[lost, power, cable, moved, cheapest, price, f...</td>\n",
       "      <td>[lost, my, power, cable, when, i, moved, and, ...</td>\n",
       "      <td>2013</td>\n",
       "    </tr>\n",
       "  </tbody>\n",
       "</table>\n",
       "</div>"
      ],
      "text/plain": [
       "   abs_sentiment_score        asin  class labels  \\\n",
       "0             0.085833  B004UQ05M8    1.0   spam   \n",
       "1             0.248806  B004V4IWHY    1.0   spam   \n",
       "2             0.323810  B004V4O8ZE    1.0   spam   \n",
       "3             0.344444  B004V93166    0.0    ham   \n",
       "4             1.000000  B004VIWB4U    1.0   spam   \n",
       "\n",
       "                                              lemmas  reviewDate  \\\n",
       "0  [must, say, bit, skeptical, ordering, true, su...  2012-01-18   \n",
       "1  [retired, slr, photographer, several, year, d5...  2011-04-25   \n",
       "2  [fish, description, say, keep, cable, tanglefr...  2014-01-15   \n",
       "3  [supposed, advertised, adequate, protection, d...  2011-10-18   \n",
       "4  [lost, power, cable, moved, cheapest, price, f...  2013-04-25   \n",
       "\n",
       "                                          reviewText  \\\n",
       "0  I must say I was a bit skeptical when ordering...   \n",
       "1  I have been a retired SLR photographer for sev...   \n",
       "2  This fish do what the description says.-> Keep...   \n",
       "3  It does what it is supposed to, as advertised;...   \n",
       "4  Lost my power cable when I moved, and this was...   \n",
       "\n",
       "                                    reviewText_clean   reviewTime  \\\n",
       "0  i must say i was a bit skeptical when ordering...  01 18, 2012   \n",
       "1  i have been a retired slr photographer for sev...  04 25, 2011   \n",
       "2  this fish do what the description says keep yo...  01 15, 2014   \n",
       "3  it does what it is supposed to as advertised a...  10 18, 2011   \n",
       "4  lost my power cable when i moved and this was ...  04 25, 2013   \n",
       "\n",
       "   review_text_length      reviewerID  season sentiment  sentiment_score  \\\n",
       "0                 695   ALNI2ZVLR4L5G  Winter  positive         0.085833   \n",
       "1                3912   AW6BG8ZJTPGAX  Spring  positive         0.248806   \n",
       "2                 347  A129T9AURYUNHV  Winter  positive         0.323810   \n",
       "3                 143  A2FS1GLJUZAE22    Fall  positive         0.344444   \n",
       "4                 135  A253Z2TISJE5A0  Spring  positive         1.000000   \n",
       "\n",
       "                                        stop_removed  \\\n",
       "0  [must, say, bit, skeptical, ordering, true, su...   \n",
       "1  [retired, slr, photographer, several, years, d...   \n",
       "2  [fish, description, says, keep, cables, tangle...   \n",
       "3  [supposed, advertised, adequate, protection, d...   \n",
       "4  [lost, power, cable, moved, cheapest, price, f...   \n",
       "\n",
       "                                               token  year  \n",
       "0  [i, must, say, i, was, a, bit, skeptical, when...  2012  \n",
       "1  [i, have, been, a, retired, slr, photographer,...  2011  \n",
       "2  [this, fish, do, what, the, description, says,...  2014  \n",
       "3  [it, does, what, it, is, supposed, to, as, adv...  2011  \n",
       "4  [lost, my, power, cable, when, i, moved, and, ...  2013  "
      ]
     },
     "execution_count": 18,
     "metadata": {},
     "output_type": "execute_result"
    }
   ],
   "source": [
    "spam_df.limit(5).toPandas()"
   ]
  },
  {
   "cell_type": "code",
   "execution_count": 58,
   "id": "ffcf7880",
   "metadata": {},
   "outputs": [],
   "source": [
    "hashingTF = HashingTF(inputCol='lemmas',outputCol='rawFeatures', numFeatures=1000)\n",
    "idf = IDF(inputCol=\"rawFeatures\", outputCol=\"tf_idf\")\n",
    "#spam_df = spam_df.withColumn('abs_sentiment_score', abs(spam_df['sentiment_score']))\n",
    "vectorassembler = VectorAssembler(inputCols=['tf_idf','review_text_length','abs_sentiment_score'],outputCol='raw_features')\n",
    "scaler = StandardScaler (inputCol=\"raw_features\", outputCol=\"features\")\n",
    "#pca = PCA(k=2, inputCol=\"scaled_features\", outputCol=\"features\")"
   ]
  },
  {
   "cell_type": "code",
   "execution_count": 60,
   "id": "38ef45af",
   "metadata": {},
   "outputs": [],
   "source": [
    "data_prep_pipe = Pipeline(stages=[hashingTF,idf,vectorassembler,scaler])\n",
    "cleaner = data_prep_pipe.fit(spam_df)\n",
    "clean_data = cleaner.transform(spam_df)"
   ]
  },
  {
   "cell_type": "code",
   "execution_count": 61,
   "id": "221029ff",
   "metadata": {},
   "outputs": [
    {
     "data": {
      "text/html": [
       "<div>\n",
       "<style scoped>\n",
       "    .dataframe tbody tr th:only-of-type {\n",
       "        vertical-align: middle;\n",
       "    }\n",
       "\n",
       "    .dataframe tbody tr th {\n",
       "        vertical-align: top;\n",
       "    }\n",
       "\n",
       "    .dataframe thead th {\n",
       "        text-align: right;\n",
       "    }\n",
       "</style>\n",
       "<table border=\"1\" class=\"dataframe\">\n",
       "  <thead>\n",
       "    <tr style=\"text-align: right;\">\n",
       "      <th></th>\n",
       "      <th>abs_sentiment_score</th>\n",
       "      <th>asin</th>\n",
       "      <th>class</th>\n",
       "      <th>labels</th>\n",
       "      <th>lemmas</th>\n",
       "      <th>reviewDate</th>\n",
       "      <th>reviewText</th>\n",
       "      <th>reviewText_clean</th>\n",
       "      <th>reviewTime</th>\n",
       "      <th>review_text_length</th>\n",
       "      <th>...</th>\n",
       "      <th>season</th>\n",
       "      <th>sentiment</th>\n",
       "      <th>sentiment_score</th>\n",
       "      <th>stop_removed</th>\n",
       "      <th>token</th>\n",
       "      <th>year</th>\n",
       "      <th>rawFeatures</th>\n",
       "      <th>tf_idf</th>\n",
       "      <th>raw_features</th>\n",
       "      <th>features</th>\n",
       "    </tr>\n",
       "  </thead>\n",
       "  <tbody>\n",
       "    <tr>\n",
       "      <th>0</th>\n",
       "      <td>0.085833</td>\n",
       "      <td>B004UQ05M8</td>\n",
       "      <td>1.0</td>\n",
       "      <td>spam</td>\n",
       "      <td>[must, say, bit, skeptical, ordering, true, su...</td>\n",
       "      <td>2012-01-18</td>\n",
       "      <td>I must say I was a bit skeptical when ordering...</td>\n",
       "      <td>i must say i was a bit skeptical when ordering...</td>\n",
       "      <td>01 18, 2012</td>\n",
       "      <td>695</td>\n",
       "      <td>...</td>\n",
       "      <td>Winter</td>\n",
       "      <td>positive</td>\n",
       "      <td>0.085833</td>\n",
       "      <td>[must, say, bit, skeptical, ordering, true, su...</td>\n",
       "      <td>[i, must, say, i, was, a, bit, skeptical, when...</td>\n",
       "      <td>2012</td>\n",
       "      <td>(0.0, 0.0, 0.0, 1.0, 0.0, 0.0, 0.0, 0.0, 0.0, ...</td>\n",
       "      <td>(0.0, 0.0, 0.0, 4.440297920705196, 0.0, 0.0, 0...</td>\n",
       "      <td>(0.0, 0.0, 0.0, 4.440297920705196, 0.0, 0.0, 0...</td>\n",
       "      <td>(0.0, 0.0, 0.0, 5.765870393971773, 0.0, 0.0, 0...</td>\n",
       "    </tr>\n",
       "    <tr>\n",
       "      <th>1</th>\n",
       "      <td>0.248806</td>\n",
       "      <td>B004V4IWHY</td>\n",
       "      <td>1.0</td>\n",
       "      <td>spam</td>\n",
       "      <td>[retired, slr, photographer, several, year, d5...</td>\n",
       "      <td>2011-04-25</td>\n",
       "      <td>I have been a retired SLR photographer for sev...</td>\n",
       "      <td>i have been a retired slr photographer for sev...</td>\n",
       "      <td>04 25, 2011</td>\n",
       "      <td>3912</td>\n",
       "      <td>...</td>\n",
       "      <td>Spring</td>\n",
       "      <td>positive</td>\n",
       "      <td>0.248806</td>\n",
       "      <td>[retired, slr, photographer, several, years, d...</td>\n",
       "      <td>[i, have, been, a, retired, slr, photographer,...</td>\n",
       "      <td>2011</td>\n",
       "      <td>(0.0, 0.0, 0.0, 0.0, 1.0, 0.0, 0.0, 0.0, 0.0, ...</td>\n",
       "      <td>(0.0, 0.0, 0.0, 0.0, 3.581021297249303, 0.0, 0...</td>\n",
       "      <td>(0.0, 0.0, 0.0, 0.0, 3.581021297249303, 0.0, 0...</td>\n",
       "      <td>(0.0, 0.0, 0.0, 0.0, 4.343996196176108, 0.0, 0...</td>\n",
       "    </tr>\n",
       "    <tr>\n",
       "      <th>2</th>\n",
       "      <td>0.323810</td>\n",
       "      <td>B004V4O8ZE</td>\n",
       "      <td>1.0</td>\n",
       "      <td>spam</td>\n",
       "      <td>[fish, description, say, keep, cable, tanglefr...</td>\n",
       "      <td>2014-01-15</td>\n",
       "      <td>This fish do what the description says.-&gt; Keep...</td>\n",
       "      <td>this fish do what the description says keep yo...</td>\n",
       "      <td>01 15, 2014</td>\n",
       "      <td>347</td>\n",
       "      <td>...</td>\n",
       "      <td>Winter</td>\n",
       "      <td>positive</td>\n",
       "      <td>0.323810</td>\n",
       "      <td>[fish, description, says, keep, cables, tangle...</td>\n",
       "      <td>[this, fish, do, what, the, description, says,...</td>\n",
       "      <td>2014</td>\n",
       "      <td>(0.0, 0.0, 0.0, 0.0, 0.0, 0.0, 0.0, 0.0, 0.0, ...</td>\n",
       "      <td>(0.0, 0.0, 0.0, 0.0, 0.0, 0.0, 0.0, 0.0, 0.0, ...</td>\n",
       "      <td>(0.0, 0.0, 0.0, 0.0, 0.0, 0.0, 0.0, 0.0, 0.0, ...</td>\n",
       "      <td>(0.0, 0.0, 0.0, 0.0, 0.0, 0.0, 0.0, 0.0, 0.0, ...</td>\n",
       "    </tr>\n",
       "    <tr>\n",
       "      <th>3</th>\n",
       "      <td>0.344444</td>\n",
       "      <td>B004V93166</td>\n",
       "      <td>0.0</td>\n",
       "      <td>ham</td>\n",
       "      <td>[supposed, advertised, adequate, protection, d...</td>\n",
       "      <td>2011-10-18</td>\n",
       "      <td>It does what it is supposed to, as advertised;...</td>\n",
       "      <td>it does what it is supposed to as advertised a...</td>\n",
       "      <td>10 18, 2011</td>\n",
       "      <td>143</td>\n",
       "      <td>...</td>\n",
       "      <td>Fall</td>\n",
       "      <td>positive</td>\n",
       "      <td>0.344444</td>\n",
       "      <td>[supposed, advertised, adequate, protection, d...</td>\n",
       "      <td>[it, does, what, it, is, supposed, to, as, adv...</td>\n",
       "      <td>2011</td>\n",
       "      <td>(0.0, 0.0, 0.0, 0.0, 0.0, 0.0, 0.0, 0.0, 0.0, ...</td>\n",
       "      <td>(0.0, 0.0, 0.0, 0.0, 0.0, 0.0, 0.0, 0.0, 0.0, ...</td>\n",
       "      <td>(0.0, 0.0, 0.0, 0.0, 0.0, 0.0, 0.0, 0.0, 0.0, ...</td>\n",
       "      <td>(0.0, 0.0, 0.0, 0.0, 0.0, 0.0, 0.0, 0.0, 0.0, ...</td>\n",
       "    </tr>\n",
       "    <tr>\n",
       "      <th>4</th>\n",
       "      <td>1.000000</td>\n",
       "      <td>B004VIWB4U</td>\n",
       "      <td>1.0</td>\n",
       "      <td>spam</td>\n",
       "      <td>[lost, power, cable, moved, cheapest, price, f...</td>\n",
       "      <td>2013-04-25</td>\n",
       "      <td>Lost my power cable when I moved, and this was...</td>\n",
       "      <td>lost my power cable when i moved and this was ...</td>\n",
       "      <td>04 25, 2013</td>\n",
       "      <td>135</td>\n",
       "      <td>...</td>\n",
       "      <td>Spring</td>\n",
       "      <td>positive</td>\n",
       "      <td>1.000000</td>\n",
       "      <td>[lost, power, cable, moved, cheapest, price, f...</td>\n",
       "      <td>[lost, my, power, cable, when, i, moved, and, ...</td>\n",
       "      <td>2013</td>\n",
       "      <td>(0.0, 0.0, 0.0, 0.0, 0.0, 0.0, 0.0, 0.0, 0.0, ...</td>\n",
       "      <td>(0.0, 0.0, 0.0, 0.0, 0.0, 0.0, 0.0, 0.0, 0.0, ...</td>\n",
       "      <td>(0.0, 0.0, 0.0, 0.0, 0.0, 0.0, 0.0, 0.0, 0.0, ...</td>\n",
       "      <td>(0.0, 0.0, 0.0, 0.0, 0.0, 0.0, 0.0, 0.0, 0.0, ...</td>\n",
       "    </tr>\n",
       "  </tbody>\n",
       "</table>\n",
       "<p>5 rows × 21 columns</p>\n",
       "</div>"
      ],
      "text/plain": [
       "   abs_sentiment_score        asin  class labels  \\\n",
       "0             0.085833  B004UQ05M8    1.0   spam   \n",
       "1             0.248806  B004V4IWHY    1.0   spam   \n",
       "2             0.323810  B004V4O8ZE    1.0   spam   \n",
       "3             0.344444  B004V93166    0.0    ham   \n",
       "4             1.000000  B004VIWB4U    1.0   spam   \n",
       "\n",
       "                                              lemmas  reviewDate  \\\n",
       "0  [must, say, bit, skeptical, ordering, true, su...  2012-01-18   \n",
       "1  [retired, slr, photographer, several, year, d5...  2011-04-25   \n",
       "2  [fish, description, say, keep, cable, tanglefr...  2014-01-15   \n",
       "3  [supposed, advertised, adequate, protection, d...  2011-10-18   \n",
       "4  [lost, power, cable, moved, cheapest, price, f...  2013-04-25   \n",
       "\n",
       "                                          reviewText  \\\n",
       "0  I must say I was a bit skeptical when ordering...   \n",
       "1  I have been a retired SLR photographer for sev...   \n",
       "2  This fish do what the description says.-> Keep...   \n",
       "3  It does what it is supposed to, as advertised;...   \n",
       "4  Lost my power cable when I moved, and this was...   \n",
       "\n",
       "                                    reviewText_clean   reviewTime  \\\n",
       "0  i must say i was a bit skeptical when ordering...  01 18, 2012   \n",
       "1  i have been a retired slr photographer for sev...  04 25, 2011   \n",
       "2  this fish do what the description says keep yo...  01 15, 2014   \n",
       "3  it does what it is supposed to as advertised a...  10 18, 2011   \n",
       "4  lost my power cable when i moved and this was ...  04 25, 2013   \n",
       "\n",
       "   review_text_length  ...  season sentiment sentiment_score  \\\n",
       "0                 695  ...  Winter  positive        0.085833   \n",
       "1                3912  ...  Spring  positive        0.248806   \n",
       "2                 347  ...  Winter  positive        0.323810   \n",
       "3                 143  ...    Fall  positive        0.344444   \n",
       "4                 135  ...  Spring  positive        1.000000   \n",
       "\n",
       "                                        stop_removed  \\\n",
       "0  [must, say, bit, skeptical, ordering, true, su...   \n",
       "1  [retired, slr, photographer, several, years, d...   \n",
       "2  [fish, description, says, keep, cables, tangle...   \n",
       "3  [supposed, advertised, adequate, protection, d...   \n",
       "4  [lost, power, cable, moved, cheapest, price, f...   \n",
       "\n",
       "                                               token  year  \\\n",
       "0  [i, must, say, i, was, a, bit, skeptical, when...  2012   \n",
       "1  [i, have, been, a, retired, slr, photographer,...  2011   \n",
       "2  [this, fish, do, what, the, description, says,...  2014   \n",
       "3  [it, does, what, it, is, supposed, to, as, adv...  2011   \n",
       "4  [lost, my, power, cable, when, i, moved, and, ...  2013   \n",
       "\n",
       "                                         rawFeatures  \\\n",
       "0  (0.0, 0.0, 0.0, 1.0, 0.0, 0.0, 0.0, 0.0, 0.0, ...   \n",
       "1  (0.0, 0.0, 0.0, 0.0, 1.0, 0.0, 0.0, 0.0, 0.0, ...   \n",
       "2  (0.0, 0.0, 0.0, 0.0, 0.0, 0.0, 0.0, 0.0, 0.0, ...   \n",
       "3  (0.0, 0.0, 0.0, 0.0, 0.0, 0.0, 0.0, 0.0, 0.0, ...   \n",
       "4  (0.0, 0.0, 0.0, 0.0, 0.0, 0.0, 0.0, 0.0, 0.0, ...   \n",
       "\n",
       "                                              tf_idf  \\\n",
       "0  (0.0, 0.0, 0.0, 4.440297920705196, 0.0, 0.0, 0...   \n",
       "1  (0.0, 0.0, 0.0, 0.0, 3.581021297249303, 0.0, 0...   \n",
       "2  (0.0, 0.0, 0.0, 0.0, 0.0, 0.0, 0.0, 0.0, 0.0, ...   \n",
       "3  (0.0, 0.0, 0.0, 0.0, 0.0, 0.0, 0.0, 0.0, 0.0, ...   \n",
       "4  (0.0, 0.0, 0.0, 0.0, 0.0, 0.0, 0.0, 0.0, 0.0, ...   \n",
       "\n",
       "                                        raw_features  \\\n",
       "0  (0.0, 0.0, 0.0, 4.440297920705196, 0.0, 0.0, 0...   \n",
       "1  (0.0, 0.0, 0.0, 0.0, 3.581021297249303, 0.0, 0...   \n",
       "2  (0.0, 0.0, 0.0, 0.0, 0.0, 0.0, 0.0, 0.0, 0.0, ...   \n",
       "3  (0.0, 0.0, 0.0, 0.0, 0.0, 0.0, 0.0, 0.0, 0.0, ...   \n",
       "4  (0.0, 0.0, 0.0, 0.0, 0.0, 0.0, 0.0, 0.0, 0.0, ...   \n",
       "\n",
       "                                            features  \n",
       "0  (0.0, 0.0, 0.0, 5.765870393971773, 0.0, 0.0, 0...  \n",
       "1  (0.0, 0.0, 0.0, 0.0, 4.343996196176108, 0.0, 0...  \n",
       "2  (0.0, 0.0, 0.0, 0.0, 0.0, 0.0, 0.0, 0.0, 0.0, ...  \n",
       "3  (0.0, 0.0, 0.0, 0.0, 0.0, 0.0, 0.0, 0.0, 0.0, ...  \n",
       "4  (0.0, 0.0, 0.0, 0.0, 0.0, 0.0, 0.0, 0.0, 0.0, ...  \n",
       "\n",
       "[5 rows x 21 columns]"
      ]
     },
     "execution_count": 61,
     "metadata": {},
     "output_type": "execute_result"
    }
   ],
   "source": [
    "clean_data.limit(5).toPandas()"
   ]
  },
  {
   "cell_type": "code",
   "execution_count": 62,
   "id": "a304bed9",
   "metadata": {},
   "outputs": [],
   "source": [
    "cleaner.write().overwrite().save(r\"C:\\Users\\dn10657\\Documents\\CAP\\nicholsonderon1995\\pipelines\\data_prep_pipe\")"
   ]
  },
  {
   "cell_type": "code",
   "execution_count": 63,
   "id": "4dbd0a9f",
   "metadata": {},
   "outputs": [],
   "source": [
    "clean_data = clean_data.select(['class','features'])"
   ]
  },
  {
   "cell_type": "code",
   "execution_count": 64,
   "id": "0d6ab0be",
   "metadata": {},
   "outputs": [],
   "source": [
    "clean_data = clean_data.withColumnRenamed(\"class\", \"label\")"
   ]
  },
  {
   "cell_type": "code",
   "execution_count": 65,
   "id": "577e42a0",
   "metadata": {},
   "outputs": [],
   "source": [
    "# Split the data into training and testing sets\n",
    "train_data, test_data = clean_data.randomSplit([0.8, 0.2], seed=0)"
   ]
  },
  {
   "cell_type": "markdown",
   "id": "413737f2",
   "metadata": {},
   "source": [
    "#### Naive Bayes"
   ]
  },
  {
   "cell_type": "code",
   "execution_count": 66,
   "id": "9673ef80",
   "metadata": {},
   "outputs": [],
   "source": [
    "# Define the Naive Bayes classifier\n",
    "nb = NaiveBayes()\n",
    "\n",
    "# Define the hyperparameter grid for tuning\n",
    "nbparam_grid = ParamGridBuilder() \\\n",
    "    .addGrid(nb.smoothing, [0.1, 1.0, 10.0]) \\\n",
    "    .build()\n",
    "\n",
    "# Set up the TrainValidationSplit with the NaiveBayes classifier and parameter grid\n",
    "nbtvs = TrainValidationSplit(estimator=nb,\n",
    "                           estimatorParamMaps=nbparam_grid,\n",
    "                           evaluator=BinaryClassificationEvaluator(),\n",
    "                           trainRatio=0.8)"
   ]
  },
  {
   "cell_type": "code",
   "execution_count": 67,
   "id": "0c3f13fa",
   "metadata": {},
   "outputs": [],
   "source": [
    "# Fit the TrainValidationSplit on the training data\n",
    "nbtvs_model = nbtvs.fit(train_data)"
   ]
  },
  {
   "cell_type": "code",
   "execution_count": 68,
   "id": "e5d16089",
   "metadata": {},
   "outputs": [],
   "source": [
    "# Get the best NaiveBayes model from the TVS model\n",
    "nbmodel = nbtvs_model.bestModel"
   ]
  },
  {
   "cell_type": "code",
   "execution_count": 69,
   "id": "8b7a2c38",
   "metadata": {},
   "outputs": [],
   "source": [
    "# Extract the best hyperparameters\n",
    "best_smoothing = nbmodel._java_obj.getSmoothing()"
   ]
  },
  {
   "cell_type": "code",
   "execution_count": 70,
   "id": "f1983fbf",
   "metadata": {},
   "outputs": [
    {
     "name": "stdout",
     "output_type": "stream",
     "text": [
      "Best Smoothing Parameter: 1.0\n"
     ]
    }
   ],
   "source": [
    "# Print the best hyperparameters\n",
    "print(f\"Best Smoothing Parameter: {best_smoothing}\")"
   ]
  },
  {
   "cell_type": "code",
   "execution_count": 71,
   "id": "8e9ffeff",
   "metadata": {},
   "outputs": [],
   "source": [
    "\n",
    "# Make predictions on the test data\n",
    "predictions = nbmodel.transform(test_data)"
   ]
  },
  {
   "cell_type": "code",
   "execution_count": 72,
   "id": "695bc2f8",
   "metadata": {},
   "outputs": [],
   "source": [
    "# Evaluate the model's accuracy on the validation data\n",
    "nbevaluator = BinaryClassificationEvaluator(metricName=\"areaUnderROC\")\n",
    "nbareaUnderROC = nbevaluator.evaluate(predictions)"
   ]
  },
  {
   "cell_type": "code",
   "execution_count": 73,
   "id": "9fa008a6",
   "metadata": {},
   "outputs": [
    {
     "data": {
      "text/plain": [
       "0.5632766195876301"
      ]
     },
     "execution_count": 73,
     "metadata": {},
     "output_type": "execute_result"
    }
   ],
   "source": [
    "nbareaUnderROC"
   ]
  },
  {
   "cell_type": "code",
   "execution_count": 74,
   "id": "9247b6dc",
   "metadata": {},
   "outputs": [],
   "source": [
    "nbevaluator = BinaryClassificationEvaluator(metricName=\"areaUnderPR\")\n",
    "nbareaUnderPR = nbevaluator.evaluate(predictions)"
   ]
  },
  {
   "cell_type": "code",
   "execution_count": 75,
   "id": "d5d90d1a",
   "metadata": {},
   "outputs": [
    {
     "data": {
      "text/plain": [
       "0.8106102506137476"
      ]
     },
     "execution_count": 75,
     "metadata": {},
     "output_type": "execute_result"
    }
   ],
   "source": [
    "nbareaUnderPR"
   ]
  },
  {
   "cell_type": "code",
   "execution_count": 90,
   "id": "653a8f5f",
   "metadata": {},
   "outputs": [],
   "source": [
    "nbmodel.write().overwrite().save(r\"C:\\Users\\dn10657\\Documents\\CAP\\nicholsonderon1995\\models\\nbModel\")"
   ]
  },
  {
   "cell_type": "markdown",
   "id": "2d357eaa",
   "metadata": {},
   "source": [
    "#### SVM"
   ]
  },
  {
   "cell_type": "code",
   "execution_count": 78,
   "id": "b36e9b25",
   "metadata": {},
   "outputs": [],
   "source": [
    "# Define the LinearSVC classifier\n",
    "svm = LinearSVC()\n",
    "\n",
    "# Define the hyperparameter grid for tuning\n",
    "svmparam_grid = ParamGridBuilder() \\\n",
    "    .addGrid(svm.regParam, [0.01, 0.1, 1.0]) \\\n",
    "    .addGrid(svm.maxIter, [10, 100]) \\\n",
    "    .build()\n",
    "\n",
    "\n",
    "# Set up the TrainValidationSplit with the SVM classifier and parameter grid\n",
    "svmtvs = TrainValidationSplit(estimator=svm,\n",
    "                           estimatorParamMaps=svmparam_grid,\n",
    "                           evaluator=BinaryClassificationEvaluator(),\n",
    "                           trainRatio=0.8)"
   ]
  },
  {
   "cell_type": "code",
   "execution_count": 79,
   "id": "0d244388",
   "metadata": {},
   "outputs": [],
   "source": [
    "svmtvs_model = svmtvs.fit(train_data)"
   ]
  },
  {
   "cell_type": "code",
   "execution_count": 80,
   "id": "7427a5cd",
   "metadata": {},
   "outputs": [],
   "source": [
    "svmmodel=svmtvs_model.bestModel"
   ]
  },
  {
   "cell_type": "code",
   "execution_count": 81,
   "id": "c46219cf",
   "metadata": {},
   "outputs": [],
   "source": [
    "# Retrieve the best parameters\n",
    "svmbest_reg_param = svmmodel._java_obj.getRegParam()\n",
    "svmbest_max_iter = svmmodel._java_obj.getMaxIter()"
   ]
  },
  {
   "cell_type": "code",
   "execution_count": 82,
   "id": "877181e6",
   "metadata": {},
   "outputs": [
    {
     "name": "stdout",
     "output_type": "stream",
     "text": [
      "Best Model Parameters: RegParam=0.01, MaxIter=10\n"
     ]
    }
   ],
   "source": [
    "print(f\"Best Model Parameters: RegParam={svmbest_reg_param}, MaxIter={svmbest_max_iter}\")"
   ]
  },
  {
   "cell_type": "code",
   "execution_count": 83,
   "id": "5e033628",
   "metadata": {},
   "outputs": [],
   "source": [
    "# Make predictions on the validation data\n",
    "predictions = svmmodel.transform(test_data)"
   ]
  },
  {
   "cell_type": "code",
   "execution_count": 84,
   "id": "eb3aa398",
   "metadata": {},
   "outputs": [],
   "source": [
    "# Evaluate the model's accuracy on the validation data\n",
    "svmevaluator = BinaryClassificationEvaluator(metricName=\"areaUnderROC\")\n",
    "svmareaUnderROC = svmevaluator.evaluate(predictions)"
   ]
  },
  {
   "cell_type": "code",
   "execution_count": 85,
   "id": "91b146f1",
   "metadata": {},
   "outputs": [
    {
     "data": {
      "text/plain": [
       "0.8593089174721431"
      ]
     },
     "execution_count": 85,
     "metadata": {},
     "output_type": "execute_result"
    }
   ],
   "source": [
    "svmareaUnderROC"
   ]
  },
  {
   "cell_type": "code",
   "execution_count": 86,
   "id": "e783cda3",
   "metadata": {},
   "outputs": [],
   "source": [
    "# Evaluate the model's accuracy on the validation data\n",
    "svmevaluator = BinaryClassificationEvaluator(metricName=\"areaUnderPR\")\n",
    "svmareaUnderPR = svmevaluator.evaluate(predictions)"
   ]
  },
  {
   "cell_type": "code",
   "execution_count": 87,
   "id": "bd4cd1b6",
   "metadata": {},
   "outputs": [
    {
     "data": {
      "text/plain": [
       "0.9453795891358835"
      ]
     },
     "execution_count": 87,
     "metadata": {},
     "output_type": "execute_result"
    }
   ],
   "source": [
    "svmareaUnderPR"
   ]
  },
  {
   "cell_type": "code",
   "execution_count": 89,
   "id": "7f81abf9",
   "metadata": {},
   "outputs": [],
   "source": [
    "svmmodel.write().overwrite().save(r\"C:\\Users\\dn10657\\Documents\\CAP\\nicholsonderon1995\\models\\svmmodel\")"
   ]
  },
  {
   "cell_type": "markdown",
   "id": "04df2de8",
   "metadata": {},
   "source": [
    "#### Decision Trees"
   ]
  },
  {
   "cell_type": "code",
   "execution_count": 91,
   "id": "01a73ad3",
   "metadata": {},
   "outputs": [],
   "source": [
    "# Create an instance of DecisionTreeClassifier\n",
    "dt = DecisionTreeClassifier(maxDepth=15)\n",
    "\n",
    "# Define the hyperparameter grid for tuning\n",
    "dtparam_grid = ParamGridBuilder() \\\n",
    "    .addGrid(dt.maxDepth, [3, 5, 7]) \\\n",
    "    .addGrid(dt.maxBins, [16, 32, 64]) \\\n",
    "    .addGrid(dt.minInstancesPerNode, [1, 5, 10]) \\\n",
    "    .addGrid(dt.minInfoGain, [0.0, 0.1, 0.2]) \\\n",
    "    .build()\n",
    "\n",
    "# Set up the TrainValidationSplit with the DecisionTreeClassifier and parameter grid\n",
    "dttvs = TrainValidationSplit(estimator=dt,\n",
    "                           estimatorParamMaps=dtparam_grid,\n",
    "                           evaluator=BinaryClassificationEvaluator(),\n",
    "                           trainRatio=0.8)\n",
    "\n"
   ]
  },
  {
   "cell_type": "code",
   "execution_count": 94,
   "id": "f8ed85a2",
   "metadata": {},
   "outputs": [],
   "source": [
    "dttvs_model = dttvs.fit(train_data)"
   ]
  },
  {
   "cell_type": "code",
   "execution_count": 95,
   "id": "8527df9c",
   "metadata": {},
   "outputs": [],
   "source": [
    "dtmodel=dttvs_model.bestModel"
   ]
  },
  {
   "cell_type": "code",
   "execution_count": 96,
   "id": "b7b4648d",
   "metadata": {},
   "outputs": [],
   "source": [
    "# Extract the parameter map from the best model\n",
    "best_params = dtmodel.extractParamMap()"
   ]
  },
  {
   "cell_type": "code",
   "execution_count": 97,
   "id": "50fc47a2",
   "metadata": {},
   "outputs": [
    {
     "name": "stdout",
     "output_type": "stream",
     "text": [
      "cacheNodeIds: False\n",
      "checkpointInterval: 10\n",
      "featuresCol: features\n",
      "impurity: gini\n",
      "labelCol: label\n",
      "leafCol: \n",
      "maxBins: 16\n",
      "maxDepth: 5\n",
      "maxMemoryInMB: 256\n",
      "minInfoGain: 0.0\n",
      "minInstancesPerNode: 5\n",
      "minWeightFractionPerNode: 0.0\n",
      "predictionCol: prediction\n",
      "probabilityCol: probability\n",
      "rawPredictionCol: rawPrediction\n",
      "seed: 2738347223265924017\n"
     ]
    }
   ],
   "source": [
    "# Print the hyperparameters and their values\n",
    "for param in best_params:\n",
    "    print(f\"{param.name}: {best_params[param]}\")"
   ]
  },
  {
   "cell_type": "code",
   "execution_count": 98,
   "id": "dda3a7d0",
   "metadata": {},
   "outputs": [],
   "source": [
    "# Make predictions on the validation data\n",
    "predictions = dtmodel.transform(test_data)"
   ]
  },
  {
   "cell_type": "code",
   "execution_count": 99,
   "id": "e6964a69",
   "metadata": {},
   "outputs": [],
   "source": [
    "# Evaluate the model's accuracy on the validation data\n",
    "dtevaluator = BinaryClassificationEvaluator(metricName=\"areaUnderROC\")\n",
    "dtareaUnderROC = dtevaluator.evaluate(predictions)"
   ]
  },
  {
   "cell_type": "code",
   "execution_count": 100,
   "id": "5f17b16a",
   "metadata": {},
   "outputs": [
    {
     "data": {
      "text/plain": [
       "0.7004747442339988"
      ]
     },
     "execution_count": 100,
     "metadata": {},
     "output_type": "execute_result"
    }
   ],
   "source": [
    "dtareaUnderROC"
   ]
  },
  {
   "cell_type": "code",
   "execution_count": 101,
   "id": "3b7143af",
   "metadata": {},
   "outputs": [],
   "source": [
    "# Evaluate the model's accuracy on the validation data\n",
    "dtevaluator = BinaryClassificationEvaluator(metricName=\"areaUnderPR\")\n",
    "dtareaUnderPR = dtevaluator.evaluate(predictions)"
   ]
  },
  {
   "cell_type": "code",
   "execution_count": 102,
   "id": "e493a53e",
   "metadata": {},
   "outputs": [
    {
     "data": {
      "text/plain": [
       "0.8825310627763933"
      ]
     },
     "execution_count": 102,
     "metadata": {},
     "output_type": "execute_result"
    }
   ],
   "source": [
    "dtareaUnderPR"
   ]
  },
  {
   "cell_type": "code",
   "execution_count": 103,
   "id": "92de6dc9",
   "metadata": {},
   "outputs": [],
   "source": [
    "dtmodel.write().overwrite().save(r\"C:\\Users\\dn10657\\Documents\\CAP\\nicholsonderon1995\\models\\dtmodel\")"
   ]
  },
  {
   "cell_type": "markdown",
   "id": "edb672ed",
   "metadata": {},
   "source": [
    "#### Alternating Least Squares Recommendation Engine"
   ]
  },
  {
   "cell_type": "code",
   "execution_count": 10,
   "id": "16d66281",
   "metadata": {},
   "outputs": [],
   "source": [
    "grouped_df = df.groupBy(\"customer_id\",\"product_id\",\"product_title\").agg(\n",
    "    \n",
    "    round(avg(\"star_rating\"),0).alias(\"avg_star_rating\")\n",
    ")\n"
   ]
  },
  {
   "cell_type": "code",
   "execution_count": 5,
   "id": "6a9aec21",
   "metadata": {},
   "outputs": [
    {
     "data": {
      "text/plain": [
       "1033179"
      ]
     },
     "execution_count": 5,
     "metadata": {},
     "output_type": "execute_result"
    }
   ],
   "source": [
    "df.count()"
   ]
  },
  {
   "cell_type": "code",
   "execution_count": 7,
   "id": "7c9a9206",
   "metadata": {},
   "outputs": [
    {
     "data": {
      "text/plain": [
       "1033094"
      ]
     },
     "execution_count": 7,
     "metadata": {},
     "output_type": "execute_result"
    }
   ],
   "source": [
    "grouped_df.count()"
   ]
  },
  {
   "cell_type": "code",
   "execution_count": 8,
   "id": "91a4ebd0",
   "metadata": {},
   "outputs": [
    {
     "name": "stdout",
     "output_type": "stream",
     "text": [
      "+-----------+----------+--------------------+---------------+\n",
      "|customer_id|product_id|       product_title|avg_star_rating|\n",
      "+-----------+----------+--------------------+---------------+\n",
      "|   23867088|B00NN07IMW|Sonimart Premium ...|            5.0|\n",
      "|    7436522|B004V98T2W|Summit Viper SD T...|            5.0|\n",
      "|   46664596|B00C32R64G|Outlaw Gentlemen ...|            5.0|\n",
      "|   43608375|0380679914|The Westing Game:...|            5.0|\n",
      "|   49648577|0312867328|To Jaykae: Life S...|            5.0|\n",
      "|   15880733|B00CMAI3KA|  Love Is Everything|            5.0|\n",
      "|   43293242|B0011TNRJ0|Make The Almighty...|            5.0|\n",
      "|   34075746|B0012460PW|     Brand New Start|            1.0|\n",
      "|   52899190|039914496X|        Certain Prey|            4.0|\n",
      "|    9041628|B0054MSCI6|Neutrogena Triple...|            5.0|\n",
      "|   44773225|B0051IE68I|NCAA Washington S...|            5.0|\n",
      "|   52904283|B0040ETFDA|Daniel Grey Piano...|            5.0|\n",
      "|   17645899|B0025XTOQQ|TIMEX EXPEDITION ...|            4.0|\n",
      "|   23111445|B00H8ZVUOU|USMC Marines Anch...|            5.0|\n",
      "|   28768097|B001PR0ND6|NFL Pittsburgh St...|            1.0|\n",
      "|   14354519|B00198N996|              Sedona|            5.0|\n",
      "|   45101452|B002GP6WB8|Ratchet & Clank F...|            4.0|\n",
      "|   16775394|B00854E7SO|NFL Womens Caroli...|            1.0|\n",
      "|   16075617|B000F3OHUG|Tippmann A-5 A5 P...|            5.0|\n",
      "|   41044943|B001C8G9OA|Original 24 Game ...|            5.0|\n",
      "+-----------+----------+--------------------+---------------+\n",
      "only showing top 20 rows\n",
      "\n"
     ]
    }
   ],
   "source": [
    "grouped_df.show()"
   ]
  },
  {
   "cell_type": "code",
   "execution_count": 110,
   "id": "41407cd9",
   "metadata": {},
   "outputs": [],
   "source": [
    "#convert string type customer_id and product-id to int\n",
    "indexer = [StringIndexer(inputCol=column, outputCol=column+\"_index\") for column in ['customer_id', 'product_id']]\n",
    "customerIndexer=StringIndexer(inputCol=\"customer_id\", outputCol=\"customer_id_index\").fit(grouped_df)\n",
    "productIndexer=StringIndexer(inputCol=\"product_id\", outputCol=\"product_id_index\").fit(grouped_df)\n",
    "pipeline = Pipeline(stages=[customerIndexer,productIndexer])"
   ]
  },
  {
   "cell_type": "code",
   "execution_count": 111,
   "id": "6b0dcdcd",
   "metadata": {},
   "outputs": [],
   "source": [
    "typeconverterPipeline = pipeline.fit(grouped_df)"
   ]
  },
  {
   "cell_type": "code",
   "execution_count": 11,
   "id": "59253c4d",
   "metadata": {},
   "outputs": [],
   "source": [
    "transformed = typeconverterPipeline.transform(grouped_df)"
   ]
  },
  {
   "cell_type": "code",
   "execution_count": 113,
   "id": "57b1200d",
   "metadata": {},
   "outputs": [],
   "source": [
    "typeconverterPipeline.write().overwrite()\\\n",
    ".save(r\"C:\\Users\\dn10657\\Documents\\CAP\\nicholsonderon1995\\pipelines\\typeconverterPipeline\")"
   ]
  },
  {
   "cell_type": "code",
   "execution_count": 9,
   "id": "032ece4d",
   "metadata": {},
   "outputs": [],
   "source": [
    "typeconverterPipeline=PipelineModel.load(r\"C:\\Users\\dn10657\\Documents\\CAP\\nicholsonderon1995\\pipelines\\typeconverterPipeline\")"
   ]
  },
  {
   "cell_type": "code",
   "execution_count": 10,
   "id": "c4a5b21f",
   "metadata": {},
   "outputs": [],
   "source": [
    "transformed.createOrReplaceTempView(\"transformed\")"
   ]
  },
  {
   "cell_type": "code",
   "execution_count": 13,
   "id": "85b6c841",
   "metadata": {},
   "outputs": [],
   "source": [
    "test=spark.sql(\"SELECT distinct * FROM transformed t inner join reviews r on t.product_id=r.product_id\")"
   ]
  },
  {
   "cell_type": "code",
   "execution_count": null,
   "id": "5cc696f7",
   "metadata": {},
   "outputs": [],
   "source": [
    "test.count()"
   ]
  },
  {
   "cell_type": "code",
   "execution_count": 114,
   "id": "0ee11674",
   "metadata": {},
   "outputs": [
    {
     "name": "stdout",
     "output_type": "stream",
     "text": [
      "+-----------+----------+--------------------+---------------+-----------------+----------------+\n",
      "|customer_id|product_id|       product_title|avg_star_rating|customer_id_index|product_id_index|\n",
      "+-----------+----------+--------------------+---------------+-----------------+----------------+\n",
      "|   23867088|B00NN07IMW|Sonimart Premium ...|            5.0|         372614.0|         23827.0|\n",
      "|    7436522|B004V98T2W|Summit Viper SD T...|            5.0|         901804.0|         30395.0|\n",
      "|   46664596|B00C32R64G|Outlaw Gentlemen ...|            5.0|          59405.0|        114386.0|\n",
      "|   43608375|0380679914|The Westing Game:...|            5.0|         666599.0|        132747.0|\n",
      "|   49648577|0312867328|To Jaykae: Life S...|            5.0|         784275.0|        131288.0|\n",
      "|   15880733|B00CMAI3KA|  Love Is Everything|            5.0|         227813.0|        115236.0|\n",
      "|   43293242|B0011TNRJ0|Make The Almighty...|            5.0|         660266.0|        253658.0|\n",
      "|   34075746|B0012460PW|     Brand New Start|            1.0|           1442.0|        254619.0|\n",
      "|   52899190|039914496X|        Certain Prey|            4.0|         872976.0|        133821.0|\n",
      "|    9041628|B0054MSCI6|Neutrogena Triple...|            5.0|         915560.0|        382402.0|\n",
      "|   44773225|B0051IE68I|NCAA Washington S...|            5.0|         690496.0|        379938.0|\n",
      "|   52904283|B0040ETFDA|Daniel Grey Piano...|            5.0|         873159.0|        344305.0|\n",
      "|   17645899|B0025XTOQQ|TIMEX EXPEDITION ...|            4.0|         265323.0|        294855.0|\n",
      "|   23111445|B00H8ZVUOU|USMC Marines Anch...|            5.0|         358763.0|        548342.0|\n",
      "|   28768097|B001PR0ND6|NFL Pittsburgh St...|            1.0|         446833.0|        287466.0|\n",
      "|   14354519|B00198N996|              Sedona|            5.0|           7049.0|        266179.0|\n",
      "|   45101452|B002GP6WB8|Ratchet & Clank F...|            4.0|         697184.0|         45125.0|\n",
      "|   16775394|B00854E7SO|NFL Womens Caroli...|            1.0|         248423.0|        439490.0|\n",
      "|   16075617|B000F3OHUG|Tippmann A-5 A5 P...|            5.0|         232935.0|        216879.0|\n",
      "|   41044943|B001C8G9OA|Original 24 Game ...|            5.0|         620048.0|        270804.0|\n",
      "+-----------+----------+--------------------+---------------+-----------------+----------------+\n",
      "only showing top 20 rows\n",
      "\n"
     ]
    }
   ],
   "source": [
    "transformed.show()"
   ]
  },
  {
   "cell_type": "code",
   "execution_count": 115,
   "id": "a94e542d",
   "metadata": {},
   "outputs": [
    {
     "data": {
      "text/plain": [
       "1033094"
      ]
     },
     "execution_count": 115,
     "metadata": {},
     "output_type": "execute_result"
    }
   ],
   "source": [
    "transformed.count()"
   ]
  },
  {
   "cell_type": "code",
   "execution_count": 116,
   "id": "2c1cc0f4",
   "metadata": {},
   "outputs": [],
   "source": [
    "train_data, test_data = transformed.randomSplit([0.8, 0.2], seed=0)"
   ]
  },
  {
   "cell_type": "code",
   "execution_count": 119,
   "id": "eee67f47",
   "metadata": {},
   "outputs": [],
   "source": [
    "# initialize the ALS model\n",
    "als= ALS(maxIter=5, rank=4, regParam=0.01,userCol='customer_id_index', itemCol='product_id_index', \\\n",
    "                ratingCol='avg_star_rating', coldStartStrategy='drop',\\\n",
    "                nonnegative=True)\n"
   ]
  },
  {
   "cell_type": "code",
   "execution_count": 120,
   "id": "eaece26c",
   "metadata": {},
   "outputs": [],
   "source": [
    "alsmodel=als.fit(train_data)"
   ]
  },
  {
   "cell_type": "code",
   "execution_count": 122,
   "id": "0103ec8d",
   "metadata": {},
   "outputs": [],
   "source": [
    "predictions = alsmodel.transform(test_data)"
   ]
  },
  {
   "cell_type": "code",
   "execution_count": 123,
   "id": "a468a32b",
   "metadata": {},
   "outputs": [],
   "source": [
    "alsmodel.write().overwrite().save(r\"C:\\Users\\dn10657\\Documents\\CAP\\nicholsonderon1995\\models\\alsmodel\")"
   ]
  },
  {
   "cell_type": "code",
   "execution_count": 126,
   "id": "364b93eb",
   "metadata": {},
   "outputs": [
    {
     "name": "stdout",
     "output_type": "stream",
     "text": [
      "5.616898976065323\n"
     ]
    }
   ],
   "source": [
    "evaluator=RegressionEvaluator(metricName='rmse',labelCol='avg_star_rating',predictionCol='prediction')\n",
    "rmse=evaluator.evaluate(predictions)\n",
    "print(rmse)"
   ]
  },
  {
   "cell_type": "code",
   "execution_count": 127,
   "id": "eff9a12f",
   "metadata": {},
   "outputs": [],
   "source": [
    "userRec=train_data.limit(5).select(\"customer_id_index\");"
   ]
  },
  {
   "cell_type": "code",
   "execution_count": 128,
   "id": "ad22d318",
   "metadata": {},
   "outputs": [
    {
     "name": "stdout",
     "output_type": "stream",
     "text": [
      "+-----------------+\n",
      "|customer_id_index|\n",
      "+-----------------+\n",
      "|          15866.0|\n",
      "|          73863.0|\n",
      "|          15868.0|\n",
      "|          73881.0|\n",
      "|          73893.0|\n",
      "+-----------------+\n",
      "\n"
     ]
    }
   ],
   "source": [
    "userRec.show()"
   ]
  },
  {
   "cell_type": "code",
   "execution_count": 129,
   "id": "453efaba",
   "metadata": {},
   "outputs": [],
   "source": [
    "userRec=userRec.withColumn(\"customer_id_index\", col(\"customer_id_index\").cast(\"integer\"))"
   ]
  },
  {
   "cell_type": "code",
   "execution_count": 131,
   "id": "0287b6a1",
   "metadata": {},
   "outputs": [],
   "source": [
    "recommendations = alsmodel.recommendForUserSubset(userRec,1)"
   ]
  },
  {
   "cell_type": "code",
   "execution_count": 132,
   "id": "897a0f58",
   "metadata": {},
   "outputs": [
    {
     "name": "stdout",
     "output_type": "stream",
     "text": [
      "+-----------------+--------------------+\n",
      "|customer_id_index|     recommendations|\n",
      "+-----------------+--------------------+\n",
      "|            73881|[{367810, 43.84033}]|\n",
      "|            73863| [{43063, 95.78003}]|\n",
      "|            73893|[{172990, 12.07632}]|\n",
      "|            15866|[{375843, 11.7508...|\n",
      "|            15868|[{112742, 14.5392...|\n",
      "+-----------------+--------------------+\n",
      "\n"
     ]
    }
   ],
   "source": [
    "recommendations.show()"
   ]
  },
  {
   "cell_type": "code",
   "execution_count": 133,
   "id": "122bee5b",
   "metadata": {},
   "outputs": [],
   "source": [
    "recs=recommendations.withColumn(\"itemAndRating\",explode(recommendations.recommendations))\\\n",
    ".select(\"customer_id_index\",\"itemAndRating.*\")"
   ]
  },
  {
   "cell_type": "code",
   "execution_count": 134,
   "id": "a76ec478",
   "metadata": {},
   "outputs": [],
   "source": [
    "recs=recs.withColumn(\"customer_id_index\",col(\"customer_id_index\").cast(\"double\")).\\\n",
    "withColumn(\"product_id_index\",col(\"product_id_index\").cast(\"double\"))"
   ]
  },
  {
   "cell_type": "code",
   "execution_count": 135,
   "id": "f03b7a23",
   "metadata": {},
   "outputs": [],
   "source": [
    "customerConverter=IndexToString(inputCol=\"customer_id_index\",outputCol=\"customer_id\",labels=customerIndexer.labels)\n",
    "productConverter=IndexToString(inputCol=\"product_id_index\",outputCol=\"product_id\",labels=productIndexer.labels)"
   ]
  },
  {
   "cell_type": "code",
   "execution_count": 136,
   "id": "408500ca",
   "metadata": {},
   "outputs": [],
   "source": [
    "pModel=Pipeline(stages=[customerConverter,productConverter]).fit(transformed)"
   ]
  },
  {
   "cell_type": "code",
   "execution_count": 147,
   "id": "89405b52",
   "metadata": {},
   "outputs": [],
   "source": [
    "pModel.write().overwrite().save(r\"C:\\Users\\dn10657\\Documents\\CAP\\nicholsonderon1995\\pipelines\\indextostring_pipeline\")"
   ]
  },
  {
   "cell_type": "code",
   "execution_count": 137,
   "id": "2b014291",
   "metadata": {},
   "outputs": [],
   "source": [
    "results=pModel.transform(recs)"
   ]
  },
  {
   "cell_type": "code",
   "execution_count": 139,
   "id": "8692428f",
   "metadata": {},
   "outputs": [
    {
     "name": "stdout",
     "output_type": "stream",
     "text": [
      "+-----------------+----------------+---------+-----------+----------+\n",
      "|customer_id_index|product_id_index|   rating|customer_id|product_id|\n",
      "+-----------------+----------------+---------+-----------+----------+\n",
      "|          73881.0|        367810.0| 43.84033|   10001117|B004P8JL7G|\n",
      "|          73863.0|         43063.0| 95.78003|   10000408|B0018RKEQO|\n",
      "|          73893.0|        172990.0| 12.07632|   10001481|B00004T7WR|\n",
      "|          15866.0|        375843.0|11.750814|   10000023|B004XADLC2|\n",
      "|          15868.0|        112742.0|14.539271|   10001005|B00B2OVW7I|\n",
      "+-----------------+----------------+---------+-----------+----------+\n",
      "\n"
     ]
    }
   ],
   "source": [
    "results.show(n=10)"
   ]
  },
  {
   "cell_type": "code",
   "execution_count": 140,
   "id": "bcc31d83",
   "metadata": {},
   "outputs": [],
   "source": [
    "product_id_list=results.select(\"product_id\").rdd.flatMap(lambda x: x).collect()"
   ]
  },
  {
   "cell_type": "code",
   "execution_count": 141,
   "id": "602911e4",
   "metadata": {},
   "outputs": [
    {
     "data": {
      "text/plain": [
       "['B004P8JL7G', 'B0018RKEQO', 'B00004T7WR', 'B004XADLC2', 'B00B2OVW7I']"
      ]
     },
     "execution_count": 141,
     "metadata": {},
     "output_type": "execute_result"
    }
   ],
   "source": [
    "product_id_list"
   ]
  },
  {
   "cell_type": "code",
   "execution_count": 162,
   "id": "bc3865d0",
   "metadata": {},
   "outputs": [
    {
     "data": {
      "text/plain": [
       "1033094"
      ]
     },
     "execution_count": 162,
     "metadata": {},
     "output_type": "execute_result"
    }
   ],
   "source": [
    "transformed.count()"
   ]
  },
  {
   "cell_type": "code",
   "execution_count": 151,
   "id": "b37dba98",
   "metadata": {},
   "outputs": [
    {
     "data": {
      "text/html": [
       "<div>\n",
       "<style scoped>\n",
       "    .dataframe tbody tr th:only-of-type {\n",
       "        vertical-align: middle;\n",
       "    }\n",
       "\n",
       "    .dataframe tbody tr th {\n",
       "        vertical-align: top;\n",
       "    }\n",
       "\n",
       "    .dataframe thead th {\n",
       "        text-align: right;\n",
       "    }\n",
       "</style>\n",
       "<table border=\"1\" class=\"dataframe\">\n",
       "  <thead>\n",
       "    <tr style=\"text-align: right;\">\n",
       "      <th></th>\n",
       "      <th>customer_id</th>\n",
       "      <th>product_id</th>\n",
       "      <th>product_title</th>\n",
       "      <th>avg_star_rating</th>\n",
       "      <th>customer_id_index</th>\n",
       "      <th>product_id_index</th>\n",
       "    </tr>\n",
       "  </thead>\n",
       "  <tbody>\n",
       "    <tr>\n",
       "      <th>0</th>\n",
       "      <td>23867088</td>\n",
       "      <td>B00NN07IMW</td>\n",
       "      <td>Sonimart Premium Replacement Toothbrush Heads for Philips Sonicare ProResults, fits Essence+, Plaque Control, Gum Health, DiamondClean, FlexCare, HealthyWhite and EasyClean</td>\n",
       "      <td>5.0</td>\n",
       "      <td>372614.0</td>\n",
       "      <td>23827.0</td>\n",
       "    </tr>\n",
       "    <tr>\n",
       "      <th>1</th>\n",
       "      <td>7436522</td>\n",
       "      <td>B004V98T2W</td>\n",
       "      <td>Summit Viper SD Treestand</td>\n",
       "      <td>5.0</td>\n",
       "      <td>901804.0</td>\n",
       "      <td>30395.0</td>\n",
       "    </tr>\n",
       "    <tr>\n",
       "      <th>2</th>\n",
       "      <td>46664596</td>\n",
       "      <td>B00C32R64G</td>\n",
       "      <td>Outlaw Gentlemen &amp; Shady Ladies</td>\n",
       "      <td>5.0</td>\n",
       "      <td>59405.0</td>\n",
       "      <td>114386.0</td>\n",
       "    </tr>\n",
       "    <tr>\n",
       "      <th>3</th>\n",
       "      <td>43608375</td>\n",
       "      <td>0380679914</td>\n",
       "      <td>The Westing Game: A Puzzle Mystery (An Avon Flare Book)</td>\n",
       "      <td>5.0</td>\n",
       "      <td>666599.0</td>\n",
       "      <td>132747.0</td>\n",
       "    </tr>\n",
       "    <tr>\n",
       "      <th>4</th>\n",
       "      <td>49648577</td>\n",
       "      <td>0312867328</td>\n",
       "      <td>To Jaykae: Life Stinx</td>\n",
       "      <td>5.0</td>\n",
       "      <td>784275.0</td>\n",
       "      <td>131288.0</td>\n",
       "    </tr>\n",
       "  </tbody>\n",
       "</table>\n",
       "</div>"
      ],
      "text/plain": [
       "  customer_id  product_id  \\\n",
       "0    23867088  B00NN07IMW   \n",
       "1     7436522  B004V98T2W   \n",
       "2    46664596  B00C32R64G   \n",
       "3    43608375  0380679914   \n",
       "4    49648577  0312867328   \n",
       "\n",
       "                                                                                                                                                                  product_title  \\\n",
       "0  Sonimart Premium Replacement Toothbrush Heads for Philips Sonicare ProResults, fits Essence+, Plaque Control, Gum Health, DiamondClean, FlexCare, HealthyWhite and EasyClean   \n",
       "1                                                                                                                                                     Summit Viper SD Treestand   \n",
       "2                                                                                                                                               Outlaw Gentlemen & Shady Ladies   \n",
       "3                                                                                                                       The Westing Game: A Puzzle Mystery (An Avon Flare Book)   \n",
       "4                                                                                                                                                         To Jaykae: Life Stinx   \n",
       "\n",
       "   avg_star_rating  customer_id_index  product_id_index  \n",
       "0              5.0           372614.0           23827.0  \n",
       "1              5.0           901804.0           30395.0  \n",
       "2              5.0            59405.0          114386.0  \n",
       "3              5.0           666599.0          132747.0  \n",
       "4              5.0           784275.0          131288.0  "
      ]
     },
     "execution_count": 151,
     "metadata": {},
     "output_type": "execute_result"
    }
   ],
   "source": [
    "transformed.limit(5).toPandas()"
   ]
  },
  {
   "cell_type": "code",
   "execution_count": 12,
   "id": "f608926b",
   "metadata": {},
   "outputs": [],
   "source": [
    "\n",
    "newDF=df.select(\"product_category\",\"product_id\",\"customer_id\",\"review_id\",\"review_body\").distinct()\n"
   ]
  },
  {
   "cell_type": "code",
   "execution_count": 13,
   "id": "0b832b48",
   "metadata": {},
   "outputs": [
    {
     "data": {
      "text/plain": [
       "1033179"
      ]
     },
     "execution_count": 13,
     "metadata": {},
     "output_type": "execute_result"
    }
   ],
   "source": [
    "newDF.count()"
   ]
  },
  {
   "cell_type": "code",
   "execution_count": 14,
   "id": "cff35b6f",
   "metadata": {},
   "outputs": [],
   "source": [
    "reviews=transformed.join(newDF,on=[\"product_id\",\"customer_id\"], how=\"inner\")"
   ]
  },
  {
   "cell_type": "code",
   "execution_count": 15,
   "id": "6b668bdf",
   "metadata": {},
   "outputs": [
    {
     "data": {
      "text/plain": [
       "1033179"
      ]
     },
     "execution_count": 15,
     "metadata": {},
     "output_type": "execute_result"
    }
   ],
   "source": [
    "reviews.count()\n"
   ]
  },
  {
   "cell_type": "code",
   "execution_count": 16,
   "id": "3e421cf0",
   "metadata": {},
   "outputs": [
    {
     "data": {
      "text/html": [
       "<div>\n",
       "<style scoped>\n",
       "    .dataframe tbody tr th:only-of-type {\n",
       "        vertical-align: middle;\n",
       "    }\n",
       "\n",
       "    .dataframe tbody tr th {\n",
       "        vertical-align: top;\n",
       "    }\n",
       "\n",
       "    .dataframe thead th {\n",
       "        text-align: right;\n",
       "    }\n",
       "</style>\n",
       "<table border=\"1\" class=\"dataframe\">\n",
       "  <thead>\n",
       "    <tr style=\"text-align: right;\">\n",
       "      <th></th>\n",
       "      <th>product_id</th>\n",
       "      <th>customer_id</th>\n",
       "      <th>product_title</th>\n",
       "      <th>avg_star_rating</th>\n",
       "      <th>customer_id_index</th>\n",
       "      <th>product_id_index</th>\n",
       "      <th>product_category</th>\n",
       "      <th>review_body</th>\n",
       "    </tr>\n",
       "  </thead>\n",
       "  <tbody>\n",
       "    <tr>\n",
       "      <th>0</th>\n",
       "      <td>0002171856</td>\n",
       "      <td>47292135</td>\n",
       "      <td>The Sas Survival Handbook</td>\n",
       "      <td>5.0</td>\n",
       "      <td>738707.0</td>\n",
       "      <td>127843.0</td>\n",
       "      <td>Books</td>\n",
       "      <td>Amazing book! This book is quality, you will n...</td>\n",
       "    </tr>\n",
       "  </tbody>\n",
       "</table>\n",
       "</div>"
      ],
      "text/plain": [
       "   product_id customer_id              product_title  avg_star_rating  \\\n",
       "0  0002171856    47292135  The Sas Survival Handbook              5.0   \n",
       "\n",
       "   customer_id_index  product_id_index product_category  \\\n",
       "0           738707.0          127843.0            Books   \n",
       "\n",
       "                                         review_body  \n",
       "0  Amazing book! This book is quality, you will n...  "
      ]
     },
     "execution_count": 16,
     "metadata": {},
     "output_type": "execute_result"
    }
   ],
   "source": [
    "reviews.limit(1).toPandas()"
   ]
  },
  {
   "cell_type": "code",
   "execution_count": 17,
   "id": "9f1fb57b",
   "metadata": {},
   "outputs": [],
   "source": [
    "reviews=reviews.distinct()"
   ]
  },
  {
   "cell_type": "code",
   "execution_count": null,
   "id": "40cc42b4",
   "metadata": {},
   "outputs": [],
   "source": []
  },
  {
   "cell_type": "code",
   "execution_count": 16,
   "id": "1a7fd311",
   "metadata": {},
   "outputs": [],
   "source": [
    "reviews.write.mode(\"overwrite\").option(\"header\", \"true\")\\\n",
    ".json(r\"C:\\Users\\dn10657\\Documents\\CAP\\nicholsonderon1995\\reviews.json\")"
   ]
  },
  {
   "cell_type": "code",
   "execution_count": 145,
   "id": "00b46606",
   "metadata": {},
   "outputs": [],
   "source": [
    "relatedProducts=transformed.filter(col(\"product_id\").isin(product_id_list))\\\n",
    ".select(\"product_id\",\"product_title\",\"avg_star_rating\").distinct()"
   ]
  },
  {
   "cell_type": "code",
   "execution_count": 146,
   "id": "995b268c",
   "metadata": {
    "scrolled": true
   },
   "outputs": [
    {
     "data": {
      "text/html": [
       "<div>\n",
       "<style scoped>\n",
       "    .dataframe tbody tr th:only-of-type {\n",
       "        vertical-align: middle;\n",
       "    }\n",
       "\n",
       "    .dataframe tbody tr th {\n",
       "        vertical-align: top;\n",
       "    }\n",
       "\n",
       "    .dataframe thead th {\n",
       "        text-align: right;\n",
       "    }\n",
       "</style>\n",
       "<table border=\"1\" class=\"dataframe\">\n",
       "  <thead>\n",
       "    <tr style=\"text-align: right;\">\n",
       "      <th></th>\n",
       "      <th>product_id</th>\n",
       "      <th>product_title</th>\n",
       "      <th>avg_star_rating</th>\n",
       "    </tr>\n",
       "  </thead>\n",
       "  <tbody>\n",
       "    <tr>\n",
       "      <th>0</th>\n",
       "      <td>B004XADLC2</td>\n",
       "      <td>SeaSense Ignition Starter Switch-Merc Screw</td>\n",
       "      <td>5.0</td>\n",
       "    </tr>\n",
       "    <tr>\n",
       "      <th>1</th>\n",
       "      <td>B00B2OVW7I</td>\n",
       "      <td>ASICS Women's GEL-Venture 4 Running Shoe</td>\n",
       "      <td>5.0</td>\n",
       "    </tr>\n",
       "    <tr>\n",
       "      <th>2</th>\n",
       "      <td>B0018RKEQO</td>\n",
       "      <td>Centennial: The Complete Series</td>\n",
       "      <td>5.0</td>\n",
       "    </tr>\n",
       "    <tr>\n",
       "      <th>3</th>\n",
       "      <td>B00004T7WR</td>\n",
       "      <td>General Tools 69 Dial Wire Stripper</td>\n",
       "      <td>5.0</td>\n",
       "    </tr>\n",
       "    <tr>\n",
       "      <th>4</th>\n",
       "      <td>B004P8JL7G</td>\n",
       "      <td>Nokia C5-03 Unlocked GSM Phone with Symbian OS, 5MP Camera, Ovi Maps Navigation, Wi-Fi and microSDHC Slot</td>\n",
       "      <td>5.0</td>\n",
       "    </tr>\n",
       "  </tbody>\n",
       "</table>\n",
       "</div>"
      ],
      "text/plain": [
       "   product_id  \\\n",
       "0  B004XADLC2   \n",
       "1  B00B2OVW7I   \n",
       "2  B0018RKEQO   \n",
       "3  B00004T7WR   \n",
       "4  B004P8JL7G   \n",
       "\n",
       "                                                                                               product_title  \\\n",
       "0                                                                SeaSense Ignition Starter Switch-Merc Screw   \n",
       "1                                                                   ASICS Women's GEL-Venture 4 Running Shoe   \n",
       "2                                                                            Centennial: The Complete Series   \n",
       "3                                                                        General Tools 69 Dial Wire Stripper   \n",
       "4  Nokia C5-03 Unlocked GSM Phone with Symbian OS, 5MP Camera, Ovi Maps Navigation, Wi-Fi and microSDHC Slot   \n",
       "\n",
       "   avg_star_rating  \n",
       "0              5.0  \n",
       "1              5.0  \n",
       "2              5.0  \n",
       "3              5.0  \n",
       "4              5.0  "
      ]
     },
     "execution_count": 146,
     "metadata": {},
     "output_type": "execute_result"
    }
   ],
   "source": [
    "# Set the maximum column width to display\n",
    "pd.set_option('display.max_colwidth', None)\n",
    "\n",
    "relatedProducts.toPandas()"
   ]
  },
  {
   "cell_type": "code",
   "execution_count": 1,
   "id": "885a07a5",
   "metadata": {},
   "outputs": [
    {
     "ename": "ModuleNotFoundError",
     "evalue": "No module named 'transformers'",
     "output_type": "error",
     "traceback": [
      "\u001b[1;31m---------------------------------------------------------------------------\u001b[0m",
      "\u001b[1;31mModuleNotFoundError\u001b[0m                       Traceback (most recent call last)",
      "Cell \u001b[1;32mIn[1], line 13\u001b[0m\n\u001b[0;32m     11\u001b[0m \u001b[38;5;28;01mfrom\u001b[39;00m \u001b[38;5;21;01mpyspark\u001b[39;00m\u001b[38;5;21;01m.\u001b[39;00m\u001b[38;5;21;01msql\u001b[39;00m\u001b[38;5;21;01m.\u001b[39;00m\u001b[38;5;21;01mfunctions\u001b[39;00m \u001b[38;5;28;01mimport\u001b[39;00m \u001b[38;5;241m*\u001b[39m\n\u001b[0;32m     12\u001b[0m \u001b[38;5;28;01mimport\u001b[39;00m \u001b[38;5;21;01mlogging\u001b[39;00m\n\u001b[1;32m---> 13\u001b[0m \u001b[38;5;28;01mfrom\u001b[39;00m \u001b[38;5;21;01mtransformers\u001b[39;00m\u001b[38;5;21;01m.\u001b[39;00m\u001b[38;5;21;01mlemmatizer\u001b[39;00m \u001b[38;5;28;01mimport\u001b[39;00m Lemmatizer\n\u001b[0;32m     14\u001b[0m \u001b[38;5;28;01mfrom\u001b[39;00m \u001b[38;5;21;01mpyspark\u001b[39;00m\u001b[38;5;21;01m.\u001b[39;00m\u001b[38;5;21;01mml\u001b[39;00m \u001b[38;5;28;01mimport\u001b[39;00m Transformer\n\u001b[0;32m     15\u001b[0m \u001b[38;5;28;01mfrom\u001b[39;00m \u001b[38;5;21;01mpyspark\u001b[39;00m\u001b[38;5;21;01m.\u001b[39;00m\u001b[38;5;21;01mml\u001b[39;00m\u001b[38;5;21;01m.\u001b[39;00m\u001b[38;5;21;01mparam\u001b[39;00m\u001b[38;5;21;01m.\u001b[39;00m\u001b[38;5;21;01mshared\u001b[39;00m \u001b[38;5;28;01mimport\u001b[39;00m HasInputCol, HasOutputCol,TypeConverters\n",
      "\u001b[1;31mModuleNotFoundError\u001b[0m: No module named 'transformers'"
     ]
    }
   ],
   "source": [
    "from flask import Flask, render_template, request, jsonify\n",
    "import pyspark\n",
    "from pyspark.sql import SparkSession\n",
    "from pyspark.ml import PipelineModel\n",
    "from pyspark.ml.clustering import KMeansModel\n",
    "from pyspark.ml.classification import LinearSVCModel\n",
    "from pyspark.ml.recommendation import ALSModel\n",
    "import os\n",
    "import re\n",
    "from textblob import TextBlob\n",
    "from pyspark.sql.functions import *\n",
    "import logging\n",
    "from transformers.lemmatizer import Lemmatizer\n",
    "from pyspark.ml import Transformer\n",
    "from pyspark.ml.param.shared import HasInputCol, HasOutputCol,TypeConverters\n",
    "from pyspark.ml.util import DefaultParamsWritable, DefaultParamsReadable\n",
    "from pyspark.ml.param import Param, Params\n",
    "from pyspark.sql.types import ArrayType, StringType,IntegerType,StructField,StructType\n",
    "from nltk.stem import WordNetLemmatizer\n",
    "from pyspark import keyword_only\n",
    "from pyspark.conf import SparkConf\n",
    "import nltk\n",
    "from bs4 import BeautifulSoup\n",
    "import psycopg2\n",
    "import json\n",
    "from sqlalchemy import create_engine\n",
    "import pandas as pd"
   ]
  }
 ],
 "metadata": {
  "kernelspec": {
   "display_name": "Python 3 (ipykernel)",
   "language": "python",
   "name": "python3"
  },
  "language_info": {
   "codemirror_mode": {
    "name": "ipython",
    "version": 3
   },
   "file_extension": ".py",
   "mimetype": "text/x-python",
   "name": "python",
   "nbconvert_exporter": "python",
   "pygments_lexer": "ipython3",
   "version": "3.11.4"
  }
 },
 "nbformat": 4,
 "nbformat_minor": 5
}
