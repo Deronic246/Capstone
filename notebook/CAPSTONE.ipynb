{
 "cells": [
  {
   "cell_type": "markdown",
   "id": "5d6373e7",
   "metadata": {},
   "source": [
    "##### Problem\n",
    "The problem at hand is a decrease in customer satisfaction, leading to concerns about customer retention and loyalty. Amazon has observed a decline in customer satisfaction scores, an increase in negative customer feedback. The goal of this data science project is to understand the root causes of the declining customer satisfaction and develop actionable insights and recommendations to address the issue effectively."
   ]
  },
  {
   "cell_type": "markdown",
   "id": "78edfae2",
   "metadata": {},
   "source": [
    "##### Business Objectives\n",
    "\n",
    "- Personalize recommendations and product offerings to increase customer engagement and sales.\n",
    "- Optimize Customer Purchasing Experience by filtering out fake reviews\n",
    "- Enhance the quality of existing products to improve customers perception of the company thereby fostering customer loyalty and repeat purchases"
   ]
  },
  {
   "cell_type": "markdown",
   "id": "91954397",
   "metadata": {},
   "source": [
    "##### Research Objectives\n",
    "\n",
    "- To analyze product quality issues to gauge main pain points that customers deal with when interacting with the platform\n",
    "\n",
    "- To develop a model to classify fake or manipulated reviews within the dataset \n",
    "\n",
    "- To investigate the impact of incorporating review text, on the performance of the product recommendation system.\n"
   ]
  },
  {
   "cell_type": "code",
   "execution_count": 29,
   "id": "34a341e8",
   "metadata": {},
   "outputs": [],
   "source": [
    "#Import Libraries\n",
    "import time\n",
    "from pyspark.sql import SparkSession,DataFrame\n",
    "import pandas as pd\n",
    "from functools import reduce\n",
    "from pyspark.sql.functions import rand\n",
    "from pyspark.sql.functions import *\n",
    "import pyspark.sql.functions as f\n",
    "from datetime import datetime\n",
    "from pyspark.sql.types import StringType,FloatType,TimestampType,DateType,ArrayType,IntegerType\n",
    "import re\n",
    "import nltk\n",
    "from nltk.corpus import stopwords,wordnet\n",
    "from nltk.tokenize import word_tokenize\n",
    "from pyspark.ml.feature import RegexTokenizer, StopWordsRemover, Tokenizer,CountVectorizer,IDF\\\n",
    ",HashingTF,NGram,BucketedRandomProjectionLSH,Normalizer\n",
    "import seaborn as sns\n",
    "import matplotlib.pyplot as plt\n",
    "import math    \n",
    "from textblob import TextBlob\n",
    "import string\n",
    "from bs4 import BeautifulSoup\n",
    "from nltk.stem import PorterStemmer\n",
    "from nltk.stem.wordnet import WordNetLemmatizer\n",
    "import spacy\n",
    "from scipy.stats import pointbiserialr\n",
    "import plotly.express as px\n",
    "from pyspark.conf import SparkConf\n",
    "import wordcloud \n",
    "from  pyspark.ml import PipelineModel\n",
    "from pyspark.ml.tuning import CrossValidator, ParamGridBuilder,TrainValidationSplit\n",
    "from pyspark.ml.evaluation import RegressionEvaluator,BinaryClassificationEvaluator,MulticlassClassificationEvaluator,\\\n",
    "ClusteringEvaluator\n",
    "from pyspark.ml.clustering import KMeans,BisectingKMeans,KMeansModel\n",
    "from pyspark.ml.classification import NaiveBayes,LinearSVC,RandomForestClassifier,LogisticRegression,DecisionTreeClassifier\n",
    "from pyspark.ml.recommendation import ALS,ALSModel\n",
    "from pyspark.ml import Transformer\n",
    "from pyspark.ml.param import Param, Params\n",
    "from pyspark.ml.param.shared import HasInputCol, HasOutputCol,TypeConverters\n",
    "from pyspark.ml.util import DefaultParamsWritable, DefaultParamsReadable\n",
    "from pyspark import keyword_only\n",
    "from pyspark.ml.linalg import Vectors, VectorUDT\n",
    "from wordcloud import WordCloud, STOPWORDS, ImageColorGenerator\n",
    "from scipy.sparse import coo_matrix\n",
    "from sklearn.metrics.pairwise import cosine_similarity\n",
    "from sklearn.preprocessing import LabelEncoder\n",
    "from sklearn.feature_extraction.text import TfidfVectorizer\n",
    "from sklearn.model_selection import train_test_split\n",
    "from sklearn.neighbors import KNeighborsClassifier\n",
    "from sklearn.metrics import accuracy_score\n",
    "from pyspark.ml.feature import StringIndexer,IndexToString,MinMaxScaler\n",
    "from pyspark.ml import Pipeline\n",
    "from pyspark.ml.linalg import Vectors\n",
    "from pyspark.ml.feature import VectorAssembler,StandardScaler,PCA\n",
    "from pyspark.ml.feature import Normalizer\n",
    "from pyspark.mllib.linalg.distributed import CoordinateMatrix\n",
    "import multiprocessing\n",
    "from textblob import Word\n",
    "import numpy as np\n",
    "from collections import Counter\n",
    "import plotly.graph_objects as go"
   ]
  },
  {
   "cell_type": "code",
   "execution_count": 30,
   "id": "9b449ce4",
   "metadata": {},
   "outputs": [],
   "source": [
    "# Create a SparkSession\n",
    "spark = SparkSession.builder.appName(\"amazonapp\").getOrCreate()\n",
    "\n",
    "# Read the data from a tab-separated values (TSV) file located in a Google Cloud Storage (GCS) bucket\n",
    "\n",
    "# The data contains us customer product reviews from Amazon and is stored in the file amazonReviews1M.tsv\n",
    "\n",
    "#This dataset is a sample of a much larger dataset from kaggle which contains over 100 million rows \n",
    "#(https://www.kaggle.com/datasets/cynthiarempel/amazon-us-customer-reviews-dataset)\n",
    "\n",
    "#The dataset is a random sample of the original dataset\n",
    "df = spark.read.parquet(r\"C:\\Users\\dn10657\\source\\repos\\Capstone\\dataset\\amazonReviewsparquet1M\")"
   ]
  },
  {
   "cell_type": "code",
   "execution_count": 31,
   "id": "a34e1a38",
   "metadata": {},
   "outputs": [
    {
     "data": {
      "text/plain": [
       "1033363"
      ]
     },
     "execution_count": 31,
     "metadata": {},
     "output_type": "execute_result"
    }
   ],
   "source": [
    "#checking the size of the dataset\n",
    "df.count()"
   ]
  },
  {
   "cell_type": "code",
   "execution_count": 32,
   "id": "b1bb4f6a",
   "metadata": {},
   "outputs": [
    {
     "name": "stdout",
     "output_type": "stream",
     "text": [
      "+-----------+-----------+--------------+----------+--------------+--------------------+----------------+-----------+-------------+-----------+----+-----------------+--------------------+--------------------+--------------------+\n",
      "|marketplace|customer_id|     review_id|product_id|product_parent|       product_title|product_category|star_rating|helpful_votes|total_votes|vine|verified_purchase|     review_headline|         review_body|         review_date|\n",
      "+-----------+-----------+--------------+----------+--------------+--------------------+----------------+-----------+-------------+-----------+----+-----------------+--------------------+--------------------+--------------------+\n",
      "|         US|   26524369|R3HH81BIQ3ZZE1|B00SETTZGE|      10327631|RUGGED & DAPPER –...|          Beauty|          3|            6|         11|   N|                Y|Good/great face w...|The face wash is ...|2015-04-25T00:00:...|\n",
      "|         US|   26920430|R2R0NREZG6WG2V|B006XY3Y1Y|      57006252|Tretinoin Microsp...|          Beauty|          4|            1|          1|   N|                Y|         Works Great|Works well on une...|2012-06-08T00:00:...|\n",
      "|         US|   26523163|R1ZYSPZ3LWHVM4|B008QYE40Y|     966404562|Sleek i-Divine St...|          Beauty|          5|            1|          1|   N|                Y|  Wonderful palette!|This eyeshadow pa...|2013-05-26T00:00:...|\n",
      "|         US|    9963368|R3VXVN0I0E1PIV|B004VFXVJW|     806462967|The Shave Well Co...|          Beauty|          5|            1|          1|   N|                Y|    BEST MIRROR EVER|My husband has a ...|2012-02-22T00:00:...|\n",
      "|         US|    2662502|R2H4PHUSEOH4T8|B0009OAHQY|     591505715|Claiborne Cologne...|          Beauty|          5|            1|          1|   N|                Y|          Five Stars|             Love it|2014-11-13T00:00:...|\n",
      "|         US|    6245528|R22G7RLQEI9M8C|B000YJ2SLG|     647055491|CeraVe Facial Moi...|          Beauty|          4|            0|          0|   N|                Y|I love this as a ...|I love this as a ...|2015-06-03T00:00:...|\n",
      "|         US|    5302509|R1WBD4V332E9IC|B0014P8L9W|     124566986|Aztec Secret Indi...|          Beauty|          4|            0|          0|   N|                Y|      Good clay mask|I really like thi...|2013-07-16T00:00:...|\n",
      "|         US|   35196068|R1N9KRZGYC0A19|B00BYE9Y0I|     898797520|Image Prevention ...|          Beauty|          5|            0|          0|   N|                Y|    Love the results|I had this Daily ...|2015-01-06T00:00:...|\n",
      "|         US|   47666180|R20VWKJ3QMJUVR|B00CMXV278|     434502716|Nailwear Pro+ Nai...|          Beauty|          5|            0|          0|   N|                Y|Glad I was able t...|Color shade was a...|2014-05-30T00:00:...|\n",
      "|         US|   12987597|R3O3K0CXSG370J|B004GQZWSE|     751470612|Proraso Eucalyptu...|          Beauty|          1|            0|          2|   N|                Y|It's two of the S...|This isn't a pre ...|2013-12-14T00:00:...|\n",
      "|         US|   45407703|R14QX1VZGZ7W1M|B0012UFEW6|     906466170|Gatsby Moving Rub...|          Beauty|          5|            0|          0|   N|                Y|         Excellence.|This product is f...|2012-07-10T00:00:...|\n",
      "|         US|   21434165|R1QEGGPILCV012|B0018DE6AI|     686314590|Tree Hut Shea Sug...|          Beauty|          4|            0|          0|   N|                Y|This scrub is rea...|This scrub is rea...|2014-07-03T00:00:...|\n",
      "|         US|   50852783|R3U0TT5UX5QP4J|B000KU70GW|     798313859|Clarins Eau Dynam...|          Beauty|          5|            1|          1|   N|                Y|          Five Stars|The scent is amaz...|2015-07-21T00:00:...|\n",
      "|         US|   26040365|R3TJH7ZT7ZVO1J|B009D1IY78|     168376091|Thursday Plantati...|          Beauty|          5|            0|          0|   N|                Y|       Great product|Love it.  Great s...|2015-08-29T00:00:...|\n",
      "|         US|   38989578|R1YKRDRRDOKHA6|B00BFZFVW6|     968468197|Coconut (Fraction...|          Beauty|          5|            0|          0|   N|                Y|         Coconut oil|         Great deal.|2015-01-20T00:00:...|\n",
      "|         US|   52615360| RU56SXFX2V66F|B00NR1YQHM|     364147747|Neutrogena Hydro ...|          Beauty|          5|            0|          1|   N|                Y|          Five Stars|           wonderful|2015-03-21T00:00:...|\n",
      "|         US|   11798236|R3MGC8EY9POBRK|B0052YFCSO|     306376270|The Bare Pair Kin...|          Beauty|          4|            1|          1|   N|                Y|It works but mayb...|I read the instru...|2013-03-14T00:00:...|\n",
      "|         US|     878683|R26AGMOUZKTBMW|B00R42PXM2|     534022069|Anself 2pcs 50ml ...|          Beauty|          2|            0|          0|   N|                Y|           Two Stars|             1 spoil|2015-05-18T00:00:...|\n",
      "|         US|   43842946|R1XE4R1YAPKILJ|B0077CTXZ2|      20838632|6pc Harry Potter ...|          Beauty|          5|            0|          0|   N|                Y|   Dark Mark Tattoos|Really nice tempo...|2013-01-02T00:00:...|\n",
      "|         US|   30922007|R15X0WC2HTYTPF|B00CVL860W|     167214755|abcOralCare, New ...|          Beauty|          5|            5|          5|   N|                Y|       soft and safe|Good toothbrushes...|2014-02-18T00:00:...|\n",
      "+-----------+-----------+--------------+----------+--------------+--------------------+----------------+-----------+-------------+-----------+----+-----------------+--------------------+--------------------+--------------------+\n",
      "only showing top 20 rows\n",
      "\n"
     ]
    }
   ],
   "source": [
    "df.show()"
   ]
  },
  {
   "cell_type": "code",
   "execution_count": 33,
   "id": "2d20bd8e",
   "metadata": {
    "scrolled": true
   },
   "outputs": [],
   "source": [
    "#The data contains customer product reviews from Amazon with each review having a class column where \"0\" \n",
    "#indicates not spam and \"1\" indicates spam reviews.\n",
    "\n",
    "#dataset was sourced from https://www.kaggle.com/datasets/naveedhn/amazon-product-review-spam-and-non-spam\n",
    "spam_df = spark.read.parquet(r\"C:\\Users\\dn10657\\source\\repos\\Capstone\\dataset\\spam_dataset_parquet\") \n"
   ]
  },
  {
   "cell_type": "code",
   "execution_count": 34,
   "id": "bb0bf0af",
   "metadata": {},
   "outputs": [
    {
     "data": {
      "text/html": [
       "<div>\n",
       "<style scoped>\n",
       "    .dataframe tbody tr th:only-of-type {\n",
       "        vertical-align: middle;\n",
       "    }\n",
       "\n",
       "    .dataframe tbody tr th {\n",
       "        vertical-align: top;\n",
       "    }\n",
       "\n",
       "    .dataframe thead th {\n",
       "        text-align: right;\n",
       "    }\n",
       "</style>\n",
       "<table border=\"1\" class=\"dataframe\">\n",
       "  <thead>\n",
       "    <tr style=\"text-align: right;\">\n",
       "      <th></th>\n",
       "      <th>_id</th>\n",
       "      <th>asin</th>\n",
       "      <th>category</th>\n",
       "      <th>class</th>\n",
       "      <th>helpful</th>\n",
       "      <th>overall</th>\n",
       "      <th>reviewText</th>\n",
       "      <th>reviewTime</th>\n",
       "      <th>reviewerID</th>\n",
       "      <th>reviewerName</th>\n",
       "      <th>summary</th>\n",
       "      <th>unixReviewTime</th>\n",
       "    </tr>\n",
       "  </thead>\n",
       "  <tbody>\n",
       "    <tr>\n",
       "      <th>0</th>\n",
       "      <td>(5a132773741a2384e84b883e,)</td>\n",
       "      <td>B000AAYBZ0</td>\n",
       "      <td>Sports_and_Outdoors</td>\n",
       "      <td>1.0</td>\n",
       "      <td>[0, 0]</td>\n",
       "      <td>4.0</td>\n",
       "      <td>I advise you to read all of the reviews of the...</td>\n",
       "      <td>03 31, 2009</td>\n",
       "      <td>A34IJACMU8C3IM</td>\n",
       "      <td>Rob W. \"Sounddude\"</td>\n",
       "      <td>Good Seat Bag For The Money!</td>\n",
       "      <td>1238457600</td>\n",
       "    </tr>\n",
       "    <tr>\n",
       "      <th>1</th>\n",
       "      <td>(5a132773741a2384e84b884a,)</td>\n",
       "      <td>B000AAYBZ0</td>\n",
       "      <td>Sports_and_Outdoors</td>\n",
       "      <td>0.0</td>\n",
       "      <td>[2, 14]</td>\n",
       "      <td>1.0</td>\n",
       "      <td>I  can't figure the thing out.  How does it mo...</td>\n",
       "      <td>04 21, 2008</td>\n",
       "      <td>AM779PE0NTAEK</td>\n",
       "      <td>Thomas C. Ardoline</td>\n",
       "      <td>stuck riding</td>\n",
       "      <td>1208736000</td>\n",
       "    </tr>\n",
       "    <tr>\n",
       "      <th>2</th>\n",
       "      <td>(5a132773741a2384e84b886a,)</td>\n",
       "      <td>B000AAYC5O</td>\n",
       "      <td>Sports_and_Outdoors</td>\n",
       "      <td>0.0</td>\n",
       "      <td>[2, 2]</td>\n",
       "      <td>1.0</td>\n",
       "      <td>Made of cheap plastic and will not support the...</td>\n",
       "      <td>08 25, 2012</td>\n",
       "      <td>A2FU8Y7IE3K84K</td>\n",
       "      <td>Tom S</td>\n",
       "      <td>Not worth the money</td>\n",
       "      <td>1345852800</td>\n",
       "    </tr>\n",
       "    <tr>\n",
       "      <th>3</th>\n",
       "      <td>(5a132773741a2384e84b8874,)</td>\n",
       "      <td>B000AAYC6I</td>\n",
       "      <td>Sports_and_Outdoors</td>\n",
       "      <td>1.0</td>\n",
       "      <td>[1, 1]</td>\n",
       "      <td>5.0</td>\n",
       "      <td>Easy to put together.Sturdy.Great for the gara...</td>\n",
       "      <td>06 19, 2011</td>\n",
       "      <td>A13E8WQH3FFQL0</td>\n",
       "      <td>honeycombcandles</td>\n",
       "      <td>Bike Rack</td>\n",
       "      <td>1308441600</td>\n",
       "    </tr>\n",
       "    <tr>\n",
       "      <th>4</th>\n",
       "      <td>(5a132773741a2384e84b888a,)</td>\n",
       "      <td>B000AAYC72</td>\n",
       "      <td>Sports_and_Outdoors</td>\n",
       "      <td>1.0</td>\n",
       "      <td>[4, 4]</td>\n",
       "      <td>4.0</td>\n",
       "      <td>I read the reviews about this product before I...</td>\n",
       "      <td>11 19, 2010</td>\n",
       "      <td>A3ED6RMQAUMVYR</td>\n",
       "      <td>echapman</td>\n",
       "      <td>Works with bolt ons, fairly quiet, and stable</td>\n",
       "      <td>1290124800</td>\n",
       "    </tr>\n",
       "  </tbody>\n",
       "</table>\n",
       "</div>"
      ],
      "text/plain": [
       "                           _id        asin             category  class  \\\n",
       "0  (5a132773741a2384e84b883e,)  B000AAYBZ0  Sports_and_Outdoors    1.0   \n",
       "1  (5a132773741a2384e84b884a,)  B000AAYBZ0  Sports_and_Outdoors    0.0   \n",
       "2  (5a132773741a2384e84b886a,)  B000AAYC5O  Sports_and_Outdoors    0.0   \n",
       "3  (5a132773741a2384e84b8874,)  B000AAYC6I  Sports_and_Outdoors    1.0   \n",
       "4  (5a132773741a2384e84b888a,)  B000AAYC72  Sports_and_Outdoors    1.0   \n",
       "\n",
       "   helpful  overall                                         reviewText  \\\n",
       "0   [0, 0]      4.0  I advise you to read all of the reviews of the...   \n",
       "1  [2, 14]      1.0  I  can't figure the thing out.  How does it mo...   \n",
       "2   [2, 2]      1.0  Made of cheap plastic and will not support the...   \n",
       "3   [1, 1]      5.0  Easy to put together.Sturdy.Great for the gara...   \n",
       "4   [4, 4]      4.0  I read the reviews about this product before I...   \n",
       "\n",
       "    reviewTime      reviewerID        reviewerName  \\\n",
       "0  03 31, 2009  A34IJACMU8C3IM  Rob W. \"Sounddude\"   \n",
       "1  04 21, 2008   AM779PE0NTAEK  Thomas C. Ardoline   \n",
       "2  08 25, 2012  A2FU8Y7IE3K84K               Tom S   \n",
       "3  06 19, 2011  A13E8WQH3FFQL0    honeycombcandles   \n",
       "4  11 19, 2010  A3ED6RMQAUMVYR            echapman   \n",
       "\n",
       "                                         summary  unixReviewTime  \n",
       "0                   Good Seat Bag For The Money!      1238457600  \n",
       "1                                   stuck riding      1208736000  \n",
       "2                            Not worth the money      1345852800  \n",
       "3                                      Bike Rack      1308441600  \n",
       "4  Works with bolt ons, fairly quiet, and stable      1290124800  "
      ]
     },
     "execution_count": 34,
     "metadata": {},
     "output_type": "execute_result"
    }
   ],
   "source": [
    "spam_df.limit(5).toPandas()"
   ]
  },
  {
   "cell_type": "code",
   "execution_count": 35,
   "id": "dfc57fa2",
   "metadata": {},
   "outputs": [
    {
     "data": {
      "text/plain": [
       "1010113"
      ]
     },
     "execution_count": 35,
     "metadata": {},
     "output_type": "execute_result"
    }
   ],
   "source": [
    "#checking the size of the dataset\n",
    "spam_df.count()"
   ]
  },
  {
   "cell_type": "code",
   "execution_count": 36,
   "id": "49922841",
   "metadata": {},
   "outputs": [
    {
     "data": {
      "text/html": [
       "<div>\n",
       "<style scoped>\n",
       "    .dataframe tbody tr th:only-of-type {\n",
       "        vertical-align: middle;\n",
       "    }\n",
       "\n",
       "    .dataframe tbody tr th {\n",
       "        vertical-align: top;\n",
       "    }\n",
       "\n",
       "    .dataframe thead th {\n",
       "        text-align: right;\n",
       "    }\n",
       "</style>\n",
       "<table border=\"1\" class=\"dataframe\">\n",
       "  <thead>\n",
       "    <tr style=\"text-align: right;\">\n",
       "      <th></th>\n",
       "      <th>_id</th>\n",
       "      <th>asin</th>\n",
       "      <th>category</th>\n",
       "      <th>class</th>\n",
       "      <th>helpful</th>\n",
       "      <th>overall</th>\n",
       "      <th>reviewText</th>\n",
       "      <th>reviewTime</th>\n",
       "      <th>reviewerID</th>\n",
       "      <th>reviewerName</th>\n",
       "      <th>summary</th>\n",
       "      <th>unixReviewTime</th>\n",
       "    </tr>\n",
       "  </thead>\n",
       "  <tbody>\n",
       "    <tr>\n",
       "      <th>0</th>\n",
       "      <td>(5a132773741a2384e84b883e,)</td>\n",
       "      <td>B000AAYBZ0</td>\n",
       "      <td>Sports_and_Outdoors</td>\n",
       "      <td>1.0</td>\n",
       "      <td>[0, 0]</td>\n",
       "      <td>4.0</td>\n",
       "      <td>I advise you to read all of the reviews of the...</td>\n",
       "      <td>03 31, 2009</td>\n",
       "      <td>A34IJACMU8C3IM</td>\n",
       "      <td>Rob W. \"Sounddude\"</td>\n",
       "      <td>Good Seat Bag For The Money!</td>\n",
       "      <td>1238457600</td>\n",
       "    </tr>\n",
       "    <tr>\n",
       "      <th>1</th>\n",
       "      <td>(5a132773741a2384e84b884a,)</td>\n",
       "      <td>B000AAYBZ0</td>\n",
       "      <td>Sports_and_Outdoors</td>\n",
       "      <td>0.0</td>\n",
       "      <td>[2, 14]</td>\n",
       "      <td>1.0</td>\n",
       "      <td>I  can't figure the thing out.  How does it mo...</td>\n",
       "      <td>04 21, 2008</td>\n",
       "      <td>AM779PE0NTAEK</td>\n",
       "      <td>Thomas C. Ardoline</td>\n",
       "      <td>stuck riding</td>\n",
       "      <td>1208736000</td>\n",
       "    </tr>\n",
       "    <tr>\n",
       "      <th>2</th>\n",
       "      <td>(5a132773741a2384e84b886a,)</td>\n",
       "      <td>B000AAYC5O</td>\n",
       "      <td>Sports_and_Outdoors</td>\n",
       "      <td>0.0</td>\n",
       "      <td>[2, 2]</td>\n",
       "      <td>1.0</td>\n",
       "      <td>Made of cheap plastic and will not support the...</td>\n",
       "      <td>08 25, 2012</td>\n",
       "      <td>A2FU8Y7IE3K84K</td>\n",
       "      <td>Tom S</td>\n",
       "      <td>Not worth the money</td>\n",
       "      <td>1345852800</td>\n",
       "    </tr>\n",
       "    <tr>\n",
       "      <th>3</th>\n",
       "      <td>(5a132773741a2384e84b8874,)</td>\n",
       "      <td>B000AAYC6I</td>\n",
       "      <td>Sports_and_Outdoors</td>\n",
       "      <td>1.0</td>\n",
       "      <td>[1, 1]</td>\n",
       "      <td>5.0</td>\n",
       "      <td>Easy to put together.Sturdy.Great for the gara...</td>\n",
       "      <td>06 19, 2011</td>\n",
       "      <td>A13E8WQH3FFQL0</td>\n",
       "      <td>honeycombcandles</td>\n",
       "      <td>Bike Rack</td>\n",
       "      <td>1308441600</td>\n",
       "    </tr>\n",
       "    <tr>\n",
       "      <th>4</th>\n",
       "      <td>(5a132773741a2384e84b888a,)</td>\n",
       "      <td>B000AAYC72</td>\n",
       "      <td>Sports_and_Outdoors</td>\n",
       "      <td>1.0</td>\n",
       "      <td>[4, 4]</td>\n",
       "      <td>4.0</td>\n",
       "      <td>I read the reviews about this product before I...</td>\n",
       "      <td>11 19, 2010</td>\n",
       "      <td>A3ED6RMQAUMVYR</td>\n",
       "      <td>echapman</td>\n",
       "      <td>Works with bolt ons, fairly quiet, and stable</td>\n",
       "      <td>1290124800</td>\n",
       "    </tr>\n",
       "  </tbody>\n",
       "</table>\n",
       "</div>"
      ],
      "text/plain": [
       "                           _id        asin             category  class  \\\n",
       "0  (5a132773741a2384e84b883e,)  B000AAYBZ0  Sports_and_Outdoors    1.0   \n",
       "1  (5a132773741a2384e84b884a,)  B000AAYBZ0  Sports_and_Outdoors    0.0   \n",
       "2  (5a132773741a2384e84b886a,)  B000AAYC5O  Sports_and_Outdoors    0.0   \n",
       "3  (5a132773741a2384e84b8874,)  B000AAYC6I  Sports_and_Outdoors    1.0   \n",
       "4  (5a132773741a2384e84b888a,)  B000AAYC72  Sports_and_Outdoors    1.0   \n",
       "\n",
       "   helpful  overall                                         reviewText  \\\n",
       "0   [0, 0]      4.0  I advise you to read all of the reviews of the...   \n",
       "1  [2, 14]      1.0  I  can't figure the thing out.  How does it mo...   \n",
       "2   [2, 2]      1.0  Made of cheap plastic and will not support the...   \n",
       "3   [1, 1]      5.0  Easy to put together.Sturdy.Great for the gara...   \n",
       "4   [4, 4]      4.0  I read the reviews about this product before I...   \n",
       "\n",
       "    reviewTime      reviewerID        reviewerName  \\\n",
       "0  03 31, 2009  A34IJACMU8C3IM  Rob W. \"Sounddude\"   \n",
       "1  04 21, 2008   AM779PE0NTAEK  Thomas C. Ardoline   \n",
       "2  08 25, 2012  A2FU8Y7IE3K84K               Tom S   \n",
       "3  06 19, 2011  A13E8WQH3FFQL0    honeycombcandles   \n",
       "4  11 19, 2010  A3ED6RMQAUMVYR            echapman   \n",
       "\n",
       "                                         summary  unixReviewTime  \n",
       "0                   Good Seat Bag For The Money!      1238457600  \n",
       "1                                   stuck riding      1208736000  \n",
       "2                            Not worth the money      1345852800  \n",
       "3                                      Bike Rack      1308441600  \n",
       "4  Works with bolt ons, fairly quiet, and stable      1290124800  "
      ]
     },
     "execution_count": 36,
     "metadata": {},
     "output_type": "execute_result"
    }
   ],
   "source": [
    "#taking sample of dataset to see what data is like\n",
    "spam_df.limit(5).toPandas()"
   ]
  },
  {
   "cell_type": "code",
   "execution_count": 37,
   "id": "4e22bdd9",
   "metadata": {},
   "outputs": [
    {
     "data": {
      "text/html": [
       "<div>\n",
       "<style scoped>\n",
       "    .dataframe tbody tr th:only-of-type {\n",
       "        vertical-align: middle;\n",
       "    }\n",
       "\n",
       "    .dataframe tbody tr th {\n",
       "        vertical-align: top;\n",
       "    }\n",
       "\n",
       "    .dataframe thead th {\n",
       "        text-align: right;\n",
       "    }\n",
       "</style>\n",
       "<table border=\"1\" class=\"dataframe\">\n",
       "  <thead>\n",
       "    <tr style=\"text-align: right;\">\n",
       "      <th></th>\n",
       "      <th>_id</th>\n",
       "      <th>asin</th>\n",
       "      <th>category</th>\n",
       "      <th>class</th>\n",
       "      <th>helpful</th>\n",
       "      <th>overall</th>\n",
       "      <th>reviewText</th>\n",
       "      <th>reviewTime</th>\n",
       "      <th>reviewerID</th>\n",
       "      <th>reviewerName</th>\n",
       "      <th>summary</th>\n",
       "      <th>unixReviewTime</th>\n",
       "    </tr>\n",
       "  </thead>\n",
       "  <tbody>\n",
       "    <tr>\n",
       "      <th>0</th>\n",
       "      <td>(5a132773741a2384e84b883e,)</td>\n",
       "      <td>B000AAYBZ0</td>\n",
       "      <td>Sports_and_Outdoors</td>\n",
       "      <td>1.0</td>\n",
       "      <td>[0, 0]</td>\n",
       "      <td>4.0</td>\n",
       "      <td>I advise you to read all of the reviews of the...</td>\n",
       "      <td>03 31, 2009</td>\n",
       "      <td>A34IJACMU8C3IM</td>\n",
       "      <td>Rob W. \"Sounddude\"</td>\n",
       "      <td>Good Seat Bag For The Money!</td>\n",
       "      <td>1238457600</td>\n",
       "    </tr>\n",
       "    <tr>\n",
       "      <th>1</th>\n",
       "      <td>(5a132773741a2384e84b884a,)</td>\n",
       "      <td>B000AAYBZ0</td>\n",
       "      <td>Sports_and_Outdoors</td>\n",
       "      <td>0.0</td>\n",
       "      <td>[2, 14]</td>\n",
       "      <td>1.0</td>\n",
       "      <td>I  can't figure the thing out.  How does it mo...</td>\n",
       "      <td>04 21, 2008</td>\n",
       "      <td>AM779PE0NTAEK</td>\n",
       "      <td>Thomas C. Ardoline</td>\n",
       "      <td>stuck riding</td>\n",
       "      <td>1208736000</td>\n",
       "    </tr>\n",
       "    <tr>\n",
       "      <th>2</th>\n",
       "      <td>(5a132773741a2384e84b886a,)</td>\n",
       "      <td>B000AAYC5O</td>\n",
       "      <td>Sports_and_Outdoors</td>\n",
       "      <td>0.0</td>\n",
       "      <td>[2, 2]</td>\n",
       "      <td>1.0</td>\n",
       "      <td>Made of cheap plastic and will not support the...</td>\n",
       "      <td>08 25, 2012</td>\n",
       "      <td>A2FU8Y7IE3K84K</td>\n",
       "      <td>Tom S</td>\n",
       "      <td>Not worth the money</td>\n",
       "      <td>1345852800</td>\n",
       "    </tr>\n",
       "    <tr>\n",
       "      <th>3</th>\n",
       "      <td>(5a132773741a2384e84b8874,)</td>\n",
       "      <td>B000AAYC6I</td>\n",
       "      <td>Sports_and_Outdoors</td>\n",
       "      <td>1.0</td>\n",
       "      <td>[1, 1]</td>\n",
       "      <td>5.0</td>\n",
       "      <td>Easy to put together.Sturdy.Great for the gara...</td>\n",
       "      <td>06 19, 2011</td>\n",
       "      <td>A13E8WQH3FFQL0</td>\n",
       "      <td>honeycombcandles</td>\n",
       "      <td>Bike Rack</td>\n",
       "      <td>1308441600</td>\n",
       "    </tr>\n",
       "    <tr>\n",
       "      <th>4</th>\n",
       "      <td>(5a132773741a2384e84b888a,)</td>\n",
       "      <td>B000AAYC72</td>\n",
       "      <td>Sports_and_Outdoors</td>\n",
       "      <td>1.0</td>\n",
       "      <td>[4, 4]</td>\n",
       "      <td>4.0</td>\n",
       "      <td>I read the reviews about this product before I...</td>\n",
       "      <td>11 19, 2010</td>\n",
       "      <td>A3ED6RMQAUMVYR</td>\n",
       "      <td>echapman</td>\n",
       "      <td>Works with bolt ons, fairly quiet, and stable</td>\n",
       "      <td>1290124800</td>\n",
       "    </tr>\n",
       "  </tbody>\n",
       "</table>\n",
       "</div>"
      ],
      "text/plain": [
       "                           _id        asin             category  class  \\\n",
       "0  (5a132773741a2384e84b883e,)  B000AAYBZ0  Sports_and_Outdoors    1.0   \n",
       "1  (5a132773741a2384e84b884a,)  B000AAYBZ0  Sports_and_Outdoors    0.0   \n",
       "2  (5a132773741a2384e84b886a,)  B000AAYC5O  Sports_and_Outdoors    0.0   \n",
       "3  (5a132773741a2384e84b8874,)  B000AAYC6I  Sports_and_Outdoors    1.0   \n",
       "4  (5a132773741a2384e84b888a,)  B000AAYC72  Sports_and_Outdoors    1.0   \n",
       "\n",
       "   helpful  overall                                         reviewText  \\\n",
       "0   [0, 0]      4.0  I advise you to read all of the reviews of the...   \n",
       "1  [2, 14]      1.0  I  can't figure the thing out.  How does it mo...   \n",
       "2   [2, 2]      1.0  Made of cheap plastic and will not support the...   \n",
       "3   [1, 1]      5.0  Easy to put together.Sturdy.Great for the gara...   \n",
       "4   [4, 4]      4.0  I read the reviews about this product before I...   \n",
       "\n",
       "    reviewTime      reviewerID        reviewerName  \\\n",
       "0  03 31, 2009  A34IJACMU8C3IM  Rob W. \"Sounddude\"   \n",
       "1  04 21, 2008   AM779PE0NTAEK  Thomas C. Ardoline   \n",
       "2  08 25, 2012  A2FU8Y7IE3K84K               Tom S   \n",
       "3  06 19, 2011  A13E8WQH3FFQL0    honeycombcandles   \n",
       "4  11 19, 2010  A3ED6RMQAUMVYR            echapman   \n",
       "\n",
       "                                         summary  unixReviewTime  \n",
       "0                   Good Seat Bag For The Money!      1238457600  \n",
       "1                                   stuck riding      1208736000  \n",
       "2                            Not worth the money      1345852800  \n",
       "3                                      Bike Rack      1308441600  \n",
       "4  Works with bolt ons, fairly quiet, and stable      1290124800  "
      ]
     },
     "execution_count": 37,
     "metadata": {},
     "output_type": "execute_result"
    }
   ],
   "source": [
    "spam_df.limit(5).toPandas()"
   ]
  },
  {
   "cell_type": "code",
   "execution_count": 38,
   "id": "c4ce0ccc",
   "metadata": {},
   "outputs": [],
   "source": [
    "#function that gets the shape of data set (number of rows and columns)\n",
    "def shape(df):\n",
    "    # Get the number of rows\n",
    "    num_rows = df.count()\n",
    "\n",
    "    # Get the number of columns\n",
    "    num_cols = len(df.columns)\n",
    "\n",
    "    # Print the shape of the DataFrame\n",
    "    print(f\"Shape: ({num_rows}, {num_cols})\")"
   ]
  },
  {
   "cell_type": "code",
   "execution_count": 39,
   "id": "f0f14a14",
   "metadata": {},
   "outputs": [
    {
     "name": "stdout",
     "output_type": "stream",
     "text": [
      "Shape: (1010113, 12)\n"
     ]
    }
   ],
   "source": [
    "shape(spam_df)"
   ]
  },
  {
   "cell_type": "code",
   "execution_count": 40,
   "id": "5b64d894",
   "metadata": {},
   "outputs": [
    {
     "name": "stdout",
     "output_type": "stream",
     "text": [
      "Shape: (1033363, 15)\n"
     ]
    }
   ],
   "source": [
    "shape(df)"
   ]
  },
  {
   "cell_type": "code",
   "execution_count": 41,
   "id": "7d2d0597",
   "metadata": {
    "scrolled": false
   },
   "outputs": [
    {
     "data": {
      "text/html": [
       "<div>\n",
       "<style scoped>\n",
       "    .dataframe tbody tr th:only-of-type {\n",
       "        vertical-align: middle;\n",
       "    }\n",
       "\n",
       "    .dataframe tbody tr th {\n",
       "        vertical-align: top;\n",
       "    }\n",
       "\n",
       "    .dataframe thead th {\n",
       "        text-align: right;\n",
       "    }\n",
       "</style>\n",
       "<table border=\"1\" class=\"dataframe\">\n",
       "  <thead>\n",
       "    <tr style=\"text-align: right;\">\n",
       "      <th></th>\n",
       "      <th>marketplace</th>\n",
       "      <th>customer_id</th>\n",
       "      <th>review_id</th>\n",
       "      <th>product_id</th>\n",
       "      <th>product_parent</th>\n",
       "      <th>product_title</th>\n",
       "      <th>product_category</th>\n",
       "      <th>star_rating</th>\n",
       "      <th>helpful_votes</th>\n",
       "      <th>total_votes</th>\n",
       "      <th>vine</th>\n",
       "      <th>verified_purchase</th>\n",
       "      <th>review_headline</th>\n",
       "      <th>review_body</th>\n",
       "      <th>review_date</th>\n",
       "    </tr>\n",
       "  </thead>\n",
       "  <tbody>\n",
       "    <tr>\n",
       "      <th>0</th>\n",
       "      <td>US</td>\n",
       "      <td>26524369</td>\n",
       "      <td>R3HH81BIQ3ZZE1</td>\n",
       "      <td>B00SETTZGE</td>\n",
       "      <td>10327631</td>\n",
       "      <td>RUGGED &amp; DAPPER – Facial Cleanser for Men – 8 ...</td>\n",
       "      <td>Beauty</td>\n",
       "      <td>3</td>\n",
       "      <td>6</td>\n",
       "      <td>11</td>\n",
       "      <td>N</td>\n",
       "      <td>Y</td>\n",
       "      <td>Good/great face wash, poor bottle design</td>\n",
       "      <td>The face wash is great. My skin feels differen...</td>\n",
       "      <td>2015-04-25T00:00:00.000Z</td>\n",
       "    </tr>\n",
       "    <tr>\n",
       "      <th>1</th>\n",
       "      <td>US</td>\n",
       "      <td>26920430</td>\n",
       "      <td>R2R0NREZG6WG2V</td>\n",
       "      <td>B006XY3Y1Y</td>\n",
       "      <td>57006252</td>\n",
       "      <td>Tretinoin Microsphere 0.1% USP w/w 20g</td>\n",
       "      <td>Beauty</td>\n",
       "      <td>4</td>\n",
       "      <td>1</td>\n",
       "      <td>1</td>\n",
       "      <td>N</td>\n",
       "      <td>Y</td>\n",
       "      <td>Works Great</td>\n",
       "      <td>Works well on uneven skin tone, melasma, sun s...</td>\n",
       "      <td>2012-06-08T00:00:00.000Z</td>\n",
       "    </tr>\n",
       "    <tr>\n",
       "      <th>2</th>\n",
       "      <td>US</td>\n",
       "      <td>26523163</td>\n",
       "      <td>R1ZYSPZ3LWHVM4</td>\n",
       "      <td>B008QYE40Y</td>\n",
       "      <td>966404562</td>\n",
       "      <td>Sleek i-Divine Storm Palette Mineral based Eye...</td>\n",
       "      <td>Beauty</td>\n",
       "      <td>5</td>\n",
       "      <td>1</td>\n",
       "      <td>1</td>\n",
       "      <td>N</td>\n",
       "      <td>Y</td>\n",
       "      <td>Wonderful palette!</td>\n",
       "      <td>This eyeshadow palette is wonderful! The color...</td>\n",
       "      <td>2013-05-26T00:00:00.000Z</td>\n",
       "    </tr>\n",
       "    <tr>\n",
       "      <th>3</th>\n",
       "      <td>US</td>\n",
       "      <td>9963368</td>\n",
       "      <td>R3VXVN0I0E1PIV</td>\n",
       "      <td>B004VFXVJW</td>\n",
       "      <td>806462967</td>\n",
       "      <td>The Shave Well Company a TRULY FOG FREE Shower...</td>\n",
       "      <td>Beauty</td>\n",
       "      <td>5</td>\n",
       "      <td>1</td>\n",
       "      <td>1</td>\n",
       "      <td>N</td>\n",
       "      <td>Y</td>\n",
       "      <td>BEST MIRROR EVER</td>\n",
       "      <td>My husband has a very rough beard and therefor...</td>\n",
       "      <td>2012-02-22T00:00:00.000Z</td>\n",
       "    </tr>\n",
       "    <tr>\n",
       "      <th>4</th>\n",
       "      <td>US</td>\n",
       "      <td>2662502</td>\n",
       "      <td>R2H4PHUSEOH4T8</td>\n",
       "      <td>B0009OAHQY</td>\n",
       "      <td>591505715</td>\n",
       "      <td>Claiborne Cologne by Liz Claiborne for men Col...</td>\n",
       "      <td>Beauty</td>\n",
       "      <td>5</td>\n",
       "      <td>1</td>\n",
       "      <td>1</td>\n",
       "      <td>N</td>\n",
       "      <td>Y</td>\n",
       "      <td>Five Stars</td>\n",
       "      <td>Love it</td>\n",
       "      <td>2014-11-13T00:00:00.000Z</td>\n",
       "    </tr>\n",
       "  </tbody>\n",
       "</table>\n",
       "</div>"
      ],
      "text/plain": [
       "  marketplace customer_id       review_id  product_id product_parent  \\\n",
       "0          US    26524369  R3HH81BIQ3ZZE1  B00SETTZGE       10327631   \n",
       "1          US    26920430  R2R0NREZG6WG2V  B006XY3Y1Y       57006252   \n",
       "2          US    26523163  R1ZYSPZ3LWHVM4  B008QYE40Y      966404562   \n",
       "3          US     9963368  R3VXVN0I0E1PIV  B004VFXVJW      806462967   \n",
       "4          US     2662502  R2H4PHUSEOH4T8  B0009OAHQY      591505715   \n",
       "\n",
       "                                       product_title product_category  \\\n",
       "0  RUGGED & DAPPER – Facial Cleanser for Men – 8 ...           Beauty   \n",
       "1             Tretinoin Microsphere 0.1% USP w/w 20g           Beauty   \n",
       "2  Sleek i-Divine Storm Palette Mineral based Eye...           Beauty   \n",
       "3  The Shave Well Company a TRULY FOG FREE Shower...           Beauty   \n",
       "4  Claiborne Cologne by Liz Claiborne for men Col...           Beauty   \n",
       "\n",
       "  star_rating helpful_votes total_votes vine verified_purchase  \\\n",
       "0           3             6          11    N                 Y   \n",
       "1           4             1           1    N                 Y   \n",
       "2           5             1           1    N                 Y   \n",
       "3           5             1           1    N                 Y   \n",
       "4           5             1           1    N                 Y   \n",
       "\n",
       "                            review_headline  \\\n",
       "0  Good/great face wash, poor bottle design   \n",
       "1                               Works Great   \n",
       "2                        Wonderful palette!   \n",
       "3                          BEST MIRROR EVER   \n",
       "4                                Five Stars   \n",
       "\n",
       "                                         review_body               review_date  \n",
       "0  The face wash is great. My skin feels differen...  2015-04-25T00:00:00.000Z  \n",
       "1  Works well on uneven skin tone, melasma, sun s...  2012-06-08T00:00:00.000Z  \n",
       "2  This eyeshadow palette is wonderful! The color...  2013-05-26T00:00:00.000Z  \n",
       "3  My husband has a very rough beard and therefor...  2012-02-22T00:00:00.000Z  \n",
       "4                                            Love it  2014-11-13T00:00:00.000Z  "
      ]
     },
     "execution_count": 41,
     "metadata": {},
     "output_type": "execute_result"
    }
   ],
   "source": [
    "df.limit(5).toPandas()"
   ]
  },
  {
   "cell_type": "code",
   "execution_count": 42,
   "id": "48e2edc2",
   "metadata": {},
   "outputs": [],
   "source": [
    "#shows missing values for all columns\n",
    "def showMissingValues(df):\n",
    "    print('\\nMissing values:')\n",
    "    # Iterate over each column and print the name and count of missing values\n",
    "    for c in df.columns:\n",
    "        null_count = df.select(count(when(col(c).isNull(), c))).collect()[0][0]    \n",
    "        print(\"{}: {}\".format(c, null_count))"
   ]
  },
  {
   "cell_type": "code",
   "execution_count": 43,
   "id": "3c97af13",
   "metadata": {},
   "outputs": [],
   "source": [
    "#shows missing values for specific column\n",
    "def showMissingValuesByCol(colName,df):\n",
    "    print('\\nMissing values:')\n",
    "    null_count = df.select(count(when(col(colName).isNull(),colName))).collect()[0][0]    \n",
    "    print(\"{}: {}\".format(colName, null_count))"
   ]
  },
  {
   "cell_type": "code",
   "execution_count": 44,
   "id": "b61c0726",
   "metadata": {},
   "outputs": [],
   "source": [
    "#shows rows where specific column is null\n",
    "def showPandasDFOfNullRows(colName, df, limit):\n",
    "    null_rows = df.filter(isnull(df[colName]))\n",
    "    random_null_rows = null_rows.orderBy(rand()).limit(limit)\n",
    "    return random_null_rows.toPandas()"
   ]
  },
  {
   "cell_type": "code",
   "execution_count": 45,
   "id": "185f0d43",
   "metadata": {
    "scrolled": false
   },
   "outputs": [
    {
     "name": "stdout",
     "output_type": "stream",
     "text": [
      "\n",
      "Missing values:\n",
      "marketplace: 0\n",
      "customer_id: 0\n",
      "review_id: 0\n",
      "product_id: 0\n",
      "product_parent: 0\n",
      "product_title: 0\n",
      "product_category: 9\n",
      "star_rating: 9\n",
      "helpful_votes: 9\n",
      "total_votes: 9\n",
      "vine: 9\n",
      "verified_purchase: 9\n",
      "review_headline: 69\n",
      "review_body: 117\n",
      "review_date: 73\n"
     ]
    }
   ],
   "source": [
    "showMissingValues(df)"
   ]
  },
  {
   "cell_type": "code",
   "execution_count": 46,
   "id": "63317bb4",
   "metadata": {},
   "outputs": [
    {
     "name": "stdout",
     "output_type": "stream",
     "text": [
      "\n",
      "Missing values:\n",
      "_id: 0\n",
      "asin: 0\n",
      "category: 0\n",
      "class: 0\n",
      "helpful: 0\n",
      "overall: 0\n",
      "reviewText: 0\n",
      "reviewTime: 0\n",
      "reviewerID: 0\n",
      "reviewerName: 8066\n",
      "summary: 0\n",
      "unixReviewTime: 0\n"
     ]
    }
   ],
   "source": [
    "showMissingValues(spam_df)"
   ]
  },
  {
   "cell_type": "code",
   "execution_count": 47,
   "id": "d7e7a9f2",
   "metadata": {},
   "outputs": [
    {
     "data": {
      "text/plain": [
       "['_id',\n",
       " 'asin',\n",
       " 'category',\n",
       " 'class',\n",
       " 'helpful',\n",
       " 'overall',\n",
       " 'reviewText',\n",
       " 'reviewTime',\n",
       " 'reviewerID',\n",
       " 'reviewerName',\n",
       " 'summary',\n",
       " 'unixReviewTime']"
      ]
     },
     "execution_count": 47,
     "metadata": {},
     "output_type": "execute_result"
    }
   ],
   "source": [
    "#gets all the column names in dataset\n",
    "spam_df.columns"
   ]
  },
  {
   "cell_type": "code",
   "execution_count": 48,
   "id": "b43b3e78",
   "metadata": {
    "scrolled": true
   },
   "outputs": [
    {
     "data": {
      "text/plain": [
       "['marketplace',\n",
       " 'customer_id',\n",
       " 'review_id',\n",
       " 'product_id',\n",
       " 'product_parent',\n",
       " 'product_title',\n",
       " 'product_category',\n",
       " 'star_rating',\n",
       " 'helpful_votes',\n",
       " 'total_votes',\n",
       " 'vine',\n",
       " 'verified_purchase',\n",
       " 'review_headline',\n",
       " 'review_body',\n",
       " 'review_date']"
      ]
     },
     "execution_count": 48,
     "metadata": {},
     "output_type": "execute_result"
    }
   ],
   "source": [
    "#gets all the column names in dataset\n",
    "df.columns"
   ]
  },
  {
   "cell_type": "code",
   "execution_count": 49,
   "id": "feb1c5ac",
   "metadata": {
    "scrolled": false
   },
   "outputs": [
    {
     "name": "stdout",
     "output_type": "stream",
     "text": [
      "Data types:\n",
      "[('marketplace', 'string'), ('customer_id', 'string'), ('review_id', 'string'), ('product_id', 'string'), ('product_parent', 'string'), ('product_title', 'string'), ('product_category', 'string'), ('star_rating', 'string'), ('helpful_votes', 'string'), ('total_votes', 'string'), ('vine', 'string'), ('verified_purchase', 'string'), ('review_headline', 'string'), ('review_body', 'string'), ('review_date', 'string')]\n"
     ]
    }
   ],
   "source": [
    "# Check the data types\n",
    "print('Data types:')\n",
    "print(df.dtypes)\n",
    "\n"
   ]
  },
  {
   "cell_type": "code",
   "execution_count": 50,
   "id": "efa68a5a",
   "metadata": {},
   "outputs": [
    {
     "name": "stdout",
     "output_type": "stream",
     "text": [
      "Data types:\n",
      "[('_id', 'struct<$oid:string>'), ('asin', 'string'), ('category', 'string'), ('class', 'double'), ('helpful', 'array<bigint>'), ('overall', 'double'), ('reviewText', 'string'), ('reviewTime', 'string'), ('reviewerID', 'string'), ('reviewerName', 'string'), ('summary', 'string'), ('unixReviewTime', 'bigint')]\n"
     ]
    }
   ],
   "source": [
    "# Check the data types\n",
    "print('Data types:')\n",
    "print(spam_df.dtypes)"
   ]
  },
  {
   "cell_type": "code",
   "execution_count": 51,
   "id": "ff47367e",
   "metadata": {},
   "outputs": [
    {
     "name": "stdout",
     "output_type": "stream",
     "text": [
      "root\n",
      " |-- marketplace: string (nullable = true)\n",
      " |-- customer_id: string (nullable = true)\n",
      " |-- review_id: string (nullable = true)\n",
      " |-- product_id: string (nullable = true)\n",
      " |-- product_parent: string (nullable = true)\n",
      " |-- product_title: string (nullable = true)\n",
      " |-- product_category: string (nullable = true)\n",
      " |-- star_rating: string (nullable = true)\n",
      " |-- helpful_votes: string (nullable = true)\n",
      " |-- total_votes: string (nullable = true)\n",
      " |-- vine: string (nullable = true)\n",
      " |-- verified_purchase: string (nullable = true)\n",
      " |-- review_headline: string (nullable = true)\n",
      " |-- review_body: string (nullable = true)\n",
      " |-- review_date: string (nullable = true)\n",
      "\n"
     ]
    }
   ],
   "source": [
    "df.printSchema()"
   ]
  },
  {
   "cell_type": "code",
   "execution_count": 52,
   "id": "2c4a4fb6",
   "metadata": {},
   "outputs": [
    {
     "name": "stdout",
     "output_type": "stream",
     "text": [
      "root\n",
      " |-- _id: struct (nullable = true)\n",
      " |    |-- $oid: string (nullable = true)\n",
      " |-- asin: string (nullable = true)\n",
      " |-- category: string (nullable = true)\n",
      " |-- class: double (nullable = true)\n",
      " |-- helpful: array (nullable = true)\n",
      " |    |-- element: long (containsNull = true)\n",
      " |-- overall: double (nullable = true)\n",
      " |-- reviewText: string (nullable = true)\n",
      " |-- reviewTime: string (nullable = true)\n",
      " |-- reviewerID: string (nullable = true)\n",
      " |-- reviewerName: string (nullable = true)\n",
      " |-- summary: string (nullable = true)\n",
      " |-- unixReviewTime: long (nullable = true)\n",
      "\n"
     ]
    }
   ],
   "source": [
    "spam_df.printSchema()\n"
   ]
  },
  {
   "cell_type": "code",
   "execution_count": 53,
   "id": "b5112cd1",
   "metadata": {},
   "outputs": [
    {
     "data": {
      "text/html": [
       "<div>\n",
       "<style scoped>\n",
       "    .dataframe tbody tr th:only-of-type {\n",
       "        vertical-align: middle;\n",
       "    }\n",
       "\n",
       "    .dataframe tbody tr th {\n",
       "        vertical-align: top;\n",
       "    }\n",
       "\n",
       "    .dataframe thead th {\n",
       "        text-align: right;\n",
       "    }\n",
       "</style>\n",
       "<table border=\"1\" class=\"dataframe\">\n",
       "  <thead>\n",
       "    <tr style=\"text-align: right;\">\n",
       "      <th></th>\n",
       "      <th>summary</th>\n",
       "      <th>star_rating</th>\n",
       "      <th>helpful_votes</th>\n",
       "      <th>total_votes</th>\n",
       "    </tr>\n",
       "  </thead>\n",
       "  <tbody>\n",
       "    <tr>\n",
       "      <th>0</th>\n",
       "      <td>count</td>\n",
       "      <td>1033354</td>\n",
       "      <td>1033354</td>\n",
       "      <td>1033354</td>\n",
       "    </tr>\n",
       "    <tr>\n",
       "      <th>1</th>\n",
       "      <td>mean</td>\n",
       "      <td>4.15050505441504</td>\n",
       "      <td>2.16458541796906</td>\n",
       "      <td>2.8719161100648956</td>\n",
       "    </tr>\n",
       "    <tr>\n",
       "      <th>2</th>\n",
       "      <td>stddev</td>\n",
       "      <td>1.305044384231812</td>\n",
       "      <td>21.947333910851263</td>\n",
       "      <td>23.990776655808123</td>\n",
       "    </tr>\n",
       "    <tr>\n",
       "      <th>3</th>\n",
       "      <td>min</td>\n",
       "      <td>1</td>\n",
       "      <td>0</td>\n",
       "      <td>0</td>\n",
       "    </tr>\n",
       "    <tr>\n",
       "      <th>4</th>\n",
       "      <td>max</td>\n",
       "      <td>5</td>\n",
       "      <td>993</td>\n",
       "      <td>99</td>\n",
       "    </tr>\n",
       "  </tbody>\n",
       "</table>\n",
       "</div>"
      ],
      "text/plain": [
       "  summary        star_rating       helpful_votes         total_votes\n",
       "0   count            1033354             1033354             1033354\n",
       "1    mean   4.15050505441504    2.16458541796906  2.8719161100648956\n",
       "2  stddev  1.305044384231812  21.947333910851263  23.990776655808123\n",
       "3     min                  1                   0                   0\n",
       "4     max                  5                 993                  99"
      ]
     },
     "execution_count": 53,
     "metadata": {},
     "output_type": "execute_result"
    }
   ],
   "source": [
    "# Use describe() to get summary statistics\n",
    "summary = df.describe()\n",
    "\n",
    "# Show the summary\n",
    "summary.select(\"summary\",\"star_rating\",\"helpful_votes\",\"total_votes\").toPandas()"
   ]
  },
  {
   "cell_type": "code",
   "execution_count": 58,
   "id": "4653acf4",
   "metadata": {},
   "outputs": [
    {
     "data": {
      "text/html": [
       "<div>\n",
       "<style scoped>\n",
       "    .dataframe tbody tr th:only-of-type {\n",
       "        vertical-align: middle;\n",
       "    }\n",
       "\n",
       "    .dataframe tbody tr th {\n",
       "        vertical-align: top;\n",
       "    }\n",
       "\n",
       "    .dataframe thead th {\n",
       "        text-align: right;\n",
       "    }\n",
       "</style>\n",
       "<table border=\"1\" class=\"dataframe\">\n",
       "  <thead>\n",
       "    <tr style=\"text-align: right;\">\n",
       "      <th></th>\n",
       "      <th>summary</th>\n",
       "      <th>class</th>\n",
       "      <th>overall</th>\n",
       "    </tr>\n",
       "  </thead>\n",
       "  <tbody>\n",
       "    <tr>\n",
       "      <th>0</th>\n",
       "      <td>count</td>\n",
       "      <td>1010113</td>\n",
       "      <td>1010113</td>\n",
       "    </tr>\n",
       "    <tr>\n",
       "      <th>1</th>\n",
       "      <td>mean</td>\n",
       "      <td>0.7775536004387628</td>\n",
       "      <td>4.1291528769553505</td>\n",
       "    </tr>\n",
       "    <tr>\n",
       "      <th>2</th>\n",
       "      <td>stddev</td>\n",
       "      <td>0.415889612897432</td>\n",
       "      <td>1.2905134894886963</td>\n",
       "    </tr>\n",
       "    <tr>\n",
       "      <th>3</th>\n",
       "      <td>min</td>\n",
       "      <td>0.0</td>\n",
       "      <td>1.0</td>\n",
       "    </tr>\n",
       "    <tr>\n",
       "      <th>4</th>\n",
       "      <td>max</td>\n",
       "      <td>1.0</td>\n",
       "      <td>5.0</td>\n",
       "    </tr>\n",
       "  </tbody>\n",
       "</table>\n",
       "</div>"
      ],
      "text/plain": [
       "  summary               class             overall\n",
       "0   count             1010113             1010113\n",
       "1    mean  0.7775536004387628  4.1291528769553505\n",
       "2  stddev   0.415889612897432  1.2905134894886963\n",
       "3     min                 0.0                 1.0\n",
       "4     max                 1.0                 5.0"
      ]
     },
     "execution_count": 58,
     "metadata": {},
     "output_type": "execute_result"
    }
   ],
   "source": [
    "# Use describe() to get summary statistics\n",
    "summary = spam_df.select(\"class\",\"overall\").describe()\n",
    "\n",
    "# Show the summary\n",
    "summary.toPandas()\n",
    "#summary.show()"
   ]
  },
  {
   "cell_type": "markdown",
   "id": "bd63dd5d",
   "metadata": {},
   "source": [
    "**Data Exploration Amazon Spam Reviews Dataset**"
   ]
  },
  {
   "cell_type": "code",
   "execution_count": null,
   "id": "05d343ac",
   "metadata": {
    "scrolled": false
   },
   "outputs": [],
   "source": [
    "#gets the count for each unique values in column\n",
    "spam_df.groupBy('class').count().orderBy('count').show()"
   ]
  },
  {
   "cell_type": "code",
   "execution_count": null,
   "id": "2649f02e",
   "metadata": {},
   "outputs": [],
   "source": [
    "spam_df.groupBy('reviewText').count().orderBy('count').show()"
   ]
  },
  {
   "cell_type": "code",
   "execution_count": null,
   "id": "63b153c0",
   "metadata": {},
   "outputs": [],
   "source": [
    "spam_df.groupBy('reviewerID').count().orderBy('count').show()"
   ]
  },
  {
   "cell_type": "code",
   "execution_count": null,
   "id": "57a18390",
   "metadata": {},
   "outputs": [],
   "source": [
    "spam_df.groupBy('asin').count().orderBy('count').show()"
   ]
  },
  {
   "cell_type": "markdown",
   "id": "ae89b664",
   "metadata": {},
   "source": [
    "**Data Exploration Amazon Product Reviews Dataset**"
   ]
  },
  {
   "cell_type": "code",
   "execution_count": null,
   "id": "ed54e98a",
   "metadata": {},
   "outputs": [],
   "source": [
    "df.groupBy('customer_id').count().orderBy('count').show()"
   ]
  },
  {
   "cell_type": "code",
   "execution_count": null,
   "id": "99693ee2",
   "metadata": {},
   "outputs": [],
   "source": [
    "df.groupBy('review_id').count().orderBy('count').show()"
   ]
  },
  {
   "cell_type": "code",
   "execution_count": null,
   "id": "5545a8eb",
   "metadata": {},
   "outputs": [],
   "source": [
    "df.groupBy('product_parent').count().orderBy('count').show()"
   ]
  },
  {
   "cell_type": "code",
   "execution_count": null,
   "id": "4eff8a25",
   "metadata": {
    "scrolled": false
   },
   "outputs": [],
   "source": [
    "df.groupBy('product_title').count().orderBy('count').show()"
   ]
  },
  {
   "cell_type": "code",
   "execution_count": null,
   "id": "85e98b23",
   "metadata": {},
   "outputs": [],
   "source": [
    "df.groupBy('product_category').count().orderBy('count').show()"
   ]
  },
  {
   "cell_type": "code",
   "execution_count": null,
   "id": "812afc33",
   "metadata": {
    "scrolled": true
   },
   "outputs": [],
   "source": [
    "df.groupBy('star_rating').count().orderBy('count').show()"
   ]
  },
  {
   "cell_type": "code",
   "execution_count": null,
   "id": "21aa8223",
   "metadata": {},
   "outputs": [],
   "source": [
    "df.groupBy('helpful_votes').count().orderBy('count').show()"
   ]
  },
  {
   "cell_type": "code",
   "execution_count": null,
   "id": "731ec9e3",
   "metadata": {},
   "outputs": [],
   "source": [
    "df.groupBy('total_votes').count().orderBy('count').show()"
   ]
  },
  {
   "cell_type": "code",
   "execution_count": null,
   "id": "0daa8a3d",
   "metadata": {},
   "outputs": [],
   "source": [
    "df.groupBy('vine').count().orderBy('count').show()"
   ]
  },
  {
   "cell_type": "code",
   "execution_count": null,
   "id": "8d4a6d87",
   "metadata": {},
   "outputs": [],
   "source": [
    "df.groupBy('verified_purchase').count().orderBy('count').show()"
   ]
  },
  {
   "cell_type": "code",
   "execution_count": null,
   "id": "01aae9de",
   "metadata": {},
   "outputs": [],
   "source": [
    "df.groupBy('review_headline').count().orderBy('count').show()"
   ]
  },
  {
   "cell_type": "code",
   "execution_count": null,
   "id": "54594204",
   "metadata": {
    "scrolled": false
   },
   "outputs": [],
   "source": [
    "df.groupBy('review_body').count().orderBy('count').show()"
   ]
  },
  {
   "cell_type": "code",
   "execution_count": null,
   "id": "acf62c16",
   "metadata": {},
   "outputs": [],
   "source": [
    "df.groupBy('review_date').count().orderBy('count').show()"
   ]
  },
  {
   "cell_type": "markdown",
   "id": "e57d1860",
   "metadata": {},
   "source": [
    "### Handling data types and missing values Amazon Product Reviews Dataset "
   ]
  },
  {
   "cell_type": "code",
   "execution_count": null,
   "id": "69d256ce",
   "metadata": {},
   "outputs": [],
   "source": [
    "#selecting specific columns which are supposed to be applicable to project\n",
    "spam_df=spam_df.select(col(\"class\"),col(\"reviewText\"),col(\"reviewTime\"),col(\"asin\"),col(\"reviewerID\"))"
   ]
  },
  {
   "cell_type": "code",
   "execution_count": 55,
   "id": "437bc863",
   "metadata": {},
   "outputs": [
    {
     "data": {
      "text/html": [
       "<div>\n",
       "<style scoped>\n",
       "    .dataframe tbody tr th:only-of-type {\n",
       "        vertical-align: middle;\n",
       "    }\n",
       "\n",
       "    .dataframe tbody tr th {\n",
       "        vertical-align: top;\n",
       "    }\n",
       "\n",
       "    .dataframe thead th {\n",
       "        text-align: right;\n",
       "    }\n",
       "</style>\n",
       "<table border=\"1\" class=\"dataframe\">\n",
       "  <thead>\n",
       "    <tr style=\"text-align: right;\">\n",
       "      <th></th>\n",
       "      <th>_id</th>\n",
       "      <th>asin</th>\n",
       "      <th>category</th>\n",
       "      <th>class</th>\n",
       "      <th>helpful</th>\n",
       "      <th>overall</th>\n",
       "      <th>reviewText</th>\n",
       "      <th>reviewTime</th>\n",
       "      <th>reviewerID</th>\n",
       "      <th>reviewerName</th>\n",
       "      <th>summary</th>\n",
       "      <th>unixReviewTime</th>\n",
       "    </tr>\n",
       "  </thead>\n",
       "  <tbody>\n",
       "    <tr>\n",
       "      <th>0</th>\n",
       "      <td>(5a132773741a2384e84b883e,)</td>\n",
       "      <td>B000AAYBZ0</td>\n",
       "      <td>Sports_and_Outdoors</td>\n",
       "      <td>1.0</td>\n",
       "      <td>[0, 0]</td>\n",
       "      <td>4.0</td>\n",
       "      <td>I advise you to read all of the reviews of the...</td>\n",
       "      <td>03 31, 2009</td>\n",
       "      <td>A34IJACMU8C3IM</td>\n",
       "      <td>Rob W. \"Sounddude\"</td>\n",
       "      <td>Good Seat Bag For The Money!</td>\n",
       "      <td>1238457600</td>\n",
       "    </tr>\n",
       "    <tr>\n",
       "      <th>1</th>\n",
       "      <td>(5a132773741a2384e84b884a,)</td>\n",
       "      <td>B000AAYBZ0</td>\n",
       "      <td>Sports_and_Outdoors</td>\n",
       "      <td>0.0</td>\n",
       "      <td>[2, 14]</td>\n",
       "      <td>1.0</td>\n",
       "      <td>I  can't figure the thing out.  How does it mo...</td>\n",
       "      <td>04 21, 2008</td>\n",
       "      <td>AM779PE0NTAEK</td>\n",
       "      <td>Thomas C. Ardoline</td>\n",
       "      <td>stuck riding</td>\n",
       "      <td>1208736000</td>\n",
       "    </tr>\n",
       "    <tr>\n",
       "      <th>2</th>\n",
       "      <td>(5a132773741a2384e84b886a,)</td>\n",
       "      <td>B000AAYC5O</td>\n",
       "      <td>Sports_and_Outdoors</td>\n",
       "      <td>0.0</td>\n",
       "      <td>[2, 2]</td>\n",
       "      <td>1.0</td>\n",
       "      <td>Made of cheap plastic and will not support the...</td>\n",
       "      <td>08 25, 2012</td>\n",
       "      <td>A2FU8Y7IE3K84K</td>\n",
       "      <td>Tom S</td>\n",
       "      <td>Not worth the money</td>\n",
       "      <td>1345852800</td>\n",
       "    </tr>\n",
       "    <tr>\n",
       "      <th>3</th>\n",
       "      <td>(5a132773741a2384e84b8874,)</td>\n",
       "      <td>B000AAYC6I</td>\n",
       "      <td>Sports_and_Outdoors</td>\n",
       "      <td>1.0</td>\n",
       "      <td>[1, 1]</td>\n",
       "      <td>5.0</td>\n",
       "      <td>Easy to put together.Sturdy.Great for the gara...</td>\n",
       "      <td>06 19, 2011</td>\n",
       "      <td>A13E8WQH3FFQL0</td>\n",
       "      <td>honeycombcandles</td>\n",
       "      <td>Bike Rack</td>\n",
       "      <td>1308441600</td>\n",
       "    </tr>\n",
       "    <tr>\n",
       "      <th>4</th>\n",
       "      <td>(5a132773741a2384e84b888a,)</td>\n",
       "      <td>B000AAYC72</td>\n",
       "      <td>Sports_and_Outdoors</td>\n",
       "      <td>1.0</td>\n",
       "      <td>[4, 4]</td>\n",
       "      <td>4.0</td>\n",
       "      <td>I read the reviews about this product before I...</td>\n",
       "      <td>11 19, 2010</td>\n",
       "      <td>A3ED6RMQAUMVYR</td>\n",
       "      <td>echapman</td>\n",
       "      <td>Works with bolt ons, fairly quiet, and stable</td>\n",
       "      <td>1290124800</td>\n",
       "    </tr>\n",
       "  </tbody>\n",
       "</table>\n",
       "</div>"
      ],
      "text/plain": [
       "                           _id        asin             category  class  \\\n",
       "0  (5a132773741a2384e84b883e,)  B000AAYBZ0  Sports_and_Outdoors    1.0   \n",
       "1  (5a132773741a2384e84b884a,)  B000AAYBZ0  Sports_and_Outdoors    0.0   \n",
       "2  (5a132773741a2384e84b886a,)  B000AAYC5O  Sports_and_Outdoors    0.0   \n",
       "3  (5a132773741a2384e84b8874,)  B000AAYC6I  Sports_and_Outdoors    1.0   \n",
       "4  (5a132773741a2384e84b888a,)  B000AAYC72  Sports_and_Outdoors    1.0   \n",
       "\n",
       "   helpful  overall                                         reviewText  \\\n",
       "0   [0, 0]      4.0  I advise you to read all of the reviews of the...   \n",
       "1  [2, 14]      1.0  I  can't figure the thing out.  How does it mo...   \n",
       "2   [2, 2]      1.0  Made of cheap plastic and will not support the...   \n",
       "3   [1, 1]      5.0  Easy to put together.Sturdy.Great for the gara...   \n",
       "4   [4, 4]      4.0  I read the reviews about this product before I...   \n",
       "\n",
       "    reviewTime      reviewerID        reviewerName  \\\n",
       "0  03 31, 2009  A34IJACMU8C3IM  Rob W. \"Sounddude\"   \n",
       "1  04 21, 2008   AM779PE0NTAEK  Thomas C. Ardoline   \n",
       "2  08 25, 2012  A2FU8Y7IE3K84K               Tom S   \n",
       "3  06 19, 2011  A13E8WQH3FFQL0    honeycombcandles   \n",
       "4  11 19, 2010  A3ED6RMQAUMVYR            echapman   \n",
       "\n",
       "                                         summary  unixReviewTime  \n",
       "0                   Good Seat Bag For The Money!      1238457600  \n",
       "1                                   stuck riding      1208736000  \n",
       "2                            Not worth the money      1345852800  \n",
       "3                                      Bike Rack      1308441600  \n",
       "4  Works with bolt ons, fairly quiet, and stable      1290124800  "
      ]
     },
     "execution_count": 55,
     "metadata": {},
     "output_type": "execute_result"
    }
   ],
   "source": [
    "spam_df.limit(5).toPandas()"
   ]
  },
  {
   "cell_type": "markdown",
   "id": "cf66c2e3",
   "metadata": {},
   "source": [
    "#### product_category"
   ]
  },
  {
   "cell_type": "code",
   "execution_count": 45,
   "id": "b378d286",
   "metadata": {
    "scrolled": false
   },
   "outputs": [
    {
     "data": {
      "text/html": [
       "<div>\n",
       "<style scoped>\n",
       "    .dataframe tbody tr th:only-of-type {\n",
       "        vertical-align: middle;\n",
       "    }\n",
       "\n",
       "    .dataframe tbody tr th {\n",
       "        vertical-align: top;\n",
       "    }\n",
       "\n",
       "    .dataframe thead th {\n",
       "        text-align: right;\n",
       "    }\n",
       "</style>\n",
       "<table border=\"1\" class=\"dataframe\">\n",
       "  <thead>\n",
       "    <tr style=\"text-align: right;\">\n",
       "      <th></th>\n",
       "      <th>marketplace</th>\n",
       "      <th>customer_id</th>\n",
       "      <th>review_id</th>\n",
       "      <th>product_id</th>\n",
       "      <th>product_parent</th>\n",
       "      <th>product_title</th>\n",
       "      <th>product_category</th>\n",
       "      <th>star_rating</th>\n",
       "      <th>helpful_votes</th>\n",
       "      <th>total_votes</th>\n",
       "      <th>vine</th>\n",
       "      <th>verified_purchase</th>\n",
       "      <th>review_headline</th>\n",
       "      <th>review_body</th>\n",
       "      <th>review_date</th>\n",
       "    </tr>\n",
       "  </thead>\n",
       "  <tbody>\n",
       "    <tr>\n",
       "      <th>0</th>\n",
       "      <td>US</td>\n",
       "      <td>30466043</td>\n",
       "      <td>R292MVXQ4Y7CIV</td>\n",
       "      <td>B0082CXEI8</td>\n",
       "      <td>661176068</td>\n",
       "      <td>Blue Sea Systems BelowDeck Panels, Dual USB Ch...</td>\n",
       "      <td>None</td>\n",
       "      <td>None</td>\n",
       "      <td>None</td>\n",
       "      <td>None</td>\n",
       "      <td>None</td>\n",
       "      <td>None</td>\n",
       "      <td>None</td>\n",
       "      <td>None</td>\n",
       "      <td>None</td>\n",
       "    </tr>\n",
       "    <tr>\n",
       "      <th>1</th>\n",
       "      <td>US</td>\n",
       "      <td>34077068</td>\n",
       "      <td>R5QMKUM3C1KO3</td>\n",
       "      <td>B0082CXEI8</td>\n",
       "      <td>661176068</td>\n",
       "      <td>Blue Sea Systems BelowDeck Panels, Dual USB Ch...</td>\n",
       "      <td>None</td>\n",
       "      <td>None</td>\n",
       "      <td>None</td>\n",
       "      <td>None</td>\n",
       "      <td>None</td>\n",
       "      <td>None</td>\n",
       "      <td>None</td>\n",
       "      <td>None</td>\n",
       "      <td>None</td>\n",
       "    </tr>\n",
       "    <tr>\n",
       "      <th>2</th>\n",
       "      <td>US</td>\n",
       "      <td>50625085</td>\n",
       "      <td>R2AL699XSAMK0I</td>\n",
       "      <td>B0082CXEI8</td>\n",
       "      <td>661176068</td>\n",
       "      <td>Blue Sea Systems BelowDeck Panels, Dual USB Ch...</td>\n",
       "      <td>None</td>\n",
       "      <td>None</td>\n",
       "      <td>None</td>\n",
       "      <td>None</td>\n",
       "      <td>None</td>\n",
       "      <td>None</td>\n",
       "      <td>None</td>\n",
       "      <td>None</td>\n",
       "      <td>None</td>\n",
       "    </tr>\n",
       "    <tr>\n",
       "      <th>3</th>\n",
       "      <td>US</td>\n",
       "      <td>48047331</td>\n",
       "      <td>R2OMXDNEF8VE5Q</td>\n",
       "      <td>B001U4ZZPK</td>\n",
       "      <td>661176068</td>\n",
       "      <td>Blue Sea Systems BelowDeck Panels, Dual USB Ch...</td>\n",
       "      <td>None</td>\n",
       "      <td>None</td>\n",
       "      <td>None</td>\n",
       "      <td>None</td>\n",
       "      <td>None</td>\n",
       "      <td>None</td>\n",
       "      <td>None</td>\n",
       "      <td>None</td>\n",
       "      <td>None</td>\n",
       "    </tr>\n",
       "    <tr>\n",
       "      <th>4</th>\n",
       "      <td>US</td>\n",
       "      <td>5883076</td>\n",
       "      <td>R1B99YM5JYBAUI</td>\n",
       "      <td>B00CLVNIE6</td>\n",
       "      <td>6211165</td>\n",
       "      <td>Fonus 3.5mm White Premium Coiled Car Stereo Au...</td>\n",
       "      <td>None</td>\n",
       "      <td>None</td>\n",
       "      <td>None</td>\n",
       "      <td>None</td>\n",
       "      <td>None</td>\n",
       "      <td>None</td>\n",
       "      <td>None</td>\n",
       "      <td>None</td>\n",
       "      <td>None</td>\n",
       "    </tr>\n",
       "    <tr>\n",
       "      <th>5</th>\n",
       "      <td>US</td>\n",
       "      <td>7621146</td>\n",
       "      <td>R19OBAWEBSTEH2</td>\n",
       "      <td>B0082CXEI8</td>\n",
       "      <td>661176068</td>\n",
       "      <td>Blue Sea Systems BelowDeck Panels, Dual USB Ch...</td>\n",
       "      <td>None</td>\n",
       "      <td>None</td>\n",
       "      <td>None</td>\n",
       "      <td>None</td>\n",
       "      <td>None</td>\n",
       "      <td>None</td>\n",
       "      <td>None</td>\n",
       "      <td>None</td>\n",
       "      <td>None</td>\n",
       "    </tr>\n",
       "    <tr>\n",
       "      <th>6</th>\n",
       "      <td>US</td>\n",
       "      <td>31368223</td>\n",
       "      <td>R1KZPYNT0NDZNC</td>\n",
       "      <td>B00MGVKA4C</td>\n",
       "      <td>994037962</td>\n",
       "      <td>Konjac Sponge - Original - Facial Sponge\\tBeau...</td>\n",
       "      <td>None</td>\n",
       "      <td>None</td>\n",
       "      <td>None</td>\n",
       "      <td>None</td>\n",
       "      <td>None</td>\n",
       "      <td>None</td>\n",
       "      <td>None</td>\n",
       "      <td>None</td>\n",
       "      <td>None</td>\n",
       "    </tr>\n",
       "    <tr>\n",
       "      <th>7</th>\n",
       "      <td>US</td>\n",
       "      <td>52259120</td>\n",
       "      <td>RZ7PQZGLI0F2J</td>\n",
       "      <td>B006VHU6PK</td>\n",
       "      <td>723345439</td>\n",
       "      <td>Cross Stitch: Your Own Cross Stitch Masterpiec...</td>\n",
       "      <td>None</td>\n",
       "      <td>None</td>\n",
       "      <td>None</td>\n",
       "      <td>None</td>\n",
       "      <td>None</td>\n",
       "      <td>None</td>\n",
       "      <td>None</td>\n",
       "      <td>None</td>\n",
       "      <td>None</td>\n",
       "    </tr>\n",
       "    <tr>\n",
       "      <th>8</th>\n",
       "      <td>US</td>\n",
       "      <td>31051333</td>\n",
       "      <td>R3AEEHBJ24ICWA</td>\n",
       "      <td>B001U4ZZPK</td>\n",
       "      <td>661176068</td>\n",
       "      <td>Blue Sea Systems BelowDeck Panels, Dual USB Ch...</td>\n",
       "      <td>None</td>\n",
       "      <td>None</td>\n",
       "      <td>None</td>\n",
       "      <td>None</td>\n",
       "      <td>None</td>\n",
       "      <td>None</td>\n",
       "      <td>None</td>\n",
       "      <td>None</td>\n",
       "      <td>None</td>\n",
       "    </tr>\n",
       "  </tbody>\n",
       "</table>\n",
       "</div>"
      ],
      "text/plain": [
       "  marketplace customer_id       review_id  product_id product_parent  \\\n",
       "0          US    30466043  R292MVXQ4Y7CIV  B0082CXEI8      661176068   \n",
       "1          US    34077068   R5QMKUM3C1KO3  B0082CXEI8      661176068   \n",
       "2          US    50625085  R2AL699XSAMK0I  B0082CXEI8      661176068   \n",
       "3          US    48047331  R2OMXDNEF8VE5Q  B001U4ZZPK      661176068   \n",
       "4          US     5883076  R1B99YM5JYBAUI  B00CLVNIE6        6211165   \n",
       "5          US     7621146  R19OBAWEBSTEH2  B0082CXEI8      661176068   \n",
       "6          US    31368223  R1KZPYNT0NDZNC  B00MGVKA4C      994037962   \n",
       "7          US    52259120   RZ7PQZGLI0F2J  B006VHU6PK      723345439   \n",
       "8          US    31051333  R3AEEHBJ24ICWA  B001U4ZZPK      661176068   \n",
       "\n",
       "                                       product_title product_category  \\\n",
       "0  Blue Sea Systems BelowDeck Panels, Dual USB Ch...             None   \n",
       "1  Blue Sea Systems BelowDeck Panels, Dual USB Ch...             None   \n",
       "2  Blue Sea Systems BelowDeck Panels, Dual USB Ch...             None   \n",
       "3  Blue Sea Systems BelowDeck Panels, Dual USB Ch...             None   \n",
       "4  Fonus 3.5mm White Premium Coiled Car Stereo Au...             None   \n",
       "5  Blue Sea Systems BelowDeck Panels, Dual USB Ch...             None   \n",
       "6  Konjac Sponge - Original - Facial Sponge\\tBeau...             None   \n",
       "7  Cross Stitch: Your Own Cross Stitch Masterpiec...             None   \n",
       "8  Blue Sea Systems BelowDeck Panels, Dual USB Ch...             None   \n",
       "\n",
       "  star_rating helpful_votes total_votes  vine verified_purchase  \\\n",
       "0        None          None        None  None              None   \n",
       "1        None          None        None  None              None   \n",
       "2        None          None        None  None              None   \n",
       "3        None          None        None  None              None   \n",
       "4        None          None        None  None              None   \n",
       "5        None          None        None  None              None   \n",
       "6        None          None        None  None              None   \n",
       "7        None          None        None  None              None   \n",
       "8        None          None        None  None              None   \n",
       "\n",
       "  review_headline review_body review_date  \n",
       "0            None        None        None  \n",
       "1            None        None        None  \n",
       "2            None        None        None  \n",
       "3            None        None        None  \n",
       "4            None        None        None  \n",
       "5            None        None        None  \n",
       "6            None        None        None  \n",
       "7            None        None        None  \n",
       "8            None        None        None  "
      ]
     },
     "execution_count": 45,
     "metadata": {},
     "output_type": "execute_result"
    }
   ],
   "source": [
    "showPandasDFOfNullRows(\"product_category\", df, 10)"
   ]
  },
  {
   "cell_type": "markdown",
   "id": "667bdf50",
   "metadata": {},
   "source": [
    "##### Drop the rows where the last 9 rows are null. There is no essential info that can be garnered from this"
   ]
  },
  {
   "cell_type": "code",
   "execution_count": 46,
   "id": "c1189579",
   "metadata": {},
   "outputs": [],
   "source": [
    "\n",
    "clist = df.columns[-9:]"
   ]
  },
  {
   "cell_type": "code",
   "execution_count": 47,
   "id": "8439a4b3",
   "metadata": {
    "scrolled": true
   },
   "outputs": [
    {
     "data": {
      "text/plain": [
       "['product_category',\n",
       " 'star_rating',\n",
       " 'helpful_votes',\n",
       " 'total_votes',\n",
       " 'vine',\n",
       " 'verified_purchase',\n",
       " 'review_headline',\n",
       " 'review_body',\n",
       " 'review_date']"
      ]
     },
     "execution_count": 47,
     "metadata": {},
     "output_type": "execute_result"
    }
   ],
   "source": [
    "clist"
   ]
  },
  {
   "cell_type": "code",
   "execution_count": 48,
   "id": "9dbeded0",
   "metadata": {},
   "outputs": [],
   "source": [
    "df=df.dropna(subset=clist, how='all')"
   ]
  },
  {
   "cell_type": "code",
   "execution_count": 49,
   "id": "cf48df63",
   "metadata": {},
   "outputs": [
    {
     "data": {
      "text/plain": [
       "1033354"
      ]
     },
     "execution_count": 49,
     "metadata": {},
     "output_type": "execute_result"
    }
   ],
   "source": [
    "df.count()"
   ]
  },
  {
   "cell_type": "code",
   "execution_count": 50,
   "id": "61964382",
   "metadata": {},
   "outputs": [
    {
     "name": "stdout",
     "output_type": "stream",
     "text": [
      "\n",
      "Missing values:\n",
      "marketplace: 0\n",
      "customer_id: 0\n",
      "review_id: 0\n",
      "product_id: 0\n",
      "product_parent: 0\n",
      "product_title: 0\n",
      "product_category: 0\n",
      "star_rating: 0\n",
      "helpful_votes: 0\n",
      "total_votes: 0\n",
      "vine: 0\n",
      "verified_purchase: 0\n",
      "review_headline: 60\n",
      "review_body: 108\n",
      "review_date: 64\n"
     ]
    }
   ],
   "source": [
    "showMissingValues(df)"
   ]
  },
  {
   "cell_type": "code",
   "execution_count": 51,
   "id": "691c01be",
   "metadata": {},
   "outputs": [],
   "source": [
    "#There is date value appearing as product_category most likely due to data misalignment so it was removed\n",
    "df=df.filter(col(\"product_category\") != \"2011-09-09\")"
   ]
  },
  {
   "cell_type": "code",
   "execution_count": 52,
   "id": "58666da8",
   "metadata": {
    "scrolled": false
   },
   "outputs": [
    {
     "name": "stdout",
     "output_type": "stream",
     "text": [
      "+--------------------+-----+\n",
      "|    product_category|count|\n",
      "+--------------------+-----+\n",
      "|     Lawn and Garden|    2|\n",
      "|                Home|    6|\n",
      "|             Kitchen|   11|\n",
      "|    Home Improvement|   11|\n",
      "|  Home Entertainment|  160|\n",
      "|Personal_Care_App...|12765|\n",
      "|    Major Appliances|14610|\n",
      "|    Digital_Software|15189|\n",
      "|  Mobile_Electronics|15795|\n",
      "| Digital_Video_Games|21646|\n",
      "|           Gift Card|22315|\n",
      "|          Automotive|29750|\n",
      "|         Electronics|29809|\n",
      "| Musical Instruments|29876|\n",
      "|            Software|29886|\n",
      "|             Grocery|29907|\n",
      "|             Watches|29931|\n",
      "|             Apparel|29947|\n",
      "|            Outdoors|29974|\n",
      "|         Video Games|30002|\n",
      "|           Furniture|30054|\n",
      "|Health & Personal...|30066|\n",
      "|                Baby|30113|\n",
      "|               Tools|30125|\n",
      "|               Video|30126|\n",
      "|     Office Products|30159|\n",
      "|        Pet Products|30172|\n",
      "|               Shoes|30186|\n",
      "|              Camera|30195|\n",
      "|            Wireless|30205|\n",
      "+--------------------+-----+\n",
      "only showing top 30 rows\n",
      "\n"
     ]
    }
   ],
   "source": [
    "df.groupBy('product_category').count().orderBy('count').show(30)"
   ]
  },
  {
   "cell_type": "code",
   "execution_count": 53,
   "id": "57b56b1d",
   "metadata": {},
   "outputs": [
    {
     "data": {
      "text/plain": [
       "'Lawn and Garden'"
      ]
     },
     "execution_count": 53,
     "metadata": {},
     "output_type": "execute_result"
    }
   ],
   "source": [
    "df.groupBy('product_category').count().orderBy('count').select(col('product_category')).first()[0]"
   ]
  },
  {
   "cell_type": "code",
   "execution_count": 54,
   "id": "772e31a8",
   "metadata": {
    "scrolled": true
   },
   "outputs": [
    {
     "data": {
      "text/html": [
       "<div>\n",
       "<style scoped>\n",
       "    .dataframe tbody tr th:only-of-type {\n",
       "        vertical-align: middle;\n",
       "    }\n",
       "\n",
       "    .dataframe tbody tr th {\n",
       "        vertical-align: top;\n",
       "    }\n",
       "\n",
       "    .dataframe thead th {\n",
       "        text-align: right;\n",
       "    }\n",
       "</style>\n",
       "<table border=\"1\" class=\"dataframe\">\n",
       "  <thead>\n",
       "    <tr style=\"text-align: right;\">\n",
       "      <th></th>\n",
       "      <th>marketplace</th>\n",
       "      <th>customer_id</th>\n",
       "      <th>review_id</th>\n",
       "      <th>product_id</th>\n",
       "      <th>product_parent</th>\n",
       "      <th>product_title</th>\n",
       "      <th>product_category</th>\n",
       "      <th>star_rating</th>\n",
       "      <th>helpful_votes</th>\n",
       "      <th>total_votes</th>\n",
       "      <th>vine</th>\n",
       "      <th>verified_purchase</th>\n",
       "      <th>review_headline</th>\n",
       "      <th>review_body</th>\n",
       "      <th>review_date</th>\n",
       "    </tr>\n",
       "  </thead>\n",
       "  <tbody>\n",
       "  </tbody>\n",
       "</table>\n",
       "</div>"
      ],
      "text/plain": [
       "Empty DataFrame\n",
       "Columns: [marketplace, customer_id, review_id, product_id, product_parent, product_title, product_category, star_rating, helpful_votes, total_votes, vine, verified_purchase, review_headline, review_body, review_date]\n",
       "Index: []"
      ]
     },
     "execution_count": 54,
     "metadata": {},
     "output_type": "execute_result"
    }
   ],
   "source": [
    "df.filter(col(\"product_category\").contains(\"slimmy sponge\")).toPandas()"
   ]
  },
  {
   "cell_type": "code",
   "execution_count": 55,
   "id": "e0820c0a",
   "metadata": {},
   "outputs": [],
   "source": [
    "df=df.filter(~col(\"product_category\").contains(\"slimmy sponge\"))"
   ]
  },
  {
   "cell_type": "code",
   "execution_count": 56,
   "id": "58d85f59",
   "metadata": {},
   "outputs": [
    {
     "name": "stdout",
     "output_type": "stream",
     "text": [
      "+--------------------+-----+\n",
      "|    product_category|count|\n",
      "+--------------------+-----+\n",
      "|     Lawn and Garden|    2|\n",
      "|                Home|    6|\n",
      "|             Kitchen|   11|\n",
      "|    Home Improvement|   11|\n",
      "|  Home Entertainment|  160|\n",
      "|Personal_Care_App...|12765|\n",
      "|    Major Appliances|14610|\n",
      "|    Digital_Software|15189|\n",
      "|  Mobile_Electronics|15795|\n",
      "| Digital_Video_Games|21646|\n",
      "|           Gift Card|22315|\n",
      "|          Automotive|29750|\n",
      "|         Electronics|29809|\n",
      "| Musical Instruments|29876|\n",
      "|            Software|29886|\n",
      "|             Grocery|29907|\n",
      "|             Watches|29931|\n",
      "|             Apparel|29947|\n",
      "|            Outdoors|29974|\n",
      "|         Video Games|30002|\n",
      "|           Furniture|30054|\n",
      "|Health & Personal...|30066|\n",
      "|                Baby|30113|\n",
      "|               Tools|30125|\n",
      "|               Video|30126|\n",
      "|     Office Products|30159|\n",
      "|        Pet Products|30172|\n",
      "|               Shoes|30186|\n",
      "|              Camera|30195|\n",
      "|            Wireless|30205|\n",
      "+--------------------+-----+\n",
      "only showing top 30 rows\n",
      "\n"
     ]
    }
   ],
   "source": [
    "df.groupBy('product_category').count().orderBy('count').show(30)"
   ]
  },
  {
   "cell_type": "markdown",
   "id": "342f3f51",
   "metadata": {},
   "source": [
    "#### star_rating"
   ]
  },
  {
   "cell_type": "code",
   "execution_count": 57,
   "id": "5cc023d5",
   "metadata": {},
   "outputs": [
    {
     "name": "stdout",
     "output_type": "stream",
     "text": [
      "+-----------+------+\n",
      "|star_rating| count|\n",
      "+-----------+------+\n",
      "|          2| 51764|\n",
      "|          3| 81776|\n",
      "|          1| 96141|\n",
      "|          4|174421|\n",
      "|          5|629252|\n",
      "+-----------+------+\n",
      "\n"
     ]
    }
   ],
   "source": [
    "df.groupBy('star_rating').count().orderBy('count').show()"
   ]
  },
  {
   "cell_type": "code",
   "execution_count": 58,
   "id": "19175d5e",
   "metadata": {},
   "outputs": [],
   "source": [
    "# Convert string column to integer column\n",
    "df = df.withColumn(\"star_rating\", col(\"star_rating\").cast(\"integer\"))"
   ]
  },
  {
   "cell_type": "markdown",
   "id": "7eadddfb",
   "metadata": {},
   "source": [
    "#### review_body"
   ]
  },
  {
   "cell_type": "code",
   "execution_count": 59,
   "id": "421b74fb",
   "metadata": {
    "scrolled": false
   },
   "outputs": [
    {
     "data": {
      "text/html": [
       "<div>\n",
       "<style scoped>\n",
       "    .dataframe tbody tr th:only-of-type {\n",
       "        vertical-align: middle;\n",
       "    }\n",
       "\n",
       "    .dataframe tbody tr th {\n",
       "        vertical-align: top;\n",
       "    }\n",
       "\n",
       "    .dataframe thead th {\n",
       "        text-align: right;\n",
       "    }\n",
       "</style>\n",
       "<table border=\"1\" class=\"dataframe\">\n",
       "  <thead>\n",
       "    <tr style=\"text-align: right;\">\n",
       "      <th></th>\n",
       "      <th>marketplace</th>\n",
       "      <th>customer_id</th>\n",
       "      <th>review_id</th>\n",
       "      <th>product_id</th>\n",
       "      <th>product_parent</th>\n",
       "      <th>product_title</th>\n",
       "      <th>product_category</th>\n",
       "      <th>star_rating</th>\n",
       "      <th>helpful_votes</th>\n",
       "      <th>total_votes</th>\n",
       "      <th>vine</th>\n",
       "      <th>verified_purchase</th>\n",
       "      <th>review_headline</th>\n",
       "      <th>review_body</th>\n",
       "      <th>review_date</th>\n",
       "    </tr>\n",
       "  </thead>\n",
       "  <tbody>\n",
       "    <tr>\n",
       "      <th>0</th>\n",
       "      <td>US</td>\n",
       "      <td>13418638</td>\n",
       "      <td>R3TTC36XJVTT9F</td>\n",
       "      <td>B008E62TTW</td>\n",
       "      <td>174178495</td>\n",
       "      <td>Shiva Murthi - Shankarudu</td>\n",
       "      <td>Digital_Music_Purchase</td>\n",
       "      <td>5</td>\n",
       "      <td>1</td>\n",
       "      <td>1</td>\n",
       "      <td>N</td>\n",
       "      <td>N</td>\n",
       "      <td>Chinna Kuyil' Musician Srimati Chitra\\tVery in...</td>\n",
       "      <td>None</td>\n",
       "      <td>None</td>\n",
       "    </tr>\n",
       "    <tr>\n",
       "      <th>1</th>\n",
       "      <td>US</td>\n",
       "      <td>42057820</td>\n",
       "      <td>R17V3IHWBY8P15</td>\n",
       "      <td>B000CCW2UM</td>\n",
       "      <td>568298225</td>\n",
       "      <td>Lincoln Aka Dark Side/lincoln</td>\n",
       "      <td>Video DVD</td>\n",
       "      <td>3</td>\n",
       "      <td>0</td>\n",
       "      <td>1</td>\n",
       "      <td>N</td>\n",
       "      <td>Y</td>\n",
       "      <td>Not Vizio/Generic</td>\n",
       "      <td>None</td>\n",
       "      <td>2015-06-16T00:00:00.000Z</td>\n",
       "    </tr>\n",
       "    <tr>\n",
       "      <th>2</th>\n",
       "      <td>US</td>\n",
       "      <td>616054</td>\n",
       "      <td>R1J7GSK9FDIE1X</td>\n",
       "      <td>B00NGF2JXC</td>\n",
       "      <td>518182826</td>\n",
       "      <td>YOPO 32\" Wigs Long Curly Wavy Wig Cosplay Cost...</td>\n",
       "      <td>Beauty</td>\n",
       "      <td>5</td>\n",
       "      <td>2</td>\n",
       "      <td>2</td>\n",
       "      <td>N</td>\n",
       "      <td>Y</td>\n",
       "      <td>Five Stars</td>\n",
       "      <td>None</td>\n",
       "      <td>2015-06-11T00:00:00.000Z</td>\n",
       "    </tr>\n",
       "    <tr>\n",
       "      <th>3</th>\n",
       "      <td>US</td>\n",
       "      <td>49280079</td>\n",
       "      <td>RORMXHSNHLRAP</td>\n",
       "      <td>B007AMMGMG</td>\n",
       "      <td>131334444</td>\n",
       "      <td>In the Land of Blood and Honey</td>\n",
       "      <td>Digital_Video_Download</td>\n",
       "      <td>1</td>\n",
       "      <td>2</td>\n",
       "      <td>5</td>\n",
       "      <td>N</td>\n",
       "      <td>N</td>\n",
       "      <td>And I say fine. Artists do have that right\\tHi...</td>\n",
       "      <td>None</td>\n",
       "      <td>None</td>\n",
       "    </tr>\n",
       "    <tr>\n",
       "      <th>4</th>\n",
       "      <td>US</td>\n",
       "      <td>9491373</td>\n",
       "      <td>R282RKS7R478N6</td>\n",
       "      <td>B00TKLPMOE</td>\n",
       "      <td>945778258</td>\n",
       "      <td>Twisted Women's RUBY Floral Canvas Knotted Toe...</td>\n",
       "      <td>Shoes</td>\n",
       "      <td>5</td>\n",
       "      <td>10</td>\n",
       "      <td>12</td>\n",
       "      <td>N</td>\n",
       "      <td>Y</td>\n",
       "      <td>Five Stars</td>\n",
       "      <td>None</td>\n",
       "      <td>2015-03-20T00:00:00.000Z</td>\n",
       "    </tr>\n",
       "    <tr>\n",
       "      <th>5</th>\n",
       "      <td>US</td>\n",
       "      <td>3981694</td>\n",
       "      <td>RN7K2YVL3OU00</td>\n",
       "      <td>B00HUJUS88</td>\n",
       "      <td>617736148</td>\n",
       "      <td>New Apple MacBook Pro 13.3-Inch Laptop i5 4GB ...</td>\n",
       "      <td>PC</td>\n",
       "      <td>1</td>\n",
       "      <td>1</td>\n",
       "      <td>2</td>\n",
       "      <td>N</td>\n",
       "      <td>Y</td>\n",
       "      <td>New Mac won't turn on.\\tThe Mac that I bought ...</td>\n",
       "      <td>None</td>\n",
       "      <td>None</td>\n",
       "    </tr>\n",
       "    <tr>\n",
       "      <th>6</th>\n",
       "      <td>US</td>\n",
       "      <td>854686</td>\n",
       "      <td>RFELC9SXLSWW</td>\n",
       "      <td>B002W07BXA</td>\n",
       "      <td>939238527</td>\n",
       "      <td>Baby Starters Plush Swirl Blanket, Bow, Pink</td>\n",
       "      <td>Baby</td>\n",
       "      <td>5</td>\n",
       "      <td>6</td>\n",
       "      <td>7</td>\n",
       "      <td>N</td>\n",
       "      <td>Y</td>\n",
       "      <td>Five Stars</td>\n",
       "      <td>None</td>\n",
       "      <td>2015-05-07T00:00:00.000Z</td>\n",
       "    </tr>\n",
       "    <tr>\n",
       "      <th>7</th>\n",
       "      <td>US</td>\n",
       "      <td>9965601</td>\n",
       "      <td>RGS8Y9K7X8M4A</td>\n",
       "      <td>B00005MK9Z</td>\n",
       "      <td>360246660</td>\n",
       "      <td>Confrontation (Remastered)</td>\n",
       "      <td>Music</td>\n",
       "      <td>5</td>\n",
       "      <td>0</td>\n",
       "      <td>0</td>\n",
       "      <td>N</td>\n",
       "      <td>Y</td>\n",
       "      <td>the legacy of his music &amp; message will live on...</td>\n",
       "      <td>None</td>\n",
       "      <td>None</td>\n",
       "    </tr>\n",
       "    <tr>\n",
       "      <th>8</th>\n",
       "      <td>US</td>\n",
       "      <td>23122744</td>\n",
       "      <td>R2D3YTK3JQG8KY</td>\n",
       "      <td>B001VL5304</td>\n",
       "      <td>65054676</td>\n",
       "      <td>Fireproof</td>\n",
       "      <td>Digital_Video_Download</td>\n",
       "      <td>5</td>\n",
       "      <td>0</td>\n",
       "      <td>0</td>\n",
       "      <td>N</td>\n",
       "      <td>Y</td>\n",
       "      <td>He discovers everything he thought to be true ...</td>\n",
       "      <td>None</td>\n",
       "      <td>None</td>\n",
       "    </tr>\n",
       "    <tr>\n",
       "      <th>9</th>\n",
       "      <td>US</td>\n",
       "      <td>15011917</td>\n",
       "      <td>R55KPDV34QCLK</td>\n",
       "      <td>B00452OHXU</td>\n",
       "      <td>970636444</td>\n",
       "      <td>FURminator deShedding Tool for Cats</td>\n",
       "      <td>Pet Products</td>\n",
       "      <td>4</td>\n",
       "      <td>3</td>\n",
       "      <td>5</td>\n",
       "      <td>N</td>\n",
       "      <td>Y</td>\n",
       "      <td>Four Stars</td>\n",
       "      <td>None</td>\n",
       "      <td>2015-07-08T00:00:00.000Z</td>\n",
       "    </tr>\n",
       "  </tbody>\n",
       "</table>\n",
       "</div>"
      ],
      "text/plain": [
       "  marketplace customer_id       review_id  product_id product_parent  \\\n",
       "0          US    13418638  R3TTC36XJVTT9F  B008E62TTW      174178495   \n",
       "1          US    42057820  R17V3IHWBY8P15  B000CCW2UM      568298225   \n",
       "2          US      616054  R1J7GSK9FDIE1X  B00NGF2JXC      518182826   \n",
       "3          US    49280079   RORMXHSNHLRAP  B007AMMGMG      131334444   \n",
       "4          US     9491373  R282RKS7R478N6  B00TKLPMOE      945778258   \n",
       "5          US     3981694   RN7K2YVL3OU00  B00HUJUS88      617736148   \n",
       "6          US      854686    RFELC9SXLSWW  B002W07BXA      939238527   \n",
       "7          US     9965601   RGS8Y9K7X8M4A  B00005MK9Z      360246660   \n",
       "8          US    23122744  R2D3YTK3JQG8KY  B001VL5304       65054676   \n",
       "9          US    15011917   R55KPDV34QCLK  B00452OHXU      970636444   \n",
       "\n",
       "                                       product_title        product_category  \\\n",
       "0                          Shiva Murthi - Shankarudu  Digital_Music_Purchase   \n",
       "1                      Lincoln Aka Dark Side/lincoln               Video DVD   \n",
       "2  YOPO 32\" Wigs Long Curly Wavy Wig Cosplay Cost...                  Beauty   \n",
       "3                     In the Land of Blood and Honey  Digital_Video_Download   \n",
       "4  Twisted Women's RUBY Floral Canvas Knotted Toe...                   Shoes   \n",
       "5  New Apple MacBook Pro 13.3-Inch Laptop i5 4GB ...                      PC   \n",
       "6       Baby Starters Plush Swirl Blanket, Bow, Pink                    Baby   \n",
       "7                         Confrontation (Remastered)                   Music   \n",
       "8                                          Fireproof  Digital_Video_Download   \n",
       "9                FURminator deShedding Tool for Cats            Pet Products   \n",
       "\n",
       "   star_rating helpful_votes total_votes vine verified_purchase  \\\n",
       "0            5             1           1    N                 N   \n",
       "1            3             0           1    N                 Y   \n",
       "2            5             2           2    N                 Y   \n",
       "3            1             2           5    N                 N   \n",
       "4            5            10          12    N                 Y   \n",
       "5            1             1           2    N                 Y   \n",
       "6            5             6           7    N                 Y   \n",
       "7            5             0           0    N                 Y   \n",
       "8            5             0           0    N                 Y   \n",
       "9            4             3           5    N                 Y   \n",
       "\n",
       "                                     review_headline review_body  \\\n",
       "0  Chinna Kuyil' Musician Srimati Chitra\\tVery in...        None   \n",
       "1                                  Not Vizio/Generic        None   \n",
       "2                                         Five Stars        None   \n",
       "3  And I say fine. Artists do have that right\\tHi...        None   \n",
       "4                                         Five Stars        None   \n",
       "5  New Mac won't turn on.\\tThe Mac that I bought ...        None   \n",
       "6                                         Five Stars        None   \n",
       "7  the legacy of his music & message will live on...        None   \n",
       "8  He discovers everything he thought to be true ...        None   \n",
       "9                                         Four Stars        None   \n",
       "\n",
       "                review_date  \n",
       "0                      None  \n",
       "1  2015-06-16T00:00:00.000Z  \n",
       "2  2015-06-11T00:00:00.000Z  \n",
       "3                      None  \n",
       "4  2015-03-20T00:00:00.000Z  \n",
       "5                      None  \n",
       "6  2015-05-07T00:00:00.000Z  \n",
       "7                      None  \n",
       "8                      None  \n",
       "9  2015-07-08T00:00:00.000Z  "
      ]
     },
     "execution_count": 59,
     "metadata": {},
     "output_type": "execute_result"
    }
   ],
   "source": [
    "showPandasDFOfNullRows(\"review_body\", df, 10)"
   ]
  },
  {
   "cell_type": "code",
   "execution_count": 60,
   "id": "f39c8104",
   "metadata": {
    "scrolled": true
   },
   "outputs": [
    {
     "data": {
      "text/html": [
       "<div>\n",
       "<style scoped>\n",
       "    .dataframe tbody tr th:only-of-type {\n",
       "        vertical-align: middle;\n",
       "    }\n",
       "\n",
       "    .dataframe tbody tr th {\n",
       "        vertical-align: top;\n",
       "    }\n",
       "\n",
       "    .dataframe thead th {\n",
       "        text-align: right;\n",
       "    }\n",
       "</style>\n",
       "<table border=\"1\" class=\"dataframe\">\n",
       "  <thead>\n",
       "    <tr style=\"text-align: right;\">\n",
       "      <th></th>\n",
       "      <th>review_body</th>\n",
       "    </tr>\n",
       "  </thead>\n",
       "  <tbody>\n",
       "    <tr>\n",
       "      <th>0</th>\n",
       "      <td>The face wash is great. My skin feels differen...</td>\n",
       "    </tr>\n",
       "    <tr>\n",
       "      <th>1</th>\n",
       "      <td>Works well on uneven skin tone, melasma, sun s...</td>\n",
       "    </tr>\n",
       "    <tr>\n",
       "      <th>2</th>\n",
       "      <td>This eyeshadow palette is wonderful! The color...</td>\n",
       "    </tr>\n",
       "    <tr>\n",
       "      <th>3</th>\n",
       "      <td>My husband has a very rough beard and therefor...</td>\n",
       "    </tr>\n",
       "    <tr>\n",
       "      <th>4</th>\n",
       "      <td>Love it</td>\n",
       "    </tr>\n",
       "    <tr>\n",
       "      <th>5</th>\n",
       "      <td>I love this as a body lotion, but it leaves my...</td>\n",
       "    </tr>\n",
       "    <tr>\n",
       "      <th>6</th>\n",
       "      <td>I really like this mask. I know that a mask is...</td>\n",
       "    </tr>\n",
       "    <tr>\n",
       "      <th>7</th>\n",
       "      <td>I had this Daily Matte Moisturizer in the past...</td>\n",
       "    </tr>\n",
       "    <tr>\n",
       "      <th>8</th>\n",
       "      <td>Color shade was a bit different from the origi...</td>\n",
       "    </tr>\n",
       "    <tr>\n",
       "      <th>9</th>\n",
       "      <td>This isn't a pre and post...it's two of the sa...</td>\n",
       "    </tr>\n",
       "  </tbody>\n",
       "</table>\n",
       "</div>"
      ],
      "text/plain": [
       "                                         review_body\n",
       "0  The face wash is great. My skin feels differen...\n",
       "1  Works well on uneven skin tone, melasma, sun s...\n",
       "2  This eyeshadow palette is wonderful! The color...\n",
       "3  My husband has a very rough beard and therefor...\n",
       "4                                            Love it\n",
       "5  I love this as a body lotion, but it leaves my...\n",
       "6  I really like this mask. I know that a mask is...\n",
       "7  I had this Daily Matte Moisturizer in the past...\n",
       "8  Color shade was a bit different from the origi...\n",
       "9  This isn't a pre and post...it's two of the sa..."
      ]
     },
     "execution_count": 60,
     "metadata": {},
     "output_type": "execute_result"
    }
   ],
   "source": [
    "df.limit(10).toPandas()[[\"review_body\"]]"
   ]
  },
  {
   "cell_type": "code",
   "execution_count": 61,
   "id": "9ec6f0e4",
   "metadata": {},
   "outputs": [
    {
     "name": "stdout",
     "output_type": "stream",
     "text": [
      "+-------------+-----+\n",
      "|  review_body|count|\n",
      "+-------------+-----+\n",
      "|         Good| 1574|\n",
      "|        Great| 1541|\n",
      "|         good| 1517|\n",
      "|        great| 1085|\n",
      "|    Excellent| 1052|\n",
      "|      Love it|  849|\n",
      "|           ok|  713|\n",
      "|    excellent|  582|\n",
      "|      Awesome|  557|\n",
      "|      Perfect|  531|\n",
      "|     Love it!|  500|\n",
      "|       Great!|  492|\n",
      "|      love it|  484|\n",
      "|         Nice|  480|\n",
      "|    very good|  459|\n",
      "|Great product|  414|\n",
      "|    Very good|  406|\n",
      "|    excelente|  390|\n",
      "|         nice|  379|\n",
      "|  Works great|  367|\n",
      "+-------------+-----+\n",
      "only showing top 20 rows\n",
      "\n"
     ]
    }
   ],
   "source": [
    "df.groupBy('review_body').count().orderBy(desc('count')).show()"
   ]
  },
  {
   "cell_type": "code",
   "execution_count": 62,
   "id": "26a406a2",
   "metadata": {},
   "outputs": [
    {
     "name": "stdout",
     "output_type": "stream",
     "text": [
      "\n",
      "Missing values:\n",
      "marketplace: 0\n",
      "customer_id: 0\n",
      "review_id: 0\n",
      "product_id: 0\n",
      "product_parent: 0\n",
      "product_title: 0\n",
      "product_category: 0\n",
      "star_rating: 0\n",
      "helpful_votes: 0\n",
      "total_votes: 0\n",
      "vine: 0\n",
      "verified_purchase: 0\n",
      "review_headline: 60\n",
      "review_body: 108\n",
      "review_date: 64\n"
     ]
    }
   ],
   "source": [
    "showMissingValues(df)"
   ]
  },
  {
   "cell_type": "code",
   "execution_count": 63,
   "id": "e91d2b6a",
   "metadata": {},
   "outputs": [
    {
     "data": {
      "text/html": [
       "<div>\n",
       "<style scoped>\n",
       "    .dataframe tbody tr th:only-of-type {\n",
       "        vertical-align: middle;\n",
       "    }\n",
       "\n",
       "    .dataframe tbody tr th {\n",
       "        vertical-align: top;\n",
       "    }\n",
       "\n",
       "    .dataframe thead th {\n",
       "        text-align: right;\n",
       "    }\n",
       "</style>\n",
       "<table border=\"1\" class=\"dataframe\">\n",
       "  <thead>\n",
       "    <tr style=\"text-align: right;\">\n",
       "      <th></th>\n",
       "      <th>marketplace</th>\n",
       "      <th>customer_id</th>\n",
       "      <th>review_id</th>\n",
       "      <th>product_id</th>\n",
       "      <th>product_parent</th>\n",
       "      <th>product_title</th>\n",
       "      <th>product_category</th>\n",
       "      <th>star_rating</th>\n",
       "      <th>helpful_votes</th>\n",
       "      <th>total_votes</th>\n",
       "      <th>vine</th>\n",
       "      <th>verified_purchase</th>\n",
       "      <th>review_headline</th>\n",
       "      <th>review_body</th>\n",
       "      <th>review_date</th>\n",
       "    </tr>\n",
       "  </thead>\n",
       "  <tbody>\n",
       "    <tr>\n",
       "      <th>0</th>\n",
       "      <td>US</td>\n",
       "      <td>20813663</td>\n",
       "      <td>R21EVZD1G1KXVB</td>\n",
       "      <td>B00629OEWS</td>\n",
       "      <td>665819280</td>\n",
       "      <td>Origin8 TA42 Track Rims</td>\n",
       "      <td>Sports</td>\n",
       "      <td>5</td>\n",
       "      <td>0</td>\n",
       "      <td>0</td>\n",
       "      <td>N</td>\n",
       "      <td>Y</td>\n",
       "      <td>Five Stars</td>\n",
       "      <td>None</td>\n",
       "      <td>2015-07-09T00:00:00.000Z</td>\n",
       "    </tr>\n",
       "    <tr>\n",
       "      <th>1</th>\n",
       "      <td>US</td>\n",
       "      <td>30465514</td>\n",
       "      <td>RWDDO61MOV4OH</td>\n",
       "      <td>B007RN1IYK</td>\n",
       "      <td>865681990</td>\n",
       "      <td>Skywalker Trampolines 12-Feet Round Trampoline...</td>\n",
       "      <td>Sports</td>\n",
       "      <td>5</td>\n",
       "      <td>0</td>\n",
       "      <td>0</td>\n",
       "      <td>N</td>\n",
       "      <td>Y</td>\n",
       "      <td>None</td>\n",
       "      <td>Good size, good quality</td>\n",
       "      <td>2015-01-04T00:00:00.000Z</td>\n",
       "    </tr>\n",
       "    <tr>\n",
       "      <th>2</th>\n",
       "      <td>US</td>\n",
       "      <td>39345384</td>\n",
       "      <td>R3UOS98R7PWS2N</td>\n",
       "      <td>B00ACL4LR0</td>\n",
       "      <td>576616467</td>\n",
       "      <td>Paracord Planet Mil-Spec Commercial Grade 550l...</td>\n",
       "      <td>Sports</td>\n",
       "      <td>4</td>\n",
       "      <td>29</td>\n",
       "      <td>35</td>\n",
       "      <td>N</td>\n",
       "      <td>Y</td>\n",
       "      <td>Four Stars</td>\n",
       "      <td>None</td>\n",
       "      <td>2014-09-18T00:00:00.000Z</td>\n",
       "    </tr>\n",
       "    <tr>\n",
       "      <th>3</th>\n",
       "      <td>US</td>\n",
       "      <td>41455465</td>\n",
       "      <td>R32HCIS5ZS4MND</td>\n",
       "      <td>B002BH4U56</td>\n",
       "      <td>505269061</td>\n",
       "      <td>Star Trek: U.S.S. Enterprise NCC-1701 High Def...</td>\n",
       "      <td>Toys</td>\n",
       "      <td>5</td>\n",
       "      <td>14</td>\n",
       "      <td>14</td>\n",
       "      <td>N</td>\n",
       "      <td>Y</td>\n",
       "      <td>They got it right!</td>\n",
       "      <td>None</td>\n",
       "      <td>2015-03-25T00:00:00.000Z</td>\n",
       "    </tr>\n",
       "    <tr>\n",
       "      <th>4</th>\n",
       "      <td>US</td>\n",
       "      <td>33433702</td>\n",
       "      <td>R3H718X1C84591</td>\n",
       "      <td>B000A6U6K8</td>\n",
       "      <td>238514892</td>\n",
       "      <td>Toy State CAT Big Builder Wheel Loader Lands R...</td>\n",
       "      <td>Toys</td>\n",
       "      <td>5</td>\n",
       "      <td>0</td>\n",
       "      <td>0</td>\n",
       "      <td>N</td>\n",
       "      <td>Y</td>\n",
       "      <td>None</td>\n",
       "      <td>Exactly as described, great!</td>\n",
       "      <td>2015-01-23T00:00:00.000Z</td>\n",
       "    </tr>\n",
       "    <tr>\n",
       "      <th>5</th>\n",
       "      <td>US</td>\n",
       "      <td>29246701</td>\n",
       "      <td>R3E6LXEJ5QCHIA</td>\n",
       "      <td>0393320782</td>\n",
       "      <td>736198039</td>\n",
       "      <td>Code of the Street: Decency, Violence, and the...</td>\n",
       "      <td>Books</td>\n",
       "      <td>5</td>\n",
       "      <td>4</td>\n",
       "      <td>5</td>\n",
       "      <td>N</td>\n",
       "      <td>N</td>\n",
       "      <td>None</td>\n",
       "      <td>This book should be mandatory reading for anyo...</td>\n",
       "      <td>2005-04-16T00:00:00.000Z</td>\n",
       "    </tr>\n",
       "    <tr>\n",
       "      <th>6</th>\n",
       "      <td>US</td>\n",
       "      <td>13013663</td>\n",
       "      <td>R2Y0CEYQPCDUPH</td>\n",
       "      <td>B001O01KE0</td>\n",
       "      <td>264615420</td>\n",
       "      <td>Drippin' Wet</td>\n",
       "      <td>Digital_Music_Purchase</td>\n",
       "      <td>5</td>\n",
       "      <td>0</td>\n",
       "      <td>0</td>\n",
       "      <td>N</td>\n",
       "      <td>Y</td>\n",
       "      <td>Stoop down baby</td>\n",
       "      <td>None</td>\n",
       "      <td>2015-07-09T00:00:00.000Z</td>\n",
       "    </tr>\n",
       "    <tr>\n",
       "      <th>7</th>\n",
       "      <td>US</td>\n",
       "      <td>51337633</td>\n",
       "      <td>R164OBU2RBPL5D</td>\n",
       "      <td>B00138CSLM</td>\n",
       "      <td>436023672</td>\n",
       "      <td>Black &amp; White Night</td>\n",
       "      <td>Digital_Music_Purchase</td>\n",
       "      <td>5</td>\n",
       "      <td>0</td>\n",
       "      <td>0</td>\n",
       "      <td>N</td>\n",
       "      <td>N</td>\n",
       "      <td>EXCELLENT! Also have this show on a DVD, ...\\t...</td>\n",
       "      <td>None</td>\n",
       "      <td>None</td>\n",
       "    </tr>\n",
       "    <tr>\n",
       "      <th>8</th>\n",
       "      <td>US</td>\n",
       "      <td>7235219</td>\n",
       "      <td>R30DW5GAUIAGJO</td>\n",
       "      <td>B00C5XG6XA</td>\n",
       "      <td>611455629</td>\n",
       "      <td>Redeemed</td>\n",
       "      <td>Digital_Music_Purchase</td>\n",
       "      <td>2</td>\n",
       "      <td>0</td>\n",
       "      <td>0</td>\n",
       "      <td>N</td>\n",
       "      <td>Y</td>\n",
       "      <td>I am in the process of learning this wonderful...</td>\n",
       "      <td>None</td>\n",
       "      <td>None</td>\n",
       "    </tr>\n",
       "    <tr>\n",
       "      <th>9</th>\n",
       "      <td>US</td>\n",
       "      <td>4252573</td>\n",
       "      <td>R3FTX5EKLXUL5O</td>\n",
       "      <td>B001RJSNG6</td>\n",
       "      <td>421460338</td>\n",
       "      <td>Secrets</td>\n",
       "      <td>Digital_Music_Purchase</td>\n",
       "      <td>5</td>\n",
       "      <td>0</td>\n",
       "      <td>0</td>\n",
       "      <td>N</td>\n",
       "      <td>Y</td>\n",
       "      <td>\" just like some good ole Kentucky Fried Chick...</td>\n",
       "      <td>2014-09-05</td>\n",
       "      <td>None</td>\n",
       "    </tr>\n",
       "  </tbody>\n",
       "</table>\n",
       "</div>"
      ],
      "text/plain": [
       "  marketplace customer_id       review_id  product_id product_parent  \\\n",
       "0          US    20813663  R21EVZD1G1KXVB  B00629OEWS      665819280   \n",
       "1          US    30465514   RWDDO61MOV4OH  B007RN1IYK      865681990   \n",
       "2          US    39345384  R3UOS98R7PWS2N  B00ACL4LR0      576616467   \n",
       "3          US    41455465  R32HCIS5ZS4MND  B002BH4U56      505269061   \n",
       "4          US    33433702  R3H718X1C84591  B000A6U6K8      238514892   \n",
       "5          US    29246701  R3E6LXEJ5QCHIA  0393320782      736198039   \n",
       "6          US    13013663  R2Y0CEYQPCDUPH  B001O01KE0      264615420   \n",
       "7          US    51337633  R164OBU2RBPL5D  B00138CSLM      436023672   \n",
       "8          US     7235219  R30DW5GAUIAGJO  B00C5XG6XA      611455629   \n",
       "9          US     4252573  R3FTX5EKLXUL5O  B001RJSNG6      421460338   \n",
       "\n",
       "                                       product_title        product_category  \\\n",
       "0                            Origin8 TA42 Track Rims                  Sports   \n",
       "1  Skywalker Trampolines 12-Feet Round Trampoline...                  Sports   \n",
       "2  Paracord Planet Mil-Spec Commercial Grade 550l...                  Sports   \n",
       "3  Star Trek: U.S.S. Enterprise NCC-1701 High Def...                    Toys   \n",
       "4  Toy State CAT Big Builder Wheel Loader Lands R...                    Toys   \n",
       "5  Code of the Street: Decency, Violence, and the...                   Books   \n",
       "6                                       Drippin' Wet  Digital_Music_Purchase   \n",
       "7                                Black & White Night  Digital_Music_Purchase   \n",
       "8                                           Redeemed  Digital_Music_Purchase   \n",
       "9                                            Secrets  Digital_Music_Purchase   \n",
       "\n",
       "   star_rating helpful_votes total_votes vine verified_purchase  \\\n",
       "0            5             0           0    N                 Y   \n",
       "1            5             0           0    N                 Y   \n",
       "2            4            29          35    N                 Y   \n",
       "3            5            14          14    N                 Y   \n",
       "4            5             0           0    N                 Y   \n",
       "5            5             4           5    N                 N   \n",
       "6            5             0           0    N                 Y   \n",
       "7            5             0           0    N                 N   \n",
       "8            2             0           0    N                 Y   \n",
       "9            5             0           0    N                 Y   \n",
       "\n",
       "                                     review_headline  \\\n",
       "0                                         Five Stars   \n",
       "1                                               None   \n",
       "2                                         Four Stars   \n",
       "3                                 They got it right!   \n",
       "4                                               None   \n",
       "5                                               None   \n",
       "6                                    Stoop down baby   \n",
       "7  EXCELLENT! Also have this show on a DVD, ...\\t...   \n",
       "8  I am in the process of learning this wonderful...   \n",
       "9  \" just like some good ole Kentucky Fried Chick...   \n",
       "\n",
       "                                         review_body               review_date  \n",
       "0                                               None  2015-07-09T00:00:00.000Z  \n",
       "1                            Good size, good quality  2015-01-04T00:00:00.000Z  \n",
       "2                                               None  2014-09-18T00:00:00.000Z  \n",
       "3                                               None  2015-03-25T00:00:00.000Z  \n",
       "4                       Exactly as described, great!  2015-01-23T00:00:00.000Z  \n",
       "5  This book should be mandatory reading for anyo...  2005-04-16T00:00:00.000Z  \n",
       "6                                               None  2015-07-09T00:00:00.000Z  \n",
       "7                                               None                      None  \n",
       "8                                               None                      None  \n",
       "9                                         2014-09-05                      None  "
      ]
     },
     "execution_count": 63,
     "metadata": {},
     "output_type": "execute_result"
    }
   ],
   "source": [
    "df.filter((isnull('review_headline')) | (isnull('review_body')) | (isnull('review_date'))).limit(10).toPandas()"
   ]
  },
  {
   "cell_type": "code",
   "execution_count": 64,
   "id": "861da9dd",
   "metadata": {},
   "outputs": [],
   "source": [
    "# Define the regular expression pattern to match the format \"yyyy-mm-dd\"\n",
    "date_pattern = r\"\\d{4}-\\d{2}-\\d{2}\"\n",
    "\n",
    "\n",
    "\n",
    "\n"
   ]
  },
  {
   "cell_type": "code",
   "execution_count": 65,
   "id": "2df137e7",
   "metadata": {},
   "outputs": [
    {
     "data": {
      "text/plain": [
       "14"
      ]
     },
     "execution_count": 65,
     "metadata": {},
     "output_type": "execute_result"
    }
   ],
   "source": [
    "df.filter(col(\"review_body\")\n",
    "    .rlike(date_pattern)  & isnull(col(\"review_date\"))\n",
    "  ).count()"
   ]
  },
  {
   "cell_type": "code",
   "execution_count": 66,
   "id": "269e8e5e",
   "metadata": {
    "scrolled": false
   },
   "outputs": [
    {
     "data": {
      "text/html": [
       "<div>\n",
       "<style scoped>\n",
       "    .dataframe tbody tr th:only-of-type {\n",
       "        vertical-align: middle;\n",
       "    }\n",
       "\n",
       "    .dataframe tbody tr th {\n",
       "        vertical-align: top;\n",
       "    }\n",
       "\n",
       "    .dataframe thead th {\n",
       "        text-align: right;\n",
       "    }\n",
       "</style>\n",
       "<table border=\"1\" class=\"dataframe\">\n",
       "  <thead>\n",
       "    <tr style=\"text-align: right;\">\n",
       "      <th></th>\n",
       "      <th>marketplace</th>\n",
       "      <th>customer_id</th>\n",
       "      <th>review_id</th>\n",
       "      <th>product_id</th>\n",
       "      <th>product_parent</th>\n",
       "      <th>product_title</th>\n",
       "      <th>product_category</th>\n",
       "      <th>star_rating</th>\n",
       "      <th>helpful_votes</th>\n",
       "      <th>total_votes</th>\n",
       "      <th>vine</th>\n",
       "      <th>verified_purchase</th>\n",
       "      <th>review_headline</th>\n",
       "      <th>review_body</th>\n",
       "      <th>review_date</th>\n",
       "    </tr>\n",
       "  </thead>\n",
       "  <tbody>\n",
       "    <tr>\n",
       "      <th>0</th>\n",
       "      <td>US</td>\n",
       "      <td>4252573</td>\n",
       "      <td>R3FTX5EKLXUL5O</td>\n",
       "      <td>B001RJSNG6</td>\n",
       "      <td>421460338</td>\n",
       "      <td>Secrets</td>\n",
       "      <td>Digital_Music_Purchase</td>\n",
       "      <td>5</td>\n",
       "      <td>0</td>\n",
       "      <td>0</td>\n",
       "      <td>N</td>\n",
       "      <td>Y</td>\n",
       "      <td>\" just like some good ole Kentucky Fried Chick...</td>\n",
       "      <td>2014-09-05</td>\n",
       "      <td>None</td>\n",
       "    </tr>\n",
       "    <tr>\n",
       "      <th>1</th>\n",
       "      <td>US</td>\n",
       "      <td>45566062</td>\n",
       "      <td>R2XYGMALN7X3Q0</td>\n",
       "      <td>B00138JBLW</td>\n",
       "      <td>335252461</td>\n",
       "      <td>Dream Of A Lifetime</td>\n",
       "      <td>Digital_Music_Purchase</td>\n",
       "      <td>5</td>\n",
       "      <td>0</td>\n",
       "      <td>0</td>\n",
       "      <td>N</td>\n",
       "      <td>N</td>\n",
       "      <td>\"Its all good.'\\tIF M GAY HAD TO0 HAVE A LAST ...</td>\n",
       "      <td>2012-01-20</td>\n",
       "      <td>None</td>\n",
       "    </tr>\n",
       "    <tr>\n",
       "      <th>2</th>\n",
       "      <td>US</td>\n",
       "      <td>32308077</td>\n",
       "      <td>R3SI1MVHU7YCG8</td>\n",
       "      <td>0440414806</td>\n",
       "      <td>159975375</td>\n",
       "      <td>Holes</td>\n",
       "      <td>Books</td>\n",
       "      <td>5</td>\n",
       "      <td>0</td>\n",
       "      <td>0</td>\n",
       "      <td>N</td>\n",
       "      <td>N</td>\n",
       "      <td>\"Holes ' Helps Children Dig Into Reading\\tFrom...</td>\n",
       "      <td>2003-09-17</td>\n",
       "      <td>None</td>\n",
       "    </tr>\n",
       "    <tr>\n",
       "      <th>3</th>\n",
       "      <td>US</td>\n",
       "      <td>25495441</td>\n",
       "      <td>RKAT3A16B7RQK</td>\n",
       "      <td>B000083JWE</td>\n",
       "      <td>729019812</td>\n",
       "      <td>The Best Of</td>\n",
       "      <td>Music</td>\n",
       "      <td>2</td>\n",
       "      <td>48</td>\n",
       "      <td>51</td>\n",
       "      <td>N</td>\n",
       "      <td>N</td>\n",
       "      <td>\"Mauriat's Best ?\\tI was looking forward to re...</td>\n",
       "      <td>2005-09-29</td>\n",
       "      <td>None</td>\n",
       "    </tr>\n",
       "    <tr>\n",
       "      <th>4</th>\n",
       "      <td>US</td>\n",
       "      <td>49583354</td>\n",
       "      <td>R2FPJ80HT9D749</td>\n",
       "      <td>B0009X7BHI</td>\n",
       "      <td>405822548</td>\n",
       "      <td>Vincent &amp; Theo (1990)</td>\n",
       "      <td>Video DVD</td>\n",
       "      <td>5</td>\n",
       "      <td>3</td>\n",
       "      <td>5</td>\n",
       "      <td>N</td>\n",
       "      <td>N</td>\n",
       "      <td>\"Now I think I know what you tried to say to m...</td>\n",
       "      <td>2007-04-17</td>\n",
       "      <td>None</td>\n",
       "    </tr>\n",
       "    <tr>\n",
       "      <th>5</th>\n",
       "      <td>US</td>\n",
       "      <td>11314966</td>\n",
       "      <td>R2UMEQGZHNST7F</td>\n",
       "      <td>B000P0J0EW</td>\n",
       "      <td>484638351</td>\n",
       "      <td>The Shawshank Redemption (Single-Disc Edition)</td>\n",
       "      <td>Video DVD</td>\n",
       "      <td>5</td>\n",
       "      <td>1</td>\n",
       "      <td>1</td>\n",
       "      <td>N</td>\n",
       "      <td>Y</td>\n",
       "      <td>\"Shawshenk Redemption Redux\\tIt was and remain...</td>\n",
       "      <td>2011-09-22</td>\n",
       "      <td>None</td>\n",
       "    </tr>\n",
       "    <tr>\n",
       "      <th>6</th>\n",
       "      <td>US</td>\n",
       "      <td>17571600</td>\n",
       "      <td>R1LWEBBQ2JJ8AF</td>\n",
       "      <td>B005J4X91E</td>\n",
       "      <td>323924094</td>\n",
       "      <td>Ballad of Mott the Hoople</td>\n",
       "      <td>Video DVD</td>\n",
       "      <td>5</td>\n",
       "      <td>20</td>\n",
       "      <td>27</td>\n",
       "      <td>N</td>\n",
       "      <td>Y</td>\n",
       "      <td>\"...It mesmerizes and I can't explain...\\tMott...</td>\n",
       "      <td>2011-10-31</td>\n",
       "      <td>None</td>\n",
       "    </tr>\n",
       "    <tr>\n",
       "      <th>7</th>\n",
       "      <td>US</td>\n",
       "      <td>28310525</td>\n",
       "      <td>RJA6GERDGIY2X</td>\n",
       "      <td>B00000JGHM</td>\n",
       "      <td>429439461</td>\n",
       "      <td>Heat</td>\n",
       "      <td>Video DVD</td>\n",
       "      <td>5</td>\n",
       "      <td>2</td>\n",
       "      <td>3</td>\n",
       "      <td>N</td>\n",
       "      <td>N</td>\n",
       "      <td>\"One Of The Best Films Of The 90's\\tThis is pr...</td>\n",
       "      <td>2004-08-31</td>\n",
       "      <td>None</td>\n",
       "    </tr>\n",
       "    <tr>\n",
       "      <th>8</th>\n",
       "      <td>US</td>\n",
       "      <td>50279273</td>\n",
       "      <td>R2DKCDZUTWKM0W</td>\n",
       "      <td>B001NFNFMQ</td>\n",
       "      <td>480707423</td>\n",
       "      <td>Jillian Michaels - No More Trouble Zones</td>\n",
       "      <td>Video DVD</td>\n",
       "      <td>5</td>\n",
       "      <td>4</td>\n",
       "      <td>5</td>\n",
       "      <td>N</td>\n",
       "      <td>Y</td>\n",
       "      <td>\" I'm feeling better than ever\\tI also own Jil...</td>\n",
       "      <td>2014-10-24</td>\n",
       "      <td>None</td>\n",
       "    </tr>\n",
       "    <tr>\n",
       "      <th>9</th>\n",
       "      <td>US</td>\n",
       "      <td>52575421</td>\n",
       "      <td>RLVIZX444O4N1</td>\n",
       "      <td>6301969588</td>\n",
       "      <td>76845203</td>\n",
       "      <td>Freaks [VHS]</td>\n",
       "      <td>Video</td>\n",
       "      <td>4</td>\n",
       "      <td>3</td>\n",
       "      <td>6</td>\n",
       "      <td>N</td>\n",
       "      <td>Y</td>\n",
       "      <td>\"Gooble gobble, we accept, you, one of us! one...</td>\n",
       "      <td>2002-09-01</td>\n",
       "      <td>None</td>\n",
       "    </tr>\n",
       "  </tbody>\n",
       "</table>\n",
       "</div>"
      ],
      "text/plain": [
       "  marketplace customer_id       review_id  product_id product_parent  \\\n",
       "0          US     4252573  R3FTX5EKLXUL5O  B001RJSNG6      421460338   \n",
       "1          US    45566062  R2XYGMALN7X3Q0  B00138JBLW      335252461   \n",
       "2          US    32308077  R3SI1MVHU7YCG8  0440414806      159975375   \n",
       "3          US    25495441   RKAT3A16B7RQK  B000083JWE      729019812   \n",
       "4          US    49583354  R2FPJ80HT9D749  B0009X7BHI      405822548   \n",
       "5          US    11314966  R2UMEQGZHNST7F  B000P0J0EW      484638351   \n",
       "6          US    17571600  R1LWEBBQ2JJ8AF  B005J4X91E      323924094   \n",
       "7          US    28310525   RJA6GERDGIY2X  B00000JGHM      429439461   \n",
       "8          US    50279273  R2DKCDZUTWKM0W  B001NFNFMQ      480707423   \n",
       "9          US    52575421   RLVIZX444O4N1  6301969588       76845203   \n",
       "\n",
       "                                    product_title        product_category  \\\n",
       "0                                         Secrets  Digital_Music_Purchase   \n",
       "1                             Dream Of A Lifetime  Digital_Music_Purchase   \n",
       "2                                           Holes                   Books   \n",
       "3                                     The Best Of                   Music   \n",
       "4                           Vincent & Theo (1990)               Video DVD   \n",
       "5  The Shawshank Redemption (Single-Disc Edition)               Video DVD   \n",
       "6                       Ballad of Mott the Hoople               Video DVD   \n",
       "7                                            Heat               Video DVD   \n",
       "8        Jillian Michaels - No More Trouble Zones               Video DVD   \n",
       "9                                    Freaks [VHS]                   Video   \n",
       "\n",
       "   star_rating helpful_votes total_votes vine verified_purchase  \\\n",
       "0            5             0           0    N                 Y   \n",
       "1            5             0           0    N                 N   \n",
       "2            5             0           0    N                 N   \n",
       "3            2            48          51    N                 N   \n",
       "4            5             3           5    N                 N   \n",
       "5            5             1           1    N                 Y   \n",
       "6            5            20          27    N                 Y   \n",
       "7            5             2           3    N                 N   \n",
       "8            5             4           5    N                 Y   \n",
       "9            4             3           6    N                 Y   \n",
       "\n",
       "                                     review_headline review_body review_date  \n",
       "0  \" just like some good ole Kentucky Fried Chick...  2014-09-05        None  \n",
       "1  \"Its all good.'\\tIF M GAY HAD TO0 HAVE A LAST ...  2012-01-20        None  \n",
       "2  \"Holes ' Helps Children Dig Into Reading\\tFrom...  2003-09-17        None  \n",
       "3  \"Mauriat's Best ?\\tI was looking forward to re...  2005-09-29        None  \n",
       "4  \"Now I think I know what you tried to say to m...  2007-04-17        None  \n",
       "5  \"Shawshenk Redemption Redux\\tIt was and remain...  2011-09-22        None  \n",
       "6  \"...It mesmerizes and I can't explain...\\tMott...  2011-10-31        None  \n",
       "7  \"One Of The Best Films Of The 90's\\tThis is pr...  2004-08-31        None  \n",
       "8  \" I'm feeling better than ever\\tI also own Jil...  2014-10-24        None  \n",
       "9  \"Gooble gobble, we accept, you, one of us! one...  2002-09-01        None  "
      ]
     },
     "execution_count": 66,
     "metadata": {},
     "output_type": "execute_result"
    }
   ],
   "source": [
    "df.filter(col(\"review_body\")\n",
    "    .rlike(date_pattern) & isnull(col(\"review_date\"))\n",
    "  ).limit(10).toPandas()"
   ]
  },
  {
   "cell_type": "code",
   "execution_count": 67,
   "id": "3505f550",
   "metadata": {},
   "outputs": [],
   "source": [
    "# Replace the review body with an empty string if it matches the pattern\n",
    "df = df.withColumn(\"review_date_2\", when(df[\"review_body\"].rlike(date_pattern) & df[\"review_body\"].isNull(), \"\")\\\n",
    "                     .otherwise(\"\"))"
   ]
  },
  {
   "cell_type": "code",
   "execution_count": 68,
   "id": "8f2bda0b",
   "metadata": {},
   "outputs": [
    {
     "data": {
      "text/html": [
       "<div>\n",
       "<style scoped>\n",
       "    .dataframe tbody tr th:only-of-type {\n",
       "        vertical-align: middle;\n",
       "    }\n",
       "\n",
       "    .dataframe tbody tr th {\n",
       "        vertical-align: top;\n",
       "    }\n",
       "\n",
       "    .dataframe thead th {\n",
       "        text-align: right;\n",
       "    }\n",
       "</style>\n",
       "<table border=\"1\" class=\"dataframe\">\n",
       "  <thead>\n",
       "    <tr style=\"text-align: right;\">\n",
       "      <th></th>\n",
       "      <th>marketplace</th>\n",
       "      <th>customer_id</th>\n",
       "      <th>review_id</th>\n",
       "      <th>product_id</th>\n",
       "      <th>product_parent</th>\n",
       "      <th>product_title</th>\n",
       "      <th>product_category</th>\n",
       "      <th>star_rating</th>\n",
       "      <th>helpful_votes</th>\n",
       "      <th>total_votes</th>\n",
       "      <th>vine</th>\n",
       "      <th>verified_purchase</th>\n",
       "      <th>review_headline</th>\n",
       "      <th>review_body</th>\n",
       "      <th>review_date</th>\n",
       "      <th>review_date_2</th>\n",
       "    </tr>\n",
       "  </thead>\n",
       "  <tbody>\n",
       "  </tbody>\n",
       "</table>\n",
       "</div>"
      ],
      "text/plain": [
       "Empty DataFrame\n",
       "Columns: [marketplace, customer_id, review_id, product_id, product_parent, product_title, product_category, star_rating, helpful_votes, total_votes, vine, verified_purchase, review_headline, review_body, review_date, review_date_2]\n",
       "Index: []"
      ]
     },
     "execution_count": 68,
     "metadata": {},
     "output_type": "execute_result"
    }
   ],
   "source": [
    "df.filter((col(\"review_date_2\")!=\"\") & isnull(col(\"review_date\"))).limit(5).toPandas()"
   ]
  },
  {
   "cell_type": "code",
   "execution_count": 69,
   "id": "3b2fde69",
   "metadata": {},
   "outputs": [],
   "source": [
    "# Replace review_date with review_date2 when review_date is null and review_date2 is not empty\n",
    "df = df.withColumn(\"review_date\", when((isnull(col(\"review_date\"))) & (col(\"review_date_2\") != \"\"), col(\"review_date_2\"))\\\n",
    "                   .otherwise(col(\"review_date\")))"
   ]
  },
  {
   "cell_type": "code",
   "execution_count": 70,
   "id": "30d55101",
   "metadata": {},
   "outputs": [],
   "source": [
    "# Replace the review body with an empty string if it matches the pattern\n",
    "df = df.withColumn(\"review_body\", when(col(\"review_body\").rlike(date_pattern), None)\\\n",
    "                       .otherwise(col(\"review_body\")))\n"
   ]
  },
  {
   "cell_type": "code",
   "execution_count": 71,
   "id": "9abba115",
   "metadata": {},
   "outputs": [],
   "source": [
    "# Define the regular expression pattern to match the format \"yyyy-mm-dd\"\n",
    "date_pattern = r\"^\\d{4}-\\d{2}-\\d{2}$\"\n"
   ]
  },
  {
   "cell_type": "code",
   "execution_count": 72,
   "id": "125ab768",
   "metadata": {},
   "outputs": [
    {
     "data": {
      "text/html": [
       "<div>\n",
       "<style scoped>\n",
       "    .dataframe tbody tr th:only-of-type {\n",
       "        vertical-align: middle;\n",
       "    }\n",
       "\n",
       "    .dataframe tbody tr th {\n",
       "        vertical-align: top;\n",
       "    }\n",
       "\n",
       "    .dataframe thead th {\n",
       "        text-align: right;\n",
       "    }\n",
       "</style>\n",
       "<table border=\"1\" class=\"dataframe\">\n",
       "  <thead>\n",
       "    <tr style=\"text-align: right;\">\n",
       "      <th></th>\n",
       "      <th>marketplace</th>\n",
       "      <th>customer_id</th>\n",
       "      <th>review_id</th>\n",
       "      <th>product_id</th>\n",
       "      <th>product_parent</th>\n",
       "      <th>product_title</th>\n",
       "      <th>product_category</th>\n",
       "      <th>star_rating</th>\n",
       "      <th>helpful_votes</th>\n",
       "      <th>total_votes</th>\n",
       "      <th>vine</th>\n",
       "      <th>verified_purchase</th>\n",
       "      <th>review_headline</th>\n",
       "      <th>review_body</th>\n",
       "      <th>review_date</th>\n",
       "      <th>review_date_2</th>\n",
       "    </tr>\n",
       "  </thead>\n",
       "  <tbody>\n",
       "  </tbody>\n",
       "</table>\n",
       "</div>"
      ],
      "text/plain": [
       "Empty DataFrame\n",
       "Columns: [marketplace, customer_id, review_id, product_id, product_parent, product_title, product_category, star_rating, helpful_votes, total_votes, vine, verified_purchase, review_headline, review_body, review_date, review_date_2]\n",
       "Index: []"
      ]
     },
     "execution_count": 72,
     "metadata": {},
     "output_type": "execute_result"
    }
   ],
   "source": [
    "df.filter(col(\"review_headline\")\n",
    "    .rlike(date_pattern) ).limit(10).toPandas()"
   ]
  },
  {
   "cell_type": "code",
   "execution_count": 73,
   "id": "0fb334b5",
   "metadata": {
    "scrolled": false
   },
   "outputs": [
    {
     "data": {
      "text/html": [
       "<div>\n",
       "<style scoped>\n",
       "    .dataframe tbody tr th:only-of-type {\n",
       "        vertical-align: middle;\n",
       "    }\n",
       "\n",
       "    .dataframe tbody tr th {\n",
       "        vertical-align: top;\n",
       "    }\n",
       "\n",
       "    .dataframe thead th {\n",
       "        text-align: right;\n",
       "    }\n",
       "</style>\n",
       "<table border=\"1\" class=\"dataframe\">\n",
       "  <thead>\n",
       "    <tr style=\"text-align: right;\">\n",
       "      <th></th>\n",
       "      <th>marketplace</th>\n",
       "      <th>customer_id</th>\n",
       "      <th>review_id</th>\n",
       "      <th>product_id</th>\n",
       "      <th>product_parent</th>\n",
       "      <th>product_title</th>\n",
       "      <th>product_category</th>\n",
       "      <th>star_rating</th>\n",
       "      <th>helpful_votes</th>\n",
       "      <th>total_votes</th>\n",
       "      <th>vine</th>\n",
       "      <th>verified_purchase</th>\n",
       "      <th>review_headline</th>\n",
       "      <th>review_body</th>\n",
       "      <th>review_date</th>\n",
       "      <th>review_date_2</th>\n",
       "    </tr>\n",
       "  </thead>\n",
       "  <tbody>\n",
       "    <tr>\n",
       "      <th>0</th>\n",
       "      <td>US</td>\n",
       "      <td>52306962</td>\n",
       "      <td>R23YRANOMDQAOF</td>\n",
       "      <td>B003RXL7KY</td>\n",
       "      <td>111969204</td>\n",
       "      <td>Mossy Oak Cloth Tape (Mossy Oak Break-Up), 2\" ...</td>\n",
       "      <td>Sports</td>\n",
       "      <td>5</td>\n",
       "      <td>3</td>\n",
       "      <td>4</td>\n",
       "      <td>N</td>\n",
       "      <td>Y</td>\n",
       "      <td>I like this... it works.</td>\n",
       "      <td>None</td>\n",
       "      <td>2011-02-10T00:00:00.000Z</td>\n",
       "      <td></td>\n",
       "    </tr>\n",
       "    <tr>\n",
       "      <th>1</th>\n",
       "      <td>US</td>\n",
       "      <td>18708513</td>\n",
       "      <td>RNWWK8NG44HL1</td>\n",
       "      <td>B001F4SK3E</td>\n",
       "      <td>351610450</td>\n",
       "      <td>MTech USA MT-317 Folding Tactical Knife, Stile...</td>\n",
       "      <td>Sports</td>\n",
       "      <td>4</td>\n",
       "      <td>94</td>\n",
       "      <td>110</td>\n",
       "      <td>N</td>\n",
       "      <td>Y</td>\n",
       "      <td>Mixed feelings-- hard to open</td>\n",
       "      <td>None</td>\n",
       "      <td>2012-02-02T00:00:00.000Z</td>\n",
       "      <td></td>\n",
       "    </tr>\n",
       "    <tr>\n",
       "      <th>2</th>\n",
       "      <td>US</td>\n",
       "      <td>20813663</td>\n",
       "      <td>R21EVZD1G1KXVB</td>\n",
       "      <td>B00629OEWS</td>\n",
       "      <td>665819280</td>\n",
       "      <td>Origin8 TA42 Track Rims</td>\n",
       "      <td>Sports</td>\n",
       "      <td>5</td>\n",
       "      <td>0</td>\n",
       "      <td>0</td>\n",
       "      <td>N</td>\n",
       "      <td>Y</td>\n",
       "      <td>Five Stars</td>\n",
       "      <td>None</td>\n",
       "      <td>2015-07-09T00:00:00.000Z</td>\n",
       "      <td></td>\n",
       "    </tr>\n",
       "    <tr>\n",
       "      <th>3</th>\n",
       "      <td>US</td>\n",
       "      <td>39345384</td>\n",
       "      <td>R3UOS98R7PWS2N</td>\n",
       "      <td>B00ACL4LR0</td>\n",
       "      <td>576616467</td>\n",
       "      <td>Paracord Planet Mil-Spec Commercial Grade 550l...</td>\n",
       "      <td>Sports</td>\n",
       "      <td>4</td>\n",
       "      <td>29</td>\n",
       "      <td>35</td>\n",
       "      <td>N</td>\n",
       "      <td>Y</td>\n",
       "      <td>Four Stars</td>\n",
       "      <td>None</td>\n",
       "      <td>2014-09-18T00:00:00.000Z</td>\n",
       "      <td></td>\n",
       "    </tr>\n",
       "    <tr>\n",
       "      <th>4</th>\n",
       "      <td>US</td>\n",
       "      <td>41455465</td>\n",
       "      <td>R32HCIS5ZS4MND</td>\n",
       "      <td>B002BH4U56</td>\n",
       "      <td>505269061</td>\n",
       "      <td>Star Trek: U.S.S. Enterprise NCC-1701 High Def...</td>\n",
       "      <td>Toys</td>\n",
       "      <td>5</td>\n",
       "      <td>14</td>\n",
       "      <td>14</td>\n",
       "      <td>N</td>\n",
       "      <td>Y</td>\n",
       "      <td>They got it right!</td>\n",
       "      <td>None</td>\n",
       "      <td>2015-03-25T00:00:00.000Z</td>\n",
       "      <td></td>\n",
       "    </tr>\n",
       "    <tr>\n",
       "      <th>5</th>\n",
       "      <td>US</td>\n",
       "      <td>52453104</td>\n",
       "      <td>R2FWTH6QM5KX3R</td>\n",
       "      <td>B00L1LGIU8</td>\n",
       "      <td>791188769</td>\n",
       "      <td>Pull and Stretch Bounce Ball, Squeeze It, Stre...</td>\n",
       "      <td>Toys</td>\n",
       "      <td>2</td>\n",
       "      <td>23</td>\n",
       "      <td>26</td>\n",
       "      <td>N</td>\n",
       "      <td>Y</td>\n",
       "      <td>Would be okay if they get rid of the air pockets</td>\n",
       "      <td>None</td>\n",
       "      <td>2014-10-27T00:00:00.000Z</td>\n",
       "      <td></td>\n",
       "    </tr>\n",
       "    <tr>\n",
       "      <th>6</th>\n",
       "      <td>US</td>\n",
       "      <td>13013663</td>\n",
       "      <td>R2Y0CEYQPCDUPH</td>\n",
       "      <td>B001O01KE0</td>\n",
       "      <td>264615420</td>\n",
       "      <td>Drippin' Wet</td>\n",
       "      <td>Digital_Music_Purchase</td>\n",
       "      <td>5</td>\n",
       "      <td>0</td>\n",
       "      <td>0</td>\n",
       "      <td>N</td>\n",
       "      <td>Y</td>\n",
       "      <td>Stoop down baby</td>\n",
       "      <td>None</td>\n",
       "      <td>2015-07-09T00:00:00.000Z</td>\n",
       "      <td></td>\n",
       "    </tr>\n",
       "    <tr>\n",
       "      <th>7</th>\n",
       "      <td>US</td>\n",
       "      <td>51337633</td>\n",
       "      <td>R164OBU2RBPL5D</td>\n",
       "      <td>B00138CSLM</td>\n",
       "      <td>436023672</td>\n",
       "      <td>Black &amp; White Night</td>\n",
       "      <td>Digital_Music_Purchase</td>\n",
       "      <td>5</td>\n",
       "      <td>0</td>\n",
       "      <td>0</td>\n",
       "      <td>N</td>\n",
       "      <td>N</td>\n",
       "      <td>EXCELLENT! Also have this show on a DVD, ...\\t...</td>\n",
       "      <td>None</td>\n",
       "      <td>None</td>\n",
       "      <td></td>\n",
       "    </tr>\n",
       "    <tr>\n",
       "      <th>8</th>\n",
       "      <td>US</td>\n",
       "      <td>7235219</td>\n",
       "      <td>R30DW5GAUIAGJO</td>\n",
       "      <td>B00C5XG6XA</td>\n",
       "      <td>611455629</td>\n",
       "      <td>Redeemed</td>\n",
       "      <td>Digital_Music_Purchase</td>\n",
       "      <td>2</td>\n",
       "      <td>0</td>\n",
       "      <td>0</td>\n",
       "      <td>N</td>\n",
       "      <td>Y</td>\n",
       "      <td>I am in the process of learning this wonderful...</td>\n",
       "      <td>None</td>\n",
       "      <td>None</td>\n",
       "      <td></td>\n",
       "    </tr>\n",
       "    <tr>\n",
       "      <th>9</th>\n",
       "      <td>US</td>\n",
       "      <td>4252573</td>\n",
       "      <td>R3FTX5EKLXUL5O</td>\n",
       "      <td>B001RJSNG6</td>\n",
       "      <td>421460338</td>\n",
       "      <td>Secrets</td>\n",
       "      <td>Digital_Music_Purchase</td>\n",
       "      <td>5</td>\n",
       "      <td>0</td>\n",
       "      <td>0</td>\n",
       "      <td>N</td>\n",
       "      <td>Y</td>\n",
       "      <td>\" just like some good ole Kentucky Fried Chick...</td>\n",
       "      <td>None</td>\n",
       "      <td>None</td>\n",
       "      <td></td>\n",
       "    </tr>\n",
       "  </tbody>\n",
       "</table>\n",
       "</div>"
      ],
      "text/plain": [
       "  marketplace customer_id       review_id  product_id product_parent  \\\n",
       "0          US    52306962  R23YRANOMDQAOF  B003RXL7KY      111969204   \n",
       "1          US    18708513   RNWWK8NG44HL1  B001F4SK3E      351610450   \n",
       "2          US    20813663  R21EVZD1G1KXVB  B00629OEWS      665819280   \n",
       "3          US    39345384  R3UOS98R7PWS2N  B00ACL4LR0      576616467   \n",
       "4          US    41455465  R32HCIS5ZS4MND  B002BH4U56      505269061   \n",
       "5          US    52453104  R2FWTH6QM5KX3R  B00L1LGIU8      791188769   \n",
       "6          US    13013663  R2Y0CEYQPCDUPH  B001O01KE0      264615420   \n",
       "7          US    51337633  R164OBU2RBPL5D  B00138CSLM      436023672   \n",
       "8          US     7235219  R30DW5GAUIAGJO  B00C5XG6XA      611455629   \n",
       "9          US     4252573  R3FTX5EKLXUL5O  B001RJSNG6      421460338   \n",
       "\n",
       "                                       product_title        product_category  \\\n",
       "0  Mossy Oak Cloth Tape (Mossy Oak Break-Up), 2\" ...                  Sports   \n",
       "1  MTech USA MT-317 Folding Tactical Knife, Stile...                  Sports   \n",
       "2                            Origin8 TA42 Track Rims                  Sports   \n",
       "3  Paracord Planet Mil-Spec Commercial Grade 550l...                  Sports   \n",
       "4  Star Trek: U.S.S. Enterprise NCC-1701 High Def...                    Toys   \n",
       "5  Pull and Stretch Bounce Ball, Squeeze It, Stre...                    Toys   \n",
       "6                                       Drippin' Wet  Digital_Music_Purchase   \n",
       "7                                Black & White Night  Digital_Music_Purchase   \n",
       "8                                           Redeemed  Digital_Music_Purchase   \n",
       "9                                            Secrets  Digital_Music_Purchase   \n",
       "\n",
       "   star_rating helpful_votes total_votes vine verified_purchase  \\\n",
       "0            5             3           4    N                 Y   \n",
       "1            4            94         110    N                 Y   \n",
       "2            5             0           0    N                 Y   \n",
       "3            4            29          35    N                 Y   \n",
       "4            5            14          14    N                 Y   \n",
       "5            2            23          26    N                 Y   \n",
       "6            5             0           0    N                 Y   \n",
       "7            5             0           0    N                 N   \n",
       "8            2             0           0    N                 Y   \n",
       "9            5             0           0    N                 Y   \n",
       "\n",
       "                                     review_headline review_body  \\\n",
       "0                           I like this... it works.        None   \n",
       "1                      Mixed feelings-- hard to open        None   \n",
       "2                                         Five Stars        None   \n",
       "3                                         Four Stars        None   \n",
       "4                                 They got it right!        None   \n",
       "5   Would be okay if they get rid of the air pockets        None   \n",
       "6                                    Stoop down baby        None   \n",
       "7  EXCELLENT! Also have this show on a DVD, ...\\t...        None   \n",
       "8  I am in the process of learning this wonderful...        None   \n",
       "9  \" just like some good ole Kentucky Fried Chick...        None   \n",
       "\n",
       "                review_date review_date_2  \n",
       "0  2011-02-10T00:00:00.000Z                \n",
       "1  2012-02-02T00:00:00.000Z                \n",
       "2  2015-07-09T00:00:00.000Z                \n",
       "3  2014-09-18T00:00:00.000Z                \n",
       "4  2015-03-25T00:00:00.000Z                \n",
       "5  2014-10-27T00:00:00.000Z                \n",
       "6  2015-07-09T00:00:00.000Z                \n",
       "7                      None                \n",
       "8                      None                \n",
       "9                      None                "
      ]
     },
     "execution_count": 73,
     "metadata": {},
     "output_type": "execute_result"
    }
   ],
   "source": [
    "df.filter(df[\"review_body\"].isNull()).limit(10).toPandas()"
   ]
  },
  {
   "cell_type": "code",
   "execution_count": 74,
   "id": "3b22c1dc",
   "metadata": {},
   "outputs": [],
   "source": [
    "# Assign review_headline to review_body when review_headline is not null and review_body is null or an empty string\n",
    "df = df.withColumn(\"review_body\", when((col(\"review_headline\").isNotNull()) \\\n",
    "                                       & (col(\"review_body\").isNull() | (col(\"review_body\") == \"\")),\\\n",
    "                                       col(\"review_headline\")).otherwise(col(\"review_body\")))"
   ]
  },
  {
   "cell_type": "code",
   "execution_count": 75,
   "id": "14c71aef",
   "metadata": {},
   "outputs": [
    {
     "name": "stdout",
     "output_type": "stream",
     "text": [
      "\n",
      "Missing values:\n",
      "marketplace: 0\n",
      "customer_id: 0\n",
      "review_id: 0\n",
      "product_id: 0\n",
      "product_parent: 0\n",
      "product_title: 0\n",
      "product_category: 0\n",
      "star_rating: 0\n",
      "helpful_votes: 0\n",
      "total_votes: 0\n",
      "vine: 0\n",
      "verified_purchase: 0\n",
      "review_headline: 60\n",
      "review_body: 0\n",
      "review_date: 64\n",
      "review_date_2: 0\n"
     ]
    }
   ],
   "source": [
    "showMissingValues(df)"
   ]
  },
  {
   "cell_type": "markdown",
   "id": "989380ac",
   "metadata": {},
   "source": [
    "#### review_date"
   ]
  },
  {
   "cell_type": "code",
   "execution_count": 76,
   "id": "cd04249a",
   "metadata": {},
   "outputs": [
    {
     "data": {
      "text/html": [
       "<div>\n",
       "<style scoped>\n",
       "    .dataframe tbody tr th:only-of-type {\n",
       "        vertical-align: middle;\n",
       "    }\n",
       "\n",
       "    .dataframe tbody tr th {\n",
       "        vertical-align: top;\n",
       "    }\n",
       "\n",
       "    .dataframe thead th {\n",
       "        text-align: right;\n",
       "    }\n",
       "</style>\n",
       "<table border=\"1\" class=\"dataframe\">\n",
       "  <thead>\n",
       "    <tr style=\"text-align: right;\">\n",
       "      <th></th>\n",
       "      <th>marketplace</th>\n",
       "      <th>customer_id</th>\n",
       "      <th>review_id</th>\n",
       "      <th>product_id</th>\n",
       "      <th>product_parent</th>\n",
       "      <th>product_title</th>\n",
       "      <th>product_category</th>\n",
       "      <th>star_rating</th>\n",
       "      <th>helpful_votes</th>\n",
       "      <th>total_votes</th>\n",
       "      <th>vine</th>\n",
       "      <th>verified_purchase</th>\n",
       "      <th>review_headline</th>\n",
       "      <th>review_body</th>\n",
       "      <th>review_date</th>\n",
       "      <th>review_date_2</th>\n",
       "    </tr>\n",
       "  </thead>\n",
       "  <tbody>\n",
       "    <tr>\n",
       "      <th>0</th>\n",
       "      <td>US</td>\n",
       "      <td>51337633</td>\n",
       "      <td>R164OBU2RBPL5D</td>\n",
       "      <td>B00138CSLM</td>\n",
       "      <td>436023672</td>\n",
       "      <td>Black &amp; White Night</td>\n",
       "      <td>Digital_Music_Purchase</td>\n",
       "      <td>5</td>\n",
       "      <td>0</td>\n",
       "      <td>0</td>\n",
       "      <td>N</td>\n",
       "      <td>N</td>\n",
       "      <td>EXCELLENT! Also have this show on a DVD, ...\\t...</td>\n",
       "      <td>EXCELLENT! Also have this show on a DVD, ...\\t...</td>\n",
       "      <td>None</td>\n",
       "      <td></td>\n",
       "    </tr>\n",
       "    <tr>\n",
       "      <th>1</th>\n",
       "      <td>US</td>\n",
       "      <td>7235219</td>\n",
       "      <td>R30DW5GAUIAGJO</td>\n",
       "      <td>B00C5XG6XA</td>\n",
       "      <td>611455629</td>\n",
       "      <td>Redeemed</td>\n",
       "      <td>Digital_Music_Purchase</td>\n",
       "      <td>2</td>\n",
       "      <td>0</td>\n",
       "      <td>0</td>\n",
       "      <td>N</td>\n",
       "      <td>Y</td>\n",
       "      <td>I am in the process of learning this wonderful...</td>\n",
       "      <td>I am in the process of learning this wonderful...</td>\n",
       "      <td>None</td>\n",
       "      <td></td>\n",
       "    </tr>\n",
       "    <tr>\n",
       "      <th>2</th>\n",
       "      <td>US</td>\n",
       "      <td>4252573</td>\n",
       "      <td>R3FTX5EKLXUL5O</td>\n",
       "      <td>B001RJSNG6</td>\n",
       "      <td>421460338</td>\n",
       "      <td>Secrets</td>\n",
       "      <td>Digital_Music_Purchase</td>\n",
       "      <td>5</td>\n",
       "      <td>0</td>\n",
       "      <td>0</td>\n",
       "      <td>N</td>\n",
       "      <td>Y</td>\n",
       "      <td>\" just like some good ole Kentucky Fried Chick...</td>\n",
       "      <td>\" just like some good ole Kentucky Fried Chick...</td>\n",
       "      <td>None</td>\n",
       "      <td></td>\n",
       "    </tr>\n",
       "    <tr>\n",
       "      <th>3</th>\n",
       "      <td>US</td>\n",
       "      <td>22028460</td>\n",
       "      <td>R2Z8K50L5GFKNA</td>\n",
       "      <td>B000VWKVSI</td>\n",
       "      <td>515353411</td>\n",
       "      <td>Ah! Leah! (Album Version)</td>\n",
       "      <td>Digital_Music_Purchase</td>\n",
       "      <td>5</td>\n",
       "      <td>0</td>\n",
       "      <td>0</td>\n",
       "      <td>N</td>\n",
       "      <td>Y</td>\n",
       "      <td>has been and still is one of my all-time favor...</td>\n",
       "      <td>has been and still is one of my all-time favor...</td>\n",
       "      <td>None</td>\n",
       "      <td></td>\n",
       "    </tr>\n",
       "    <tr>\n",
       "      <th>4</th>\n",
       "      <td>US</td>\n",
       "      <td>30753448</td>\n",
       "      <td>R34LOIFOPWS1CW</td>\n",
       "      <td>B008593AFA</td>\n",
       "      <td>98784325</td>\n",
       "      <td>Becoming</td>\n",
       "      <td>Digital_Music_Purchase</td>\n",
       "      <td>5</td>\n",
       "      <td>0</td>\n",
       "      <td>0</td>\n",
       "      <td>N</td>\n",
       "      <td>Y</td>\n",
       "      <td>Another lame local band to sit through\\tI saw ...</td>\n",
       "      <td>Another lame local band to sit through\\tI saw ...</td>\n",
       "      <td>None</td>\n",
       "      <td></td>\n",
       "    </tr>\n",
       "  </tbody>\n",
       "</table>\n",
       "</div>"
      ],
      "text/plain": [
       "  marketplace customer_id       review_id  product_id product_parent  \\\n",
       "0          US    51337633  R164OBU2RBPL5D  B00138CSLM      436023672   \n",
       "1          US     7235219  R30DW5GAUIAGJO  B00C5XG6XA      611455629   \n",
       "2          US     4252573  R3FTX5EKLXUL5O  B001RJSNG6      421460338   \n",
       "3          US    22028460  R2Z8K50L5GFKNA  B000VWKVSI      515353411   \n",
       "4          US    30753448  R34LOIFOPWS1CW  B008593AFA       98784325   \n",
       "\n",
       "               product_title        product_category  star_rating  \\\n",
       "0        Black & White Night  Digital_Music_Purchase            5   \n",
       "1                   Redeemed  Digital_Music_Purchase            2   \n",
       "2                    Secrets  Digital_Music_Purchase            5   \n",
       "3  Ah! Leah! (Album Version)  Digital_Music_Purchase            5   \n",
       "4                   Becoming  Digital_Music_Purchase            5   \n",
       "\n",
       "  helpful_votes total_votes vine verified_purchase  \\\n",
       "0             0           0    N                 N   \n",
       "1             0           0    N                 Y   \n",
       "2             0           0    N                 Y   \n",
       "3             0           0    N                 Y   \n",
       "4             0           0    N                 Y   \n",
       "\n",
       "                                     review_headline  \\\n",
       "0  EXCELLENT! Also have this show on a DVD, ...\\t...   \n",
       "1  I am in the process of learning this wonderful...   \n",
       "2  \" just like some good ole Kentucky Fried Chick...   \n",
       "3  has been and still is one of my all-time favor...   \n",
       "4  Another lame local band to sit through\\tI saw ...   \n",
       "\n",
       "                                         review_body review_date review_date_2  \n",
       "0  EXCELLENT! Also have this show on a DVD, ...\\t...        None                \n",
       "1  I am in the process of learning this wonderful...        None                \n",
       "2  \" just like some good ole Kentucky Fried Chick...        None                \n",
       "3  has been and still is one of my all-time favor...        None                \n",
       "4  Another lame local band to sit through\\tI saw ...        None                "
      ]
     },
     "execution_count": 76,
     "metadata": {},
     "output_type": "execute_result"
    }
   ],
   "source": [
    "#return records where review_date is null\n",
    "df.filter(col(\"review_date\").isNull()).limit(5).toPandas()"
   ]
  },
  {
   "cell_type": "code",
   "execution_count": 77,
   "id": "f1c36992",
   "metadata": {},
   "outputs": [
    {
     "data": {
      "text/html": [
       "<div>\n",
       "<style scoped>\n",
       "    .dataframe tbody tr th:only-of-type {\n",
       "        vertical-align: middle;\n",
       "    }\n",
       "\n",
       "    .dataframe tbody tr th {\n",
       "        vertical-align: top;\n",
       "    }\n",
       "\n",
       "    .dataframe thead th {\n",
       "        text-align: right;\n",
       "    }\n",
       "</style>\n",
       "<table border=\"1\" class=\"dataframe\">\n",
       "  <thead>\n",
       "    <tr style=\"text-align: right;\">\n",
       "      <th></th>\n",
       "      <th>marketplace</th>\n",
       "      <th>customer_id</th>\n",
       "      <th>review_id</th>\n",
       "      <th>product_id</th>\n",
       "      <th>product_parent</th>\n",
       "      <th>product_title</th>\n",
       "      <th>product_category</th>\n",
       "      <th>star_rating</th>\n",
       "      <th>helpful_votes</th>\n",
       "      <th>total_votes</th>\n",
       "      <th>vine</th>\n",
       "      <th>verified_purchase</th>\n",
       "      <th>review_headline</th>\n",
       "      <th>review_body</th>\n",
       "      <th>review_date</th>\n",
       "      <th>review_date_2</th>\n",
       "    </tr>\n",
       "  </thead>\n",
       "  <tbody>\n",
       "    <tr>\n",
       "      <th>0</th>\n",
       "      <td>US</td>\n",
       "      <td>26524369</td>\n",
       "      <td>R3HH81BIQ3ZZE1</td>\n",
       "      <td>B00SETTZGE</td>\n",
       "      <td>10327631</td>\n",
       "      <td>RUGGED &amp; DAPPER – Facial Cleanser for Men – 8 ...</td>\n",
       "      <td>Beauty</td>\n",
       "      <td>3</td>\n",
       "      <td>6</td>\n",
       "      <td>11</td>\n",
       "      <td>N</td>\n",
       "      <td>Y</td>\n",
       "      <td>Good/great face wash, poor bottle design</td>\n",
       "      <td>The face wash is great. My skin feels differen...</td>\n",
       "      <td>2015-04-25T00:00:00.000Z</td>\n",
       "      <td></td>\n",
       "    </tr>\n",
       "    <tr>\n",
       "      <th>1</th>\n",
       "      <td>US</td>\n",
       "      <td>26920430</td>\n",
       "      <td>R2R0NREZG6WG2V</td>\n",
       "      <td>B006XY3Y1Y</td>\n",
       "      <td>57006252</td>\n",
       "      <td>Tretinoin Microsphere 0.1% USP w/w 20g</td>\n",
       "      <td>Beauty</td>\n",
       "      <td>4</td>\n",
       "      <td>1</td>\n",
       "      <td>1</td>\n",
       "      <td>N</td>\n",
       "      <td>Y</td>\n",
       "      <td>Works Great</td>\n",
       "      <td>Works well on uneven skin tone, melasma, sun s...</td>\n",
       "      <td>2012-06-08T00:00:00.000Z</td>\n",
       "      <td></td>\n",
       "    </tr>\n",
       "    <tr>\n",
       "      <th>2</th>\n",
       "      <td>US</td>\n",
       "      <td>26523163</td>\n",
       "      <td>R1ZYSPZ3LWHVM4</td>\n",
       "      <td>B008QYE40Y</td>\n",
       "      <td>966404562</td>\n",
       "      <td>Sleek i-Divine Storm Palette Mineral based Eye...</td>\n",
       "      <td>Beauty</td>\n",
       "      <td>5</td>\n",
       "      <td>1</td>\n",
       "      <td>1</td>\n",
       "      <td>N</td>\n",
       "      <td>Y</td>\n",
       "      <td>Wonderful palette!</td>\n",
       "      <td>This eyeshadow palette is wonderful! The color...</td>\n",
       "      <td>2013-05-26T00:00:00.000Z</td>\n",
       "      <td></td>\n",
       "    </tr>\n",
       "    <tr>\n",
       "      <th>3</th>\n",
       "      <td>US</td>\n",
       "      <td>9963368</td>\n",
       "      <td>R3VXVN0I0E1PIV</td>\n",
       "      <td>B004VFXVJW</td>\n",
       "      <td>806462967</td>\n",
       "      <td>The Shave Well Company a TRULY FOG FREE Shower...</td>\n",
       "      <td>Beauty</td>\n",
       "      <td>5</td>\n",
       "      <td>1</td>\n",
       "      <td>1</td>\n",
       "      <td>N</td>\n",
       "      <td>Y</td>\n",
       "      <td>BEST MIRROR EVER</td>\n",
       "      <td>My husband has a very rough beard and therefor...</td>\n",
       "      <td>2012-02-22T00:00:00.000Z</td>\n",
       "      <td></td>\n",
       "    </tr>\n",
       "    <tr>\n",
       "      <th>4</th>\n",
       "      <td>US</td>\n",
       "      <td>2662502</td>\n",
       "      <td>R2H4PHUSEOH4T8</td>\n",
       "      <td>B0009OAHQY</td>\n",
       "      <td>591505715</td>\n",
       "      <td>Claiborne Cologne by Liz Claiborne for men Col...</td>\n",
       "      <td>Beauty</td>\n",
       "      <td>5</td>\n",
       "      <td>1</td>\n",
       "      <td>1</td>\n",
       "      <td>N</td>\n",
       "      <td>Y</td>\n",
       "      <td>Five Stars</td>\n",
       "      <td>Love it</td>\n",
       "      <td>2014-11-13T00:00:00.000Z</td>\n",
       "      <td></td>\n",
       "    </tr>\n",
       "  </tbody>\n",
       "</table>\n",
       "</div>"
      ],
      "text/plain": [
       "  marketplace customer_id       review_id  product_id product_parent  \\\n",
       "0          US    26524369  R3HH81BIQ3ZZE1  B00SETTZGE       10327631   \n",
       "1          US    26920430  R2R0NREZG6WG2V  B006XY3Y1Y       57006252   \n",
       "2          US    26523163  R1ZYSPZ3LWHVM4  B008QYE40Y      966404562   \n",
       "3          US     9963368  R3VXVN0I0E1PIV  B004VFXVJW      806462967   \n",
       "4          US     2662502  R2H4PHUSEOH4T8  B0009OAHQY      591505715   \n",
       "\n",
       "                                       product_title product_category  \\\n",
       "0  RUGGED & DAPPER – Facial Cleanser for Men – 8 ...           Beauty   \n",
       "1             Tretinoin Microsphere 0.1% USP w/w 20g           Beauty   \n",
       "2  Sleek i-Divine Storm Palette Mineral based Eye...           Beauty   \n",
       "3  The Shave Well Company a TRULY FOG FREE Shower...           Beauty   \n",
       "4  Claiborne Cologne by Liz Claiborne for men Col...           Beauty   \n",
       "\n",
       "   star_rating helpful_votes total_votes vine verified_purchase  \\\n",
       "0            3             6          11    N                 Y   \n",
       "1            4             1           1    N                 Y   \n",
       "2            5             1           1    N                 Y   \n",
       "3            5             1           1    N                 Y   \n",
       "4            5             1           1    N                 Y   \n",
       "\n",
       "                            review_headline  \\\n",
       "0  Good/great face wash, poor bottle design   \n",
       "1                               Works Great   \n",
       "2                        Wonderful palette!   \n",
       "3                          BEST MIRROR EVER   \n",
       "4                                Five Stars   \n",
       "\n",
       "                                         review_body  \\\n",
       "0  The face wash is great. My skin feels differen...   \n",
       "1  Works well on uneven skin tone, melasma, sun s...   \n",
       "2  This eyeshadow palette is wonderful! The color...   \n",
       "3  My husband has a very rough beard and therefor...   \n",
       "4                                            Love it   \n",
       "\n",
       "                review_date review_date_2  \n",
       "0  2015-04-25T00:00:00.000Z                \n",
       "1  2012-06-08T00:00:00.000Z                \n",
       "2  2013-05-26T00:00:00.000Z                \n",
       "3  2012-02-22T00:00:00.000Z                \n",
       "4  2014-11-13T00:00:00.000Z                "
      ]
     },
     "execution_count": 77,
     "metadata": {},
     "output_type": "execute_result"
    }
   ],
   "source": [
    "df.limit(5).toPandas()"
   ]
  },
  {
   "cell_type": "code",
   "execution_count": 78,
   "id": "77669f0f",
   "metadata": {},
   "outputs": [],
   "source": [
    "# Convert the date_string column to the datetime format \"yyyy-mm-dd\"\n",
    "df = df.withColumn(\"review_date\", to_date(col(\"review_date\")))"
   ]
  },
  {
   "cell_type": "code",
   "execution_count": 79,
   "id": "de45c742",
   "metadata": {},
   "outputs": [
    {
     "name": "stdout",
     "output_type": "stream",
     "text": [
      "\n",
      "Missing values:\n",
      "review_date: 64\n"
     ]
    }
   ],
   "source": [
    "showMissingValuesByCol(\"review_date\",df)"
   ]
  },
  {
   "cell_type": "code",
   "execution_count": 80,
   "id": "145bc785",
   "metadata": {},
   "outputs": [
    {
     "data": {
      "text/plain": [
       "[('marketplace', 'string'),\n",
       " ('customer_id', 'string'),\n",
       " ('review_id', 'string'),\n",
       " ('product_id', 'string'),\n",
       " ('product_parent', 'string'),\n",
       " ('product_title', 'string'),\n",
       " ('product_category', 'string'),\n",
       " ('star_rating', 'int'),\n",
       " ('helpful_votes', 'string'),\n",
       " ('total_votes', 'string'),\n",
       " ('vine', 'string'),\n",
       " ('verified_purchase', 'string'),\n",
       " ('review_headline', 'string'),\n",
       " ('review_body', 'string'),\n",
       " ('review_date', 'date'),\n",
       " ('review_date_2', 'string')]"
      ]
     },
     "execution_count": 80,
     "metadata": {},
     "output_type": "execute_result"
    }
   ],
   "source": [
    "df.dtypes"
   ]
  },
  {
   "cell_type": "code",
   "execution_count": 81,
   "id": "32ace26b",
   "metadata": {},
   "outputs": [
    {
     "data": {
      "text/html": [
       "<div>\n",
       "<style scoped>\n",
       "    .dataframe tbody tr th:only-of-type {\n",
       "        vertical-align: middle;\n",
       "    }\n",
       "\n",
       "    .dataframe tbody tr th {\n",
       "        vertical-align: top;\n",
       "    }\n",
       "\n",
       "    .dataframe thead th {\n",
       "        text-align: right;\n",
       "    }\n",
       "</style>\n",
       "<table border=\"1\" class=\"dataframe\">\n",
       "  <thead>\n",
       "    <tr style=\"text-align: right;\">\n",
       "      <th></th>\n",
       "      <th>marketplace</th>\n",
       "      <th>customer_id</th>\n",
       "      <th>review_id</th>\n",
       "      <th>product_id</th>\n",
       "      <th>product_parent</th>\n",
       "      <th>product_title</th>\n",
       "      <th>product_category</th>\n",
       "      <th>star_rating</th>\n",
       "      <th>helpful_votes</th>\n",
       "      <th>total_votes</th>\n",
       "      <th>vine</th>\n",
       "      <th>verified_purchase</th>\n",
       "      <th>review_headline</th>\n",
       "      <th>review_body</th>\n",
       "      <th>review_date</th>\n",
       "      <th>review_date_2</th>\n",
       "    </tr>\n",
       "  </thead>\n",
       "  <tbody>\n",
       "    <tr>\n",
       "      <th>0</th>\n",
       "      <td>US</td>\n",
       "      <td>51337633</td>\n",
       "      <td>R164OBU2RBPL5D</td>\n",
       "      <td>B00138CSLM</td>\n",
       "      <td>436023672</td>\n",
       "      <td>Black &amp; White Night</td>\n",
       "      <td>Digital_Music_Purchase</td>\n",
       "      <td>5</td>\n",
       "      <td>0</td>\n",
       "      <td>0</td>\n",
       "      <td>N</td>\n",
       "      <td>N</td>\n",
       "      <td>EXCELLENT! Also have this show on a DVD, ...\\t...</td>\n",
       "      <td>EXCELLENT! Also have this show on a DVD, ...\\t...</td>\n",
       "      <td>None</td>\n",
       "      <td></td>\n",
       "    </tr>\n",
       "    <tr>\n",
       "      <th>1</th>\n",
       "      <td>US</td>\n",
       "      <td>7235219</td>\n",
       "      <td>R30DW5GAUIAGJO</td>\n",
       "      <td>B00C5XG6XA</td>\n",
       "      <td>611455629</td>\n",
       "      <td>Redeemed</td>\n",
       "      <td>Digital_Music_Purchase</td>\n",
       "      <td>2</td>\n",
       "      <td>0</td>\n",
       "      <td>0</td>\n",
       "      <td>N</td>\n",
       "      <td>Y</td>\n",
       "      <td>I am in the process of learning this wonderful...</td>\n",
       "      <td>I am in the process of learning this wonderful...</td>\n",
       "      <td>None</td>\n",
       "      <td></td>\n",
       "    </tr>\n",
       "    <tr>\n",
       "      <th>2</th>\n",
       "      <td>US</td>\n",
       "      <td>4252573</td>\n",
       "      <td>R3FTX5EKLXUL5O</td>\n",
       "      <td>B001RJSNG6</td>\n",
       "      <td>421460338</td>\n",
       "      <td>Secrets</td>\n",
       "      <td>Digital_Music_Purchase</td>\n",
       "      <td>5</td>\n",
       "      <td>0</td>\n",
       "      <td>0</td>\n",
       "      <td>N</td>\n",
       "      <td>Y</td>\n",
       "      <td>\" just like some good ole Kentucky Fried Chick...</td>\n",
       "      <td>\" just like some good ole Kentucky Fried Chick...</td>\n",
       "      <td>None</td>\n",
       "      <td></td>\n",
       "    </tr>\n",
       "    <tr>\n",
       "      <th>3</th>\n",
       "      <td>US</td>\n",
       "      <td>22028460</td>\n",
       "      <td>R2Z8K50L5GFKNA</td>\n",
       "      <td>B000VWKVSI</td>\n",
       "      <td>515353411</td>\n",
       "      <td>Ah! Leah! (Album Version)</td>\n",
       "      <td>Digital_Music_Purchase</td>\n",
       "      <td>5</td>\n",
       "      <td>0</td>\n",
       "      <td>0</td>\n",
       "      <td>N</td>\n",
       "      <td>Y</td>\n",
       "      <td>has been and still is one of my all-time favor...</td>\n",
       "      <td>has been and still is one of my all-time favor...</td>\n",
       "      <td>None</td>\n",
       "      <td></td>\n",
       "    </tr>\n",
       "    <tr>\n",
       "      <th>4</th>\n",
       "      <td>US</td>\n",
       "      <td>30753448</td>\n",
       "      <td>R34LOIFOPWS1CW</td>\n",
       "      <td>B008593AFA</td>\n",
       "      <td>98784325</td>\n",
       "      <td>Becoming</td>\n",
       "      <td>Digital_Music_Purchase</td>\n",
       "      <td>5</td>\n",
       "      <td>0</td>\n",
       "      <td>0</td>\n",
       "      <td>N</td>\n",
       "      <td>Y</td>\n",
       "      <td>Another lame local band to sit through\\tI saw ...</td>\n",
       "      <td>Another lame local band to sit through\\tI saw ...</td>\n",
       "      <td>None</td>\n",
       "      <td></td>\n",
       "    </tr>\n",
       "    <tr>\n",
       "      <th>5</th>\n",
       "      <td>US</td>\n",
       "      <td>13418638</td>\n",
       "      <td>R3TTC36XJVTT9F</td>\n",
       "      <td>B008E62TTW</td>\n",
       "      <td>174178495</td>\n",
       "      <td>Shiva Murthi - Shankarudu</td>\n",
       "      <td>Digital_Music_Purchase</td>\n",
       "      <td>5</td>\n",
       "      <td>1</td>\n",
       "      <td>1</td>\n",
       "      <td>N</td>\n",
       "      <td>N</td>\n",
       "      <td>Chinna Kuyil' Musician Srimati Chitra\\tVery in...</td>\n",
       "      <td>Chinna Kuyil' Musician Srimati Chitra\\tVery in...</td>\n",
       "      <td>None</td>\n",
       "      <td></td>\n",
       "    </tr>\n",
       "    <tr>\n",
       "      <th>6</th>\n",
       "      <td>US</td>\n",
       "      <td>45566062</td>\n",
       "      <td>R2XYGMALN7X3Q0</td>\n",
       "      <td>B00138JBLW</td>\n",
       "      <td>335252461</td>\n",
       "      <td>Dream Of A Lifetime</td>\n",
       "      <td>Digital_Music_Purchase</td>\n",
       "      <td>5</td>\n",
       "      <td>0</td>\n",
       "      <td>0</td>\n",
       "      <td>N</td>\n",
       "      <td>N</td>\n",
       "      <td>\"Its all good.'\\tIF M GAY HAD TO0 HAVE A LAST ...</td>\n",
       "      <td>\"Its all good.'\\tIF M GAY HAD TO0 HAVE A LAST ...</td>\n",
       "      <td>None</td>\n",
       "      <td></td>\n",
       "    </tr>\n",
       "    <tr>\n",
       "      <th>7</th>\n",
       "      <td>US</td>\n",
       "      <td>32308077</td>\n",
       "      <td>R3SI1MVHU7YCG8</td>\n",
       "      <td>0440414806</td>\n",
       "      <td>159975375</td>\n",
       "      <td>Holes</td>\n",
       "      <td>Books</td>\n",
       "      <td>5</td>\n",
       "      <td>0</td>\n",
       "      <td>0</td>\n",
       "      <td>N</td>\n",
       "      <td>N</td>\n",
       "      <td>\"Holes ' Helps Children Dig Into Reading\\tFrom...</td>\n",
       "      <td>\"Holes ' Helps Children Dig Into Reading\\tFrom...</td>\n",
       "      <td>None</td>\n",
       "      <td></td>\n",
       "    </tr>\n",
       "    <tr>\n",
       "      <th>8</th>\n",
       "      <td>US</td>\n",
       "      <td>25495441</td>\n",
       "      <td>RKAT3A16B7RQK</td>\n",
       "      <td>B000083JWE</td>\n",
       "      <td>729019812</td>\n",
       "      <td>The Best Of</td>\n",
       "      <td>Music</td>\n",
       "      <td>2</td>\n",
       "      <td>48</td>\n",
       "      <td>51</td>\n",
       "      <td>N</td>\n",
       "      <td>N</td>\n",
       "      <td>\"Mauriat's Best ?\\tI was looking forward to re...</td>\n",
       "      <td>\"Mauriat's Best ?\\tI was looking forward to re...</td>\n",
       "      <td>None</td>\n",
       "      <td></td>\n",
       "    </tr>\n",
       "    <tr>\n",
       "      <th>9</th>\n",
       "      <td>US</td>\n",
       "      <td>9965601</td>\n",
       "      <td>RGS8Y9K7X8M4A</td>\n",
       "      <td>B00005MK9Z</td>\n",
       "      <td>360246660</td>\n",
       "      <td>Confrontation (Remastered)</td>\n",
       "      <td>Music</td>\n",
       "      <td>5</td>\n",
       "      <td>0</td>\n",
       "      <td>0</td>\n",
       "      <td>N</td>\n",
       "      <td>Y</td>\n",
       "      <td>the legacy of his music &amp; message will live on...</td>\n",
       "      <td>the legacy of his music &amp; message will live on...</td>\n",
       "      <td>None</td>\n",
       "      <td></td>\n",
       "    </tr>\n",
       "  </tbody>\n",
       "</table>\n",
       "</div>"
      ],
      "text/plain": [
       "  marketplace customer_id       review_id  product_id product_parent  \\\n",
       "0          US    51337633  R164OBU2RBPL5D  B00138CSLM      436023672   \n",
       "1          US     7235219  R30DW5GAUIAGJO  B00C5XG6XA      611455629   \n",
       "2          US     4252573  R3FTX5EKLXUL5O  B001RJSNG6      421460338   \n",
       "3          US    22028460  R2Z8K50L5GFKNA  B000VWKVSI      515353411   \n",
       "4          US    30753448  R34LOIFOPWS1CW  B008593AFA       98784325   \n",
       "5          US    13418638  R3TTC36XJVTT9F  B008E62TTW      174178495   \n",
       "6          US    45566062  R2XYGMALN7X3Q0  B00138JBLW      335252461   \n",
       "7          US    32308077  R3SI1MVHU7YCG8  0440414806      159975375   \n",
       "8          US    25495441   RKAT3A16B7RQK  B000083JWE      729019812   \n",
       "9          US     9965601   RGS8Y9K7X8M4A  B00005MK9Z      360246660   \n",
       "\n",
       "                product_title        product_category  star_rating  \\\n",
       "0         Black & White Night  Digital_Music_Purchase            5   \n",
       "1                    Redeemed  Digital_Music_Purchase            2   \n",
       "2                     Secrets  Digital_Music_Purchase            5   \n",
       "3   Ah! Leah! (Album Version)  Digital_Music_Purchase            5   \n",
       "4                    Becoming  Digital_Music_Purchase            5   \n",
       "5   Shiva Murthi - Shankarudu  Digital_Music_Purchase            5   \n",
       "6         Dream Of A Lifetime  Digital_Music_Purchase            5   \n",
       "7                       Holes                   Books            5   \n",
       "8                 The Best Of                   Music            2   \n",
       "9  Confrontation (Remastered)                   Music            5   \n",
       "\n",
       "  helpful_votes total_votes vine verified_purchase  \\\n",
       "0             0           0    N                 N   \n",
       "1             0           0    N                 Y   \n",
       "2             0           0    N                 Y   \n",
       "3             0           0    N                 Y   \n",
       "4             0           0    N                 Y   \n",
       "5             1           1    N                 N   \n",
       "6             0           0    N                 N   \n",
       "7             0           0    N                 N   \n",
       "8            48          51    N                 N   \n",
       "9             0           0    N                 Y   \n",
       "\n",
       "                                     review_headline  \\\n",
       "0  EXCELLENT! Also have this show on a DVD, ...\\t...   \n",
       "1  I am in the process of learning this wonderful...   \n",
       "2  \" just like some good ole Kentucky Fried Chick...   \n",
       "3  has been and still is one of my all-time favor...   \n",
       "4  Another lame local band to sit through\\tI saw ...   \n",
       "5  Chinna Kuyil' Musician Srimati Chitra\\tVery in...   \n",
       "6  \"Its all good.'\\tIF M GAY HAD TO0 HAVE A LAST ...   \n",
       "7  \"Holes ' Helps Children Dig Into Reading\\tFrom...   \n",
       "8  \"Mauriat's Best ?\\tI was looking forward to re...   \n",
       "9  the legacy of his music & message will live on...   \n",
       "\n",
       "                                         review_body review_date review_date_2  \n",
       "0  EXCELLENT! Also have this show on a DVD, ...\\t...        None                \n",
       "1  I am in the process of learning this wonderful...        None                \n",
       "2  \" just like some good ole Kentucky Fried Chick...        None                \n",
       "3  has been and still is one of my all-time favor...        None                \n",
       "4  Another lame local band to sit through\\tI saw ...        None                \n",
       "5  Chinna Kuyil' Musician Srimati Chitra\\tVery in...        None                \n",
       "6  \"Its all good.'\\tIF M GAY HAD TO0 HAVE A LAST ...        None                \n",
       "7  \"Holes ' Helps Children Dig Into Reading\\tFrom...        None                \n",
       "8  \"Mauriat's Best ?\\tI was looking forward to re...        None                \n",
       "9  the legacy of his music & message will live on...        None                "
      ]
     },
     "execution_count": 81,
     "metadata": {},
     "output_type": "execute_result"
    }
   ],
   "source": [
    "df.filter(isnull(col(\"review_date\"))).limit(10).toPandas()"
   ]
  },
  {
   "cell_type": "code",
   "execution_count": 82,
   "id": "a924a760",
   "metadata": {
    "scrolled": false
   },
   "outputs": [
    {
     "data": {
      "text/plain": [
       "[('marketplace', 'string'),\n",
       " ('customer_id', 'string'),\n",
       " ('review_id', 'string'),\n",
       " ('product_id', 'string'),\n",
       " ('product_parent', 'string'),\n",
       " ('product_title', 'string'),\n",
       " ('product_category', 'string'),\n",
       " ('star_rating', 'int'),\n",
       " ('helpful_votes', 'string'),\n",
       " ('total_votes', 'string'),\n",
       " ('vine', 'string'),\n",
       " ('verified_purchase', 'string'),\n",
       " ('review_headline', 'string'),\n",
       " ('review_body', 'string'),\n",
       " ('review_date', 'date'),\n",
       " ('review_date_2', 'string')]"
      ]
     },
     "execution_count": 82,
     "metadata": {},
     "output_type": "execute_result"
    }
   ],
   "source": [
    "#gets data types for each column\n",
    "df.dtypes"
   ]
  },
  {
   "cell_type": "code",
   "execution_count": 83,
   "id": "e6537860",
   "metadata": {},
   "outputs": [
    {
     "name": "stdout",
     "output_type": "stream",
     "text": [
      "2015-02-20\n"
     ]
    }
   ],
   "source": [
    "# Group the data by date and count the number of products for each date\n",
    "date_counts = df.groupBy(\"review_date\").count()\n",
    "\n",
    "# Sort the result in descending order based on the count\n",
    "sorted_date_counts = date_counts.orderBy(col(\"count\").desc())\n",
    "\n",
    "# Select the date with the highest count\n",
    "most_product_date = sorted_date_counts.select(\"review_date\").first()[0]\n",
    "\n",
    "# Show the date with the most products\n",
    "print(most_product_date)"
   ]
  },
  {
   "cell_type": "code",
   "execution_count": 84,
   "id": "1b1f4819",
   "metadata": {
    "scrolled": true
   },
   "outputs": [],
   "source": [
    "# Replace null values in review_date column with \"2015-02-20\" converted to date\n",
    "df = df.na.fill({'review_date': '2015-02-20'})"
   ]
  },
  {
   "cell_type": "code",
   "execution_count": 85,
   "id": "efaee127",
   "metadata": {},
   "outputs": [
    {
     "name": "stdout",
     "output_type": "stream",
     "text": [
      "\n",
      "Missing values:\n",
      "review_date: 0\n"
     ]
    }
   ],
   "source": [
    "showMissingValuesByCol(\"review_date\",df)"
   ]
  },
  {
   "cell_type": "code",
   "execution_count": 86,
   "id": "2b1d8949",
   "metadata": {},
   "outputs": [
    {
     "data": {
      "text/plain": [
       "[('marketplace', 'string'),\n",
       " ('customer_id', 'string'),\n",
       " ('review_id', 'string'),\n",
       " ('product_id', 'string'),\n",
       " ('product_parent', 'string'),\n",
       " ('product_title', 'string'),\n",
       " ('product_category', 'string'),\n",
       " ('star_rating', 'int'),\n",
       " ('helpful_votes', 'string'),\n",
       " ('total_votes', 'string'),\n",
       " ('vine', 'string'),\n",
       " ('verified_purchase', 'string'),\n",
       " ('review_headline', 'string'),\n",
       " ('review_body', 'string'),\n",
       " ('review_date', 'date'),\n",
       " ('review_date_2', 'string')]"
      ]
     },
     "execution_count": 86,
     "metadata": {},
     "output_type": "execute_result"
    }
   ],
   "source": [
    "df.dtypes"
   ]
  },
  {
   "cell_type": "code",
   "execution_count": 87,
   "id": "fc42627b",
   "metadata": {},
   "outputs": [],
   "source": [
    "#converts date string to date\n",
    "df = df.withColumn(\"review_date\", to_date(col(\"review_date\")))"
   ]
  },
  {
   "cell_type": "code",
   "execution_count": 88,
   "id": "2e97a29e",
   "metadata": {},
   "outputs": [
    {
     "name": "stdout",
     "output_type": "stream",
     "text": [
      "\n",
      "Missing values:\n",
      "review_date: 0\n"
     ]
    }
   ],
   "source": [
    "showMissingValuesByCol(\"review_date\",df)"
   ]
  },
  {
   "cell_type": "code",
   "execution_count": 89,
   "id": "4657c394",
   "metadata": {},
   "outputs": [
    {
     "data": {
      "text/plain": [
       "[('marketplace', 'string'),\n",
       " ('customer_id', 'string'),\n",
       " ('review_id', 'string'),\n",
       " ('product_id', 'string'),\n",
       " ('product_parent', 'string'),\n",
       " ('product_title', 'string'),\n",
       " ('product_category', 'string'),\n",
       " ('star_rating', 'int'),\n",
       " ('helpful_votes', 'string'),\n",
       " ('total_votes', 'string'),\n",
       " ('vine', 'string'),\n",
       " ('verified_purchase', 'string'),\n",
       " ('review_headline', 'string'),\n",
       " ('review_body', 'string'),\n",
       " ('review_date', 'date'),\n",
       " ('review_date_2', 'string')]"
      ]
     },
     "execution_count": 89,
     "metadata": {},
     "output_type": "execute_result"
    }
   ],
   "source": [
    "df.dtypes"
   ]
  },
  {
   "cell_type": "code",
   "execution_count": 90,
   "id": "271600ed",
   "metadata": {},
   "outputs": [],
   "source": [
    "#drop review_date_2 column\n",
    "df=df.drop(col(\"review_date_2\"))"
   ]
  },
  {
   "cell_type": "code",
   "execution_count": 91,
   "id": "66cf5816",
   "metadata": {},
   "outputs": [
    {
     "name": "stdout",
     "output_type": "stream",
     "text": [
      "+-----------+-----------+--------------+----------+--------------+--------------------+----------------+-----------+-------------+-----------+----+-----------------+--------------------+--------------------+-----------+\n",
      "|marketplace|customer_id|     review_id|product_id|product_parent|       product_title|product_category|star_rating|helpful_votes|total_votes|vine|verified_purchase|     review_headline|         review_body|review_date|\n",
      "+-----------+-----------+--------------+----------+--------------+--------------------+----------------+-----------+-------------+-----------+----+-----------------+--------------------+--------------------+-----------+\n",
      "|         US|   26524369|R3HH81BIQ3ZZE1|B00SETTZGE|      10327631|RUGGED & DAPPER –...|          Beauty|          3|            6|         11|   N|                Y|Good/great face w...|The face wash is ...| 2015-04-25|\n",
      "|         US|   26920430|R2R0NREZG6WG2V|B006XY3Y1Y|      57006252|Tretinoin Microsp...|          Beauty|          4|            1|          1|   N|                Y|         Works Great|Works well on une...| 2012-06-08|\n",
      "|         US|   26523163|R1ZYSPZ3LWHVM4|B008QYE40Y|     966404562|Sleek i-Divine St...|          Beauty|          5|            1|          1|   N|                Y|  Wonderful palette!|This eyeshadow pa...| 2013-05-26|\n",
      "|         US|    9963368|R3VXVN0I0E1PIV|B004VFXVJW|     806462967|The Shave Well Co...|          Beauty|          5|            1|          1|   N|                Y|    BEST MIRROR EVER|My husband has a ...| 2012-02-22|\n",
      "|         US|    2662502|R2H4PHUSEOH4T8|B0009OAHQY|     591505715|Claiborne Cologne...|          Beauty|          5|            1|          1|   N|                Y|          Five Stars|             Love it| 2014-11-13|\n",
      "|         US|    6245528|R22G7RLQEI9M8C|B000YJ2SLG|     647055491|CeraVe Facial Moi...|          Beauty|          4|            0|          0|   N|                Y|I love this as a ...|I love this as a ...| 2015-06-03|\n",
      "|         US|    5302509|R1WBD4V332E9IC|B0014P8L9W|     124566986|Aztec Secret Indi...|          Beauty|          4|            0|          0|   N|                Y|      Good clay mask|I really like thi...| 2013-07-16|\n",
      "|         US|   35196068|R1N9KRZGYC0A19|B00BYE9Y0I|     898797520|Image Prevention ...|          Beauty|          5|            0|          0|   N|                Y|    Love the results|I had this Daily ...| 2015-01-06|\n",
      "|         US|   47666180|R20VWKJ3QMJUVR|B00CMXV278|     434502716|Nailwear Pro+ Nai...|          Beauty|          5|            0|          0|   N|                Y|Glad I was able t...|Color shade was a...| 2014-05-30|\n",
      "|         US|   12987597|R3O3K0CXSG370J|B004GQZWSE|     751470612|Proraso Eucalyptu...|          Beauty|          1|            0|          2|   N|                Y|It's two of the S...|This isn't a pre ...| 2013-12-14|\n",
      "|         US|   45407703|R14QX1VZGZ7W1M|B0012UFEW6|     906466170|Gatsby Moving Rub...|          Beauty|          5|            0|          0|   N|                Y|         Excellence.|This product is f...| 2012-07-10|\n",
      "|         US|   21434165|R1QEGGPILCV012|B0018DE6AI|     686314590|Tree Hut Shea Sug...|          Beauty|          4|            0|          0|   N|                Y|This scrub is rea...|This scrub is rea...| 2014-07-03|\n",
      "|         US|   50852783|R3U0TT5UX5QP4J|B000KU70GW|     798313859|Clarins Eau Dynam...|          Beauty|          5|            1|          1|   N|                Y|          Five Stars|The scent is amaz...| 2015-07-21|\n",
      "|         US|   26040365|R3TJH7ZT7ZVO1J|B009D1IY78|     168376091|Thursday Plantati...|          Beauty|          5|            0|          0|   N|                Y|       Great product|Love it.  Great s...| 2015-08-29|\n",
      "|         US|   38989578|R1YKRDRRDOKHA6|B00BFZFVW6|     968468197|Coconut (Fraction...|          Beauty|          5|            0|          0|   N|                Y|         Coconut oil|         Great deal.| 2015-01-20|\n",
      "|         US|   52615360| RU56SXFX2V66F|B00NR1YQHM|     364147747|Neutrogena Hydro ...|          Beauty|          5|            0|          1|   N|                Y|          Five Stars|           wonderful| 2015-03-21|\n",
      "|         US|   11798236|R3MGC8EY9POBRK|B0052YFCSO|     306376270|The Bare Pair Kin...|          Beauty|          4|            1|          1|   N|                Y|It works but mayb...|I read the instru...| 2013-03-14|\n",
      "|         US|     878683|R26AGMOUZKTBMW|B00R42PXM2|     534022069|Anself 2pcs 50ml ...|          Beauty|          2|            0|          0|   N|                Y|           Two Stars|             1 spoil| 2015-05-18|\n",
      "|         US|   43842946|R1XE4R1YAPKILJ|B0077CTXZ2|      20838632|6pc Harry Potter ...|          Beauty|          5|            0|          0|   N|                Y|   Dark Mark Tattoos|Really nice tempo...| 2013-01-02|\n",
      "|         US|   30922007|R15X0WC2HTYTPF|B00CVL860W|     167214755|abcOralCare, New ...|          Beauty|          5|            5|          5|   N|                Y|       soft and safe|Good toothbrushes...| 2014-02-18|\n",
      "+-----------+-----------+--------------+----------+--------------+--------------------+----------------+-----------+-------------+-----------+----+-----------------+--------------------+--------------------+-----------+\n",
      "only showing top 20 rows\n",
      "\n"
     ]
    }
   ],
   "source": [
    "df.show()"
   ]
  },
  {
   "cell_type": "code",
   "execution_count": 92,
   "id": "5919d467",
   "metadata": {},
   "outputs": [],
   "source": [
    "# List of column names to drop\n",
    "columns_to_drop = ('product_parent',\"marketplace\")\n",
    "\n",
    "df=df.drop(*columns_to_drop)"
   ]
  },
  {
   "cell_type": "markdown",
   "id": "efad0bee",
   "metadata": {},
   "source": [
    "#### review_headline"
   ]
  },
  {
   "cell_type": "code",
   "execution_count": 93,
   "id": "a3e25a21",
   "metadata": {},
   "outputs": [],
   "source": [
    "df=df.na.fill({'review_headline': \"\"})"
   ]
  },
  {
   "cell_type": "code",
   "execution_count": 94,
   "id": "4a2763ac",
   "metadata": {},
   "outputs": [
    {
     "name": "stdout",
     "output_type": "stream",
     "text": [
      "\n",
      "Missing values:\n",
      "customer_id: 0\n",
      "review_id: 0\n",
      "product_id: 0\n",
      "product_title: 0\n",
      "product_category: 0\n",
      "star_rating: 0\n",
      "helpful_votes: 0\n",
      "total_votes: 0\n",
      "vine: 0\n",
      "verified_purchase: 0\n",
      "review_headline: 0\n",
      "review_body: 0\n",
      "review_date: 0\n"
     ]
    }
   ],
   "source": [
    "showMissingValues(df)"
   ]
  },
  {
   "cell_type": "markdown",
   "id": "6c76def0",
   "metadata": {},
   "source": [
    "### Removing Duplicates Amazon Product Reviews Dataset"
   ]
  },
  {
   "cell_type": "code",
   "execution_count": 95,
   "id": "8a7b4c08",
   "metadata": {},
   "outputs": [
    {
     "name": "stdout",
     "output_type": "stream",
     "text": [
      "Shape: (1033354, 13)\n"
     ]
    }
   ],
   "source": [
    "shape(df)"
   ]
  },
  {
   "cell_type": "code",
   "execution_count": 96,
   "id": "5f041a63",
   "metadata": {},
   "outputs": [],
   "source": [
    "df=df.distinct()"
   ]
  },
  {
   "cell_type": "code",
   "execution_count": 97,
   "id": "7ea22177",
   "metadata": {
    "scrolled": true
   },
   "outputs": [
    {
     "name": "stdout",
     "output_type": "stream",
     "text": [
      "Shape: (1033179, 13)\n"
     ]
    }
   ],
   "source": [
    "shape(df)"
   ]
  },
  {
   "cell_type": "markdown",
   "id": "37595bef",
   "metadata": {},
   "source": [
    "### Removing Duplicates Amazon Spam Reviews Dataset"
   ]
  },
  {
   "cell_type": "code",
   "execution_count": 98,
   "id": "3893647d",
   "metadata": {},
   "outputs": [
    {
     "name": "stdout",
     "output_type": "stream",
     "text": [
      "Shape: (1010113, 5)\n"
     ]
    }
   ],
   "source": [
    "shape(spam_df)"
   ]
  },
  {
   "cell_type": "code",
   "execution_count": 99,
   "id": "1ca0a175",
   "metadata": {},
   "outputs": [],
   "source": [
    "spam_df=spam_df.distinct()"
   ]
  },
  {
   "cell_type": "code",
   "execution_count": 100,
   "id": "0aa026ec",
   "metadata": {},
   "outputs": [
    {
     "name": "stdout",
     "output_type": "stream",
     "text": [
      "Shape: (1009291, 5)\n"
     ]
    }
   ],
   "source": [
    "shape(spam_df)"
   ]
  },
  {
   "cell_type": "markdown",
   "id": "97964f73",
   "metadata": {},
   "source": [
    "### Remove Nas"
   ]
  },
  {
   "cell_type": "code",
   "execution_count": 101,
   "id": "310f3871",
   "metadata": {},
   "outputs": [],
   "source": [
    "#showMissingValues(df)"
   ]
  },
  {
   "cell_type": "markdown",
   "id": "0a28e06e",
   "metadata": {},
   "source": [
    "### Creating Season Column"
   ]
  },
  {
   "cell_type": "markdown",
   "id": "45d87eac",
   "metadata": {},
   "source": [
    "##### Amazon Product Reviews Dataset"
   ]
  },
  {
   "cell_type": "code",
   "execution_count": 102,
   "id": "62c65362",
   "metadata": {},
   "outputs": [],
   "source": [
    "df = df.withColumn('unhelpful_votes', col('total_votes') - col('helpful_votes'))"
   ]
  },
  {
   "cell_type": "markdown",
   "id": "4a40c121",
   "metadata": {},
   "source": [
    "### Creating Season Column"
   ]
  },
  {
   "cell_type": "markdown",
   "id": "127e3afd",
   "metadata": {},
   "source": [
    "##### Amazon Product Reviews Dataset"
   ]
  },
  {
   "cell_type": "code",
   "execution_count": 103,
   "id": "cf94058c",
   "metadata": {},
   "outputs": [],
   "source": [
    "# Create a new column \"season\" based on the month of \"review_date\"\n",
    "df = df.withColumn(\"season\", when(month(col(\"review_date\")).isin([12, 1, 2]), \"Winter\")\n",
    "                      .when(month(col(\"review_date\")).isin([3, 4, 5]), \"Spring\")\n",
    "                      .when(month(col(\"review_date\")).isin([6, 7, 8]), \"Summer\")\n",
    "                      .otherwise(\"Fall\"))\n"
   ]
  },
  {
   "cell_type": "markdown",
   "id": "d38154a5",
   "metadata": {},
   "source": [
    "##### Amazon Spam Reviews Dataset"
   ]
  },
  {
   "cell_type": "code",
   "execution_count": 104,
   "id": "99ad3c90",
   "metadata": {},
   "outputs": [],
   "source": [
    "func =  udf (lambda x: datetime.strptime(x, '%m %d, %Y'), DateType())\n",
    "\n",
    "spam_df = spam_df.withColumn('reviewDate', func(col('reviewTime')))\n",
    "#spam_df = spam_df.withColumn(\"reviewDate\", to_date(\"reviewTime\", \"dd MM,yyyy\"))\n",
    "\n",
    "# Create a new column \"season\" based on the month of \"review_date\"\n",
    "spam_df = spam_df.withColumn(\"season\", when(month(col(\"reviewDate\")).isin([12, 1, 2]), \"Winter\")\n",
    "                      .when(month(col(\"reviewDate\")).isin([3, 4, 5]), \"Spring\")\n",
    "                      .when(month(col(\"reviewDate\")).isin([6, 7, 8]), \"Summer\")\n",
    "                      .otherwise(\"Fall\"))"
   ]
  },
  {
   "cell_type": "code",
   "execution_count": 105,
   "id": "e10a6bf5",
   "metadata": {},
   "outputs": [
    {
     "data": {
      "text/html": [
       "<div>\n",
       "<style scoped>\n",
       "    .dataframe tbody tr th:only-of-type {\n",
       "        vertical-align: middle;\n",
       "    }\n",
       "\n",
       "    .dataframe tbody tr th {\n",
       "        vertical-align: top;\n",
       "    }\n",
       "\n",
       "    .dataframe thead th {\n",
       "        text-align: right;\n",
       "    }\n",
       "</style>\n",
       "<table border=\"1\" class=\"dataframe\">\n",
       "  <thead>\n",
       "    <tr style=\"text-align: right;\">\n",
       "      <th></th>\n",
       "      <th>class</th>\n",
       "      <th>reviewText</th>\n",
       "      <th>reviewTime</th>\n",
       "      <th>asin</th>\n",
       "      <th>reviewerID</th>\n",
       "      <th>reviewDate</th>\n",
       "      <th>season</th>\n",
       "    </tr>\n",
       "  </thead>\n",
       "  <tbody>\n",
       "    <tr>\n",
       "      <th>0</th>\n",
       "      <td>1.0</td>\n",
       "      <td>It was a gift but it seemed pretty durable and...</td>\n",
       "      <td>03 18, 2008</td>\n",
       "      <td>B000AOZ11Y</td>\n",
       "      <td>A2BSWYKV7ZV7H6</td>\n",
       "      <td>2008-03-18</td>\n",
       "      <td>Spring</td>\n",
       "    </tr>\n",
       "    <tr>\n",
       "      <th>1</th>\n",
       "      <td>1.0</td>\n",
       "      <td>We now have a 9 hole disc golf course in our b...</td>\n",
       "      <td>12 12, 2012</td>\n",
       "      <td>B000ASG0DI</td>\n",
       "      <td>A1DQIB6VQ7Y22Q</td>\n",
       "      <td>2012-12-12</td>\n",
       "      <td>Winter</td>\n",
       "    </tr>\n",
       "    <tr>\n",
       "      <th>2</th>\n",
       "      <td>0.0</td>\n",
       "      <td>Do not buy this! The one I received was leakin...</td>\n",
       "      <td>02 17, 2014</td>\n",
       "      <td>B000AXVOLQ</td>\n",
       "      <td>A21TK1P3Q4T6DM</td>\n",
       "      <td>2014-02-17</td>\n",
       "      <td>Winter</td>\n",
       "    </tr>\n",
       "    <tr>\n",
       "      <th>3</th>\n",
       "      <td>1.0</td>\n",
       "      <td>This is a very handy size and weight for a clo...</td>\n",
       "      <td>01 9, 2007</td>\n",
       "      <td>B000B76IJY</td>\n",
       "      <td>A2MKJZXSDSGJA0</td>\n",
       "      <td>2007-01-09</td>\n",
       "      <td>Winter</td>\n",
       "    </tr>\n",
       "    <tr>\n",
       "      <th>4</th>\n",
       "      <td>1.0</td>\n",
       "      <td>This is an awesome sharpener! Very compact and...</td>\n",
       "      <td>01 17, 2014</td>\n",
       "      <td>B000B8FW0E</td>\n",
       "      <td>A10UPCI7CPQXLA</td>\n",
       "      <td>2014-01-17</td>\n",
       "      <td>Winter</td>\n",
       "    </tr>\n",
       "  </tbody>\n",
       "</table>\n",
       "</div>"
      ],
      "text/plain": [
       "   class                                         reviewText   reviewTime  \\\n",
       "0    1.0  It was a gift but it seemed pretty durable and...  03 18, 2008   \n",
       "1    1.0  We now have a 9 hole disc golf course in our b...  12 12, 2012   \n",
       "2    0.0  Do not buy this! The one I received was leakin...  02 17, 2014   \n",
       "3    1.0  This is a very handy size and weight for a clo...   01 9, 2007   \n",
       "4    1.0  This is an awesome sharpener! Very compact and...  01 17, 2014   \n",
       "\n",
       "         asin      reviewerID  reviewDate  season  \n",
       "0  B000AOZ11Y  A2BSWYKV7ZV7H6  2008-03-18  Spring  \n",
       "1  B000ASG0DI  A1DQIB6VQ7Y22Q  2012-12-12  Winter  \n",
       "2  B000AXVOLQ  A21TK1P3Q4T6DM  2014-02-17  Winter  \n",
       "3  B000B76IJY  A2MKJZXSDSGJA0  2007-01-09  Winter  \n",
       "4  B000B8FW0E  A10UPCI7CPQXLA  2014-01-17  Winter  "
      ]
     },
     "execution_count": 105,
     "metadata": {},
     "output_type": "execute_result"
    }
   ],
   "source": [
    "spam_df.limit(5).toPandas()"
   ]
  },
  {
   "cell_type": "markdown",
   "id": "3b3d8844",
   "metadata": {},
   "source": [
    "### Creating Month Column"
   ]
  },
  {
   "cell_type": "code",
   "execution_count": 106,
   "id": "1dc86125",
   "metadata": {},
   "outputs": [],
   "source": [
    "# Create a new column \"month\" with the month name extracted from \"review_date\"\n",
    "df = df.withColumn(\"month\", date_format(col(\"review_date\"), \"MMMM\"))"
   ]
  },
  {
   "cell_type": "markdown",
   "id": "e43060ea",
   "metadata": {},
   "source": [
    "### Creating Year Column"
   ]
  },
  {
   "cell_type": "markdown",
   "id": "d115b890",
   "metadata": {},
   "source": [
    "##### Amazon Product Reviews Dataset"
   ]
  },
  {
   "cell_type": "code",
   "execution_count": 107,
   "id": "ec8daf57",
   "metadata": {},
   "outputs": [],
   "source": [
    "# Create a new column \"year\" with the year extracted from \"review_date\"\n",
    "df = df.withColumn(\"year\", year(col(\"review_date\")))"
   ]
  },
  {
   "cell_type": "code",
   "execution_count": 108,
   "id": "3b1c8161",
   "metadata": {
    "scrolled": false
   },
   "outputs": [
    {
     "data": {
      "text/html": [
       "<div>\n",
       "<style scoped>\n",
       "    .dataframe tbody tr th:only-of-type {\n",
       "        vertical-align: middle;\n",
       "    }\n",
       "\n",
       "    .dataframe tbody tr th {\n",
       "        vertical-align: top;\n",
       "    }\n",
       "\n",
       "    .dataframe thead th {\n",
       "        text-align: right;\n",
       "    }\n",
       "</style>\n",
       "<table border=\"1\" class=\"dataframe\">\n",
       "  <thead>\n",
       "    <tr style=\"text-align: right;\">\n",
       "      <th></th>\n",
       "      <th>customer_id</th>\n",
       "      <th>review_id</th>\n",
       "      <th>product_id</th>\n",
       "      <th>product_title</th>\n",
       "      <th>product_category</th>\n",
       "      <th>star_rating</th>\n",
       "      <th>helpful_votes</th>\n",
       "      <th>total_votes</th>\n",
       "      <th>vine</th>\n",
       "      <th>verified_purchase</th>\n",
       "      <th>review_headline</th>\n",
       "      <th>review_body</th>\n",
       "      <th>review_date</th>\n",
       "      <th>unhelpful_votes</th>\n",
       "      <th>season</th>\n",
       "      <th>month</th>\n",
       "      <th>year</th>\n",
       "    </tr>\n",
       "  </thead>\n",
       "  <tbody>\n",
       "    <tr>\n",
       "      <th>0</th>\n",
       "      <td>50756929</td>\n",
       "      <td>R10DKNVRG1HIIK</td>\n",
       "      <td>0969755147</td>\n",
       "      <td>Mind Power into the 21st Century: Techniques t...</td>\n",
       "      <td>Books</td>\n",
       "      <td>5</td>\n",
       "      <td>13</td>\n",
       "      <td>14</td>\n",
       "      <td>N</td>\n",
       "      <td>N</td>\n",
       "      <td>The best book on mind power</td>\n",
       "      <td>From many books that I read on topic of power ...</td>\n",
       "      <td>2000-05-15</td>\n",
       "      <td>1.0</td>\n",
       "      <td>Spring</td>\n",
       "      <td>May</td>\n",
       "      <td>2000</td>\n",
       "    </tr>\n",
       "    <tr>\n",
       "      <th>1</th>\n",
       "      <td>12195318</td>\n",
       "      <td>R10M3EY6B48DXS</td>\n",
       "      <td>B002VC6U8Q</td>\n",
       "      <td>Usc Fanfare W/ Tribute to Troy</td>\n",
       "      <td>Digital_Music_Purchase</td>\n",
       "      <td>5</td>\n",
       "      <td>0</td>\n",
       "      <td>0</td>\n",
       "      <td>N</td>\n",
       "      <td>N</td>\n",
       "      <td>love, love, love !!!</td>\n",
       "      <td>Get it ... well worth the price -- for the tru...</td>\n",
       "      <td>2013-01-24</td>\n",
       "      <td>0.0</td>\n",
       "      <td>Winter</td>\n",
       "      <td>January</td>\n",
       "      <td>2013</td>\n",
       "    </tr>\n",
       "    <tr>\n",
       "      <th>2</th>\n",
       "      <td>34413051</td>\n",
       "      <td>R10RHNK6A9NOQ</td>\n",
       "      <td>B004V2LX6I</td>\n",
       "      <td>Maxpedition Kodiak S-type Gearslinger</td>\n",
       "      <td>Sports</td>\n",
       "      <td>5</td>\n",
       "      <td>1</td>\n",
       "      <td>1</td>\n",
       "      <td>N</td>\n",
       "      <td>Y</td>\n",
       "      <td>Awesome!!!!</td>\n",
       "      <td>This bag has been my EDC since purchasing it. ...</td>\n",
       "      <td>2013-01-27</td>\n",
       "      <td>0.0</td>\n",
       "      <td>Winter</td>\n",
       "      <td>January</td>\n",
       "      <td>2013</td>\n",
       "    </tr>\n",
       "    <tr>\n",
       "      <th>3</th>\n",
       "      <td>12045840</td>\n",
       "      <td>R1102VPDVD3S4X</td>\n",
       "      <td>B000V658DC</td>\n",
       "      <td>They Can't All Be Zingers</td>\n",
       "      <td>Digital_Music_Purchase</td>\n",
       "      <td>5</td>\n",
       "      <td>0</td>\n",
       "      <td>0</td>\n",
       "      <td>N</td>\n",
       "      <td>Y</td>\n",
       "      <td>Primus Sucks</td>\n",
       "      <td>Sounds Good! Most of the hits you want on one ...</td>\n",
       "      <td>2014-03-03</td>\n",
       "      <td>0.0</td>\n",
       "      <td>Spring</td>\n",
       "      <td>March</td>\n",
       "      <td>2014</td>\n",
       "    </tr>\n",
       "    <tr>\n",
       "      <th>4</th>\n",
       "      <td>42508526</td>\n",
       "      <td>R11DIJT8PQOG1X</td>\n",
       "      <td>B000V697WK</td>\n",
       "      <td>Gaucho</td>\n",
       "      <td>Digital_Music_Purchase</td>\n",
       "      <td>4</td>\n",
       "      <td>0</td>\n",
       "      <td>1</td>\n",
       "      <td>N</td>\n",
       "      <td>Y</td>\n",
       "      <td>good music</td>\n",
       "      <td>Good music</td>\n",
       "      <td>2014-12-09</td>\n",
       "      <td>1.0</td>\n",
       "      <td>Winter</td>\n",
       "      <td>December</td>\n",
       "      <td>2014</td>\n",
       "    </tr>\n",
       "  </tbody>\n",
       "</table>\n",
       "</div>"
      ],
      "text/plain": [
       "  customer_id       review_id  product_id  \\\n",
       "0    50756929  R10DKNVRG1HIIK  0969755147   \n",
       "1    12195318  R10M3EY6B48DXS  B002VC6U8Q   \n",
       "2    34413051   R10RHNK6A9NOQ  B004V2LX6I   \n",
       "3    12045840  R1102VPDVD3S4X  B000V658DC   \n",
       "4    42508526  R11DIJT8PQOG1X  B000V697WK   \n",
       "\n",
       "                                       product_title        product_category  \\\n",
       "0  Mind Power into the 21st Century: Techniques t...                   Books   \n",
       "1                     Usc Fanfare W/ Tribute to Troy  Digital_Music_Purchase   \n",
       "2              Maxpedition Kodiak S-type Gearslinger                  Sports   \n",
       "3                          They Can't All Be Zingers  Digital_Music_Purchase   \n",
       "4                                             Gaucho  Digital_Music_Purchase   \n",
       "\n",
       "   star_rating helpful_votes total_votes vine verified_purchase  \\\n",
       "0            5            13          14    N                 N   \n",
       "1            5             0           0    N                 N   \n",
       "2            5             1           1    N                 Y   \n",
       "3            5             0           0    N                 Y   \n",
       "4            4             0           1    N                 Y   \n",
       "\n",
       "               review_headline  \\\n",
       "0  The best book on mind power   \n",
       "1         love, love, love !!!   \n",
       "2                  Awesome!!!!   \n",
       "3                 Primus Sucks   \n",
       "4                   good music   \n",
       "\n",
       "                                         review_body review_date  \\\n",
       "0  From many books that I read on topic of power ...  2000-05-15   \n",
       "1  Get it ... well worth the price -- for the tru...  2013-01-24   \n",
       "2  This bag has been my EDC since purchasing it. ...  2013-01-27   \n",
       "3  Sounds Good! Most of the hits you want on one ...  2014-03-03   \n",
       "4                                         Good music  2014-12-09   \n",
       "\n",
       "   unhelpful_votes  season     month  year  \n",
       "0              1.0  Spring       May  2000  \n",
       "1              0.0  Winter   January  2013  \n",
       "2              0.0  Winter   January  2013  \n",
       "3              0.0  Spring     March  2014  \n",
       "4              1.0  Winter  December  2014  "
      ]
     },
     "execution_count": 108,
     "metadata": {},
     "output_type": "execute_result"
    }
   ],
   "source": [
    "df.limit(5).toPandas()"
   ]
  },
  {
   "cell_type": "markdown",
   "id": "868745f1",
   "metadata": {},
   "source": [
    "##### Amazon Spam Reviews Dataset"
   ]
  },
  {
   "cell_type": "code",
   "execution_count": 109,
   "id": "490c6a53",
   "metadata": {},
   "outputs": [],
   "source": [
    "# Create a new column \"year\" with the year extracted from \"review_date\"\n",
    "spam_df = spam_df.withColumn(\"year\", year(col(\"reviewDate\")))"
   ]
  },
  {
   "cell_type": "code",
   "execution_count": 110,
   "id": "a8e5a1e9",
   "metadata": {},
   "outputs": [
    {
     "data": {
      "text/html": [
       "<div>\n",
       "<style scoped>\n",
       "    .dataframe tbody tr th:only-of-type {\n",
       "        vertical-align: middle;\n",
       "    }\n",
       "\n",
       "    .dataframe tbody tr th {\n",
       "        vertical-align: top;\n",
       "    }\n",
       "\n",
       "    .dataframe thead th {\n",
       "        text-align: right;\n",
       "    }\n",
       "</style>\n",
       "<table border=\"1\" class=\"dataframe\">\n",
       "  <thead>\n",
       "    <tr style=\"text-align: right;\">\n",
       "      <th></th>\n",
       "      <th>class</th>\n",
       "      <th>reviewText</th>\n",
       "      <th>reviewTime</th>\n",
       "      <th>asin</th>\n",
       "      <th>reviewerID</th>\n",
       "      <th>reviewDate</th>\n",
       "      <th>season</th>\n",
       "      <th>year</th>\n",
       "    </tr>\n",
       "  </thead>\n",
       "  <tbody>\n",
       "    <tr>\n",
       "      <th>0</th>\n",
       "      <td>1.0</td>\n",
       "      <td>It was a gift but it seemed pretty durable and...</td>\n",
       "      <td>03 18, 2008</td>\n",
       "      <td>B000AOZ11Y</td>\n",
       "      <td>A2BSWYKV7ZV7H6</td>\n",
       "      <td>2008-03-18</td>\n",
       "      <td>Spring</td>\n",
       "      <td>2008</td>\n",
       "    </tr>\n",
       "    <tr>\n",
       "      <th>1</th>\n",
       "      <td>1.0</td>\n",
       "      <td>We now have a 9 hole disc golf course in our b...</td>\n",
       "      <td>12 12, 2012</td>\n",
       "      <td>B000ASG0DI</td>\n",
       "      <td>A1DQIB6VQ7Y22Q</td>\n",
       "      <td>2012-12-12</td>\n",
       "      <td>Winter</td>\n",
       "      <td>2012</td>\n",
       "    </tr>\n",
       "    <tr>\n",
       "      <th>2</th>\n",
       "      <td>0.0</td>\n",
       "      <td>Do not buy this! The one I received was leakin...</td>\n",
       "      <td>02 17, 2014</td>\n",
       "      <td>B000AXVOLQ</td>\n",
       "      <td>A21TK1P3Q4T6DM</td>\n",
       "      <td>2014-02-17</td>\n",
       "      <td>Winter</td>\n",
       "      <td>2014</td>\n",
       "    </tr>\n",
       "    <tr>\n",
       "      <th>3</th>\n",
       "      <td>1.0</td>\n",
       "      <td>This is a very handy size and weight for a clo...</td>\n",
       "      <td>01 9, 2007</td>\n",
       "      <td>B000B76IJY</td>\n",
       "      <td>A2MKJZXSDSGJA0</td>\n",
       "      <td>2007-01-09</td>\n",
       "      <td>Winter</td>\n",
       "      <td>2007</td>\n",
       "    </tr>\n",
       "    <tr>\n",
       "      <th>4</th>\n",
       "      <td>1.0</td>\n",
       "      <td>This is an awesome sharpener! Very compact and...</td>\n",
       "      <td>01 17, 2014</td>\n",
       "      <td>B000B8FW0E</td>\n",
       "      <td>A10UPCI7CPQXLA</td>\n",
       "      <td>2014-01-17</td>\n",
       "      <td>Winter</td>\n",
       "      <td>2014</td>\n",
       "    </tr>\n",
       "  </tbody>\n",
       "</table>\n",
       "</div>"
      ],
      "text/plain": [
       "   class                                         reviewText   reviewTime  \\\n",
       "0    1.0  It was a gift but it seemed pretty durable and...  03 18, 2008   \n",
       "1    1.0  We now have a 9 hole disc golf course in our b...  12 12, 2012   \n",
       "2    0.0  Do not buy this! The one I received was leakin...  02 17, 2014   \n",
       "3    1.0  This is a very handy size and weight for a clo...   01 9, 2007   \n",
       "4    1.0  This is an awesome sharpener! Very compact and...  01 17, 2014   \n",
       "\n",
       "         asin      reviewerID  reviewDate  season  year  \n",
       "0  B000AOZ11Y  A2BSWYKV7ZV7H6  2008-03-18  Spring  2008  \n",
       "1  B000ASG0DI  A1DQIB6VQ7Y22Q  2012-12-12  Winter  2012  \n",
       "2  B000AXVOLQ  A21TK1P3Q4T6DM  2014-02-17  Winter  2014  \n",
       "3  B000B76IJY  A2MKJZXSDSGJA0  2007-01-09  Winter  2007  \n",
       "4  B000B8FW0E  A10UPCI7CPQXLA  2014-01-17  Winter  2014  "
      ]
     },
     "execution_count": 110,
     "metadata": {},
     "output_type": "execute_result"
    }
   ],
   "source": [
    "spam_df.limit(5).toPandas()"
   ]
  },
  {
   "cell_type": "markdown",
   "id": "f7dd3196",
   "metadata": {},
   "source": [
    "### Creating Sentiment Column"
   ]
  },
  {
   "cell_type": "markdown",
   "id": "6d721f74",
   "metadata": {},
   "source": [
    "##### Amazon Product Reviews Dataset"
   ]
  },
  {
   "cell_type": "code",
   "execution_count": 111,
   "id": "0bb6c7ee",
   "metadata": {},
   "outputs": [],
   "source": [
    "sentiment = udf(lambda x: TextBlob(x).sentiment[0])\n",
    "spark.udf.register(\"sentiment\", sentiment)\n",
    "df = df.withColumn('sentiment_score',sentiment('review_body').cast('double'))"
   ]
  },
  {
   "cell_type": "code",
   "execution_count": 112,
   "id": "f2ab7628",
   "metadata": {},
   "outputs": [
    {
     "name": "stdout",
     "output_type": "stream",
     "text": [
      "+-----------+--------------+----------+--------------------+--------------------+-----------+-------------+-----------+----+-----------------+--------------------+--------------------+-----------+---------------+------+---------+----+--------------------+\n",
      "|customer_id|     review_id|product_id|       product_title|    product_category|star_rating|helpful_votes|total_votes|vine|verified_purchase|     review_headline|         review_body|review_date|unhelpful_votes|season|    month|year|     sentiment_score|\n",
      "+-----------+--------------+----------+--------------------+--------------------+-----------+-------------+-----------+----+-----------------+--------------------+--------------------+-----------+---------------+------+---------+----+--------------------+\n",
      "|   50756929|R10DKNVRG1HIIK|0969755147|Mind Power into t...|               Books|          5|           13|         14|   N|                N|The best book on ...|From many books t...| 2000-05-15|            1.0|Spring|      May|2000|              0.1875|\n",
      "|   12195318|R10M3EY6B48DXS|B002VC6U8Q|Usc Fanfare W/ Tr...|Digital_Music_Pur...|          5|            0|          0|   N|                N|love, love, love !!!|Get it ... well w...| 2013-01-24|            0.0|Winter|  January|2013|         0.491796875|\n",
      "|   34413051| R10RHNK6A9NOQ|B004V2LX6I|Maxpedition Kodia...|              Sports|          5|            1|          1|   N|                Y|         Awesome!!!!|This bag has been...| 2013-01-27|            0.0|Winter|  January|2013| 0.09339409722222225|\n",
      "|   12045840|R1102VPDVD3S4X|B000V658DC|They Can't All Be...|Digital_Music_Pur...|          5|            0|          0|   N|                Y|        Primus Sucks|Sounds Good! Most...| 2014-03-03|            0.0|Spring|    March|2014| 0.44999999999999996|\n",
      "|   42508526|R11DIJT8PQOG1X|B000V697WK|              Gaucho|Digital_Music_Pur...|          4|            0|          1|   N|                Y|          good music|          Good music| 2014-12-09|            1.0|Winter| December|2014|                 0.7|\n",
      "|   15090785|R11MAVLO5Q2XEM|B00198HI1Q|Nature and Herbs ...|              Beauty|          5|            0|          0|   N|                Y|          Five Stars|  Improves dry skin.| 2014-02-18|            0.0|Winter| February|2014|-0.06666666666666665|\n",
      "|   52946350|R11VZA8DUS7291|1893163083|The Annals of San...|               Books|          5|           21|         22|   N|                N|For anyone who lo...|If, like me, you ...| 2001-08-04|            1.0|Summer|   August|2001|  0.3911458333333333|\n",
      "|   31483850|R11XC5E53AOZID|B0050TIOTK|    Frozen in Motion|Digital_Music_Pur...|          5|            1|          1|   N|                Y|Kodomo delivers a...|Kodomo delivers a...| 2011-06-24|            0.0|Summer|     June|2011|  0.5285714285714286|\n",
      "|   51383652|R123CNL7TN77SZ|B000UWAWQU|Waterpik Ultra Co...|              Beauty|          1|            1|          2|   N|                Y|Major design flaw...|This is a product...| 2015-06-26|            1.0|Summer|     June|2015|-0.12393217893217895|\n",
      "|   48835091|R127NOATYBXZGJ|B002LCAY6A|Say Hey (I Love Y...|Digital_Music_Pur...|          5|            0|          0|   N|                N|I'm dancing as I ...|How can you NOT l...| 2010-01-23|            0.0|Winter|  January|2010|  0.3958333333333333|\n",
      "|    8678312|R12X4O08HLMCOM|B00LK4T14Q|Double Set Parts ...|              Sports|          5|            1|          1|   N|                Y|The future you wi...|Saves ya from cra...| 2015-01-10|            0.0|Winter|  January|2015|                -0.2|\n",
      "|   52404190|R13EGO5RA7CD5X|0395083656|         O Pioneers!|               Books|          3|            1|          1|   N|                N|Accessible, meani...|I liked this book...| 1998-10-04|            0.0|  Fall|  October|1998|  0.3444444444444444|\n",
      "|   11301508|R13ZMXECUNC4SR|B004WIUNCG|Braun Cruzer 6 Be...|              Beauty|          2|            0|          0|   N|                Y|           Two Stars|Do not recommend ...| 2015-01-31|            0.0|Winter|  January|2015|                 0.0|\n",
      "|   16504628|R14R2M8POYYUWP|B002JC5S8G|Arizona Diamondba...|              Sports|          4|            0|          0|   N|                Y|Fans gotta have t...|This is great for...| 2012-02-07|            0.0|Winter| February|2012|   0.463888888888889|\n",
      "|   16016554|R14TAC5JU3UKVK|B00F9FMRAW|You Can't Make Ol...|Digital_Music_Pur...|          5|            0|          0|   N|                Y|loved it first ti...|Loved this song t...| 2013-09-25|            0.0|  Fall|September|2013|  0.5900000000000001|\n",
      "|   23483913|R14WRT7M1VHIH1|B001141030|          Unfaithful|Digital_Music_Pur...|          5|            0|          0|   N|                Y|          Unfaithful|I heard this song...| 2013-01-10|            0.0|Winter|  January|2013|              -0.125|\n",
      "|   51000978|R151VMCWFRRWBR|B002VBWIP6|Xbox Live Subscri...| Digital_Video_Games|          5|            0|          0|   N|                Y|          Five Stars|Great price for 1...| 2015-03-14|            0.0|Spring|    March|2015|                 0.8|\n",
      "|   14014165|R15AV9DNNW7VCE|B004Z0SHBK|Perfect Nail Art ...|              Beauty|          4|            5|          7|   N|                Y|            Adorable|I adore this litt...| 2012-05-05|            2.0|Spring|      May|2012| 0.20249999999999999|\n",
      "|    8508104|R15MSPZ0SAZNMZ|B008WWDO10|6\" 4-Seg Hard Sin...|              Sports|          1|            0|          0|   N|                Y|        very flawed.|The color is very...| 2015-08-09|            0.0|Summer|   August|2015|-0.11749999999999998|\n",
      "|   37791492|R15YCOAHHO3OJQ|0972508201|Winning Every Tim...|               Books|          5|            1|          2|   N|                N|Read it and then ...|I have used the t...| 2004-05-27|            1.0|Spring|      May|2004|  0.3113636363636364|\n",
      "+-----------+--------------+----------+--------------------+--------------------+-----------+-------------+-----------+----+-----------------+--------------------+--------------------+-----------+---------------+------+---------+----+--------------------+\n",
      "only showing top 20 rows\n",
      "\n"
     ]
    }
   ],
   "source": [
    "df.show()"
   ]
  },
  {
   "cell_type": "code",
   "execution_count": 113,
   "id": "05b80417",
   "metadata": {},
   "outputs": [],
   "source": [
    "# Create a new column \"sentiment\" based on the sentiment_score\n",
    "df = df.withColumn(\"sentiment\", when(col(\"sentiment_score\") > 0, \"positive\")\n",
    "                                .when(col(\"sentiment_score\") < 0, \"negative\")\n",
    "                                .otherwise(\"neutral\"))"
   ]
  },
  {
   "cell_type": "code",
   "execution_count": 114,
   "id": "975f6a65",
   "metadata": {},
   "outputs": [],
   "source": [
    "df = df.withColumn('abs_sentiment_score', abs(df['sentiment_score']))"
   ]
  },
  {
   "cell_type": "code",
   "execution_count": 115,
   "id": "98f38e72",
   "metadata": {
    "scrolled": false
   },
   "outputs": [
    {
     "data": {
      "text/html": [
       "<div>\n",
       "<style scoped>\n",
       "    .dataframe tbody tr th:only-of-type {\n",
       "        vertical-align: middle;\n",
       "    }\n",
       "\n",
       "    .dataframe tbody tr th {\n",
       "        vertical-align: top;\n",
       "    }\n",
       "\n",
       "    .dataframe thead th {\n",
       "        text-align: right;\n",
       "    }\n",
       "</style>\n",
       "<table border=\"1\" class=\"dataframe\">\n",
       "  <thead>\n",
       "    <tr style=\"text-align: right;\">\n",
       "      <th></th>\n",
       "      <th>customer_id</th>\n",
       "      <th>review_id</th>\n",
       "      <th>product_id</th>\n",
       "      <th>product_title</th>\n",
       "      <th>product_category</th>\n",
       "      <th>star_rating</th>\n",
       "      <th>helpful_votes</th>\n",
       "      <th>total_votes</th>\n",
       "      <th>vine</th>\n",
       "      <th>verified_purchase</th>\n",
       "      <th>review_headline</th>\n",
       "      <th>review_body</th>\n",
       "      <th>review_date</th>\n",
       "      <th>unhelpful_votes</th>\n",
       "      <th>season</th>\n",
       "      <th>month</th>\n",
       "      <th>year</th>\n",
       "      <th>sentiment_score</th>\n",
       "      <th>sentiment</th>\n",
       "      <th>abs_sentiment_score</th>\n",
       "    </tr>\n",
       "  </thead>\n",
       "  <tbody>\n",
       "    <tr>\n",
       "      <th>0</th>\n",
       "      <td>50756929</td>\n",
       "      <td>R10DKNVRG1HIIK</td>\n",
       "      <td>0969755147</td>\n",
       "      <td>Mind Power into the 21st Century: Techniques t...</td>\n",
       "      <td>Books</td>\n",
       "      <td>5</td>\n",
       "      <td>13</td>\n",
       "      <td>14</td>\n",
       "      <td>N</td>\n",
       "      <td>N</td>\n",
       "      <td>The best book on mind power</td>\n",
       "      <td>From many books that I read on topic of power ...</td>\n",
       "      <td>2000-05-15</td>\n",
       "      <td>1.0</td>\n",
       "      <td>Spring</td>\n",
       "      <td>May</td>\n",
       "      <td>2000</td>\n",
       "      <td>0.187500</td>\n",
       "      <td>positive</td>\n",
       "      <td>0.187500</td>\n",
       "    </tr>\n",
       "    <tr>\n",
       "      <th>1</th>\n",
       "      <td>12195318</td>\n",
       "      <td>R10M3EY6B48DXS</td>\n",
       "      <td>B002VC6U8Q</td>\n",
       "      <td>Usc Fanfare W/ Tribute to Troy</td>\n",
       "      <td>Digital_Music_Purchase</td>\n",
       "      <td>5</td>\n",
       "      <td>0</td>\n",
       "      <td>0</td>\n",
       "      <td>N</td>\n",
       "      <td>N</td>\n",
       "      <td>love, love, love !!!</td>\n",
       "      <td>Get it ... well worth the price -- for the tru...</td>\n",
       "      <td>2013-01-24</td>\n",
       "      <td>0.0</td>\n",
       "      <td>Winter</td>\n",
       "      <td>January</td>\n",
       "      <td>2013</td>\n",
       "      <td>0.491797</td>\n",
       "      <td>positive</td>\n",
       "      <td>0.491797</td>\n",
       "    </tr>\n",
       "    <tr>\n",
       "      <th>2</th>\n",
       "      <td>34413051</td>\n",
       "      <td>R10RHNK6A9NOQ</td>\n",
       "      <td>B004V2LX6I</td>\n",
       "      <td>Maxpedition Kodiak S-type Gearslinger</td>\n",
       "      <td>Sports</td>\n",
       "      <td>5</td>\n",
       "      <td>1</td>\n",
       "      <td>1</td>\n",
       "      <td>N</td>\n",
       "      <td>Y</td>\n",
       "      <td>Awesome!!!!</td>\n",
       "      <td>This bag has been my EDC since purchasing it. ...</td>\n",
       "      <td>2013-01-27</td>\n",
       "      <td>0.0</td>\n",
       "      <td>Winter</td>\n",
       "      <td>January</td>\n",
       "      <td>2013</td>\n",
       "      <td>0.093394</td>\n",
       "      <td>positive</td>\n",
       "      <td>0.093394</td>\n",
       "    </tr>\n",
       "    <tr>\n",
       "      <th>3</th>\n",
       "      <td>12045840</td>\n",
       "      <td>R1102VPDVD3S4X</td>\n",
       "      <td>B000V658DC</td>\n",
       "      <td>They Can't All Be Zingers</td>\n",
       "      <td>Digital_Music_Purchase</td>\n",
       "      <td>5</td>\n",
       "      <td>0</td>\n",
       "      <td>0</td>\n",
       "      <td>N</td>\n",
       "      <td>Y</td>\n",
       "      <td>Primus Sucks</td>\n",
       "      <td>Sounds Good! Most of the hits you want on one ...</td>\n",
       "      <td>2014-03-03</td>\n",
       "      <td>0.0</td>\n",
       "      <td>Spring</td>\n",
       "      <td>March</td>\n",
       "      <td>2014</td>\n",
       "      <td>0.450000</td>\n",
       "      <td>positive</td>\n",
       "      <td>0.450000</td>\n",
       "    </tr>\n",
       "    <tr>\n",
       "      <th>4</th>\n",
       "      <td>42508526</td>\n",
       "      <td>R11DIJT8PQOG1X</td>\n",
       "      <td>B000V697WK</td>\n",
       "      <td>Gaucho</td>\n",
       "      <td>Digital_Music_Purchase</td>\n",
       "      <td>4</td>\n",
       "      <td>0</td>\n",
       "      <td>1</td>\n",
       "      <td>N</td>\n",
       "      <td>Y</td>\n",
       "      <td>good music</td>\n",
       "      <td>Good music</td>\n",
       "      <td>2014-12-09</td>\n",
       "      <td>1.0</td>\n",
       "      <td>Winter</td>\n",
       "      <td>December</td>\n",
       "      <td>2014</td>\n",
       "      <td>0.700000</td>\n",
       "      <td>positive</td>\n",
       "      <td>0.700000</td>\n",
       "    </tr>\n",
       "  </tbody>\n",
       "</table>\n",
       "</div>"
      ],
      "text/plain": [
       "  customer_id       review_id  product_id  \\\n",
       "0    50756929  R10DKNVRG1HIIK  0969755147   \n",
       "1    12195318  R10M3EY6B48DXS  B002VC6U8Q   \n",
       "2    34413051   R10RHNK6A9NOQ  B004V2LX6I   \n",
       "3    12045840  R1102VPDVD3S4X  B000V658DC   \n",
       "4    42508526  R11DIJT8PQOG1X  B000V697WK   \n",
       "\n",
       "                                       product_title        product_category  \\\n",
       "0  Mind Power into the 21st Century: Techniques t...                   Books   \n",
       "1                     Usc Fanfare W/ Tribute to Troy  Digital_Music_Purchase   \n",
       "2              Maxpedition Kodiak S-type Gearslinger                  Sports   \n",
       "3                          They Can't All Be Zingers  Digital_Music_Purchase   \n",
       "4                                             Gaucho  Digital_Music_Purchase   \n",
       "\n",
       "   star_rating helpful_votes total_votes vine verified_purchase  \\\n",
       "0            5            13          14    N                 N   \n",
       "1            5             0           0    N                 N   \n",
       "2            5             1           1    N                 Y   \n",
       "3            5             0           0    N                 Y   \n",
       "4            4             0           1    N                 Y   \n",
       "\n",
       "               review_headline  \\\n",
       "0  The best book on mind power   \n",
       "1         love, love, love !!!   \n",
       "2                  Awesome!!!!   \n",
       "3                 Primus Sucks   \n",
       "4                   good music   \n",
       "\n",
       "                                         review_body review_date  \\\n",
       "0  From many books that I read on topic of power ...  2000-05-15   \n",
       "1  Get it ... well worth the price -- for the tru...  2013-01-24   \n",
       "2  This bag has been my EDC since purchasing it. ...  2013-01-27   \n",
       "3  Sounds Good! Most of the hits you want on one ...  2014-03-03   \n",
       "4                                         Good music  2014-12-09   \n",
       "\n",
       "   unhelpful_votes  season     month  year  sentiment_score sentiment  \\\n",
       "0              1.0  Spring       May  2000         0.187500  positive   \n",
       "1              0.0  Winter   January  2013         0.491797  positive   \n",
       "2              0.0  Winter   January  2013         0.093394  positive   \n",
       "3              0.0  Spring     March  2014         0.450000  positive   \n",
       "4              1.0  Winter  December  2014         0.700000  positive   \n",
       "\n",
       "   abs_sentiment_score  \n",
       "0             0.187500  \n",
       "1             0.491797  \n",
       "2             0.093394  \n",
       "3             0.450000  \n",
       "4             0.700000  "
      ]
     },
     "execution_count": 115,
     "metadata": {},
     "output_type": "execute_result"
    }
   ],
   "source": [
    "df.limit(5).toPandas()"
   ]
  },
  {
   "cell_type": "markdown",
   "id": "caac1e06",
   "metadata": {},
   "source": [
    "##### Amazon Spam Reviews Dataset"
   ]
  },
  {
   "cell_type": "code",
   "execution_count": 116,
   "id": "575f6857",
   "metadata": {},
   "outputs": [],
   "source": [
    "sentiment = udf(lambda x: TextBlob(x).sentiment[0])\n",
    "spark.udf.register(\"sentiment\", sentiment)\n",
    "spam_df = spam_df.withColumn('sentiment_score',sentiment('reviewText').cast('double'))"
   ]
  },
  {
   "cell_type": "code",
   "execution_count": 117,
   "id": "a235ca64",
   "metadata": {},
   "outputs": [
    {
     "data": {
      "text/html": [
       "<div>\n",
       "<style scoped>\n",
       "    .dataframe tbody tr th:only-of-type {\n",
       "        vertical-align: middle;\n",
       "    }\n",
       "\n",
       "    .dataframe tbody tr th {\n",
       "        vertical-align: top;\n",
       "    }\n",
       "\n",
       "    .dataframe thead th {\n",
       "        text-align: right;\n",
       "    }\n",
       "</style>\n",
       "<table border=\"1\" class=\"dataframe\">\n",
       "  <thead>\n",
       "    <tr style=\"text-align: right;\">\n",
       "      <th></th>\n",
       "      <th>class</th>\n",
       "      <th>reviewText</th>\n",
       "      <th>reviewTime</th>\n",
       "      <th>asin</th>\n",
       "      <th>reviewerID</th>\n",
       "      <th>reviewDate</th>\n",
       "      <th>season</th>\n",
       "      <th>year</th>\n",
       "      <th>sentiment_score</th>\n",
       "    </tr>\n",
       "  </thead>\n",
       "  <tbody>\n",
       "    <tr>\n",
       "      <th>0</th>\n",
       "      <td>1.0</td>\n",
       "      <td>It was a gift but it seemed pretty durable and...</td>\n",
       "      <td>03 18, 2008</td>\n",
       "      <td>B000AOZ11Y</td>\n",
       "      <td>A2BSWYKV7ZV7H6</td>\n",
       "      <td>2008-03-18</td>\n",
       "      <td>Spring</td>\n",
       "      <td>2008</td>\n",
       "      <td>0.425000</td>\n",
       "    </tr>\n",
       "    <tr>\n",
       "      <th>1</th>\n",
       "      <td>1.0</td>\n",
       "      <td>We now have a 9 hole disc golf course in our b...</td>\n",
       "      <td>12 12, 2012</td>\n",
       "      <td>B000ASG0DI</td>\n",
       "      <td>A1DQIB6VQ7Y22Q</td>\n",
       "      <td>2012-12-12</td>\n",
       "      <td>Winter</td>\n",
       "      <td>2012</td>\n",
       "      <td>0.225000</td>\n",
       "    </tr>\n",
       "    <tr>\n",
       "      <th>2</th>\n",
       "      <td>0.0</td>\n",
       "      <td>Do not buy this! The one I received was leakin...</td>\n",
       "      <td>02 17, 2014</td>\n",
       "      <td>B000AXVOLQ</td>\n",
       "      <td>A21TK1P3Q4T6DM</td>\n",
       "      <td>2014-02-17</td>\n",
       "      <td>Winter</td>\n",
       "      <td>2014</td>\n",
       "      <td>-0.283333</td>\n",
       "    </tr>\n",
       "    <tr>\n",
       "      <th>3</th>\n",
       "      <td>1.0</td>\n",
       "      <td>This is a very handy size and weight for a clo...</td>\n",
       "      <td>01 9, 2007</td>\n",
       "      <td>B000B76IJY</td>\n",
       "      <td>A2MKJZXSDSGJA0</td>\n",
       "      <td>2007-01-09</td>\n",
       "      <td>Winter</td>\n",
       "      <td>2007</td>\n",
       "      <td>0.432222</td>\n",
       "    </tr>\n",
       "    <tr>\n",
       "      <th>4</th>\n",
       "      <td>1.0</td>\n",
       "      <td>This is an awesome sharpener! Very compact and...</td>\n",
       "      <td>01 17, 2014</td>\n",
       "      <td>B000B8FW0E</td>\n",
       "      <td>A10UPCI7CPQXLA</td>\n",
       "      <td>2014-01-17</td>\n",
       "      <td>Winter</td>\n",
       "      <td>2014</td>\n",
       "      <td>0.205833</td>\n",
       "    </tr>\n",
       "  </tbody>\n",
       "</table>\n",
       "</div>"
      ],
      "text/plain": [
       "   class                                         reviewText   reviewTime  \\\n",
       "0    1.0  It was a gift but it seemed pretty durable and...  03 18, 2008   \n",
       "1    1.0  We now have a 9 hole disc golf course in our b...  12 12, 2012   \n",
       "2    0.0  Do not buy this! The one I received was leakin...  02 17, 2014   \n",
       "3    1.0  This is a very handy size and weight for a clo...   01 9, 2007   \n",
       "4    1.0  This is an awesome sharpener! Very compact and...  01 17, 2014   \n",
       "\n",
       "         asin      reviewerID  reviewDate  season  year  sentiment_score  \n",
       "0  B000AOZ11Y  A2BSWYKV7ZV7H6  2008-03-18  Spring  2008         0.425000  \n",
       "1  B000ASG0DI  A1DQIB6VQ7Y22Q  2012-12-12  Winter  2012         0.225000  \n",
       "2  B000AXVOLQ  A21TK1P3Q4T6DM  2014-02-17  Winter  2014        -0.283333  \n",
       "3  B000B76IJY  A2MKJZXSDSGJA0  2007-01-09  Winter  2007         0.432222  \n",
       "4  B000B8FW0E  A10UPCI7CPQXLA  2014-01-17  Winter  2014         0.205833  "
      ]
     },
     "execution_count": 117,
     "metadata": {},
     "output_type": "execute_result"
    }
   ],
   "source": [
    "spam_df.limit(5).toPandas()"
   ]
  },
  {
   "cell_type": "code",
   "execution_count": 118,
   "id": "4d4fbdce",
   "metadata": {},
   "outputs": [],
   "source": [
    "# Create a new column \"sentiment\" based on the sentiment_score\n",
    "spam_df = spam_df.withColumn(\"sentiment\", when(col(\"sentiment_score\") > 0, \"positive\")\n",
    "                                .when(col(\"sentiment_score\") < 0, \"negative\")\n",
    "                                .otherwise(\"neutral\"))"
   ]
  },
  {
   "cell_type": "code",
   "execution_count": 119,
   "id": "8b4f65aa",
   "metadata": {},
   "outputs": [],
   "source": [
    "#create column with absolute value for sentiment_score\n",
    "spam_df = spam_df.withColumn('abs_sentiment_score', abs(spam_df['sentiment_score']))"
   ]
  },
  {
   "cell_type": "code",
   "execution_count": 120,
   "id": "497671f2",
   "metadata": {},
   "outputs": [
    {
     "data": {
      "text/html": [
       "<div>\n",
       "<style scoped>\n",
       "    .dataframe tbody tr th:only-of-type {\n",
       "        vertical-align: middle;\n",
       "    }\n",
       "\n",
       "    .dataframe tbody tr th {\n",
       "        vertical-align: top;\n",
       "    }\n",
       "\n",
       "    .dataframe thead th {\n",
       "        text-align: right;\n",
       "    }\n",
       "</style>\n",
       "<table border=\"1\" class=\"dataframe\">\n",
       "  <thead>\n",
       "    <tr style=\"text-align: right;\">\n",
       "      <th></th>\n",
       "      <th>class</th>\n",
       "      <th>reviewText</th>\n",
       "      <th>reviewTime</th>\n",
       "      <th>asin</th>\n",
       "      <th>reviewerID</th>\n",
       "      <th>reviewDate</th>\n",
       "      <th>season</th>\n",
       "      <th>year</th>\n",
       "      <th>sentiment_score</th>\n",
       "      <th>sentiment</th>\n",
       "      <th>abs_sentiment_score</th>\n",
       "    </tr>\n",
       "  </thead>\n",
       "  <tbody>\n",
       "    <tr>\n",
       "      <th>0</th>\n",
       "      <td>1.0</td>\n",
       "      <td>It was a gift but it seemed pretty durable and...</td>\n",
       "      <td>03 18, 2008</td>\n",
       "      <td>B000AOZ11Y</td>\n",
       "      <td>A2BSWYKV7ZV7H6</td>\n",
       "      <td>2008-03-18</td>\n",
       "      <td>Spring</td>\n",
       "      <td>2008</td>\n",
       "      <td>0.425000</td>\n",
       "      <td>positive</td>\n",
       "      <td>0.425000</td>\n",
       "    </tr>\n",
       "    <tr>\n",
       "      <th>1</th>\n",
       "      <td>1.0</td>\n",
       "      <td>We now have a 9 hole disc golf course in our b...</td>\n",
       "      <td>12 12, 2012</td>\n",
       "      <td>B000ASG0DI</td>\n",
       "      <td>A1DQIB6VQ7Y22Q</td>\n",
       "      <td>2012-12-12</td>\n",
       "      <td>Winter</td>\n",
       "      <td>2012</td>\n",
       "      <td>0.225000</td>\n",
       "      <td>positive</td>\n",
       "      <td>0.225000</td>\n",
       "    </tr>\n",
       "    <tr>\n",
       "      <th>2</th>\n",
       "      <td>0.0</td>\n",
       "      <td>Do not buy this! The one I received was leakin...</td>\n",
       "      <td>02 17, 2014</td>\n",
       "      <td>B000AXVOLQ</td>\n",
       "      <td>A21TK1P3Q4T6DM</td>\n",
       "      <td>2014-02-17</td>\n",
       "      <td>Winter</td>\n",
       "      <td>2014</td>\n",
       "      <td>-0.283333</td>\n",
       "      <td>negative</td>\n",
       "      <td>0.283333</td>\n",
       "    </tr>\n",
       "    <tr>\n",
       "      <th>3</th>\n",
       "      <td>1.0</td>\n",
       "      <td>This is a very handy size and weight for a clo...</td>\n",
       "      <td>01 9, 2007</td>\n",
       "      <td>B000B76IJY</td>\n",
       "      <td>A2MKJZXSDSGJA0</td>\n",
       "      <td>2007-01-09</td>\n",
       "      <td>Winter</td>\n",
       "      <td>2007</td>\n",
       "      <td>0.432222</td>\n",
       "      <td>positive</td>\n",
       "      <td>0.432222</td>\n",
       "    </tr>\n",
       "    <tr>\n",
       "      <th>4</th>\n",
       "      <td>1.0</td>\n",
       "      <td>This is an awesome sharpener! Very compact and...</td>\n",
       "      <td>01 17, 2014</td>\n",
       "      <td>B000B8FW0E</td>\n",
       "      <td>A10UPCI7CPQXLA</td>\n",
       "      <td>2014-01-17</td>\n",
       "      <td>Winter</td>\n",
       "      <td>2014</td>\n",
       "      <td>0.205833</td>\n",
       "      <td>positive</td>\n",
       "      <td>0.205833</td>\n",
       "    </tr>\n",
       "  </tbody>\n",
       "</table>\n",
       "</div>"
      ],
      "text/plain": [
       "   class                                         reviewText   reviewTime  \\\n",
       "0    1.0  It was a gift but it seemed pretty durable and...  03 18, 2008   \n",
       "1    1.0  We now have a 9 hole disc golf course in our b...  12 12, 2012   \n",
       "2    0.0  Do not buy this! The one I received was leakin...  02 17, 2014   \n",
       "3    1.0  This is a very handy size and weight for a clo...   01 9, 2007   \n",
       "4    1.0  This is an awesome sharpener! Very compact and...  01 17, 2014   \n",
       "\n",
       "         asin      reviewerID  reviewDate  season  year  sentiment_score  \\\n",
       "0  B000AOZ11Y  A2BSWYKV7ZV7H6  2008-03-18  Spring  2008         0.425000   \n",
       "1  B000ASG0DI  A1DQIB6VQ7Y22Q  2012-12-12  Winter  2012         0.225000   \n",
       "2  B000AXVOLQ  A21TK1P3Q4T6DM  2014-02-17  Winter  2014        -0.283333   \n",
       "3  B000B76IJY  A2MKJZXSDSGJA0  2007-01-09  Winter  2007         0.432222   \n",
       "4  B000B8FW0E  A10UPCI7CPQXLA  2014-01-17  Winter  2014         0.205833   \n",
       "\n",
       "  sentiment  abs_sentiment_score  \n",
       "0  positive             0.425000  \n",
       "1  positive             0.225000  \n",
       "2  negative             0.283333  \n",
       "3  positive             0.432222  \n",
       "4  positive             0.205833  "
      ]
     },
     "execution_count": 120,
     "metadata": {},
     "output_type": "execute_result"
    }
   ],
   "source": [
    "spam_df.limit(5).toPandas()"
   ]
  },
  {
   "cell_type": "markdown",
   "id": "a75dcd73",
   "metadata": {},
   "source": [
    "### Creating Review Length Column"
   ]
  },
  {
   "cell_type": "markdown",
   "id": "1d1ebdea",
   "metadata": {},
   "source": [
    "##### Amazon Spam Reviews Dataset"
   ]
  },
  {
   "cell_type": "code",
   "execution_count": 121,
   "id": "7daeb7c9",
   "metadata": {},
   "outputs": [],
   "source": [
    "spam_df = spam_df.withColumn(\"review_text_length\", length(\"reviewText\"))"
   ]
  },
  {
   "cell_type": "code",
   "execution_count": 122,
   "id": "8d100a8a",
   "metadata": {},
   "outputs": [
    {
     "data": {
      "text/html": [
       "<div>\n",
       "<style scoped>\n",
       "    .dataframe tbody tr th:only-of-type {\n",
       "        vertical-align: middle;\n",
       "    }\n",
       "\n",
       "    .dataframe tbody tr th {\n",
       "        vertical-align: top;\n",
       "    }\n",
       "\n",
       "    .dataframe thead th {\n",
       "        text-align: right;\n",
       "    }\n",
       "</style>\n",
       "<table border=\"1\" class=\"dataframe\">\n",
       "  <thead>\n",
       "    <tr style=\"text-align: right;\">\n",
       "      <th></th>\n",
       "      <th>class</th>\n",
       "      <th>reviewText</th>\n",
       "      <th>reviewTime</th>\n",
       "      <th>asin</th>\n",
       "      <th>reviewerID</th>\n",
       "      <th>reviewDate</th>\n",
       "      <th>season</th>\n",
       "      <th>year</th>\n",
       "      <th>sentiment_score</th>\n",
       "      <th>sentiment</th>\n",
       "      <th>abs_sentiment_score</th>\n",
       "      <th>review_text_length</th>\n",
       "    </tr>\n",
       "  </thead>\n",
       "  <tbody>\n",
       "    <tr>\n",
       "      <th>0</th>\n",
       "      <td>1.0</td>\n",
       "      <td>It was a gift but it seemed pretty durable and...</td>\n",
       "      <td>03 18, 2008</td>\n",
       "      <td>B000AOZ11Y</td>\n",
       "      <td>A2BSWYKV7ZV7H6</td>\n",
       "      <td>2008-03-18</td>\n",
       "      <td>Spring</td>\n",
       "      <td>2008</td>\n",
       "      <td>0.425000</td>\n",
       "      <td>positive</td>\n",
       "      <td>0.425000</td>\n",
       "      <td>73</td>\n",
       "    </tr>\n",
       "    <tr>\n",
       "      <th>1</th>\n",
       "      <td>1.0</td>\n",
       "      <td>We now have a 9 hole disc golf course in our b...</td>\n",
       "      <td>12 12, 2012</td>\n",
       "      <td>B000ASG0DI</td>\n",
       "      <td>A1DQIB6VQ7Y22Q</td>\n",
       "      <td>2012-12-12</td>\n",
       "      <td>Winter</td>\n",
       "      <td>2012</td>\n",
       "      <td>0.225000</td>\n",
       "      <td>positive</td>\n",
       "      <td>0.225000</td>\n",
       "      <td>185</td>\n",
       "    </tr>\n",
       "    <tr>\n",
       "      <th>2</th>\n",
       "      <td>0.0</td>\n",
       "      <td>Do not buy this! The one I received was leakin...</td>\n",
       "      <td>02 17, 2014</td>\n",
       "      <td>B000AXVOLQ</td>\n",
       "      <td>A21TK1P3Q4T6DM</td>\n",
       "      <td>2014-02-17</td>\n",
       "      <td>Winter</td>\n",
       "      <td>2014</td>\n",
       "      <td>-0.283333</td>\n",
       "      <td>negative</td>\n",
       "      <td>0.283333</td>\n",
       "      <td>142</td>\n",
       "    </tr>\n",
       "    <tr>\n",
       "      <th>3</th>\n",
       "      <td>1.0</td>\n",
       "      <td>This is a very handy size and weight for a clo...</td>\n",
       "      <td>01 9, 2007</td>\n",
       "      <td>B000B76IJY</td>\n",
       "      <td>A2MKJZXSDSGJA0</td>\n",
       "      <td>2007-01-09</td>\n",
       "      <td>Winter</td>\n",
       "      <td>2007</td>\n",
       "      <td>0.432222</td>\n",
       "      <td>positive</td>\n",
       "      <td>0.432222</td>\n",
       "      <td>175</td>\n",
       "    </tr>\n",
       "    <tr>\n",
       "      <th>4</th>\n",
       "      <td>1.0</td>\n",
       "      <td>This is an awesome sharpener! Very compact and...</td>\n",
       "      <td>01 17, 2014</td>\n",
       "      <td>B000B8FW0E</td>\n",
       "      <td>A10UPCI7CPQXLA</td>\n",
       "      <td>2014-01-17</td>\n",
       "      <td>Winter</td>\n",
       "      <td>2014</td>\n",
       "      <td>0.205833</td>\n",
       "      <td>positive</td>\n",
       "      <td>0.205833</td>\n",
       "      <td>157</td>\n",
       "    </tr>\n",
       "  </tbody>\n",
       "</table>\n",
       "</div>"
      ],
      "text/plain": [
       "   class                                         reviewText   reviewTime  \\\n",
       "0    1.0  It was a gift but it seemed pretty durable and...  03 18, 2008   \n",
       "1    1.0  We now have a 9 hole disc golf course in our b...  12 12, 2012   \n",
       "2    0.0  Do not buy this! The one I received was leakin...  02 17, 2014   \n",
       "3    1.0  This is a very handy size and weight for a clo...   01 9, 2007   \n",
       "4    1.0  This is an awesome sharpener! Very compact and...  01 17, 2014   \n",
       "\n",
       "         asin      reviewerID  reviewDate  season  year  sentiment_score  \\\n",
       "0  B000AOZ11Y  A2BSWYKV7ZV7H6  2008-03-18  Spring  2008         0.425000   \n",
       "1  B000ASG0DI  A1DQIB6VQ7Y22Q  2012-12-12  Winter  2012         0.225000   \n",
       "2  B000AXVOLQ  A21TK1P3Q4T6DM  2014-02-17  Winter  2014        -0.283333   \n",
       "3  B000B76IJY  A2MKJZXSDSGJA0  2007-01-09  Winter  2007         0.432222   \n",
       "4  B000B8FW0E  A10UPCI7CPQXLA  2014-01-17  Winter  2014         0.205833   \n",
       "\n",
       "  sentiment  abs_sentiment_score  review_text_length  \n",
       "0  positive             0.425000                  73  \n",
       "1  positive             0.225000                 185  \n",
       "2  negative             0.283333                 142  \n",
       "3  positive             0.432222                 175  \n",
       "4  positive             0.205833                 157  "
      ]
     },
     "execution_count": 122,
     "metadata": {},
     "output_type": "execute_result"
    }
   ],
   "source": [
    "spam_df.limit(5).toPandas()"
   ]
  },
  {
   "cell_type": "markdown",
   "id": "8f10ac6c",
   "metadata": {},
   "source": [
    "##### Amazon Product Reviews Dataset"
   ]
  },
  {
   "cell_type": "code",
   "execution_count": 123,
   "id": "68312f73",
   "metadata": {},
   "outputs": [],
   "source": [
    "df = df.withColumn(\"review_text_length\", length(\"review_body\"))"
   ]
  },
  {
   "cell_type": "markdown",
   "id": "4c12d391",
   "metadata": {},
   "source": [
    "### Add labels column"
   ]
  },
  {
   "cell_type": "markdown",
   "id": "0b574349",
   "metadata": {},
   "source": [
    "##### Amazon Spam Reviews Dataset"
   ]
  },
  {
   "cell_type": "code",
   "execution_count": 124,
   "id": "6ca1ae02",
   "metadata": {},
   "outputs": [],
   "source": [
    "# Map binary labels to \"spam\" and \"ham\"\n",
    "spam_df = spam_df.withColumn(\"labels\", when(col(\"class\") == 1, \"spam\").otherwise(\"ham\"))"
   ]
  },
  {
   "cell_type": "markdown",
   "id": "720ceaf6",
   "metadata": {},
   "source": [
    "### Cleaning Review Text"
   ]
  },
  {
   "cell_type": "code",
   "execution_count": 125,
   "id": "0cc228a5",
   "metadata": {},
   "outputs": [],
   "source": [
    "#function that gets samples of column\n",
    "def getSamplesOfData(df,colName,size,isTail):\n",
    "    samples=[]\n",
    "    if isTail:        \n",
    "        samples = df.orderBy(df[colName].desc()).limit(size).select(colName).rdd.flatMap(lambda x: x).collect()\n",
    "        \n",
    "    else:\n",
    "        samples = df.orderBy(df[colName]).limit(size).select(colName).rdd.flatMap(lambda x: x).collect()\n",
    "\n",
    "    # Print the samples\n",
    "    print(\"Samples:\")\n",
    "    for sample in samples:\n",
    "        print(sample)\n",
    "        print(\"\\n\")\n",
    "    if len(samples)<=0:\n",
    "        print(\"List is Empty\")"
   ]
  },
  {
   "cell_type": "code",
   "execution_count": 126,
   "id": "c70ee035",
   "metadata": {},
   "outputs": [
    {
     "name": "stdout",
     "output_type": "stream",
     "text": [
      "Samples:\n",
      "!\n",
      "\n",
      "\n",
      "! Good !\n",
      "\n",
      "\n",
      "! Unbelievable true story.\n",
      "\n",
      "\n",
      "!!! AS A REGULAR AMAZON CUSTOMER, THIS IS THE FIRST TIME I ORDERED SOMETHING LEGITIMATELY FAULTY AND FAKE.  DO NOT BUY FROM THIS SELLER.  SET OF TWO CHARGERS, NEITHER PROVIDE A CONSISTENT CURRENT TO CHARGE THE DEVICE.  AFTER SEEING MANY OTHER REVIEWS, I AM NOT ALONE.  IF YOU ARE READING THIS, IMPORTER520, STOP RIPPING PEOPLE OFF OR YOU WILL NO LONGER BE ABLE TO SELL THROUGH AMAZON.  THAT IS ALL. !!!\n",
      "\n",
      "\n",
      "!!! GREAT SELLER GREAT PRODUCT !!! Thanks\n",
      "\n",
      "\n"
     ]
    }
   ],
   "source": [
    "getSamplesOfData(df,\"review_body\",5,False)"
   ]
  },
  {
   "cell_type": "code",
   "execution_count": 127,
   "id": "1828bdae",
   "metadata": {},
   "outputs": [
    {
     "name": "stdout",
     "output_type": "stream",
     "text": [
      "Samples:\n",
      "🙌🙌🙌🙌🙌\n",
      "\n",
      "\n",
      "🙌\n",
      "\n",
      "\n",
      "🙌\n",
      "\n",
      "\n",
      "🙇🙇im unsure if this thing is just highly sensitive or if there's an off switch I'm missing but it NEVER shuts up. I tried hiding it deep inside my dresser and that didn't work. Now I'm giving it away and the whole time I'm driving its going off. I'm about to throw it out the window. All it did was upset my dog. On the plus side, the battery sure lasts a long time. My dog also doesn't understand the concept of balls so that may have something to do with him not liking it. I can see how it would be entertaining for some dogs, but I recommend putting it outside or somewhere you can't hear it.\n",
      "\n",
      "\n",
      "😺\n",
      "\n",
      "\n"
     ]
    }
   ],
   "source": [
    "getSamplesOfData(df,\"review_body\",5,True)"
   ]
  },
  {
   "cell_type": "code",
   "execution_count": 128,
   "id": "b10077ac",
   "metadata": {},
   "outputs": [],
   "source": [
    "# Define a function for data cleaning\n",
    "def clean_text(text):\n",
    "    soup = BeautifulSoup(text, 'html.parser')\n",
    "    text = soup.get_text()\n",
    "    # Remove Unicode characters\n",
    "    text = re.sub(r'[^\\x00-\\x7F]+', '', text)\n",
    "    \n",
    "    # Normalize text\n",
    "    text = text.lower()\n",
    "    text = re.sub(r\"[^a-zA-Z0-9\\s]\", \"\", text)\n",
    "    text = re.sub(r\"\\s+\", \" \", text).strip()\n",
    "    \n",
    "    return text"
   ]
  },
  {
   "cell_type": "markdown",
   "id": "54dcb8d4",
   "metadata": {},
   "source": [
    "##### Amazon Product Reviews Dataset"
   ]
  },
  {
   "cell_type": "code",
   "execution_count": 129,
   "id": "9f835019",
   "metadata": {},
   "outputs": [],
   "source": [
    "df2=df"
   ]
  },
  {
   "cell_type": "code",
   "execution_count": 130,
   "id": "5cc3a43e",
   "metadata": {},
   "outputs": [],
   "source": [
    "# Register the clean_text function as a UDF (User-Defined Function)\n",
    "clean_text_udf = udf(clean_text, StringType())\n",
    "\n",
    "# Create a new column \"review_body_clean\" by applying the clean_text UDF to \"review_body\"\n",
    "df2 = df2.withColumn(\"review_body_clean\", clean_text_udf(\"review_body\"))\n"
   ]
  },
  {
   "cell_type": "code",
   "execution_count": 131,
   "id": "bfa41867",
   "metadata": {},
   "outputs": [],
   "source": [
    "#getSamplesOfData(df2,\"review_body_clean\",5,False)"
   ]
  },
  {
   "cell_type": "code",
   "execution_count": 132,
   "id": "57f1d0e6",
   "metadata": {},
   "outputs": [],
   "source": [
    "#getSamplesOfData(df2,\"review_body_clean\",5,True)"
   ]
  },
  {
   "cell_type": "code",
   "execution_count": 133,
   "id": "183c022e",
   "metadata": {},
   "outputs": [],
   "source": [
    "# Tokenize the text column\n",
    "tokenizer = Tokenizer(inputCol=\"review_body_clean\", outputCol=\"token\")\n",
    "#df2 = tokenizer.transform(df2)"
   ]
  },
  {
   "cell_type": "code",
   "execution_count": 134,
   "id": "beb90e86",
   "metadata": {},
   "outputs": [],
   "source": [
    "# Create the StopWordsRemover instance\n",
    "remover = StopWordsRemover(inputCol=\"token\",outputCol=\"stop_removed\")\n",
    "\n",
    "# Apply the StopWordsRemover transformation\n",
    "#df2 = remover.transform(df2)\n"
   ]
  },
  {
   "cell_type": "code",
   "execution_count": 135,
   "id": "3f7bdb52",
   "metadata": {},
   "outputs": [],
   "source": [
    "#df2.limit(5).toPandas()"
   ]
  },
  {
   "cell_type": "code",
   "execution_count": 136,
   "id": "87269883",
   "metadata": {},
   "outputs": [],
   "source": [
    "#shape(df2.filter(col(\"review_body_clean\")==\"\"))"
   ]
  },
  {
   "cell_type": "code",
   "execution_count": 137,
   "id": "dbcd1324",
   "metadata": {},
   "outputs": [],
   "source": [
    "# Define your custom lemmatizer class\n",
    "class Lemmatizer(Transformer, HasInputCol, HasOutputCol, DefaultParamsWritable, DefaultParamsReadable):\n",
    "    input_col = Param(Params._dummy(), \"input_col\", \"input column name.\", typeConverter=TypeConverters.toString)\n",
    "    output_col = Param(Params._dummy(), \"output_col\", \"output column name.\", typeConverter=TypeConverters.toString)\n",
    "    @keyword_only\n",
    "    def __init__(self, input_col: str = \"input\", output_col: str = \"output\"):\n",
    "        super(Lemmatizer, self).__init__()\n",
    "        self._setDefault(input_col=None, output_col=None)\n",
    "        kwargs = self._input_kwargs\n",
    "        self.set_params(**kwargs)\n",
    "    \n",
    "    @keyword_only\n",
    "    def set_params(self, input_col: str = \"input\", output_col: str = \"output\"):\n",
    "        kwargs = self._input_kwargs\n",
    "        self._set(**kwargs)\n",
    "\n",
    "    def get_input_col(self):\n",
    "        return self.getOrDefault(self.input_col)\n",
    "\n",
    "    def get_output_col(self):\n",
    "        return self.getOrDefault(self.output_col)\n",
    "\n",
    "    # Implement the transformation logic\n",
    "    def _transform(self, dataset):\n",
    "       \n",
    "        input_column = self.get_input_col()\n",
    "        output_column =  self.get_output_col()\n",
    "        \n",
    "        # Initialize the WordNetLemmatizer\n",
    "        \n",
    "        lemmatizer = WordNetLemmatizer()\n",
    "        # Define the lemmatization function\n",
    "        def lemmatize_tokens(tokens):\n",
    "            pos_tags = nltk.pos_tag(tokens)\n",
    "            lemmas = []\n",
    "            for token in tokens:\n",
    "                lemma = lemmatizer.lemmatize(token)\n",
    "                lemmas.append(lemma)\n",
    "            return lemmas\n",
    "\n",
    "        # Register the UDF\n",
    "        lemmatize_udf = udf(lemmatize_tokens, ArrayType(StringType()))\n",
    "\n",
    "        # Apply transformation\n",
    "        return dataset.withColumn(output_column, lemmatize_udf(input_column))"
   ]
  },
  {
   "cell_type": "code",
   "execution_count": 138,
   "id": "68a7b963",
   "metadata": {},
   "outputs": [],
   "source": [
    "#save cleaned data\n",
    "#df2.write.mode(\"overwrite\").option(\"header\", \"true\")\\\n",
    "#.json(\"gs://productpal_bucket/cleaned_data.json\")"
   ]
  },
  {
   "cell_type": "code",
   "execution_count": 139,
   "id": "2f346269",
   "metadata": {},
   "outputs": [],
   "source": [
    "lemmatizer= Lemmatizer(input_col=\"stop_removed\", output_col=\"lemmas\")"
   ]
  },
  {
   "cell_type": "code",
   "execution_count": 140,
   "id": "81ec8c9c",
   "metadata": {},
   "outputs": [],
   "source": [
    "#create pipeline to preprocess text (tokenize text, remove stop words and lemmatize)\n",
    "clean_reviews_pipeline = Pipeline(stages=[tokenizer, remover, lemmatizer])"
   ]
  },
  {
   "cell_type": "code",
   "execution_count": 141,
   "id": "c16f394b",
   "metadata": {},
   "outputs": [],
   "source": [
    "#Fit the pipeline on the DataFrame\n",
    "t_model=clean_reviews_pipeline.fit(df2)"
   ]
  },
  {
   "cell_type": "code",
   "execution_count": 142,
   "id": "afafa00e",
   "metadata": {},
   "outputs": [],
   "source": [
    "# Transform the DataFrame using the fitted pipeline\n",
    "df2=t_model.transform(df2)"
   ]
  },
  {
   "cell_type": "code",
   "execution_count": 143,
   "id": "cc5b68ce",
   "metadata": {},
   "outputs": [
    {
     "data": {
      "text/html": [
       "<div>\n",
       "<style scoped>\n",
       "    .dataframe tbody tr th:only-of-type {\n",
       "        vertical-align: middle;\n",
       "    }\n",
       "\n",
       "    .dataframe tbody tr th {\n",
       "        vertical-align: top;\n",
       "    }\n",
       "\n",
       "    .dataframe thead th {\n",
       "        text-align: right;\n",
       "    }\n",
       "</style>\n",
       "<table border=\"1\" class=\"dataframe\">\n",
       "  <thead>\n",
       "    <tr style=\"text-align: right;\">\n",
       "      <th></th>\n",
       "      <th>customer_id</th>\n",
       "      <th>review_id</th>\n",
       "      <th>product_id</th>\n",
       "      <th>product_title</th>\n",
       "      <th>product_category</th>\n",
       "      <th>star_rating</th>\n",
       "      <th>helpful_votes</th>\n",
       "      <th>total_votes</th>\n",
       "      <th>vine</th>\n",
       "      <th>verified_purchase</th>\n",
       "      <th>...</th>\n",
       "      <th>month</th>\n",
       "      <th>year</th>\n",
       "      <th>sentiment_score</th>\n",
       "      <th>sentiment</th>\n",
       "      <th>abs_sentiment_score</th>\n",
       "      <th>review_text_length</th>\n",
       "      <th>review_body_clean</th>\n",
       "      <th>token</th>\n",
       "      <th>stop_removed</th>\n",
       "      <th>lemmas</th>\n",
       "    </tr>\n",
       "  </thead>\n",
       "  <tbody>\n",
       "    <tr>\n",
       "      <th>0</th>\n",
       "      <td>50756929</td>\n",
       "      <td>R10DKNVRG1HIIK</td>\n",
       "      <td>0969755147</td>\n",
       "      <td>Mind Power into the 21st Century: Techniques t...</td>\n",
       "      <td>Books</td>\n",
       "      <td>5</td>\n",
       "      <td>13</td>\n",
       "      <td>14</td>\n",
       "      <td>N</td>\n",
       "      <td>N</td>\n",
       "      <td>...</td>\n",
       "      <td>May</td>\n",
       "      <td>2000</td>\n",
       "      <td>0.187500</td>\n",
       "      <td>positive</td>\n",
       "      <td>0.187500</td>\n",
       "      <td>745</td>\n",
       "      <td>from many books that i read on topic of power ...</td>\n",
       "      <td>[from, many, books, that, i, read, on, topic, ...</td>\n",
       "      <td>[many, books, read, topic, power, thoughts, jo...</td>\n",
       "      <td>[many, book, read, topic, power, thought, john...</td>\n",
       "    </tr>\n",
       "    <tr>\n",
       "      <th>1</th>\n",
       "      <td>12195318</td>\n",
       "      <td>R10M3EY6B48DXS</td>\n",
       "      <td>B002VC6U8Q</td>\n",
       "      <td>Usc Fanfare W/ Tribute to Troy</td>\n",
       "      <td>Digital_Music_Purchase</td>\n",
       "      <td>5</td>\n",
       "      <td>0</td>\n",
       "      <td>0</td>\n",
       "      <td>N</td>\n",
       "      <td>N</td>\n",
       "      <td>...</td>\n",
       "      <td>January</td>\n",
       "      <td>2013</td>\n",
       "      <td>0.491797</td>\n",
       "      <td>positive</td>\n",
       "      <td>0.491797</td>\n",
       "      <td>88</td>\n",
       "      <td>get it well worth the price for the true troja...</td>\n",
       "      <td>[get, it, well, worth, the, price, for, the, t...</td>\n",
       "      <td>[get, well, worth, price, true, trojan, fan, g...</td>\n",
       "      <td>[get, well, worth, price, true, trojan, fan, g...</td>\n",
       "    </tr>\n",
       "    <tr>\n",
       "      <th>2</th>\n",
       "      <td>34413051</td>\n",
       "      <td>R10RHNK6A9NOQ</td>\n",
       "      <td>B004V2LX6I</td>\n",
       "      <td>Maxpedition Kodiak S-type Gearslinger</td>\n",
       "      <td>Sports</td>\n",
       "      <td>5</td>\n",
       "      <td>1</td>\n",
       "      <td>1</td>\n",
       "      <td>N</td>\n",
       "      <td>Y</td>\n",
       "      <td>...</td>\n",
       "      <td>January</td>\n",
       "      <td>2013</td>\n",
       "      <td>0.093394</td>\n",
       "      <td>positive</td>\n",
       "      <td>0.093394</td>\n",
       "      <td>203</td>\n",
       "      <td>this bag has been my edc since purchasing it i...</td>\n",
       "      <td>[this, bag, has, been, my, edc, since, purchas...</td>\n",
       "      <td>[bag, edc, since, purchasing, many, maxpeditio...</td>\n",
       "      <td>[bag, edc, since, purchasing, many, maxpeditio...</td>\n",
       "    </tr>\n",
       "    <tr>\n",
       "      <th>3</th>\n",
       "      <td>12045840</td>\n",
       "      <td>R1102VPDVD3S4X</td>\n",
       "      <td>B000V658DC</td>\n",
       "      <td>They Can't All Be Zingers</td>\n",
       "      <td>Digital_Music_Purchase</td>\n",
       "      <td>5</td>\n",
       "      <td>0</td>\n",
       "      <td>0</td>\n",
       "      <td>N</td>\n",
       "      <td>Y</td>\n",
       "      <td>...</td>\n",
       "      <td>March</td>\n",
       "      <td>2014</td>\n",
       "      <td>0.450000</td>\n",
       "      <td>positive</td>\n",
       "      <td>0.450000</td>\n",
       "      <td>95</td>\n",
       "      <td>sounds good most of the hits you want on one d...</td>\n",
       "      <td>[sounds, good, most, of, the, hits, you, want,...</td>\n",
       "      <td>[sounds, good, hits, want, one, disc, great, p...</td>\n",
       "      <td>[sound, good, hit, want, one, disc, great, pri...</td>\n",
       "    </tr>\n",
       "    <tr>\n",
       "      <th>4</th>\n",
       "      <td>42508526</td>\n",
       "      <td>R11DIJT8PQOG1X</td>\n",
       "      <td>B000V697WK</td>\n",
       "      <td>Gaucho</td>\n",
       "      <td>Digital_Music_Purchase</td>\n",
       "      <td>4</td>\n",
       "      <td>0</td>\n",
       "      <td>1</td>\n",
       "      <td>N</td>\n",
       "      <td>Y</td>\n",
       "      <td>...</td>\n",
       "      <td>December</td>\n",
       "      <td>2014</td>\n",
       "      <td>0.700000</td>\n",
       "      <td>positive</td>\n",
       "      <td>0.700000</td>\n",
       "      <td>10</td>\n",
       "      <td>good music</td>\n",
       "      <td>[good, music]</td>\n",
       "      <td>[good, music]</td>\n",
       "      <td>[good, music]</td>\n",
       "    </tr>\n",
       "  </tbody>\n",
       "</table>\n",
       "<p>5 rows × 25 columns</p>\n",
       "</div>"
      ],
      "text/plain": [
       "  customer_id       review_id  product_id  \\\n",
       "0    50756929  R10DKNVRG1HIIK  0969755147   \n",
       "1    12195318  R10M3EY6B48DXS  B002VC6U8Q   \n",
       "2    34413051   R10RHNK6A9NOQ  B004V2LX6I   \n",
       "3    12045840  R1102VPDVD3S4X  B000V658DC   \n",
       "4    42508526  R11DIJT8PQOG1X  B000V697WK   \n",
       "\n",
       "                                       product_title        product_category  \\\n",
       "0  Mind Power into the 21st Century: Techniques t...                   Books   \n",
       "1                     Usc Fanfare W/ Tribute to Troy  Digital_Music_Purchase   \n",
       "2              Maxpedition Kodiak S-type Gearslinger                  Sports   \n",
       "3                          They Can't All Be Zingers  Digital_Music_Purchase   \n",
       "4                                             Gaucho  Digital_Music_Purchase   \n",
       "\n",
       "   star_rating helpful_votes total_votes vine verified_purchase  ...  \\\n",
       "0            5            13          14    N                 N  ...   \n",
       "1            5             0           0    N                 N  ...   \n",
       "2            5             1           1    N                 Y  ...   \n",
       "3            5             0           0    N                 Y  ...   \n",
       "4            4             0           1    N                 Y  ...   \n",
       "\n",
       "      month  year sentiment_score  sentiment abs_sentiment_score  \\\n",
       "0       May  2000        0.187500   positive            0.187500   \n",
       "1   January  2013        0.491797   positive            0.491797   \n",
       "2   January  2013        0.093394   positive            0.093394   \n",
       "3     March  2014        0.450000   positive            0.450000   \n",
       "4  December  2014        0.700000   positive            0.700000   \n",
       "\n",
       "  review_text_length                                  review_body_clean  \\\n",
       "0                745  from many books that i read on topic of power ...   \n",
       "1                 88  get it well worth the price for the true troja...   \n",
       "2                203  this bag has been my edc since purchasing it i...   \n",
       "3                 95  sounds good most of the hits you want on one d...   \n",
       "4                 10                                         good music   \n",
       "\n",
       "                                               token  \\\n",
       "0  [from, many, books, that, i, read, on, topic, ...   \n",
       "1  [get, it, well, worth, the, price, for, the, t...   \n",
       "2  [this, bag, has, been, my, edc, since, purchas...   \n",
       "3  [sounds, good, most, of, the, hits, you, want,...   \n",
       "4                                      [good, music]   \n",
       "\n",
       "                                        stop_removed  \\\n",
       "0  [many, books, read, topic, power, thoughts, jo...   \n",
       "1  [get, well, worth, price, true, trojan, fan, g...   \n",
       "2  [bag, edc, since, purchasing, many, maxpeditio...   \n",
       "3  [sounds, good, hits, want, one, disc, great, p...   \n",
       "4                                      [good, music]   \n",
       "\n",
       "                                              lemmas  \n",
       "0  [many, book, read, topic, power, thought, john...  \n",
       "1  [get, well, worth, price, true, trojan, fan, g...  \n",
       "2  [bag, edc, since, purchasing, many, maxpeditio...  \n",
       "3  [sound, good, hit, want, one, disc, great, pri...  \n",
       "4                                      [good, music]  \n",
       "\n",
       "[5 rows x 25 columns]"
      ]
     },
     "execution_count": 143,
     "metadata": {},
     "output_type": "execute_result"
    }
   ],
   "source": [
    "df2.limit(5).toPandas()"
   ]
  },
  {
   "cell_type": "code",
   "execution_count": 144,
   "id": "24d6c732",
   "metadata": {},
   "outputs": [],
   "source": [
    "#save pipeline\n",
    "t_model.write().overwrite().save(r\"C:\\Users\\dn10657\\source\\repos\\Capstone\\pipelines\\reviews_preproc_pipeline\")"
   ]
  },
  {
   "cell_type": "markdown",
   "id": "cd5c4aa7",
   "metadata": {},
   "source": [
    "##### Amazon Spam Reviews Dataset"
   ]
  },
  {
   "cell_type": "code",
   "execution_count": 145,
   "id": "2dc85387",
   "metadata": {},
   "outputs": [],
   "source": [
    "# Register the clean_text function as a UDF (User-Defined Function)\n",
    "clean_text_udf = udf(clean_text, StringType())\n",
    "\n",
    "# Create a new column \"review_body_clean\" by applying the clean_text UDF to \"review_body\"\n",
    "spam_df = spam_df.withColumn(\"reviewText_clean\", clean_text_udf(\"reviewText\"))"
   ]
  },
  {
   "cell_type": "code",
   "execution_count": 146,
   "id": "52f6012c",
   "metadata": {},
   "outputs": [
    {
     "data": {
      "text/html": [
       "<div>\n",
       "<style scoped>\n",
       "    .dataframe tbody tr th:only-of-type {\n",
       "        vertical-align: middle;\n",
       "    }\n",
       "\n",
       "    .dataframe tbody tr th {\n",
       "        vertical-align: top;\n",
       "    }\n",
       "\n",
       "    .dataframe thead th {\n",
       "        text-align: right;\n",
       "    }\n",
       "</style>\n",
       "<table border=\"1\" class=\"dataframe\">\n",
       "  <thead>\n",
       "    <tr style=\"text-align: right;\">\n",
       "      <th></th>\n",
       "      <th>class</th>\n",
       "      <th>reviewText</th>\n",
       "      <th>reviewTime</th>\n",
       "      <th>asin</th>\n",
       "      <th>reviewerID</th>\n",
       "      <th>reviewDate</th>\n",
       "      <th>season</th>\n",
       "      <th>year</th>\n",
       "      <th>sentiment_score</th>\n",
       "      <th>sentiment</th>\n",
       "      <th>abs_sentiment_score</th>\n",
       "      <th>review_text_length</th>\n",
       "      <th>labels</th>\n",
       "      <th>reviewText_clean</th>\n",
       "    </tr>\n",
       "  </thead>\n",
       "  <tbody>\n",
       "    <tr>\n",
       "      <th>0</th>\n",
       "      <td>1.0</td>\n",
       "      <td>It was a gift but it seemed pretty durable and...</td>\n",
       "      <td>03 18, 2008</td>\n",
       "      <td>B000AOZ11Y</td>\n",
       "      <td>A2BSWYKV7ZV7H6</td>\n",
       "      <td>2008-03-18</td>\n",
       "      <td>Spring</td>\n",
       "      <td>2008</td>\n",
       "      <td>0.425000</td>\n",
       "      <td>positive</td>\n",
       "      <td>0.425000</td>\n",
       "      <td>73</td>\n",
       "      <td>spam</td>\n",
       "      <td>it was a gift but it seemed pretty durable and...</td>\n",
       "    </tr>\n",
       "    <tr>\n",
       "      <th>1</th>\n",
       "      <td>1.0</td>\n",
       "      <td>We now have a 9 hole disc golf course in our b...</td>\n",
       "      <td>12 12, 2012</td>\n",
       "      <td>B000ASG0DI</td>\n",
       "      <td>A1DQIB6VQ7Y22Q</td>\n",
       "      <td>2012-12-12</td>\n",
       "      <td>Winter</td>\n",
       "      <td>2012</td>\n",
       "      <td>0.225000</td>\n",
       "      <td>positive</td>\n",
       "      <td>0.225000</td>\n",
       "      <td>185</td>\n",
       "      <td>spam</td>\n",
       "      <td>we now have a 9 hole disc golf course in our b...</td>\n",
       "    </tr>\n",
       "    <tr>\n",
       "      <th>2</th>\n",
       "      <td>0.0</td>\n",
       "      <td>Do not buy this! The one I received was leakin...</td>\n",
       "      <td>02 17, 2014</td>\n",
       "      <td>B000AXVOLQ</td>\n",
       "      <td>A21TK1P3Q4T6DM</td>\n",
       "      <td>2014-02-17</td>\n",
       "      <td>Winter</td>\n",
       "      <td>2014</td>\n",
       "      <td>-0.283333</td>\n",
       "      <td>negative</td>\n",
       "      <td>0.283333</td>\n",
       "      <td>142</td>\n",
       "      <td>ham</td>\n",
       "      <td>do not buy this the one i received was leaking...</td>\n",
       "    </tr>\n",
       "    <tr>\n",
       "      <th>3</th>\n",
       "      <td>1.0</td>\n",
       "      <td>This is a very handy size and weight for a clo...</td>\n",
       "      <td>01 9, 2007</td>\n",
       "      <td>B000B76IJY</td>\n",
       "      <td>A2MKJZXSDSGJA0</td>\n",
       "      <td>2007-01-09</td>\n",
       "      <td>Winter</td>\n",
       "      <td>2007</td>\n",
       "      <td>0.432222</td>\n",
       "      <td>positive</td>\n",
       "      <td>0.432222</td>\n",
       "      <td>175</td>\n",
       "      <td>spam</td>\n",
       "      <td>this is a very handy size and weight for a clo...</td>\n",
       "    </tr>\n",
       "    <tr>\n",
       "      <th>4</th>\n",
       "      <td>1.0</td>\n",
       "      <td>This is an awesome sharpener! Very compact and...</td>\n",
       "      <td>01 17, 2014</td>\n",
       "      <td>B000B8FW0E</td>\n",
       "      <td>A10UPCI7CPQXLA</td>\n",
       "      <td>2014-01-17</td>\n",
       "      <td>Winter</td>\n",
       "      <td>2014</td>\n",
       "      <td>0.205833</td>\n",
       "      <td>positive</td>\n",
       "      <td>0.205833</td>\n",
       "      <td>157</td>\n",
       "      <td>spam</td>\n",
       "      <td>this is an awesome sharpener very compact and ...</td>\n",
       "    </tr>\n",
       "  </tbody>\n",
       "</table>\n",
       "</div>"
      ],
      "text/plain": [
       "   class                                         reviewText   reviewTime  \\\n",
       "0    1.0  It was a gift but it seemed pretty durable and...  03 18, 2008   \n",
       "1    1.0  We now have a 9 hole disc golf course in our b...  12 12, 2012   \n",
       "2    0.0  Do not buy this! The one I received was leakin...  02 17, 2014   \n",
       "3    1.0  This is a very handy size and weight for a clo...   01 9, 2007   \n",
       "4    1.0  This is an awesome sharpener! Very compact and...  01 17, 2014   \n",
       "\n",
       "         asin      reviewerID  reviewDate  season  year  sentiment_score  \\\n",
       "0  B000AOZ11Y  A2BSWYKV7ZV7H6  2008-03-18  Spring  2008         0.425000   \n",
       "1  B000ASG0DI  A1DQIB6VQ7Y22Q  2012-12-12  Winter  2012         0.225000   \n",
       "2  B000AXVOLQ  A21TK1P3Q4T6DM  2014-02-17  Winter  2014        -0.283333   \n",
       "3  B000B76IJY  A2MKJZXSDSGJA0  2007-01-09  Winter  2007         0.432222   \n",
       "4  B000B8FW0E  A10UPCI7CPQXLA  2014-01-17  Winter  2014         0.205833   \n",
       "\n",
       "  sentiment  abs_sentiment_score  review_text_length labels  \\\n",
       "0  positive             0.425000                  73   spam   \n",
       "1  positive             0.225000                 185   spam   \n",
       "2  negative             0.283333                 142    ham   \n",
       "3  positive             0.432222                 175   spam   \n",
       "4  positive             0.205833                 157   spam   \n",
       "\n",
       "                                    reviewText_clean  \n",
       "0  it was a gift but it seemed pretty durable and...  \n",
       "1  we now have a 9 hole disc golf course in our b...  \n",
       "2  do not buy this the one i received was leaking...  \n",
       "3  this is a very handy size and weight for a clo...  \n",
       "4  this is an awesome sharpener very compact and ...  "
      ]
     },
     "execution_count": 146,
     "metadata": {},
     "output_type": "execute_result"
    }
   ],
   "source": [
    "spam_df.limit(5).toPandas()"
   ]
  },
  {
   "cell_type": "code",
   "execution_count": 147,
   "id": "d1dc2758",
   "metadata": {},
   "outputs": [],
   "source": [
    "# Tokenize the text column\n",
    "tokenizer = Tokenizer(inputCol=\"reviewText_clean\", outputCol=\"token\")\n",
    "#spam_df = tokenizer.transform(spam_df)"
   ]
  },
  {
   "cell_type": "code",
   "execution_count": 148,
   "id": "80d9e0bc",
   "metadata": {},
   "outputs": [
    {
     "data": {
      "text/html": [
       "<div>\n",
       "<style scoped>\n",
       "    .dataframe tbody tr th:only-of-type {\n",
       "        vertical-align: middle;\n",
       "    }\n",
       "\n",
       "    .dataframe tbody tr th {\n",
       "        vertical-align: top;\n",
       "    }\n",
       "\n",
       "    .dataframe thead th {\n",
       "        text-align: right;\n",
       "    }\n",
       "</style>\n",
       "<table border=\"1\" class=\"dataframe\">\n",
       "  <thead>\n",
       "    <tr style=\"text-align: right;\">\n",
       "      <th></th>\n",
       "      <th>class</th>\n",
       "      <th>reviewText</th>\n",
       "      <th>reviewTime</th>\n",
       "      <th>asin</th>\n",
       "      <th>reviewerID</th>\n",
       "      <th>reviewDate</th>\n",
       "      <th>season</th>\n",
       "      <th>year</th>\n",
       "      <th>sentiment_score</th>\n",
       "      <th>sentiment</th>\n",
       "      <th>abs_sentiment_score</th>\n",
       "      <th>review_text_length</th>\n",
       "      <th>labels</th>\n",
       "      <th>reviewText_clean</th>\n",
       "    </tr>\n",
       "  </thead>\n",
       "  <tbody>\n",
       "    <tr>\n",
       "      <th>0</th>\n",
       "      <td>1.0</td>\n",
       "      <td>It was a gift but it seemed pretty durable and...</td>\n",
       "      <td>03 18, 2008</td>\n",
       "      <td>B000AOZ11Y</td>\n",
       "      <td>A2BSWYKV7ZV7H6</td>\n",
       "      <td>2008-03-18</td>\n",
       "      <td>Spring</td>\n",
       "      <td>2008</td>\n",
       "      <td>0.425000</td>\n",
       "      <td>positive</td>\n",
       "      <td>0.425000</td>\n",
       "      <td>73</td>\n",
       "      <td>spam</td>\n",
       "      <td>it was a gift but it seemed pretty durable and...</td>\n",
       "    </tr>\n",
       "    <tr>\n",
       "      <th>1</th>\n",
       "      <td>1.0</td>\n",
       "      <td>We now have a 9 hole disc golf course in our b...</td>\n",
       "      <td>12 12, 2012</td>\n",
       "      <td>B000ASG0DI</td>\n",
       "      <td>A1DQIB6VQ7Y22Q</td>\n",
       "      <td>2012-12-12</td>\n",
       "      <td>Winter</td>\n",
       "      <td>2012</td>\n",
       "      <td>0.225000</td>\n",
       "      <td>positive</td>\n",
       "      <td>0.225000</td>\n",
       "      <td>185</td>\n",
       "      <td>spam</td>\n",
       "      <td>we now have a 9 hole disc golf course in our b...</td>\n",
       "    </tr>\n",
       "    <tr>\n",
       "      <th>2</th>\n",
       "      <td>0.0</td>\n",
       "      <td>Do not buy this! The one I received was leakin...</td>\n",
       "      <td>02 17, 2014</td>\n",
       "      <td>B000AXVOLQ</td>\n",
       "      <td>A21TK1P3Q4T6DM</td>\n",
       "      <td>2014-02-17</td>\n",
       "      <td>Winter</td>\n",
       "      <td>2014</td>\n",
       "      <td>-0.283333</td>\n",
       "      <td>negative</td>\n",
       "      <td>0.283333</td>\n",
       "      <td>142</td>\n",
       "      <td>ham</td>\n",
       "      <td>do not buy this the one i received was leaking...</td>\n",
       "    </tr>\n",
       "    <tr>\n",
       "      <th>3</th>\n",
       "      <td>1.0</td>\n",
       "      <td>This is a very handy size and weight for a clo...</td>\n",
       "      <td>01 9, 2007</td>\n",
       "      <td>B000B76IJY</td>\n",
       "      <td>A2MKJZXSDSGJA0</td>\n",
       "      <td>2007-01-09</td>\n",
       "      <td>Winter</td>\n",
       "      <td>2007</td>\n",
       "      <td>0.432222</td>\n",
       "      <td>positive</td>\n",
       "      <td>0.432222</td>\n",
       "      <td>175</td>\n",
       "      <td>spam</td>\n",
       "      <td>this is a very handy size and weight for a clo...</td>\n",
       "    </tr>\n",
       "    <tr>\n",
       "      <th>4</th>\n",
       "      <td>1.0</td>\n",
       "      <td>This is an awesome sharpener! Very compact and...</td>\n",
       "      <td>01 17, 2014</td>\n",
       "      <td>B000B8FW0E</td>\n",
       "      <td>A10UPCI7CPQXLA</td>\n",
       "      <td>2014-01-17</td>\n",
       "      <td>Winter</td>\n",
       "      <td>2014</td>\n",
       "      <td>0.205833</td>\n",
       "      <td>positive</td>\n",
       "      <td>0.205833</td>\n",
       "      <td>157</td>\n",
       "      <td>spam</td>\n",
       "      <td>this is an awesome sharpener very compact and ...</td>\n",
       "    </tr>\n",
       "  </tbody>\n",
       "</table>\n",
       "</div>"
      ],
      "text/plain": [
       "   class                                         reviewText   reviewTime  \\\n",
       "0    1.0  It was a gift but it seemed pretty durable and...  03 18, 2008   \n",
       "1    1.0  We now have a 9 hole disc golf course in our b...  12 12, 2012   \n",
       "2    0.0  Do not buy this! The one I received was leakin...  02 17, 2014   \n",
       "3    1.0  This is a very handy size and weight for a clo...   01 9, 2007   \n",
       "4    1.0  This is an awesome sharpener! Very compact and...  01 17, 2014   \n",
       "\n",
       "         asin      reviewerID  reviewDate  season  year  sentiment_score  \\\n",
       "0  B000AOZ11Y  A2BSWYKV7ZV7H6  2008-03-18  Spring  2008         0.425000   \n",
       "1  B000ASG0DI  A1DQIB6VQ7Y22Q  2012-12-12  Winter  2012         0.225000   \n",
       "2  B000AXVOLQ  A21TK1P3Q4T6DM  2014-02-17  Winter  2014        -0.283333   \n",
       "3  B000B76IJY  A2MKJZXSDSGJA0  2007-01-09  Winter  2007         0.432222   \n",
       "4  B000B8FW0E  A10UPCI7CPQXLA  2014-01-17  Winter  2014         0.205833   \n",
       "\n",
       "  sentiment  abs_sentiment_score  review_text_length labels  \\\n",
       "0  positive             0.425000                  73   spam   \n",
       "1  positive             0.225000                 185   spam   \n",
       "2  negative             0.283333                 142    ham   \n",
       "3  positive             0.432222                 175   spam   \n",
       "4  positive             0.205833                 157   spam   \n",
       "\n",
       "                                    reviewText_clean  \n",
       "0  it was a gift but it seemed pretty durable and...  \n",
       "1  we now have a 9 hole disc golf course in our b...  \n",
       "2  do not buy this the one i received was leaking...  \n",
       "3  this is a very handy size and weight for a clo...  \n",
       "4  this is an awesome sharpener very compact and ...  "
      ]
     },
     "execution_count": 148,
     "metadata": {},
     "output_type": "execute_result"
    }
   ],
   "source": [
    "spam_df.limit(5).toPandas()"
   ]
  },
  {
   "cell_type": "code",
   "execution_count": 149,
   "id": "11b23659",
   "metadata": {},
   "outputs": [],
   "source": [
    "#create pipeline to preprocess text (tokenize text, remove stop words and lemmatize)\n",
    "clean_spam_pipeline = Pipeline(stages=[tokenizer, remover, lemmatizer])"
   ]
  },
  {
   "cell_type": "code",
   "execution_count": 150,
   "id": "f059328f",
   "metadata": {},
   "outputs": [],
   "source": [
    "#Fit the pipeline on the DataFrame\n",
    "s_model=clean_spam_pipeline.fit(spam_df)"
   ]
  },
  {
   "cell_type": "code",
   "execution_count": null,
   "id": "dcca8215",
   "metadata": {},
   "outputs": [],
   "source": []
  },
  {
   "cell_type": "code",
   "execution_count": 151,
   "id": "c2b25c16",
   "metadata": {},
   "outputs": [],
   "source": [
    "# Transform the DataFrame using the fitted pipeline\n",
    "spam_df=s_model.transform(spam_df)"
   ]
  },
  {
   "cell_type": "code",
   "execution_count": 152,
   "id": "ee861a4b",
   "metadata": {},
   "outputs": [
    {
     "data": {
      "text/html": [
       "<div>\n",
       "<style scoped>\n",
       "    .dataframe tbody tr th:only-of-type {\n",
       "        vertical-align: middle;\n",
       "    }\n",
       "\n",
       "    .dataframe tbody tr th {\n",
       "        vertical-align: top;\n",
       "    }\n",
       "\n",
       "    .dataframe thead th {\n",
       "        text-align: right;\n",
       "    }\n",
       "</style>\n",
       "<table border=\"1\" class=\"dataframe\">\n",
       "  <thead>\n",
       "    <tr style=\"text-align: right;\">\n",
       "      <th></th>\n",
       "      <th>class</th>\n",
       "      <th>reviewText</th>\n",
       "      <th>reviewTime</th>\n",
       "      <th>asin</th>\n",
       "      <th>reviewerID</th>\n",
       "      <th>reviewDate</th>\n",
       "      <th>season</th>\n",
       "      <th>year</th>\n",
       "      <th>sentiment_score</th>\n",
       "      <th>sentiment</th>\n",
       "      <th>abs_sentiment_score</th>\n",
       "      <th>review_text_length</th>\n",
       "      <th>labels</th>\n",
       "      <th>reviewText_clean</th>\n",
       "      <th>token</th>\n",
       "      <th>stop_removed</th>\n",
       "      <th>lemmas</th>\n",
       "    </tr>\n",
       "  </thead>\n",
       "  <tbody>\n",
       "    <tr>\n",
       "      <th>0</th>\n",
       "      <td>1.0</td>\n",
       "      <td>It was a gift but it seemed pretty durable and...</td>\n",
       "      <td>03 18, 2008</td>\n",
       "      <td>B000AOZ11Y</td>\n",
       "      <td>A2BSWYKV7ZV7H6</td>\n",
       "      <td>2008-03-18</td>\n",
       "      <td>Spring</td>\n",
       "      <td>2008</td>\n",
       "      <td>0.425000</td>\n",
       "      <td>positive</td>\n",
       "      <td>0.425000</td>\n",
       "      <td>73</td>\n",
       "      <td>spam</td>\n",
       "      <td>it was a gift but it seemed pretty durable and...</td>\n",
       "      <td>[it, was, a, gift, but, it, seemed, pretty, du...</td>\n",
       "      <td>[gift, seemed, pretty, durable, nice, chime]</td>\n",
       "      <td>[gift, seemed, pretty, durable, nice, chime]</td>\n",
       "    </tr>\n",
       "    <tr>\n",
       "      <th>1</th>\n",
       "      <td>1.0</td>\n",
       "      <td>We now have a 9 hole disc golf course in our b...</td>\n",
       "      <td>12 12, 2012</td>\n",
       "      <td>B000ASG0DI</td>\n",
       "      <td>A1DQIB6VQ7Y22Q</td>\n",
       "      <td>2012-12-12</td>\n",
       "      <td>Winter</td>\n",
       "      <td>2012</td>\n",
       "      <td>0.225000</td>\n",
       "      <td>positive</td>\n",
       "      <td>0.225000</td>\n",
       "      <td>185</td>\n",
       "      <td>spam</td>\n",
       "      <td>we now have a 9 hole disc golf course in our b...</td>\n",
       "      <td>[we, now, have, a, 9, hole, disc, golf, course...</td>\n",
       "      <td>[9, hole, disc, golf, course, back, yard, husb...</td>\n",
       "      <td>[9, hole, disc, golf, course, back, yard, husb...</td>\n",
       "    </tr>\n",
       "    <tr>\n",
       "      <th>2</th>\n",
       "      <td>0.0</td>\n",
       "      <td>Do not buy this! The one I received was leakin...</td>\n",
       "      <td>02 17, 2014</td>\n",
       "      <td>B000AXVOLQ</td>\n",
       "      <td>A21TK1P3Q4T6DM</td>\n",
       "      <td>2014-02-17</td>\n",
       "      <td>Winter</td>\n",
       "      <td>2014</td>\n",
       "      <td>-0.283333</td>\n",
       "      <td>negative</td>\n",
       "      <td>0.283333</td>\n",
       "      <td>142</td>\n",
       "      <td>ham</td>\n",
       "      <td>do not buy this the one i received was leaking...</td>\n",
       "      <td>[do, not, buy, this, the, one, i, received, wa...</td>\n",
       "      <td>[buy, one, received, leaking, bad, weld, body,...</td>\n",
       "      <td>[buy, one, received, leaking, bad, weld, body,...</td>\n",
       "    </tr>\n",
       "    <tr>\n",
       "      <th>3</th>\n",
       "      <td>1.0</td>\n",
       "      <td>This is a very handy size and weight for a clo...</td>\n",
       "      <td>01 9, 2007</td>\n",
       "      <td>B000B76IJY</td>\n",
       "      <td>A2MKJZXSDSGJA0</td>\n",
       "      <td>2007-01-09</td>\n",
       "      <td>Winter</td>\n",
       "      <td>2007</td>\n",
       "      <td>0.432222</td>\n",
       "      <td>positive</td>\n",
       "      <td>0.432222</td>\n",
       "      <td>175</td>\n",
       "      <td>spam</td>\n",
       "      <td>this is a very handy size and weight for a clo...</td>\n",
       "      <td>[this, is, a, very, handy, size, and, weight, ...</td>\n",
       "      <td>[handy, size, weight, clothcovered, pad, looki...</td>\n",
       "      <td>[handy, size, weight, clothcovered, pad, looki...</td>\n",
       "    </tr>\n",
       "    <tr>\n",
       "      <th>4</th>\n",
       "      <td>1.0</td>\n",
       "      <td>This is an awesome sharpener! Very compact and...</td>\n",
       "      <td>01 17, 2014</td>\n",
       "      <td>B000B8FW0E</td>\n",
       "      <td>A10UPCI7CPQXLA</td>\n",
       "      <td>2014-01-17</td>\n",
       "      <td>Winter</td>\n",
       "      <td>2014</td>\n",
       "      <td>0.205833</td>\n",
       "      <td>positive</td>\n",
       "      <td>0.205833</td>\n",
       "      <td>157</td>\n",
       "      <td>spam</td>\n",
       "      <td>this is an awesome sharpener very compact and ...</td>\n",
       "      <td>[this, is, an, awesome, sharpener, very, compa...</td>\n",
       "      <td>[awesome, sharpener, compact, lightweight, sim...</td>\n",
       "      <td>[awesome, sharpener, compact, lightweight, sim...</td>\n",
       "    </tr>\n",
       "  </tbody>\n",
       "</table>\n",
       "</div>"
      ],
      "text/plain": [
       "   class                                         reviewText   reviewTime  \\\n",
       "0    1.0  It was a gift but it seemed pretty durable and...  03 18, 2008   \n",
       "1    1.0  We now have a 9 hole disc golf course in our b...  12 12, 2012   \n",
       "2    0.0  Do not buy this! The one I received was leakin...  02 17, 2014   \n",
       "3    1.0  This is a very handy size and weight for a clo...   01 9, 2007   \n",
       "4    1.0  This is an awesome sharpener! Very compact and...  01 17, 2014   \n",
       "\n",
       "         asin      reviewerID  reviewDate  season  year  sentiment_score  \\\n",
       "0  B000AOZ11Y  A2BSWYKV7ZV7H6  2008-03-18  Spring  2008         0.425000   \n",
       "1  B000ASG0DI  A1DQIB6VQ7Y22Q  2012-12-12  Winter  2012         0.225000   \n",
       "2  B000AXVOLQ  A21TK1P3Q4T6DM  2014-02-17  Winter  2014        -0.283333   \n",
       "3  B000B76IJY  A2MKJZXSDSGJA0  2007-01-09  Winter  2007         0.432222   \n",
       "4  B000B8FW0E  A10UPCI7CPQXLA  2014-01-17  Winter  2014         0.205833   \n",
       "\n",
       "  sentiment  abs_sentiment_score  review_text_length labels  \\\n",
       "0  positive             0.425000                  73   spam   \n",
       "1  positive             0.225000                 185   spam   \n",
       "2  negative             0.283333                 142    ham   \n",
       "3  positive             0.432222                 175   spam   \n",
       "4  positive             0.205833                 157   spam   \n",
       "\n",
       "                                    reviewText_clean  \\\n",
       "0  it was a gift but it seemed pretty durable and...   \n",
       "1  we now have a 9 hole disc golf course in our b...   \n",
       "2  do not buy this the one i received was leaking...   \n",
       "3  this is a very handy size and weight for a clo...   \n",
       "4  this is an awesome sharpener very compact and ...   \n",
       "\n",
       "                                               token  \\\n",
       "0  [it, was, a, gift, but, it, seemed, pretty, du...   \n",
       "1  [we, now, have, a, 9, hole, disc, golf, course...   \n",
       "2  [do, not, buy, this, the, one, i, received, wa...   \n",
       "3  [this, is, a, very, handy, size, and, weight, ...   \n",
       "4  [this, is, an, awesome, sharpener, very, compa...   \n",
       "\n",
       "                                        stop_removed  \\\n",
       "0       [gift, seemed, pretty, durable, nice, chime]   \n",
       "1  [9, hole, disc, golf, course, back, yard, husb...   \n",
       "2  [buy, one, received, leaking, bad, weld, body,...   \n",
       "3  [handy, size, weight, clothcovered, pad, looki...   \n",
       "4  [awesome, sharpener, compact, lightweight, sim...   \n",
       "\n",
       "                                              lemmas  \n",
       "0       [gift, seemed, pretty, durable, nice, chime]  \n",
       "1  [9, hole, disc, golf, course, back, yard, husb...  \n",
       "2  [buy, one, received, leaking, bad, weld, body,...  \n",
       "3  [handy, size, weight, clothcovered, pad, looki...  \n",
       "4  [awesome, sharpener, compact, lightweight, sim...  "
      ]
     },
     "execution_count": 152,
     "metadata": {},
     "output_type": "execute_result"
    }
   ],
   "source": [
    "spam_df.limit(5).toPandas()"
   ]
  },
  {
   "cell_type": "code",
   "execution_count": 153,
   "id": "b3bdd85f",
   "metadata": {},
   "outputs": [],
   "source": [
    "#save pipeline\n",
    "s_model.write().overwrite().save(r\"C:\\Users\\dn10657\\source\\repos\\Capstone\\pipelines\\spam_preproc_pipeline\")"
   ]
  },
  {
   "cell_type": "markdown",
   "id": "50bc3dbf",
   "metadata": {},
   "source": [
    "**Exploratory Data Analysis**"
   ]
  },
  {
   "cell_type": "markdown",
   "id": "9d955409",
   "metadata": {},
   "source": [
    "##### Business Objectives\n",
    "\n",
    "- Personalize recommendations and product offerings to increase customer engagement and sales.\n",
    "- Optimize Customer Purchasing Experience by filtering out fake reviews\n",
    "- Enhance the quality of existing products to improve customers perception of the company thereby fostering customer loyalty and repeat purchases"
   ]
  },
  {
   "cell_type": "markdown",
   "id": "ea6f9f8a",
   "metadata": {},
   "source": [
    "##### Research Objectives\n",
    "\n",
    "- To conduct a comprehensive analysis of the dataset to identify and categorize product quality issues.\n",
    "\n",
    "- To develop a model to classify fake or manipulated reviews within the dataset \n",
    "\n",
    "- To investigate the impact of incorporating review text, on the performance of the product recommendation system.\n"
   ]
  },
  {
   "cell_type": "markdown",
   "id": "0d145231",
   "metadata": {},
   "source": [
    "##### Number of Unique Customers "
   ]
  },
  {
   "cell_type": "code",
   "execution_count": null,
   "id": "9633d601",
   "metadata": {},
   "outputs": [],
   "source": [
    "#get the count of unique customers\n",
    "unique_count = df2.agg(countDistinct(\"customer_id\")).collect()[0][0]\n",
    "\n",
    "# Print the result\n",
    "print(\"Number of unique customer:\", unique_count)"
   ]
  },
  {
   "cell_type": "markdown",
   "id": "b08084c9",
   "metadata": {},
   "source": [
    "##### Number of Unique Products "
   ]
  },
  {
   "cell_type": "code",
   "execution_count": null,
   "id": "39ae2b4c",
   "metadata": {},
   "outputs": [],
   "source": [
    "#get the count of unique products\n",
    "unique_count = df2.agg(countDistinct(\"product_id\")).collect()[0][0]\n",
    "\n",
    "# Print the result\n",
    "print(\"Number of unique products:\", unique_count)"
   ]
  },
  {
   "cell_type": "markdown",
   "id": "14d51f7f",
   "metadata": {},
   "source": [
    "##### Number of Unique Product Categories "
   ]
  },
  {
   "cell_type": "code",
   "execution_count": null,
   "id": "4a0b6724",
   "metadata": {},
   "outputs": [],
   "source": [
    "#get the count of unique product category\n",
    "unique_count = df2.agg(countDistinct(\"product_category\")).collect()[0][0]\n",
    "\n",
    "# Print the result\n",
    "print(\"Number of product category:\", unique_count)"
   ]
  },
  {
   "cell_type": "markdown",
   "id": "1d77f31e",
   "metadata": {},
   "source": [
    "##### Descriptive Statistics "
   ]
  },
  {
   "cell_type": "code",
   "execution_count": null,
   "id": "a5afddac",
   "metadata": {},
   "outputs": [],
   "source": [
    "# Select the desired columns and compute the basic statistics\n",
    "description = df2.select(\"star_rating\", \"helpful_votes\", \"total_votes\",\"season\",\"year\",\"sentiment_score\",\\\n",
    "                         \"review_text_length\").describe()\n",
    "\n",
    "# Show the resulting DataFrame\n",
    "description.toPandas()"
   ]
  },
  {
   "cell_type": "code",
   "execution_count": null,
   "id": "00d08f48",
   "metadata": {},
   "outputs": [],
   "source": [
    "df2.columns"
   ]
  },
  {
   "cell_type": "code",
   "execution_count": null,
   "id": "752ca0ed",
   "metadata": {},
   "outputs": [],
   "source": [
    "# Group by \"product_category\" and compute the count of unique \"product_id\" values for each category\n",
    "grouped_df = df2.groupBy(\"product_category\").agg(count(\"review_id\").alias(\"number_of_Reviews\"))\\\n",
    ".orderBy(\"number_of_Reviews\", ascending=False)\n",
    "\n",
    "grouped_df.limit(20).toPandas()"
   ]
  },
  {
   "cell_type": "code",
   "execution_count": null,
   "id": "85451606",
   "metadata": {},
   "outputs": [],
   "source": [
    "# Group by \"product_id\" and \"product_title\" and compute the count of unique \"customer_id\" values for each product\n",
    "grouped_df = df2.groupBy(\"product_id\",\"product_category\",\"product_title\").agg(count(\"review_id\").alias(\"number_of_Reviews\"))\n",
    "\n",
    "grouped_df=grouped_df.orderBy(\"number_of_Reviews\", ascending=False)\n",
    "\n",
    "# Show the resulting DataFrame\n",
    "grouped_df.limit(20).toPandas()\n"
   ]
  },
  {
   "cell_type": "code",
   "execution_count": null,
   "id": "c1b8a6a7",
   "metadata": {
    "scrolled": true
   },
   "outputs": [],
   "source": [
    "# Group by \"star_rating\" and count the occurrences of each rating\n",
    "ratingCounts = df2.groupBy(\"star_rating\").count()\n",
    "\n",
    "# Rename the count column to 'count'\n",
    "ratingCounts = ratingCounts.withColumnRenamed(\"count\", \"count\")\n",
    "\n",
    "# Sort the DataFrame by \"star_rating\" in descending order\n",
    "ratingCounts = ratingCounts.orderBy(desc(\"star_rating\")).toPandas()"
   ]
  },
  {
   "cell_type": "markdown",
   "id": "a1227133",
   "metadata": {},
   "source": [
    "##### Star Rating Analysis"
   ]
  },
  {
   "cell_type": "code",
   "execution_count": null,
   "id": "5893e313",
   "metadata": {
    "scrolled": false
   },
   "outputs": [],
   "source": [
    "# who v/s fare barplot\n",
    "sns.barplot(x = 'star_rating',\n",
    "            y = 'count',\n",
    "            data = ratingCounts)\n",
    "plt.xticks(rotation=45) \n",
    "plt.xlabel(\"Star Rating\")\n",
    "plt.ylabel(\"Count of Ratings\")\n",
    "# Add a title to the plot\n",
    "plt.title(\"Distribution of Customer Ratings\")\n",
    "\n",
    "# Show the plot\n",
    "plt.show()"
   ]
  },
  {
   "cell_type": "code",
   "execution_count": null,
   "id": "57dc29d3",
   "metadata": {
    "scrolled": false
   },
   "outputs": [],
   "source": [
    "# Cast the \"Year\" column to integer to remove any decimal places\n",
    "df2 = df2.withColumn(\"year\", df2[\"year\"].cast(\"int\"))\n",
    "# Group ratings by year and calculate the count of ratings\n",
    "ratings_pd = df2.groupBy('year').agg(count('star_rating').alias('count')).orderBy(\"Year\").toPandas()\n",
    "ratings_pd"
   ]
  },
  {
   "cell_type": "code",
   "execution_count": null,
   "id": "5cb82c3a",
   "metadata": {},
   "outputs": [],
   "source": [
    "# Plot the line graph using Matplotlib\n",
    "plt.figure(figsize=(10, 6))\n",
    "plt.plot(ratings_pd[\"year\"], ratings_pd[\"count\"], marker='o')\n",
    "plt.xlabel(\"Year\")\n",
    "plt.ylabel(\"Number of Ratings\")\n",
    "plt.title(\"Number of Ratings Over the Years\")\n",
    "plt.grid(True)\n",
    "plt.show()"
   ]
  },
  {
   "cell_type": "code",
   "execution_count": null,
   "id": "713e49be",
   "metadata": {},
   "outputs": [],
   "source": [
    "# Step 3: Group data and calculate distribution\n",
    "grouped_df = df.groupBy('star_rating', 'sentiment').agg(count('*').alias('count'))\n",
    "\n",
    "# Step 4: Pivot the data for visualization\n",
    "pivoted_df = grouped_df.groupBy('star_rating').pivot('sentiment').sum('count').fillna(0)\n",
    "\n",
    "# Step 5: Convert to Pandas DataFrame for visualization\n",
    "pandas_df = pivoted_df.toPandas()\n"
   ]
  },
  {
   "cell_type": "code",
   "execution_count": null,
   "id": "777fb9cc",
   "metadata": {},
   "outputs": [],
   "source": [
    "pandas_df"
   ]
  },
  {
   "cell_type": "code",
   "execution_count": null,
   "id": "45958d14",
   "metadata": {},
   "outputs": [],
   "source": [
    "# Step 6: Plot the bar graph\n",
    "ax = pandas_df.plot(x='star_rating', kind='bar', stacked=True)\n",
    "ax.set_xlabel(\"Star Rating\")\n",
    "ax.set_ylabel(\"Count\")\n",
    "ax.set_title(\"Distribution of Sentiment Categories within Star Ratings\")\n",
    "plt.legend(title='Sentiment', title_fontsize='large')\n",
    "plt.show()\n",
    "\n",
    "\n",
    "\n",
    "\n"
   ]
  },
  {
   "cell_type": "code",
   "execution_count": null,
   "id": "6cc20a20",
   "metadata": {},
   "outputs": [],
   "source": [
    "# Separate the star ratings for verified and non-verified purchases\n",
    "verified_ratings = df2.filter(df2['verified_purchase'] == 'Y').select('star_rating').toPandas()\n",
    "non_verified_ratings = df2.filter(df2['verified_purchase'] == 'N').select('star_rating').toPandas()\n",
    "\n",
    "# Plot the distribution of star ratings for verified and non-verified purchases\n",
    "plt.hist(verified_ratings, bins=5, alpha=0.5, label='Verified Purchase', edgecolor='black')\n",
    "plt.hist(non_verified_ratings, bins=5, alpha=0.5, label='Non-Verified Purchase', edgecolor='black')\n",
    "\n",
    "# Set plot labels and title\n",
    "plt.xlabel('Star Rating')\n",
    "plt.ylabel('Frequency')\n",
    "plt.title('Distribution of Star Ratings by Verified Purchase Status')\n",
    "\n",
    "# Add a legend\n",
    "plt.legend()\n",
    "\n",
    "# Display the histogram\n",
    "plt.show()\n",
    "\n"
   ]
  },
  {
   "cell_type": "markdown",
   "id": "753cdfb0",
   "metadata": {},
   "source": [
    "##### Review Analysis"
   ]
  },
  {
   "cell_type": "code",
   "execution_count": null,
   "id": "2fc6b87d",
   "metadata": {
    "scrolled": false
   },
   "outputs": [],
   "source": [
    "# Step 3: Group data and calculate the count for each purchase verification status\n",
    "grouped_df = df2.groupBy('verified_purchase').agg(count('*').alias('count'))\n",
    "\n",
    "# Step 4: Convert to Pandas DataFrame for visualization\n",
    "pandas_df = grouped_df.toPandas()\n"
   ]
  },
  {
   "cell_type": "code",
   "execution_count": null,
   "id": "e0e1d8fb",
   "metadata": {},
   "outputs": [],
   "source": [
    "pandas_df.head()"
   ]
  },
  {
   "cell_type": "code",
   "execution_count": null,
   "id": "8a83bb0f",
   "metadata": {},
   "outputs": [],
   "source": [
    "# Create the bar plot using Seaborn\n",
    "plt.figure(figsize=(10, 6))\n",
    "sns.barplot(x='verified_purchase', y='count', data=pandas_df, palette='Set2')\n",
    "\n",
    "# Set the x-axis and y-axis labels\n",
    "plt.xlabel('Purchase Verification')\n",
    "plt.ylabel('Number of Reviews')\n",
    "\n",
    "# Set the title of the plot\n",
    "plt.title('Number of Reviews by Purchase Verification')\n",
    "\n",
    "# Show the plot\n",
    "plt.show()"
   ]
  },
  {
   "cell_type": "code",
   "execution_count": null,
   "id": "0c459c6b",
   "metadata": {
    "scrolled": false
   },
   "outputs": [],
   "source": [
    "customer_reviews_count = df2.groupBy(\"customer_id\").count()\n",
    "sorted_customer_reviews = customer_reviews_count.orderBy(col(\"count\").desc())\n",
    "top_10_customers = sorted_customer_reviews.limit(10).toPandas()\n",
    "\n",
    "# Plot the bar chart\n",
    "plt.figure(figsize=(10, 6))\n",
    "plt.bar(top_10_customers[\"customer_id\"], top_10_customers[\"count\"])\n",
    "plt.xlabel(\"Customer ID\")\n",
    "plt.ylabel(\"Number of Reviews\")\n",
    "plt.title(\"Top 10 Customers with the Most Reviews\")\n",
    "plt.xticks(rotation=45)\n",
    "plt.tight_layout()\n",
    "plt.show()"
   ]
  },
  {
   "cell_type": "code",
   "execution_count": null,
   "id": "deaec0e4",
   "metadata": {},
   "outputs": [],
   "source": [
    "category_reviews_count = df2.groupBy(\"product_category\").count()\n",
    "sorted_category_reviews = category_reviews_count.orderBy(col(\"count\").desc())\n",
    "top_10_categories = sorted_category_reviews.limit(10).toPandas()"
   ]
  },
  {
   "cell_type": "code",
   "execution_count": null,
   "id": "e00fcd28",
   "metadata": {},
   "outputs": [],
   "source": [
    "# Plot the bar chart\n",
    "plt.figure(figsize=(10, 6))\n",
    "plt.bar(top_10_categories[\"product_category\"], top_10_categories[\"count\"], color='lightcoral')\n",
    "plt.xlabel(\"Product Category\")\n",
    "plt.ylabel(\"Number of Reviews\")\n",
    "plt.title(\"Top 10 Product Categories with the Most Reviews\")\n",
    "plt.xticks(rotation=45)\n",
    "plt.tight_layout()\n",
    "plt.show()"
   ]
  },
  {
   "cell_type": "code",
   "execution_count": null,
   "id": "fd690fc1",
   "metadata": {},
   "outputs": [],
   "source": [
    "\n",
    "helpful_unhelpful_counts = df2.agg({\"helpful_votes\": \"sum\", \"unhelpful_votes\": \"sum\"}).collect()[0]\n"
   ]
  },
  {
   "cell_type": "code",
   "execution_count": null,
   "id": "56ff4e58",
   "metadata": {},
   "outputs": [],
   "source": [
    "\n",
    "plt.figure(figsize=(8, 6))\n",
    "sns.barplot(x=['Helpful', 'Unhelpful'], y=[helpful_unhelpful_counts['sum(helpful_votes)'], helpful_unhelpful_counts['sum(unhelpful_votes)']],\n",
    "            palette=['lightblue', 'lightcoral'])\n",
    "\n",
    "\n",
    "plt.xlabel('Review Type')\n",
    "plt.ylabel('Number of Reviews')\n",
    "\n",
    "\n",
    "plt.title('Number of Helpful Reviews vs Unhelpful Reviews')\n",
    "\n",
    "\n",
    "plt.show()"
   ]
  },
  {
   "cell_type": "code",
   "execution_count": null,
   "id": "8fbc0be9",
   "metadata": {},
   "outputs": [],
   "source": [
    "def get_month_int(month_name):\n",
    "    return month_order[month_name]"
   ]
  },
  {
   "cell_type": "code",
   "execution_count": null,
   "id": "d5fe7de6",
   "metadata": {},
   "outputs": [],
   "source": [
    "# Register the UDF\n",
    "month_to_int_udf = udf(get_month_int, IntegerType())"
   ]
  },
  {
   "cell_type": "code",
   "execution_count": null,
   "id": "17869d1c",
   "metadata": {},
   "outputs": [],
   "source": [
    "# Create a dictionary to map month names to their corresponding numerical values\n",
    "month_order = {\n",
    "    'January': 1,\n",
    "    'February': 2,\n",
    "    'March': 3,\n",
    "    'April': 4,\n",
    "    'May': 5,\n",
    "    'June': 6,\n",
    "    'July': 7,\n",
    "    'August': 8,\n",
    "    'September': 9,\n",
    "    'October': 10,\n",
    "    'November': 11,\n",
    "    'December': 12\n",
    "}\n",
    "\n",
    "# Apply the month order mapping to the \"month\" column\n",
    "df2 = df2.withColumn('month_int', month_to_int_udf(df2['month']))\n",
    "\n",
    "# Group by \"year\" and \"month\", count the occurrences, and order the results\n",
    "trends_df = df2.groupBy(\"year\", \"month\",\"month_int\").agg(f.count(\"*\").alias(\"count\")) \\\n",
    "               .orderBy(\"year\", \"month_int\").toPandas()"
   ]
  },
  {
   "cell_type": "code",
   "execution_count": null,
   "id": "7b11d697",
   "metadata": {},
   "outputs": [],
   "source": [
    "trends_df.head()"
   ]
  },
  {
   "cell_type": "code",
   "execution_count": null,
   "id": "07c098d3",
   "metadata": {},
   "outputs": [],
   "source": [
    "def improve_legend(ax=None):\n",
    "    if ax is None:\n",
    "        ax = plt.gca()\n",
    "\n",
    "    lines = ax.lines  # Get all lines in the plot\n",
    "    legend_handles, legend_labels = ax.get_legend_handles_labels()  # Get legend handles and labels\n",
    "\n",
    "    for i, line in enumerate(lines):\n",
    "        data_x, data_y = line.get_data()\n",
    "        if len(data_x)>0 and len(data_y)>0:\n",
    "            first_x = data_x[0]\n",
    "            first_y = data_y[0]\n",
    "            year = legend_labels[i]  # Get the year from the legend labels\n",
    "            color = legend_handles[i].get_color()  # Get the color from the legend handles\n",
    "            ax.annotate(\n",
    "                year,\n",
    "                xy=(first_x, first_y),\n",
    "                xytext=(5, 0),\n",
    "                textcoords=\"offset points\",\n",
    "                ha=\"left\",\n",
    "                va=\"center\",\n",
    "                color=color,\n",
    "            )"
   ]
  },
  {
   "cell_type": "code",
   "execution_count": null,
   "id": "7d62b47a",
   "metadata": {
    "scrolled": false
   },
   "outputs": [],
   "source": [
    "# Define a custom color palette with brighter colors\n",
    "custom_palette = sns.color_palette(\"bright\")\n",
    "\n",
    "# Plot the time trends\n",
    "plt.figure(figsize=(12, 6))\n",
    "ax=sns.lineplot(data=trends_df, x=\"month\", y=\"count\", hue=\"year\", palette=custom_palette)\n",
    "plt.xlabel(\"Month\")\n",
    "plt.ylabel(\"Number of Reviews\")\n",
    "plt.title(\"Time Trends: Number of Reviews\")\n",
    "\n",
    "improve_legend(ax)\n",
    "plt.legend(title=\"Year\")\n",
    "plt.show()"
   ]
  },
  {
   "cell_type": "code",
   "execution_count": null,
   "id": "2acdb1dd",
   "metadata": {
    "scrolled": false
   },
   "outputs": [],
   "source": [
    "# Join all reviews into a single string\n",
    "all_reviews = df2.select(concat_ws('', df2['review_body_clean'])).collect()[0][0]\n",
    "\n",
    "# Create a word cloud object\n",
    "wordcloud = WordCloud(width=800, height=400, random_state=42, max_font_size=100).generate(all_reviews)\n",
    "\n",
    "# Display the word cloud using matplotlib\n",
    "plt.figure(figsize=(10, 6))\n",
    "plt.imshow(wordcloud, interpolation='bilinear')\n",
    "plt.axis('off')\n",
    "plt.show()"
   ]
  },
  {
   "cell_type": "code",
   "execution_count": null,
   "id": "2c3acee6",
   "metadata": {},
   "outputs": [],
   "source": [
    "def get_text_length(text):\n",
    "    return len(text)"
   ]
  },
  {
   "cell_type": "code",
   "execution_count": null,
   "id": "8ad7731a",
   "metadata": {},
   "outputs": [],
   "source": [
    "# Register the UDF\n",
    "text_length_udf = udf(get_text_length, IntegerType())"
   ]
  },
  {
   "cell_type": "code",
   "execution_count": null,
   "id": "a8a83eef",
   "metadata": {},
   "outputs": [],
   "source": [
    "# Create the new column \"text_length\" based on the length of the \"review_body\" column\n",
    "#df2 = df2.withColumn('text_length', text_length_udf(df2['review_body_clean']))"
   ]
  },
  {
   "cell_type": "code",
   "execution_count": null,
   "id": "5d9a38f7",
   "metadata": {},
   "outputs": [],
   "source": [
    "df2.limit(1).toPandas()"
   ]
  },
  {
   "cell_type": "code",
   "execution_count": null,
   "id": "85f97d79",
   "metadata": {},
   "outputs": [],
   "source": [
    "newdf=df2.select(\"review_text_length\").toPandas()\n",
    "\n",
    "\n",
    "# Distribution plot of text length\n",
    "plt.figure(figsize=(10, 6))\n",
    "plt.hist(newdf['review_text_length'], bins=50)\n",
    "plt.xlabel('Review Length')\n",
    "plt.ylabel('Frequency')\n",
    "plt.title('Distribution of Review Length ')\n",
    "plt.show()"
   ]
  },
  {
   "cell_type": "code",
   "execution_count": null,
   "id": "85c9b620",
   "metadata": {},
   "outputs": [],
   "source": [
    "# Group the data by the 'vine' column and count the number of reviews for each category\n",
    "review_counts = df2.groupBy('vine').count().orderBy('vine')"
   ]
  },
  {
   "cell_type": "code",
   "execution_count": null,
   "id": "bf2d24fe",
   "metadata": {},
   "outputs": [],
   "source": [
    "review_counts.show()"
   ]
  },
  {
   "cell_type": "code",
   "execution_count": null,
   "id": "b5264a87",
   "metadata": {},
   "outputs": [],
   "source": [
    "newdf=review_counts.toPandas()"
   ]
  },
  {
   "cell_type": "code",
   "execution_count": null,
   "id": "e9fff954",
   "metadata": {},
   "outputs": [],
   "source": [
    "# Create the bar chart using matplotlib\n",
    "plt.bar(newdf['vine'], newdf['count'])\n",
    "plt.xlabel('Vine Reviews')\n",
    "plt.ylabel('Number of Reviews')\n",
    "plt.title('Number of Reviews for Vine and Non-Vine Reviews')\n",
    "plt.xticks([0, 1], ['Non-Vine', 'Vine'])\n",
    "plt.show()"
   ]
  },
  {
   "cell_type": "code",
   "execution_count": null,
   "id": "b94f8e97",
   "metadata": {},
   "outputs": [],
   "source": [
    "# Group the data by \"customer_id\" and count the number of reviews for each customer\n",
    "customer_review_counts = df2.groupBy('customer_id').agg(count('review_id').alias('review_count'))\n",
    "\n",
    "# Calculate the average number of reviews per customer\n",
    "average_reviews = customer_review_counts.select(avg('review_count')).collect()[0][0]\n",
    "\n",
    "# Print the average number of reviews per customer\n",
    "print(f\"On average, each customer gives {average_reviews:.2f} reviews.\")"
   ]
  },
  {
   "cell_type": "markdown",
   "id": "a7946648",
   "metadata": {},
   "source": [
    "#### Explore Product Issues"
   ]
  },
  {
   "cell_type": "code",
   "execution_count": null,
   "id": "058729af",
   "metadata": {},
   "outputs": [],
   "source": [
    "df2.limit(5).toPandas()"
   ]
  },
  {
   "cell_type": "code",
   "execution_count": null,
   "id": "fcd3cb44",
   "metadata": {},
   "outputs": [],
   "source": [
    "df2.columns"
   ]
  },
  {
   "cell_type": "code",
   "execution_count": null,
   "id": "e22ff160",
   "metadata": {},
   "outputs": [],
   "source": [
    "negativeReviews=df2.filter(col(\"sentiment\")==\"negative\")"
   ]
  },
  {
   "cell_type": "code",
   "execution_count": null,
   "id": "80f5e9e1",
   "metadata": {},
   "outputs": [],
   "source": [
    "negativeReviews.limit(5).toPandas()"
   ]
  },
  {
   "cell_type": "code",
   "execution_count": null,
   "id": "ce2eeaa8",
   "metadata": {},
   "outputs": [],
   "source": [
    "negativeReviewsDF = negativeReviews.select(\"lemmas\").toPandas()"
   ]
  },
  {
   "cell_type": "code",
   "execution_count": null,
   "id": "241b002d",
   "metadata": {},
   "outputs": [],
   "source": [
    "neg_tokens = [token for sublist in negativeReviewsDF[\"lemmas\"] for token in sublist]"
   ]
  },
  {
   "cell_type": "code",
   "execution_count": null,
   "id": "865e81d3",
   "metadata": {},
   "outputs": [],
   "source": [
    "len(neg_tokens)"
   ]
  },
  {
   "cell_type": "code",
   "execution_count": null,
   "id": "f9dfc095",
   "metadata": {},
   "outputs": [],
   "source": [
    "n = 2  \n",
    "bigrams =list(nltk.ngrams(neg_tokens, n))"
   ]
  },
  {
   "cell_type": "code",
   "execution_count": null,
   "id": "aaae7d71",
   "metadata": {},
   "outputs": [],
   "source": [
    "freq_dist = nltk.FreqDist(bigrams)"
   ]
  },
  {
   "cell_type": "code",
   "execution_count": null,
   "id": "41483278",
   "metadata": {},
   "outputs": [],
   "source": [
    "# Get the first 10 N-grams for spam sorted by frequency in descending order\n",
    "topbigrams = dict(sorted(freq_dist.items(), key=lambda x: x[1], reverse=True)[:20])"
   ]
  },
  {
   "cell_type": "code",
   "execution_count": null,
   "id": "fd941334",
   "metadata": {},
   "outputs": [],
   "source": [
    "# Plot the first 10 N-grams for spam using horizontal bar chart (barh) with reversed order\n",
    "plt.figure(figsize=(12, 6))\n",
    "plt.barh(range(len(topbigrams)), list(topbigrams.values())[::-1], align='center',color=\"red\")\n",
    "plt.yticks(range(len(topbigrams)), list(topbigrams.keys())[::-1])\n",
    "plt.xlabel(\"Frequency\")\n",
    "plt.ylabel(\"Bi-gram\")\n",
    "plt.title(\"Top 20 bi-grams for Negative Reviews\")\n",
    "\n",
    "\n",
    "plt.show()"
   ]
  },
  {
   "cell_type": "code",
   "execution_count": null,
   "id": "768665c8",
   "metadata": {},
   "outputs": [],
   "source": [
    "n = 3  \n",
    "trigrams =list(nltk.ngrams(neg_tokens, n))"
   ]
  },
  {
   "cell_type": "code",
   "execution_count": null,
   "id": "410de4da",
   "metadata": {},
   "outputs": [],
   "source": [
    "freq_dist2 = nltk.FreqDist(trigrams)"
   ]
  },
  {
   "cell_type": "code",
   "execution_count": null,
   "id": "af5ad631",
   "metadata": {},
   "outputs": [],
   "source": [
    "# Get the first 10 N-grams for spam sorted by frequency in descending order\n",
    "toptrigrams = dict(sorted(freq_dist2.items(), key=lambda x: x[1], reverse=True)[:20])"
   ]
  },
  {
   "cell_type": "code",
   "execution_count": null,
   "id": "d746a70d",
   "metadata": {
    "scrolled": false
   },
   "outputs": [],
   "source": [
    "# Plot the first 10 N-grams for spam using horizontal bar chart (barh) with reversed order\n",
    "plt.figure(figsize=(12, 6))\n",
    "plt.barh(range(len(toptrigrams)), list(toptrigrams.values())[::-1], align='center',color=\"red\")\n",
    "plt.yticks(range(len(toptrigrams)), list(toptrigrams.keys())[::-1])\n",
    "plt.xlabel(\"Frequency\")\n",
    "plt.ylabel(\"Tri-gram\")\n",
    "plt.title(\"Top 20 tri-grams for Negative Reviews\")\n",
    "\n",
    "\n",
    "plt.show()"
   ]
  },
  {
   "cell_type": "markdown",
   "id": "b0b3282c",
   "metadata": {},
   "source": [
    "#### Negative Reviews for ratings less than 3 stars"
   ]
  },
  {
   "cell_type": "code",
   "execution_count": null,
   "id": "1ddebc94",
   "metadata": {},
   "outputs": [],
   "source": [
    "negativeReviewsDFLowRating = negativeReviews.filter(col(\"star_rating\")<3).select(\"lemmas\").toPandas()"
   ]
  },
  {
   "cell_type": "code",
   "execution_count": null,
   "id": "9d2aae2d",
   "metadata": {},
   "outputs": [],
   "source": [
    "negativeReviewsDFLowRating.head()"
   ]
  },
  {
   "cell_type": "code",
   "execution_count": null,
   "id": "b756c679",
   "metadata": {},
   "outputs": [],
   "source": [
    "neg_tokens_lowRating = [token for sublist in negativeReviewsDFLowRating[\"lemmas\"] for token in sublist]"
   ]
  },
  {
   "cell_type": "code",
   "execution_count": null,
   "id": "5b2ba561",
   "metadata": {},
   "outputs": [],
   "source": [
    "len(neg_tokens_lowRating)"
   ]
  },
  {
   "cell_type": "code",
   "execution_count": null,
   "id": "ef003bb7",
   "metadata": {},
   "outputs": [],
   "source": [
    "n = 2 \n",
    "bigrams =list(nltk.ngrams(neg_tokens_lowRating, n))"
   ]
  },
  {
   "cell_type": "code",
   "execution_count": null,
   "id": "47b26be3",
   "metadata": {},
   "outputs": [],
   "source": [
    "freq_dist = nltk.FreqDist(bigrams)"
   ]
  },
  {
   "cell_type": "code",
   "execution_count": null,
   "id": "f5773a55",
   "metadata": {},
   "outputs": [],
   "source": [
    "# Get the first 10 N-grams for spam sorted by frequency in descending order\n",
    "topbigrams = dict(sorted(freq_dist.items(), key=lambda x: x[1], reverse=True)[:20])"
   ]
  },
  {
   "cell_type": "code",
   "execution_count": null,
   "id": "61e7cf58",
   "metadata": {
    "scrolled": false
   },
   "outputs": [],
   "source": [
    "# Plot the first 10 N-grams for spam using horizontal bar chart (barh) with reversed order\n",
    "plt.figure(figsize=(12, 24))\n",
    "plt.barh(range(len(topbigrams)), list(topbigrams.values())[::-1], align='center',color=\"red\")\n",
    "plt.yticks(range(len(topbigrams)), list(topbigrams.keys())[::-1])\n",
    "plt.xlabel(\"Frequency\")\n",
    "plt.ylabel(\"Tri-gram\")\n",
    "plt.title(\"Top 20 bi-grams for Negative Reviews with Low Ratings\")\n",
    "\n",
    "\n",
    "plt.show()"
   ]
  },
  {
   "cell_type": "code",
   "execution_count": null,
   "id": "d2601c1e",
   "metadata": {},
   "outputs": [],
   "source": [
    "n = 3\n",
    "trigrams =list(nltk.ngrams(neg_tokens_lowRating, n))"
   ]
  },
  {
   "cell_type": "code",
   "execution_count": null,
   "id": "11e7cd52",
   "metadata": {},
   "outputs": [],
   "source": [
    "freq_dist = nltk.FreqDist(trigrams)"
   ]
  },
  {
   "cell_type": "code",
   "execution_count": null,
   "id": "33893efe",
   "metadata": {},
   "outputs": [],
   "source": [
    "# Get the first 10 N-grams for spam sorted by frequency in descending order\n",
    "toptrigrams = dict(sorted(freq_dist.items(), key=lambda x: x[1], reverse=True)[:20])"
   ]
  },
  {
   "cell_type": "code",
   "execution_count": null,
   "id": "ddf0724e",
   "metadata": {},
   "outputs": [],
   "source": [
    "# Plot the first 10 N-grams for spam using horizontal bar chart (barh) with reversed order\n",
    "plt.figure(figsize=(12, 24))\n",
    "plt.barh(range(len(toptrigrams)), list(toptrigrams.values())[::-1], align='center',color=\"red\")\n",
    "plt.yticks(range(len(toptrigrams)), list(toptrigrams.keys())[::-1])\n",
    "plt.xlabel(\"Frequency\")\n",
    "plt.ylabel(\"Tri-gram\")\n",
    "plt.title(\"Top 20 tri-grams for Negative Reviews with Low Ratings\")\n",
    "\n",
    "\n",
    "plt.show()"
   ]
  },
  {
   "cell_type": "markdown",
   "id": "e87b1a96",
   "metadata": {},
   "source": [
    "#### identify fake or manipulated reviews"
   ]
  },
  {
   "cell_type": "code",
   "execution_count": null,
   "id": "0c4338f2",
   "metadata": {},
   "outputs": [],
   "source": [
    "reviewsDF=spam_df.select(\"review_text_length\",\"labels\",\"sentiment_score\",\"sentiment\",\"class\").toPandas()"
   ]
  },
  {
   "cell_type": "code",
   "execution_count": null,
   "id": "16be7298",
   "metadata": {
    "scrolled": false
   },
   "outputs": [],
   "source": [
    "reviewsDF[\"review_text_length\"].plot(bins=50,kind='hist',color='orange')\n",
    "\n",
    "# Set axis labels and title\n",
    "plt.xlabel('Review Text Length')\n",
    "plt.ylabel('Frequency')\n",
    "plt.title('Distribution of Review Text Length')"
   ]
  },
  {
   "cell_type": "code",
   "execution_count": null,
   "id": "861b2aaa",
   "metadata": {},
   "outputs": [],
   "source": [
    "# Filter the DataFrame for 'ham' and 'spam' labels\n",
    "\n",
    "ham = reviewsDF[reviewsDF[\"labels\"]==\"ham\"]\n",
    "spam = reviewsDF[reviewsDF[\"labels\"]==\"spam\"]"
   ]
  },
  {
   "cell_type": "code",
   "execution_count": null,
   "id": "2247fc4d",
   "metadata": {},
   "outputs": [],
   "source": [
    "ham[\"labels\"].value_counts()"
   ]
  },
  {
   "cell_type": "code",
   "execution_count": null,
   "id": "480e11e4",
   "metadata": {
    "scrolled": false
   },
   "outputs": [],
   "source": [
    "# Generate separate histograms for 'ham' and 'spam' subsets\n",
    "fig, axes = plt.subplots(2, sharex=True, sharey=True)\n",
    "ham[\"review_text_length\"].plot(kind=\"hist\", bins=50, ax=axes[0], color=\"blue\", alpha=0.7)\n",
    "spam[\"review_text_length\"].plot(kind=\"hist\", bins=50, ax=axes[1], color=\"red\", alpha=0.7)\n",
    "\n",
    "# Set axis labels and title\n",
    "plt.xlabel('Review Length')\n",
    "plt.ylabel('Frequency')\n",
    "plt.suptitle('Distribution of Review Length for Ham vs Spam')\n",
    "\n",
    "# Add legend\n",
    "axes[0].legend([\"Ham\"])\n",
    "axes[1].legend([\"Spam\"])\n",
    "\n",
    "# Adjust spacing between subplots\n",
    "plt.tight_layout()\n",
    "\n",
    "# Display the plot\n",
    "plt.show()"
   ]
  },
  {
   "cell_type": "code",
   "execution_count": null,
   "id": "8e253122",
   "metadata": {},
   "outputs": [],
   "source": [
    "# Extract the correlations\n",
    "\n",
    "correlation_matrix = reviewsDF[[\"class\", \"review_text_length\", \"sentiment_score\"]].corr()\n",
    "correlation_length = correlation_matrix.loc[\"class\", \"review_text_length\"]\n",
    "correlation_sentiment = correlation_matrix.loc[\"class\", \"sentiment_score\"]\n",
    "\n",
    "print(\"Correlation between review length and labels:\", correlation_length)\n",
    "print(\"Correlation between sentiment and labels:\", correlation_sentiment)"
   ]
  },
  {
   "cell_type": "code",
   "execution_count": null,
   "id": "91567722",
   "metadata": {},
   "outputs": [],
   "source": [
    "reviewDF=spam_df[[\"labels\",\"reviewDate\",\"review_text_length\",\"sentiment\"]].toPandas()"
   ]
  },
  {
   "cell_type": "code",
   "execution_count": null,
   "id": "6f9cba75",
   "metadata": {},
   "outputs": [],
   "source": [
    "reviewDF.head()"
   ]
  },
  {
   "cell_type": "code",
   "execution_count": null,
   "id": "cc9dc8f0",
   "metadata": {},
   "outputs": [],
   "source": [
    "reviewDF.dtypes"
   ]
  },
  {
   "cell_type": "code",
   "execution_count": null,
   "id": "49f8f210",
   "metadata": {},
   "outputs": [],
   "source": [
    "reviewDF[\"reviewDate\"]=pd.to_datetime(reviewDF['reviewDate'])"
   ]
  },
  {
   "cell_type": "code",
   "execution_count": null,
   "id": "0c7b51a6",
   "metadata": {},
   "outputs": [],
   "source": [
    "reviewDF.head()"
   ]
  },
  {
   "cell_type": "code",
   "execution_count": null,
   "id": "ca57b228",
   "metadata": {},
   "outputs": [],
   "source": [
    "reviewDF.dtypes"
   ]
  },
  {
   "cell_type": "code",
   "execution_count": null,
   "id": "b84bdc2d",
   "metadata": {},
   "outputs": [],
   "source": [
    "grouped_df = reviewDF.groupby([reviewDF['reviewDate'].dt.year, 'labels']).size().unstack().fillna(0)\n",
    "# Plot the number of spam vs ham over the years\n",
    "ax = grouped_df.plot(kind='line', marker='o', linestyle='-', figsize=(10, 6))\n",
    "\n",
    "# Set labels and title\n",
    "plt.xlabel('Year')\n",
    "plt.ylabel('Count')\n",
    "plt.title('Number of Spam vs Ham over the Years')\n",
    "\n",
    "# Set legend\n",
    "ax.legend(['Ham', 'Spam'])\n",
    "\n",
    "# Show the plot\n",
    "plt.show()"
   ]
  },
  {
   "cell_type": "code",
   "execution_count": null,
   "id": "f01e5820",
   "metadata": {},
   "outputs": [],
   "source": [
    "# Group the DataFrame by 'labels' and calculate the mean review length for each category\n",
    "grouped_df = reviewDF.groupby('labels')['review_text_length'].mean()\n",
    "\n",
    "# Plot the spam vs ham review length\n",
    "ax = grouped_df.plot(kind='bar', figsize=(10, 6))\n",
    "\n",
    "# Set labels and title\n",
    "plt.xlabel('Labels')\n",
    "plt.ylabel('Average Review Length')\n",
    "plt.title('Average Review Length for Spam vs Ham')\n",
    "\n",
    "# Show the plot\n",
    "plt.show()"
   ]
  },
  {
   "cell_type": "code",
   "execution_count": null,
   "id": "22e8b6c8",
   "metadata": {},
   "outputs": [],
   "source": [
    "# Plot the review length by class\n",
    "plt.figure(figsize=(10, 6))\n",
    "sns.boxplot(x='labels', y='review_text_length', data=reviewDF)\n",
    "\n",
    "# Set labels and title\n",
    "plt.xlabel('Review Class')\n",
    "plt.ylabel('Review Length')\n",
    "plt.title('Review Length by Class (Spam vs Ham)')\n",
    "\n",
    "# Show the plot\n",
    "plt.show()"
   ]
  },
  {
   "cell_type": "code",
   "execution_count": null,
   "id": "2986f0c8",
   "metadata": {},
   "outputs": [],
   "source": [
    "reviewDF.head()"
   ]
  },
  {
   "cell_type": "code",
   "execution_count": null,
   "id": "0d52a273",
   "metadata": {
    "scrolled": false
   },
   "outputs": [],
   "source": [
    "# Plot the review length by sentiment\n",
    "plt.figure(figsize=(10, 6))\n",
    "colors = {'positive': 'green', 'negative': 'red', 'neutral': 'blue'}\n",
    "for sentiment, data in reviewDF.groupby('sentiment'):\n",
    "    plt.scatter(data['review_text_length'], [sentiment] * len(data), color=colors[sentiment], label=sentiment, alpha=0.7)\n",
    "\n",
    "# Set labels and title\n",
    "plt.xlabel('Review Length')\n",
    "plt.ylabel('Sentiment')\n",
    "plt.title('Review Length by Sentiment')\n",
    "\n",
    "# Add legend\n",
    "plt.legend()\n",
    "\n",
    "# Show the plot\n",
    "plt.show()"
   ]
  },
  {
   "cell_type": "markdown",
   "id": "c4cc37a2",
   "metadata": {},
   "source": [
    "#### Word Cloud"
   ]
  },
  {
   "cell_type": "code",
   "execution_count": null,
   "id": "f43f3a3c",
   "metadata": {},
   "outputs": [],
   "source": [
    "spam_df=spam_df.withColumn(\"concatenated_lemmas\", concat_ws(\" \", col(\"lemmas\")))"
   ]
  },
  {
   "cell_type": "code",
   "execution_count": null,
   "id": "5014ab1d",
   "metadata": {},
   "outputs": [],
   "source": [
    "spam_df.limit(1).toPandas()"
   ]
  },
  {
   "cell_type": "code",
   "execution_count": null,
   "id": "ddbeff7b",
   "metadata": {},
   "outputs": [],
   "source": [
    "spam=spam_df.filter(spam_df.labels == \"spam\")"
   ]
  },
  {
   "cell_type": "code",
   "execution_count": null,
   "id": "fbeb2ce2",
   "metadata": {},
   "outputs": [],
   "source": [
    "ham=spam_df.filter(spam_df.labels == \"ham\")"
   ]
  },
  {
   "cell_type": "code",
   "execution_count": null,
   "id": "d5349e6b",
   "metadata": {},
   "outputs": [],
   "source": [
    "spam_reviews=spam.select(spam.concatenated_lemmas).rdd.flatMap(lambda x: x).collect()"
   ]
  },
  {
   "cell_type": "code",
   "execution_count": null,
   "id": "c7654b2e",
   "metadata": {},
   "outputs": [],
   "source": [
    "len(spam_reviews)"
   ]
  },
  {
   "cell_type": "code",
   "execution_count": null,
   "id": "4c73081f",
   "metadata": {},
   "outputs": [],
   "source": [
    "spam_reviews[:2]"
   ]
  },
  {
   "cell_type": "code",
   "execution_count": null,
   "id": "97e2cafb",
   "metadata": {},
   "outputs": [],
   "source": [
    "# Convert sentences to a list of words\n",
    "words_list = [sentence.split() for sentence in spam_reviews]"
   ]
  },
  {
   "cell_type": "code",
   "execution_count": null,
   "id": "9ffbdabc",
   "metadata": {},
   "outputs": [],
   "source": [
    "spam_reviews=[word for sentence in words_list for word in sentence]"
   ]
  },
  {
   "cell_type": "code",
   "execution_count": null,
   "id": "6c45aa3a",
   "metadata": {},
   "outputs": [],
   "source": [
    "spam_reviews[:5]"
   ]
  },
  {
   "cell_type": "code",
   "execution_count": null,
   "id": "300c697f",
   "metadata": {},
   "outputs": [],
   "source": [
    "len(spam_reviews)"
   ]
  },
  {
   "cell_type": "code",
   "execution_count": null,
   "id": "36b22489",
   "metadata": {},
   "outputs": [],
   "source": [
    "ham_reviews=ham.select(ham.concatenated_lemmas).rdd.flatMap(lambda x: x).collect()"
   ]
  },
  {
   "cell_type": "code",
   "execution_count": null,
   "id": "dc1c8cba",
   "metadata": {},
   "outputs": [],
   "source": [
    "# Convert sentences to a list of words\n",
    "words_list = [sentence.split() for sentence in ham_reviews]"
   ]
  },
  {
   "cell_type": "code",
   "execution_count": null,
   "id": "3817e5ab",
   "metadata": {},
   "outputs": [],
   "source": [
    "ham_reviews=[word for sentence in words_list for word in sentence]"
   ]
  },
  {
   "cell_type": "code",
   "execution_count": null,
   "id": "8b91cba9",
   "metadata": {},
   "outputs": [],
   "source": [
    "# Count the occurrences of each word\n",
    "spam_word_counts = Counter(spam_reviews)"
   ]
  },
  {
   "cell_type": "code",
   "execution_count": null,
   "id": "f22b4acd",
   "metadata": {},
   "outputs": [],
   "source": [
    "# Count the occurrences of each word\n",
    "ham_word_counts = Counter(ham_reviews)"
   ]
  },
  {
   "cell_type": "code",
   "execution_count": null,
   "id": "97d11673",
   "metadata": {},
   "outputs": [],
   "source": [
    "# Select the top 20 words with highest frequencies\n",
    "spam_top_words = dict(spam_word_counts.most_common(20))"
   ]
  },
  {
   "cell_type": "code",
   "execution_count": null,
   "id": "6b5be996",
   "metadata": {},
   "outputs": [],
   "source": [
    "# Select the top 20 words with highest frequencies\n",
    "ham_top_words = dict(ham_word_counts.most_common(20))"
   ]
  },
  {
   "cell_type": "code",
   "execution_count": null,
   "id": "e2d0fe5a",
   "metadata": {},
   "outputs": [],
   "source": [
    "spam_wordcloud = WordCloud(width=800, height=400).generate_from_frequencies(spam_top_words)\n",
    "ham_wordcloud = WordCloud(width=800, height=400).generate_from_frequencies(ham_top_words)"
   ]
  },
  {
   "cell_type": "code",
   "execution_count": null,
   "id": "a0fb8f25",
   "metadata": {},
   "outputs": [],
   "source": [
    "plt.figure(figsize=(10, 5))\n",
    "plt.subplot(1, 2, 1)\n",
    "plt.imshow(spam_wordcloud, interpolation=\"bilinear\")\n",
    "plt.title(\"Spam Word Cloud\")\n",
    "plt.axis(\"off\")\n",
    "\n",
    "plt.subplot(1, 2, 2)\n",
    "plt.imshow(ham_wordcloud, interpolation=\"bilinear\")\n",
    "plt.title(\"Ham Word Cloud\")\n",
    "plt.axis(\"off\")\n",
    "\n",
    "plt.tight_layout()\n",
    "plt.show()"
   ]
  },
  {
   "cell_type": "markdown",
   "id": "d5a95c83",
   "metadata": {},
   "source": [
    "#### Bi-grams"
   ]
  },
  {
   "cell_type": "code",
   "execution_count": null,
   "id": "a9293a88",
   "metadata": {},
   "outputs": [],
   "source": [
    "ngram = NGram(n=2, inputCol=\"lemmas\", outputCol=\"ngrams\")\n",
    "ham = ngram.transform(ham)"
   ]
  },
  {
   "cell_type": "code",
   "execution_count": null,
   "id": "5e7b1163",
   "metadata": {},
   "outputs": [],
   "source": [
    "ngram = NGram(n=2, inputCol=\"lemmas\", outputCol=\"ngrams\")\n",
    "spam = ngram.transform(spam)"
   ]
  },
  {
   "cell_type": "code",
   "execution_count": null,
   "id": "a05a837a",
   "metadata": {},
   "outputs": [],
   "source": [
    "ngram_spam_count = spam.groupBy(\"ngrams\").count().orderBy(col(\"count\").desc())"
   ]
  },
  {
   "cell_type": "code",
   "execution_count": null,
   "id": "dc97202c",
   "metadata": {},
   "outputs": [],
   "source": [
    "ngram_ham_count = ham.groupBy(\"ngrams\").count().orderBy(col(\"count\").desc())"
   ]
  },
  {
   "cell_type": "code",
   "execution_count": null,
   "id": "0eae6765",
   "metadata": {},
   "outputs": [],
   "source": [
    "# Convert the DataFrame to a Pandas DataFrame for easy plotting\n",
    "ngram_count_pd = ngram_spam_count.limit(20).toPandas()"
   ]
  },
  {
   "cell_type": "code",
   "execution_count": null,
   "id": "a5c830e9",
   "metadata": {},
   "outputs": [],
   "source": [
    "# Convert the DataFrame to a Pandas DataFrame for easy plotting\n",
    "ngram_count_pd_ham = ngram_ham_count.limit(20).toPandas()"
   ]
  },
  {
   "cell_type": "code",
   "execution_count": null,
   "id": "aca72500",
   "metadata": {},
   "outputs": [],
   "source": [
    "spam_ngrams = ngram_count_pd[\"ngrams\"]\n",
    "spam_frequencies = ngram_count_pd[\"count\"]"
   ]
  },
  {
   "cell_type": "code",
   "execution_count": null,
   "id": "4a902c6a",
   "metadata": {},
   "outputs": [],
   "source": [
    "ham_ngrams = ngram_count_pd_ham[\"ngrams\"]\n",
    "ham_frequencies = ngram_count_pd_ham[\"count\"]"
   ]
  },
  {
   "cell_type": "code",
   "execution_count": null,
   "id": "a60cf7cc",
   "metadata": {},
   "outputs": [],
   "source": [
    "plt.figure(figsize=(12, 6))\n",
    "plt.bar(range(len(spam_ngrams)), spam_frequencies, align='center',color=\"red\")\n",
    "plt.xticks(range(len(spam_ngrams)), spam_ngrams, rotation=45)\n",
    "plt.xlabel(f\"Bi-gram\")\n",
    "plt.ylabel(\"Frequency\")\n",
    "plt.title(f\"Top 20 Bi-grams for Spam Reviews\")\n",
    "plt.tight_layout()\n",
    "plt.show()"
   ]
  },
  {
   "cell_type": "code",
   "execution_count": null,
   "id": "56f7eda9",
   "metadata": {},
   "outputs": [],
   "source": [
    "plt.figure(figsize=(12, 6))\n",
    "plt.bar(range(len(ham_ngrams)), ham_frequencies, align='center',color=\"green\")\n",
    "plt.xticks(range(len(ham_ngrams)), ham_ngrams, rotation=45)\n",
    "plt.xlabel(f\"Bi-gram\")\n",
    "plt.ylabel(\"Frequency\")\n",
    "plt.title(f\"Top 20 Bi-grams for Ham Reviews\")\n",
    "plt.tight_layout()\n",
    "plt.show()"
   ]
  },
  {
   "cell_type": "markdown",
   "id": "7e913f36",
   "metadata": {},
   "source": [
    "#### Trigram"
   ]
  },
  {
   "cell_type": "code",
   "execution_count": null,
   "id": "2ccd892c",
   "metadata": {},
   "outputs": [],
   "source": [
    "ngram = NGram(n=3, inputCol=\"lemmas\", outputCol=\"trigrams\")\n",
    "ham = ngram.transform(ham)"
   ]
  },
  {
   "cell_type": "code",
   "execution_count": null,
   "id": "59e58c6b",
   "metadata": {},
   "outputs": [],
   "source": [
    "ngram = NGram(n=3, inputCol=\"lemmas\", outputCol=\"trigrams\")\n",
    "spam = ngram.transform(spam)"
   ]
  },
  {
   "cell_type": "code",
   "execution_count": null,
   "id": "6eac7ba4",
   "metadata": {},
   "outputs": [],
   "source": [
    "ngram_spam_count = spam.groupBy(\"trigrams\").count().orderBy(col(\"count\").desc())\n",
    "ngram_ham_count = ham.groupBy(\"trigrams\").count().orderBy(col(\"count\").desc())\n"
   ]
  },
  {
   "cell_type": "code",
   "execution_count": null,
   "id": "4994deed",
   "metadata": {},
   "outputs": [],
   "source": [
    "ngram_count_pd_ham = ngram_ham_count.limit(20).toPandas()\n",
    "\n",
    "# Convert the DataFrame to a Pandas DataFrame for easy plotting\n",
    "ngram_count_pd = ngram_spam_count.limit(20).toPandas()"
   ]
  },
  {
   "cell_type": "code",
   "execution_count": null,
   "id": "f3d6a52f",
   "metadata": {},
   "outputs": [],
   "source": [
    "spam_ngrams = ngram_count_pd[\"trigrams\"]\n",
    "spam_frequencies = ngram_count_pd[\"count\"]"
   ]
  },
  {
   "cell_type": "code",
   "execution_count": null,
   "id": "1b49951b",
   "metadata": {},
   "outputs": [],
   "source": [
    "ham_ngrams = ngram_count_pd_ham[\"trigrams\"]\n",
    "ham_frequencies = ngram_count_pd_ham[\"count\"]"
   ]
  },
  {
   "cell_type": "code",
   "execution_count": null,
   "id": "74d0e276",
   "metadata": {},
   "outputs": [],
   "source": [
    "plt.figure(figsize=(12, 6))\n",
    "plt.bar(range(len(spam_ngrams)), spam_frequencies, align='center',color=\"red\")\n",
    "plt.xticks(range(len(spam_ngrams)), spam_ngrams, rotation=90)\n",
    "plt.xlabel(f\"Tri-gram\")\n",
    "plt.ylabel(\"Frequency\")\n",
    "plt.title(f\"Top 20 Tri-grams for Spam Reviews\")\n",
    "plt.tight_layout()\n",
    "plt.show()"
   ]
  },
  {
   "cell_type": "code",
   "execution_count": null,
   "id": "f73fbbb3",
   "metadata": {},
   "outputs": [],
   "source": [
    "ham_ngrams.head()"
   ]
  },
  {
   "cell_type": "code",
   "execution_count": null,
   "id": "94145e27",
   "metadata": {},
   "outputs": [],
   "source": [
    "spam_ngrams"
   ]
  },
  {
   "cell_type": "code",
   "execution_count": null,
   "id": "7ba6ce9f",
   "metadata": {},
   "outputs": [],
   "source": [
    "ham_ngrams=ham_ngrams[:5]"
   ]
  },
  {
   "cell_type": "code",
   "execution_count": null,
   "id": "d3a2c781",
   "metadata": {},
   "outputs": [],
   "source": [
    "ham_frequencies=ham_frequencies[:5]"
   ]
  },
  {
   "cell_type": "code",
   "execution_count": null,
   "id": "6d9126f6",
   "metadata": {},
   "outputs": [],
   "source": [
    "plt.figure(figsize=(12, 6))\n",
    "plt.bar(range(len(ham_ngrams)), ham_frequencies, align='center',color=\"green\")\n",
    "plt.xticks(range(len(ham_ngrams)), ham_ngrams, rotation=90)\n",
    "plt.xlabel(\"Tri-gram\")\n",
    "plt.ylabel(\"Frequency\")\n",
    "plt.title(\"Top 5 Tri-grams for Spam Reviews\")\n",
    "plt.tight_layout()\n",
    "plt.show()"
   ]
  },
  {
   "cell_type": "markdown",
   "id": "1c316d66",
   "metadata": {},
   "source": [
    "#### Feature Engineering"
   ]
  },
  {
   "cell_type": "markdown",
   "id": "0a54adf3",
   "metadata": {},
   "source": [
    "##### Amazon Spam Reviews Dataset"
   ]
  },
  {
   "cell_type": "code",
   "execution_count": null,
   "id": "ad78fd63",
   "metadata": {},
   "outputs": [],
   "source": [
    "count_vec = CountVectorizer(inputCol='lemmas',outputCol='c_vec')\n",
    "idf = IDF(inputCol=\"c_vec\", outputCol=\"tf_idf\")\n",
    "#spam_df = spam_df.withColumn('abs_sentiment_score', abs(spam_df['sentiment_score']))\n",
    "vectorassembler = VectorAssembler(inputCols=['tf_idf','review_text_length','abs_sentiment_score'],outputCol='raw_features')\n",
    "scaler  = StandardScaler(inputCol=\"raw_features\", outputCol=\"features\", withMean=True, withStd=True)\n",
    "#pca = PCA(k=2, inputCol=\"scaled_features\", outputCol=\"features\")"
   ]
  },
  {
   "cell_type": "code",
   "execution_count": null,
   "id": "22b3506e",
   "metadata": {
    "scrolled": true
   },
   "outputs": [],
   "source": [
    "data_prep_pipe = Pipeline(stages=[count_vec,idf,vectorassembler,scaler])\n",
    "cleaner = data_prep_pipe.fit(spam_df)\n",
    "clean_data = cleaner.transform(spam_df)"
   ]
  },
  {
   "cell_type": "code",
   "execution_count": null,
   "id": "983b8208",
   "metadata": {},
   "outputs": [],
   "source": [
    "cleaner.write().overwrite().save(\"gs://productpal_bucket/pipelines/data_prep_pipe\")"
   ]
  },
  {
   "cell_type": "code",
   "execution_count": null,
   "id": "b1d2cd77",
   "metadata": {
    "scrolled": false
   },
   "outputs": [],
   "source": [
    "clean_data.limit(5).toPandas()"
   ]
  },
  {
   "cell_type": "code",
   "execution_count": null,
   "id": "040d8874",
   "metadata": {},
   "outputs": [],
   "source": [
    "clean_data = clean_data.select(['class','features'])"
   ]
  },
  {
   "cell_type": "code",
   "execution_count": null,
   "id": "3df628c4",
   "metadata": {},
   "outputs": [],
   "source": [
    "clean_data = clean_data.withColumnRenamed(\"class\", \"label\")"
   ]
  },
  {
   "cell_type": "code",
   "execution_count": null,
   "id": "1a1c2787",
   "metadata": {},
   "outputs": [],
   "source": [
    "# Split the data into training and testing sets\n",
    "train_data, test_data = clean_data.randomSplit([0.8, 0.2], seed=0)"
   ]
  },
  {
   "cell_type": "markdown",
   "id": "89a49fbf",
   "metadata": {},
   "source": [
    "#### Model Building"
   ]
  },
  {
   "cell_type": "markdown",
   "id": "dae828c3",
   "metadata": {},
   "source": [
    "##### Amazon Spam Reviews Dataset"
   ]
  },
  {
   "cell_type": "markdown",
   "id": "9a42ece0",
   "metadata": {},
   "source": [
    "#### Naive Bayes Model"
   ]
  },
  {
   "cell_type": "code",
   "execution_count": null,
   "id": "e33f34fb",
   "metadata": {},
   "outputs": [],
   "source": [
    "# Define the Naive Bayes classifier\n",
    "nb = NaiveBayes()\n",
    "\n",
    "# Define the hyperparameter grid for tuning\n",
    "nbparam_grid = ParamGridBuilder() \\\n",
    "    .addGrid(nb.smoothing, [0.1, 1.0, 10.0]) \\\n",
    "    .build()\n",
    "\n",
    "# Set up the TrainValidationSplit with the NaiveBayes classifier and parameter grid\n",
    "nbtvs = TrainValidationSplit(estimator=nb,\n",
    "                           estimatorParamMaps=nbparam_grid,\n",
    "                           evaluator=BinaryClassificationEvaluator(),\n",
    "                           trainRatio=0.8)"
   ]
  },
  {
   "cell_type": "code",
   "execution_count": null,
   "id": "e4a5a307",
   "metadata": {},
   "outputs": [],
   "source": [
    "# Fit the TrainValidationSplit on the training data\n",
    "nbtvs_model = nbtvs.fit(train_data)"
   ]
  },
  {
   "cell_type": "code",
   "execution_count": null,
   "id": "87b0b924",
   "metadata": {},
   "outputs": [],
   "source": [
    "# Get the best NaiveBayes model from the TVS model\n",
    "nbmodel = nbtvs_model.bestModel"
   ]
  },
  {
   "cell_type": "code",
   "execution_count": null,
   "id": "13e8490e",
   "metadata": {},
   "outputs": [],
   "source": [
    "# Extract the best hyperparameters\n",
    "best_smoothing = nbmodel._java_obj.getSmoothing()"
   ]
  },
  {
   "cell_type": "code",
   "execution_count": null,
   "id": "1fce2ea0",
   "metadata": {},
   "outputs": [],
   "source": [
    "# Print the best hyperparameters\n",
    "print(f\"Best Smoothing Parameter: {best_smoothing}\")"
   ]
  },
  {
   "cell_type": "code",
   "execution_count": null,
   "id": "daa259f5",
   "metadata": {},
   "outputs": [],
   "source": [
    "\n",
    "\n",
    "# Make predictions on the test data\n",
    "predictions = nbmodel.transform(test_data)\n",
    "\n"
   ]
  },
  {
   "cell_type": "code",
   "execution_count": null,
   "id": "86514c55",
   "metadata": {},
   "outputs": [],
   "source": [
    "# Evaluate the model's accuracy on the validation data\n",
    "nbevaluator = BinaryClassificationEvaluator(metricName=\"areaUnderROC\")\n",
    "nbareaUnderROC = nbevaluator.evaluate(predictions)"
   ]
  },
  {
   "cell_type": "code",
   "execution_count": null,
   "id": "db52cb36",
   "metadata": {},
   "outputs": [],
   "source": [
    "nbareaUnderROC"
   ]
  },
  {
   "cell_type": "code",
   "execution_count": null,
   "id": "96ec5e38",
   "metadata": {},
   "outputs": [],
   "source": [
    "nbevaluator = BinaryClassificationEvaluator(metricName=\"areaUnderPR\")\n",
    "nbareaUnderPR = nbevaluator.evaluate(predictions)"
   ]
  },
  {
   "cell_type": "code",
   "execution_count": null,
   "id": "b09a4636",
   "metadata": {},
   "outputs": [],
   "source": [
    "nbareaUnderPR"
   ]
  },
  {
   "cell_type": "code",
   "execution_count": null,
   "id": "0722d50a",
   "metadata": {},
   "outputs": [],
   "source": [
    "nbmodel.write().overwrite().save(\"gs://productpal_bucket/models/nbModel\")"
   ]
  },
  {
   "cell_type": "markdown",
   "id": "30328611",
   "metadata": {},
   "source": [
    "#### Support Vector Machine Model"
   ]
  },
  {
   "cell_type": "code",
   "execution_count": null,
   "id": "4b42cf77",
   "metadata": {},
   "outputs": [],
   "source": [
    "# Define the LinearSVC classifier\n",
    "svm = LinearSVC()\n",
    "\n",
    "# Define the hyperparameter grid for tuning\n",
    "svmparam_grid = ParamGridBuilder() \\\n",
    "    .addGrid(svm.regParam, [0.01, 0.1, 1.0]) \\\n",
    "    .addGrid(svm.maxIter, [10, 100]) \\\n",
    "    .build()\n",
    "\n",
    "\n",
    "# Set up the TrainValidationSplit with the SVM classifier and parameter grid\n",
    "svmtvs = TrainValidationSplit(estimator=svm,\n",
    "                           estimatorParamMaps=svmparam_grid,\n",
    "                           evaluator=BinaryClassificationEvaluator(),\n",
    "                           trainRatio=0.8)\n",
    "\n",
    "\n",
    "\n"
   ]
  },
  {
   "cell_type": "code",
   "execution_count": null,
   "id": "6ccfafc9",
   "metadata": {},
   "outputs": [],
   "source": [
    "svmtvs_model = svmtvs.fit(train_data)"
   ]
  },
  {
   "cell_type": "code",
   "execution_count": null,
   "id": "521e906c",
   "metadata": {},
   "outputs": [],
   "source": [
    "svmmodel=svmtvs_model.bestModel"
   ]
  },
  {
   "cell_type": "code",
   "execution_count": null,
   "id": "06d5ad1a",
   "metadata": {},
   "outputs": [],
   "source": [
    "# Retrieve the best parameters\n",
    "svmbest_reg_param = svmmodel._java_obj.getRegParam()\n",
    "svmbest_max_iter = svmmodel._java_obj.getMaxIter()"
   ]
  },
  {
   "cell_type": "code",
   "execution_count": null,
   "id": "d1b1d407",
   "metadata": {},
   "outputs": [],
   "source": [
    "print(f\"Best Model Parameters: RegParam={svmbest_reg_param}, MaxIter={svmbest_max_iter}\")"
   ]
  },
  {
   "cell_type": "code",
   "execution_count": null,
   "id": "902ef409",
   "metadata": {},
   "outputs": [],
   "source": [
    "# Make predictions on the validation data\n",
    "predictions = svmmodel.transform(test_data)"
   ]
  },
  {
   "cell_type": "code",
   "execution_count": null,
   "id": "65966078",
   "metadata": {},
   "outputs": [],
   "source": [
    "# Evaluate the model's accuracy on the validation data\n",
    "svmevaluator = BinaryClassificationEvaluator(metricName=\"areaUnderROC\")\n",
    "svmareaUnderROC = svmevaluator.evaluate(predictions)"
   ]
  },
  {
   "cell_type": "code",
   "execution_count": null,
   "id": "bcf3de9d",
   "metadata": {},
   "outputs": [],
   "source": [
    "svmareaUnderROC"
   ]
  },
  {
   "cell_type": "code",
   "execution_count": null,
   "id": "7adc9982",
   "metadata": {},
   "outputs": [],
   "source": [
    "# Evaluate the model's accuracy on the validation data\n",
    "svmevaluator = BinaryClassificationEvaluator(metricName=\"areaUnderPR\")\n",
    "svmareaUnderPR = svmevaluator.evaluate(predictions)"
   ]
  },
  {
   "cell_type": "code",
   "execution_count": null,
   "id": "955b25a1",
   "metadata": {},
   "outputs": [],
   "source": [
    "svmareaUnderPR"
   ]
  },
  {
   "cell_type": "code",
   "execution_count": null,
   "id": "62edc6a7",
   "metadata": {},
   "outputs": [],
   "source": [
    "svmmodel.write().overwrite().save(\"gs://productpal_bucket/models/svmmodel\")"
   ]
  },
  {
   "cell_type": "markdown",
   "id": "001c590d",
   "metadata": {},
   "source": [
    "#### Decision Tree Classifier Model"
   ]
  },
  {
   "cell_type": "code",
   "execution_count": null,
   "id": "81eedfe3",
   "metadata": {},
   "outputs": [],
   "source": [
    "# Create an instance of DecisionTreeClassifier\n",
    "dt = DecisionTreeClassifier(maxDepth=15)\n",
    "\n",
    "# Define the hyperparameter grid for tuning\n",
    "dtparam_grid = ParamGridBuilder() \\\n",
    "    .addGrid(dt.maxDepth, [3, 5, 7]) \\\n",
    "    .addGrid(dt.maxBins, [16, 32, 64]) \\\n",
    "    .addGrid(dt.minInstancesPerNode, [1, 5, 10]) \\\n",
    "    .addGrid(dt.minInfoGain, [0.0, 0.1, 0.2]) \\\n",
    "    .build()\n",
    "\n",
    "# Set up the TrainValidationSplit with the DecisionTreeClassifier and parameter grid\n",
    "dttvs = TrainValidationSplit(estimator=dt,\n",
    "                           estimatorParamMaps=dtparam_grid,\n",
    "                           evaluator=BinaryClassificationEvaluator(),\n",
    "                           trainRatio=0.8)\n",
    "\n",
    "# Train the model on the training data\n",
    "dtmodel = dt.fit(train_data)"
   ]
  },
  {
   "cell_type": "code",
   "execution_count": null,
   "id": "04157603",
   "metadata": {},
   "outputs": [],
   "source": [
    "dttvs_model = dttvs.fit(train_data)"
   ]
  },
  {
   "cell_type": "code",
   "execution_count": null,
   "id": "82998de0",
   "metadata": {},
   "outputs": [],
   "source": [
    "dtmodel=dttvs_model.bestModel"
   ]
  },
  {
   "cell_type": "code",
   "execution_count": null,
   "id": "ab755cf8",
   "metadata": {},
   "outputs": [],
   "source": [
    "# Extract the parameter map from the best model\n",
    "best_params = dtmodel.extractParamMap()"
   ]
  },
  {
   "cell_type": "code",
   "execution_count": null,
   "id": "3455635d",
   "metadata": {},
   "outputs": [],
   "source": [
    "# Print the hyperparameters and their values\n",
    "for param in best_params:\n",
    "    print(f\"{param.name}: {best_params[param]}\")"
   ]
  },
  {
   "cell_type": "code",
   "execution_count": null,
   "id": "95fbbe5d",
   "metadata": {},
   "outputs": [],
   "source": [
    "# Make predictions on the validation data\n",
    "predictions = dtmodel.transform(test_data)"
   ]
  },
  {
   "cell_type": "code",
   "execution_count": null,
   "id": "9b2e1317",
   "metadata": {
    "scrolled": true
   },
   "outputs": [],
   "source": [
    "# Evaluate the model's accuracy on the validation data\n",
    "dtevaluator = BinaryClassificationEvaluator(metricName=\"areaUnderROC\")\n",
    "dtareaUnderROC = dtevaluator.evaluate(predictions)"
   ]
  },
  {
   "cell_type": "code",
   "execution_count": null,
   "id": "e8fe060e",
   "metadata": {},
   "outputs": [],
   "source": [
    "dtareaUnderROC"
   ]
  },
  {
   "cell_type": "code",
   "execution_count": null,
   "id": "674d11b6",
   "metadata": {},
   "outputs": [],
   "source": [
    "# Evaluate the model's accuracy on the validation data\n",
    "dtevaluator = BinaryClassificationEvaluator(metricName=\"areaUnderPR\")\n",
    "dtareaUnderPR = dtevaluator.evaluate(predictions)"
   ]
  },
  {
   "cell_type": "code",
   "execution_count": null,
   "id": "28a89a9f",
   "metadata": {},
   "outputs": [],
   "source": [
    "dtareaUnderPR"
   ]
  },
  {
   "cell_type": "code",
   "execution_count": null,
   "id": "c8afd1ca",
   "metadata": {},
   "outputs": [],
   "source": [
    "dtmodel.write().overwrite().save(\"gs://productpal_bucket/models/dtmodel\")"
   ]
  },
  {
   "cell_type": "markdown",
   "id": "026e6c2e",
   "metadata": {},
   "source": [
    "#### K-means Clustering Content-Based Recommendation Engine"
   ]
  },
  {
   "cell_type": "code",
   "execution_count": null,
   "id": "d6eb39c4",
   "metadata": {},
   "outputs": [],
   "source": [
    "\n",
    "grouped_df = df2.groupBy(\"product_id\",\"product_title\").agg(\n",
    "    avg(\"abs_sentiment_score\").alias(\"avg_abs_sentiment\"),\n",
    "    avg(\"review_text_length\").alias(\"avg_review_length\"),\n",
    "    round(avg(\"star_rating\"),0).alias(\"avg_star_rating\"),\n",
    "    collect_list(\"lemmas\").alias(\"combined_tokens\")\n",
    ")\n",
    "grouped_df = grouped_df.withColumn(\"combined_tokens\", flatten(col(\"combined_tokens\")))"
   ]
  },
  {
   "cell_type": "code",
   "execution_count": null,
   "id": "8311854d",
   "metadata": {},
   "outputs": [],
   "source": [
    "grouped_df.limit(5).toPandas()"
   ]
  },
  {
   "cell_type": "code",
   "execution_count": null,
   "id": "9a47ad95",
   "metadata": {},
   "outputs": [],
   "source": [
    "grouped_df.count()"
   ]
  },
  {
   "cell_type": "code",
   "execution_count": null,
   "id": "b9622b6f",
   "metadata": {},
   "outputs": [],
   "source": [
    "# Data Preprocessing: Filter relevant columns and handle missing values if necessary\n",
    "cbDF = grouped_df.select(\"customer_id\", \"avg_star_rating\",\"product_id\",\"product_title\",\\\n",
    "                         \"avg_review_length\",\"avg_abs_sentiment\",\"combined_tokens\")  "
   ]
  },
  {
   "cell_type": "code",
   "execution_count": null,
   "id": "352eb7e0",
   "metadata": {},
   "outputs": [],
   "source": [
    "cbDF.limit(5).toPandas()"
   ]
  },
  {
   "cell_type": "code",
   "execution_count": null,
   "id": "bd6efd8f",
   "metadata": {},
   "outputs": [],
   "source": [
    "cbDF.count()"
   ]
  },
  {
   "cell_type": "code",
   "execution_count": null,
   "id": "a80dcf19",
   "metadata": {},
   "outputs": [],
   "source": [
    "df2.count()"
   ]
  },
  {
   "cell_type": "code",
   "execution_count": null,
   "id": "4ce662d2",
   "metadata": {},
   "outputs": [],
   "source": [
    "hashingTF = HashingTF(inputCol=\"combined_tokens\", outputCol=\"rawFeatures\", numFeatures=1000)\n",
    "idf = IDF(inputCol=\"rawFeatures\", outputCol=\"result\")"
   ]
  },
  {
   "cell_type": "code",
   "execution_count": null,
   "id": "c16005dd",
   "metadata": {},
   "outputs": [],
   "source": [
    "# StringIndexer for product_asin and customer_id\n",
    "product_indexer = StringIndexer(inputCol=\"product_id\", outputCol=\"product_id_index\")\n",
    "customer_indexer = StringIndexer(inputCol=\"customer_id\", outputCol=\"customerid__index\")"
   ]
  },
  {
   "cell_type": "code",
   "execution_count": null,
   "id": "01331307",
   "metadata": {},
   "outputs": [],
   "source": [
    "# Select the relevant features for clustering\n",
    "feature_columns = [\"avg_review_length\", \"avg_abs_sentiment\", \"result\"]\n",
    "assembler = VectorAssembler(inputCols=feature_columns, outputCol=\"raw_features\")\n",
    "#reviews_data = assembler.transform(reviews_data)"
   ]
  },
  {
   "cell_type": "code",
   "execution_count": null,
   "id": "e7d16101",
   "metadata": {},
   "outputs": [],
   "source": [
    "# Normalize the features column\n",
    "normalizer = Normalizer(inputCol=\"raw_features\", outputCol=\"normalized_features\")"
   ]
  },
  {
   "cell_type": "code",
   "execution_count": null,
   "id": "efe56b67",
   "metadata": {},
   "outputs": [],
   "source": [
    "pca = PCA(k=2, inputCol=\"normalized_features\", outputCol=\"features\")"
   ]
  },
  {
   "cell_type": "code",
   "execution_count": null,
   "id": "991ff72a",
   "metadata": {
    "scrolled": true
   },
   "outputs": [],
   "source": [
    "# Pipeline for feature engineering\n",
    "pipeline = Pipeline(stages=[hashingTF, idf,assembler,normalizer,pca, product_indexer, customer_indexer])\n",
    "pipeline_model = pipeline.fit(cbDF)\n",
    "df_transformed = pipeline_model.transform(cbDF)"
   ]
  },
  {
   "cell_type": "code",
   "execution_count": null,
   "id": "df32aae9",
   "metadata": {},
   "outputs": [],
   "source": [
    "df_transformed.limit(5).toPandas()"
   ]
  },
  {
   "cell_type": "code",
   "execution_count": null,
   "id": "6bb25933",
   "metadata": {},
   "outputs": [],
   "source": [
    "pipeline_model.write().overwrite().save(\"gs://productpal_bucket/pipelines/clustering_pipeline1\")"
   ]
  },
  {
   "cell_type": "code",
   "execution_count": null,
   "id": "8a7c0dd9",
   "metadata": {},
   "outputs": [],
   "source": [
    "# Split the data into training and testing sets\n",
    "train_data, test_data = df_transformed.randomSplit([0.8, 0.2], seed=0)"
   ]
  },
  {
   "cell_type": "code",
   "execution_count": null,
   "id": "12617bcd",
   "metadata": {
    "scrolled": false
   },
   "outputs": [],
   "source": [
    "# Create an instance of KMeans\n",
    "kmeans = KMeans()\n",
    "\n",
    "\n",
    "# Create a ParamGridBuilder to define the hyperparameter grid\n",
    "kmparam_grid = ParamGridBuilder() \\\n",
    "    .addGrid(kmeans.k, [2, 3, 4]) \\\n",
    "    .addGrid(kmeans.maxIter, [10, 20, 30]) \\\n",
    "    .build()\n",
    "\n",
    "# Define the evaluator\n",
    "kmevaluator = ClusteringEvaluator()\n",
    "\n",
    "# Create a TrainValidationSplit instance\n",
    "kmtvs = TrainValidationSplit(estimator=kmeans,\n",
    "                           estimatorParamMaps=kmparam_grid,\n",
    "                           evaluator=kmevaluator,\n",
    "                           trainRatio=0.8)"
   ]
  },
  {
   "cell_type": "code",
   "execution_count": null,
   "id": "8a3c54ce",
   "metadata": {},
   "outputs": [],
   "source": [
    "kmtvsModel = kmtvs.fit(train_data)"
   ]
  },
  {
   "cell_type": "code",
   "execution_count": null,
   "id": "10354640",
   "metadata": {},
   "outputs": [],
   "source": [
    "cbKmeansmodel=kmtvsModel.bestModel"
   ]
  },
  {
   "cell_type": "code",
   "execution_count": null,
   "id": "db718aaa",
   "metadata": {},
   "outputs": [],
   "source": [
    "clustered_data = cbKmeansmodel.transform(test_data)"
   ]
  },
  {
   "cell_type": "code",
   "execution_count": null,
   "id": "1c50548c",
   "metadata": {},
   "outputs": [],
   "source": [
    "# Evaluate the clustering performance using Within-Cluster Sum of Squared Errors (WCSS)\n",
    "evaluator = ClusteringEvaluator()"
   ]
  },
  {
   "cell_type": "code",
   "execution_count": null,
   "id": "ff7976bc",
   "metadata": {},
   "outputs": [],
   "source": [
    "# Evaluate the clustering performance using Silhouette Score\n",
    "silhouette_score = evaluator.evaluate(clustered_data, {evaluator.metricName: \"silhouette\"})\n",
    "print(\"Silhouette Score:\", silhouette_score)"
   ]
  },
  {
   "cell_type": "markdown",
   "id": "7f47c809",
   "metadata": {},
   "source": [
    "#### Hierarchial Clustering Model"
   ]
  },
  {
   "cell_type": "code",
   "execution_count": null,
   "id": "ace85c90",
   "metadata": {
    "scrolled": true
   },
   "outputs": [],
   "source": [
    "# Trains a bisecting k-means model(hierarchial clustering)\n",
    "bkm = BisectingKMeans()\n",
    "\n",
    "# Create a ParamGridBuilder to define the hyperparameter grid\n",
    "bkmparam_grid = ParamGridBuilder() \\\n",
    "    .addGrid(kmeans.k, [2, 3, 4]) \\\n",
    "    .addGrid(kmeans.maxIter, [10, 20, 30]) \\\n",
    "    .build()\n",
    "\n",
    "# Define the evaluator\n",
    "bkmevaluator = ClusteringEvaluator()\n",
    "\n",
    "# Create a TrainValidationSplit instance\n",
    "bkmtvs = TrainValidationSplit(estimator=bkm,\n",
    "                           estimatorParamMaps=bkmparam_grid,\n",
    "                           evaluator=bkmevaluator,\n",
    "                           trainRatio=0.8)"
   ]
  },
  {
   "cell_type": "code",
   "execution_count": null,
   "id": "11bced68",
   "metadata": {},
   "outputs": [],
   "source": [
    "bkmtvsModel = bkmtvs.fit(train_data)"
   ]
  },
  {
   "cell_type": "code",
   "execution_count": null,
   "id": "dc4ed903",
   "metadata": {},
   "outputs": [],
   "source": [
    "cbbKmeansmodel=bkmtvsModel.bestModel"
   ]
  },
  {
   "cell_type": "code",
   "execution_count": null,
   "id": "3f0d98a1",
   "metadata": {},
   "outputs": [],
   "source": [
    "bkm_clustered_data = cbbKmeansmodel.transform(test_data)"
   ]
  },
  {
   "cell_type": "code",
   "execution_count": null,
   "id": "59ad9f55",
   "metadata": {},
   "outputs": [],
   "source": [
    "# Evaluate the clustering performance using Silhouette Score\n",
    "bkmsilhouette_score = evaluator.evaluate(bkm_clustered_data, {evaluator.metricName: \"silhouette\"})\n",
    "print(\"Silhouette Score:\", bkmsilhouette_score)"
   ]
  },
  {
   "cell_type": "code",
   "execution_count": null,
   "id": "d8927937",
   "metadata": {},
   "outputs": [],
   "source": [
    "cbKmeansmodel.write().overwrite().save(\"gs://productpal_bucket/models/kmeans\")"
   ]
  },
  {
   "cell_type": "code",
   "execution_count": null,
   "id": "b4a18938",
   "metadata": {},
   "outputs": [],
   "source": [
    "cbKmeansmodel= KMeansModel.load(\"gs://productpal_bucket/models/kmeans\")"
   ]
  },
  {
   "cell_type": "code",
   "execution_count": null,
   "id": "59b245af",
   "metadata": {},
   "outputs": [],
   "source": [
    "clustered_data=cbKmeansmodel.transform(test_data)"
   ]
  },
  {
   "cell_type": "code",
   "execution_count": null,
   "id": "353a8c23",
   "metadata": {},
   "outputs": [],
   "source": [
    "sample_data_1=clustered_data.sample(0.01, seed=143)"
   ]
  },
  {
   "cell_type": "code",
   "execution_count": null,
   "id": "541fd80b",
   "metadata": {},
   "outputs": [],
   "source": [
    "#Find similar products within the same cluster for a target product from the test data\n",
    "target_product_id = sample_data_1.first()[\"product_id\"]\n"
   ]
  },
  {
   "cell_type": "code",
   "execution_count": null,
   "id": "779887fd",
   "metadata": {},
   "outputs": [],
   "source": [
    "target_product_id"
   ]
  },
  {
   "cell_type": "code",
   "execution_count": null,
   "id": "e4252e57",
   "metadata": {},
   "outputs": [],
   "source": [
    "sample_data_1.limit(1).show()"
   ]
  },
  {
   "cell_type": "code",
   "execution_count": null,
   "id": "bb023a31",
   "metadata": {},
   "outputs": [],
   "source": [
    "target_product_cluster = sample_data_1.filter(col(\"product_id\")==target_product_id).first()[\"prediction\"]"
   ]
  },
  {
   "cell_type": "code",
   "execution_count": null,
   "id": "276deb3d",
   "metadata": {
    "scrolled": true
   },
   "outputs": [],
   "source": [
    "target_product_cluster"
   ]
  },
  {
   "cell_type": "code",
   "execution_count": null,
   "id": "9290719a",
   "metadata": {},
   "outputs": [],
   "source": [
    "product_cluster_data=sample_data_1\\\n",
    ".select(\"prediction\",\"product_id\",\"normalized_features\",\"product_title\",\"star_rating\")\\\n",
    ".filter(col(\"prediction\")==target_product_cluster)"
   ]
  },
  {
   "cell_type": "code",
   "execution_count": null,
   "id": "83b408d6",
   "metadata": {},
   "outputs": [],
   "source": [
    "product_cluster_data.limit(2).toPandas()"
   ]
  },
  {
   "cell_type": "code",
   "execution_count": null,
   "id": "546262c5",
   "metadata": {},
   "outputs": [],
   "source": [
    "product_data=sample_data_1.select(\"prediction\",\"product_id\",\"normalized_features\",\"product_title\",\"star_rating\")\\\n",
    ".filter((col(\"prediction\")==target_product_cluster) & (col(\"product_id\")==target_product_id)).limit(1)"
   ]
  },
  {
   "cell_type": "code",
   "execution_count": null,
   "id": "c5a79d8d",
   "metadata": {},
   "outputs": [],
   "source": [
    "product_data.limit(2).toPandas()"
   ]
  },
  {
   "cell_type": "code",
   "execution_count": null,
   "id": "6cc7d2b3",
   "metadata": {},
   "outputs": [],
   "source": [
    "# Define a UDF to calculate cosine similarity\n",
    "def cosine_similarity(vector1, vector2):\n",
    "    dot_product = float(vector1.dot(vector2))\n",
    "    magnitude_product = float(vector1.norm(2) * vector2.norm(2))\n",
    "    return dot_product / magnitude_product\n",
    "\n",
    "cosine_similarity_udf = udf(cosine_similarity)\n",
    "\n",
    "# Cross-join normalized features with itself to get all pairwise combinations\n",
    "cross_joined_data = product_data.alias(\"a\").crossJoin(product_cluster_data.alias(\"b\"))\n"
   ]
  },
  {
   "cell_type": "code",
   "execution_count": null,
   "id": "2afabe93",
   "metadata": {},
   "outputs": [],
   "source": [
    "# Calculate cosine similarity and select relevant columns\n",
    "cosine_similarity_df = cross_joined_data.select(\n",
    "    \"a.product_id\",\n",
    "    \"b.product_id\",\n",
    "    cosine_similarity_udf(\"a.normalized_features\", \"b.normalized_features\").alias(\"cosine_similarity\")\n",
    ")"
   ]
  },
  {
   "cell_type": "code",
   "execution_count": null,
   "id": "b9357801",
   "metadata": {},
   "outputs": [],
   "source": [
    "# Filter out self-pairs (where product_id1 = product_id2)\n",
    "cosine_similarity_df = cosine_similarity_df.filter(col(\"a.product_id\") != col(\"b.product_id\"))\\\n",
    ".orderBy(col(\"cosine_similarity\").desc())\n",
    "\n",
    "# Show the DataFrame\n",
    "cosine_similarity_df.show()"
   ]
  },
  {
   "cell_type": "code",
   "execution_count": null,
   "id": "74b8238b",
   "metadata": {},
   "outputs": [],
   "source": [
    "top10prodIDs=cosine_similarity_df.limit(10).select(col(\"b.product_id\")).withColumn(\"product_id\",trim(col(\"product_id\")))"
   ]
  },
  {
   "cell_type": "code",
   "execution_count": null,
   "id": "a46de8ee",
   "metadata": {},
   "outputs": [],
   "source": [
    "top10prodIDs.show()"
   ]
  },
  {
   "cell_type": "code",
   "execution_count": null,
   "id": "49afe9cb",
   "metadata": {},
   "outputs": [],
   "source": [
    "distinctProducts=product_cluster_data.select(\"product_id\",\"product_title\").distinct()\\\n",
    ".withColumn(\"product_id\",trim(col(\"product_id\")))"
   ]
  },
  {
   "cell_type": "code",
   "execution_count": null,
   "id": "4accae27",
   "metadata": {},
   "outputs": [],
   "source": [
    "distinctProducts.show()"
   ]
  },
  {
   "cell_type": "code",
   "execution_count": null,
   "id": "840a6a41",
   "metadata": {},
   "outputs": [],
   "source": [
    "newdf=distinctProducts.join(top10prodIDs, on=\"product_id\", how=\"inner\")"
   ]
  },
  {
   "cell_type": "code",
   "execution_count": null,
   "id": "3e2b9966",
   "metadata": {
    "scrolled": true
   },
   "outputs": [],
   "source": [
    "newdf.show(truncate=False)"
   ]
  },
  {
   "cell_type": "code",
   "execution_count": null,
   "id": "56fe92d8",
   "metadata": {},
   "outputs": [],
   "source": [
    "# Convert the product IDs DataFrame to a list of product IDs\n",
    "product_ids_list = top10prodIDs.rdd.flatMap(lambda x: x).collect()"
   ]
  },
  {
   "cell_type": "code",
   "execution_count": null,
   "id": "9364973b",
   "metadata": {},
   "outputs": [],
   "source": [
    "product_ids_list"
   ]
  },
  {
   "cell_type": "code",
   "execution_count": null,
   "id": "8d60db30",
   "metadata": {},
   "outputs": [],
   "source": [
    "filtered_product_details_df = distinctProducts.filter(col(\"product_id\").isin(product_ids_list))"
   ]
  },
  {
   "cell_type": "code",
   "execution_count": null,
   "id": "4079284b",
   "metadata": {
    "scrolled": false
   },
   "outputs": [],
   "source": [
    "filtered_product_details_df.show(truncate=False)"
   ]
  },
  {
   "cell_type": "markdown",
   "id": "d97c38d8",
   "metadata": {},
   "source": [
    "#### Collaborative Filtering using Alternating Least Square Model"
   ]
  },
  {
   "cell_type": "code",
   "execution_count": null,
   "id": "120c5173",
   "metadata": {},
   "outputs": [],
   "source": [
    "#convert string type customer_id and product-id to int\n",
    "indexer = [StringIndexer(inputCol=column, outputCol=column+\"_index\") for column in ['customer_id', 'product_id']]\n",
    "customerIndexer=StringIndexer(inputCol=\"customer_id\", outputCol=\"customer_id_index\").fit(df2)\n",
    "productIndexer=StringIndexer(inputCol=\"product_id\", outputCol=\"product_id_index\").fit(df2)\n",
    "pipeline = Pipeline(stages=[customerIndexer,productIndexer])\n"
   ]
  },
  {
   "cell_type": "code",
   "execution_count": null,
   "id": "c006a588",
   "metadata": {},
   "outputs": [],
   "source": [
    "typeconverterPipeline = pipeline.fit(df2)"
   ]
  },
  {
   "cell_type": "code",
   "execution_count": null,
   "id": "f49f0f91",
   "metadata": {},
   "outputs": [],
   "source": [
    "transformed = typeconverterPipeline.transform(df2)"
   ]
  },
  {
   "cell_type": "code",
   "execution_count": null,
   "id": "7dc7cc84",
   "metadata": {
    "scrolled": true
   },
   "outputs": [],
   "source": [
    "typeconverterPipeline.write().overwrite().save(\"gs://productpal_bucket/pipelines/typeconverterPipeline\")"
   ]
  },
  {
   "cell_type": "code",
   "execution_count": null,
   "id": "ad2064d6",
   "metadata": {},
   "outputs": [],
   "source": [
    "transformed.limit(5).toPandas()"
   ]
  },
  {
   "cell_type": "code",
   "execution_count": null,
   "id": "2bfb8b74",
   "metadata": {},
   "outputs": [],
   "source": [
    "cfSample=transformed.sample(0.1,seed=56)"
   ]
  },
  {
   "cell_type": "code",
   "execution_count": null,
   "id": "1054c71d",
   "metadata": {},
   "outputs": [],
   "source": [
    "train_data, test_data = cfSample.randomSplit([0.8, 0.2], seed=0)"
   ]
  },
  {
   "cell_type": "code",
   "execution_count": null,
   "id": "b49d71ba",
   "metadata": {},
   "outputs": [],
   "source": [
    "# initialize the ALS model\n",
    "als= ALS(maxIter=5, rank=4, regParam=0.01,userCol='customer_id_index', itemCol='product_id_index', \\\n",
    "                ratingCol='star_rating', coldStartStrategy='drop',\\\n",
    "                nonnegative=True)\n"
   ]
  },
  {
   "cell_type": "code",
   "execution_count": null,
   "id": "6174e089",
   "metadata": {},
   "outputs": [],
   "source": [
    "model=als.fit(train_data)"
   ]
  },
  {
   "cell_type": "code",
   "execution_count": null,
   "id": "202319a9",
   "metadata": {},
   "outputs": [],
   "source": [
    "predictions = model.transform(test_data)\n",
    "\n"
   ]
  },
  {
   "cell_type": "code",
   "execution_count": null,
   "id": "78e1c71b",
   "metadata": {},
   "outputs": [],
   "source": [
    "model.write().overwrite().save(\"gs://productpal_bucket/models/alsmodel\")"
   ]
  },
  {
   "cell_type": "code",
   "execution_count": null,
   "id": "26908d7b",
   "metadata": {},
   "outputs": [],
   "source": [
    "evaluator=RegressionEvaluator(metricName='rmse',labelCol='star_rating',predictionCol='prediction')\n",
    "rmse=evaluator.evaluate(predictions)\n",
    "print(rmse)"
   ]
  },
  {
   "cell_type": "code",
   "execution_count": null,
   "id": "60a13e4f",
   "metadata": {},
   "outputs": [],
   "source": [
    "model=ALSModel.load(\"gs://productpal_bucket/models/alsmodel\")"
   ]
  },
  {
   "cell_type": "code",
   "execution_count": null,
   "id": "2d9c7a3f",
   "metadata": {},
   "outputs": [],
   "source": [
    "train_data.limit(5).toPandas()"
   ]
  },
  {
   "cell_type": "code",
   "execution_count": null,
   "id": "efe88eb9",
   "metadata": {},
   "outputs": [],
   "source": [
    "userRec=train_data.limit(5).select(\"customer_id_index\");"
   ]
  },
  {
   "cell_type": "code",
   "execution_count": null,
   "id": "38c20c87",
   "metadata": {},
   "outputs": [],
   "source": [
    "userRec=userRec.withColumn(\"customer_id_index\", col(\"customer_id_index\").cast(\"integer\"))"
   ]
  },
  {
   "cell_type": "code",
   "execution_count": null,
   "id": "2991ee5a",
   "metadata": {},
   "outputs": [],
   "source": [
    "recommendations = model.recommendForUserSubset(userRec,1)"
   ]
  },
  {
   "cell_type": "code",
   "execution_count": null,
   "id": "6e7f7047",
   "metadata": {},
   "outputs": [],
   "source": [
    "recommendations.show()"
   ]
  },
  {
   "cell_type": "code",
   "execution_count": null,
   "id": "f18adc79",
   "metadata": {},
   "outputs": [],
   "source": [
    "recs=recommendations.withColumn(\"itemAndRating\",explode(recommendations.recommendations))\\\n",
    ".select(\"customer_id_index\",\"itemAndRating.*\")"
   ]
  },
  {
   "cell_type": "code",
   "execution_count": null,
   "id": "4fc50f7d",
   "metadata": {},
   "outputs": [],
   "source": [
    "recs=recs.withColumn(\"customer_id_index\",col(\"customer_id_index\").cast(\"double\")).\\\n",
    "withColumn(\"product_id_index\",col(\"product_id_index\").cast(\"double\"))"
   ]
  },
  {
   "cell_type": "code",
   "execution_count": null,
   "id": "f7b9b0e7",
   "metadata": {},
   "outputs": [],
   "source": [
    "customerConverter=IndexToString(inputCol=\"customer_id_index\",outputCol=\"customer_id\",labels=customerIndexer.labels)\n",
    "productConverter=IndexToString(inputCol=\"product_id_index\",outputCol=\"product_id\",labels=productIndexer.labels)"
   ]
  },
  {
   "cell_type": "code",
   "execution_count": null,
   "id": "6a13f858",
   "metadata": {},
   "outputs": [],
   "source": [
    "pModel=Pipeline(stages=[customerConverter,productConverter]).fit(cfSample)"
   ]
  },
  {
   "cell_type": "code",
   "execution_count": null,
   "id": "c7f82334",
   "metadata": {},
   "outputs": [],
   "source": [
    "results=pModel.transform(recs)"
   ]
  },
  {
   "cell_type": "code",
   "execution_count": null,
   "id": "6920b537",
   "metadata": {},
   "outputs": [],
   "source": [
    "results.show()"
   ]
  },
  {
   "cell_type": "code",
   "execution_count": null,
   "id": "436a989b",
   "metadata": {},
   "outputs": [],
   "source": [
    "product_id_list=results.select(\"product_id\").rdd.flatMap(lambda x: x).collect()"
   ]
  },
  {
   "cell_type": "code",
   "execution_count": null,
   "id": "67f58f3b",
   "metadata": {},
   "outputs": [],
   "source": [
    "relatedProducts=cfSample.filter(col(\"product_id\").isin(product_id_list)).select(\"product_id\",\"product_title\",\"star_rating\")"
   ]
  },
  {
   "cell_type": "code",
   "execution_count": null,
   "id": "037cd03c",
   "metadata": {},
   "outputs": [],
   "source": [
    "relatedProducts.count()"
   ]
  },
  {
   "cell_type": "code",
   "execution_count": null,
   "id": "62f44895",
   "metadata": {},
   "outputs": [],
   "source": [
    "# Set the maximum column width to display\n",
    "pd.set_option('display.max_colwidth', None)\n",
    "\n",
    "relatedProducts.toPandas()"
   ]
  },
  {
   "cell_type": "code",
   "execution_count": null,
   "id": "06c5bcd1",
   "metadata": {},
   "outputs": [],
   "source": [
    "pModel.write().overwrite().save(\"gs://productpal_bucket/pipelines/indextostring_pipeline\")"
   ]
  },
  {
   "cell_type": "code",
   "execution_count": null,
   "id": "1229a219",
   "metadata": {},
   "outputs": [],
   "source": [
    "cfSample.write.mode(\"overwrite\").option(\"header\", \"true\")\\\n",
    ".json(\"gs://productpal_bucket/cfSample.json\")"
   ]
  }
 ],
 "metadata": {
  "kernelspec": {
   "display_name": "Python 3 (ipykernel)",
   "language": "python",
   "name": "python3"
  },
  "language_info": {
   "codemirror_mode": {
    "name": "ipython",
    "version": 3
   },
   "file_extension": ".py",
   "mimetype": "text/x-python",
   "name": "python",
   "nbconvert_exporter": "python",
   "pygments_lexer": "ipython3",
   "version": "3.11.4"
  }
 },
 "nbformat": 4,
 "nbformat_minor": 5
}
